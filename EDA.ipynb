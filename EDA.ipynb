{
 "cells": [
  {
   "cell_type": "markdown",
   "id": "7551aa04",
   "metadata": {},
   "source": [
    "### Imports"
   ]
  },
  {
   "cell_type": "code",
   "execution_count": 1,
   "id": "e2fa1549",
   "metadata": {},
   "outputs": [],
   "source": [
    "import pandas as pd\n",
    "import numpy as np\n",
    "import statistics\n",
    "import seaborn as sns\n",
    "from sklearn.model_selection import train_test_split\n",
    "import matplotlib.pyplot as plt\n",
    "import datetime\n",
    "from imblearn.over_sampling import SMOTE\n",
    "from zipfile import ZipFile\n",
    "\n",
    "#Stats Imports\n",
    "from scipy import stats\n",
    "\n",
    "import wrangle"
   ]
  },
  {
   "cell_type": "markdown",
   "id": "598c2fb9",
   "metadata": {},
   "source": [
    "### Certain configs"
   ]
  },
  {
   "cell_type": "code",
   "execution_count": 2,
   "id": "3c621901",
   "metadata": {},
   "outputs": [
    {
     "name": "stderr",
     "output_type": "stream",
     "text": [
      "/var/folders/h6/xxqcvddd61v8kq3bhvkfyqzw0000gn/T/ipykernel_5853/692522295.py:2: MatplotlibDeprecationWarning: The seaborn styles shipped by Matplotlib are deprecated since 3.6, as they no longer correspond to the styles shipped by seaborn. However, they will remain available as 'seaborn-v0_8-<style>'. Alternatively, directly use the seaborn API instead.\n",
      "  style.use('seaborn-colorblind')\n"
     ]
    }
   ],
   "source": [
    "import matplotlib.style as style\n",
    "style.use('seaborn-colorblind')\n",
    "\n",
    "np.random.seed(123)"
   ]
  },
  {
   "cell_type": "markdown",
   "id": "ce0ca5ac",
   "metadata": {},
   "source": [
    "### Acquire datasets"
   ]
  },
  {
   "cell_type": "code",
   "execution_count": 3,
   "id": "4da2dacc",
   "metadata": {},
   "outputs": [],
   "source": [
    "test, df = wrangle.acquire_fraud('cc_fraud.zip')"
   ]
  },
  {
   "cell_type": "code",
   "execution_count": 4,
   "id": "6a2c5afe",
   "metadata": {},
   "outputs": [
    {
     "data": {
      "text/plain": [
       "((555719, 23), (1296675, 23))"
      ]
     },
     "execution_count": 4,
     "metadata": {},
     "output_type": "execute_result"
    }
   ],
   "source": [
    "test.shape,df.shape"
   ]
  },
  {
   "cell_type": "markdown",
   "id": "7389b9fc",
   "metadata": {},
   "source": [
    "### Clean and Prep"
   ]
  },
  {
   "cell_type": "code",
   "execution_count": 5,
   "id": "717e33cd",
   "metadata": {},
   "outputs": [],
   "source": [
    "df = wrangle.prep(df)\n",
    "test = wrangle.prep(test)"
   ]
  },
  {
   "cell_type": "code",
   "execution_count": 6,
   "id": "78623fb6",
   "metadata": {},
   "outputs": [
    {
     "data": {
      "text/html": [
       "<div>\n",
       "<style scoped>\n",
       "    .dataframe tbody tr th:only-of-type {\n",
       "        vertical-align: middle;\n",
       "    }\n",
       "\n",
       "    .dataframe tbody tr th {\n",
       "        vertical-align: top;\n",
       "    }\n",
       "\n",
       "    .dataframe thead th {\n",
       "        text-align: right;\n",
       "    }\n",
       "</style>\n",
       "<table border=\"1\" class=\"dataframe\">\n",
       "  <thead>\n",
       "    <tr style=\"text-align: right;\">\n",
       "      <th></th>\n",
       "      <th>merchant</th>\n",
       "      <th>category</th>\n",
       "      <th>amt</th>\n",
       "      <th>gender</th>\n",
       "      <th>zip</th>\n",
       "      <th>city_pop</th>\n",
       "      <th>job</th>\n",
       "      <th>merch_lat</th>\n",
       "      <th>merch_long</th>\n",
       "      <th>is_fraud</th>\n",
       "      <th>age</th>\n",
       "      <th>dayofweek</th>\n",
       "      <th>hourofday</th>\n",
       "      <th>age_group</th>\n",
       "    </tr>\n",
       "    <tr>\n",
       "      <th>trans_date_trans_time</th>\n",
       "      <th></th>\n",
       "      <th></th>\n",
       "      <th></th>\n",
       "      <th></th>\n",
       "      <th></th>\n",
       "      <th></th>\n",
       "      <th></th>\n",
       "      <th></th>\n",
       "      <th></th>\n",
       "      <th></th>\n",
       "      <th></th>\n",
       "      <th></th>\n",
       "      <th></th>\n",
       "      <th></th>\n",
       "    </tr>\n",
       "  </thead>\n",
       "  <tbody>\n",
       "    <tr>\n",
       "      <th>2019-01-01 00:00:18</th>\n",
       "      <td>fraud_Rippin, Kub and Mann</td>\n",
       "      <td>misc_net</td>\n",
       "      <td>4.97</td>\n",
       "      <td>F</td>\n",
       "      <td>28654</td>\n",
       "      <td>3495</td>\n",
       "      <td>Psychologist, counselling</td>\n",
       "      <td>36.011293</td>\n",
       "      <td>-82.048315</td>\n",
       "      <td>0</td>\n",
       "      <td>30</td>\n",
       "      <td>Tuesday</td>\n",
       "      <td>0</td>\n",
       "      <td>Young_Adult</td>\n",
       "    </tr>\n",
       "    <tr>\n",
       "      <th>2019-01-01 00:00:44</th>\n",
       "      <td>fraud_Heller, Gutmann and Zieme</td>\n",
       "      <td>grocery_pos</td>\n",
       "      <td>107.23</td>\n",
       "      <td>F</td>\n",
       "      <td>99160</td>\n",
       "      <td>149</td>\n",
       "      <td>Special educational needs teacher</td>\n",
       "      <td>49.159047</td>\n",
       "      <td>-118.186462</td>\n",
       "      <td>0</td>\n",
       "      <td>40</td>\n",
       "      <td>Tuesday</td>\n",
       "      <td>0</td>\n",
       "      <td>Adult</td>\n",
       "    </tr>\n",
       "    <tr>\n",
       "      <th>2019-01-01 00:00:51</th>\n",
       "      <td>fraud_Lind-Buckridge</td>\n",
       "      <td>entertainment</td>\n",
       "      <td>220.11</td>\n",
       "      <td>M</td>\n",
       "      <td>83252</td>\n",
       "      <td>4154</td>\n",
       "      <td>Nature conservation officer</td>\n",
       "      <td>43.150704</td>\n",
       "      <td>-112.154481</td>\n",
       "      <td>0</td>\n",
       "      <td>56</td>\n",
       "      <td>Tuesday</td>\n",
       "      <td>0</td>\n",
       "      <td>Mid_Age</td>\n",
       "    </tr>\n",
       "    <tr>\n",
       "      <th>2019-01-01 00:01:16</th>\n",
       "      <td>fraud_Kutch, Hermiston and Farrell</td>\n",
       "      <td>gas_transport</td>\n",
       "      <td>45.00</td>\n",
       "      <td>M</td>\n",
       "      <td>59632</td>\n",
       "      <td>1939</td>\n",
       "      <td>Patent attorney</td>\n",
       "      <td>47.034331</td>\n",
       "      <td>-112.561071</td>\n",
       "      <td>0</td>\n",
       "      <td>52</td>\n",
       "      <td>Tuesday</td>\n",
       "      <td>0</td>\n",
       "      <td>Early_Mid_Age</td>\n",
       "    </tr>\n",
       "    <tr>\n",
       "      <th>2019-01-01 00:03:06</th>\n",
       "      <td>fraud_Keeling-Crist</td>\n",
       "      <td>misc_pos</td>\n",
       "      <td>41.96</td>\n",
       "      <td>M</td>\n",
       "      <td>24433</td>\n",
       "      <td>99</td>\n",
       "      <td>Dance movement psychotherapist</td>\n",
       "      <td>38.674999</td>\n",
       "      <td>-78.632459</td>\n",
       "      <td>0</td>\n",
       "      <td>32</td>\n",
       "      <td>Tuesday</td>\n",
       "      <td>0</td>\n",
       "      <td>Young_Adult</td>\n",
       "    </tr>\n",
       "  </tbody>\n",
       "</table>\n",
       "</div>"
      ],
      "text/plain": [
       "                                                 merchant       category  \\\n",
       "trans_date_trans_time                                                      \n",
       "2019-01-01 00:00:18            fraud_Rippin, Kub and Mann       misc_net   \n",
       "2019-01-01 00:00:44       fraud_Heller, Gutmann and Zieme    grocery_pos   \n",
       "2019-01-01 00:00:51                  fraud_Lind-Buckridge  entertainment   \n",
       "2019-01-01 00:01:16    fraud_Kutch, Hermiston and Farrell  gas_transport   \n",
       "2019-01-01 00:03:06                   fraud_Keeling-Crist       misc_pos   \n",
       "\n",
       "                          amt gender    zip  city_pop  \\\n",
       "trans_date_trans_time                                   \n",
       "2019-01-01 00:00:18      4.97      F  28654      3495   \n",
       "2019-01-01 00:00:44    107.23      F  99160       149   \n",
       "2019-01-01 00:00:51    220.11      M  83252      4154   \n",
       "2019-01-01 00:01:16     45.00      M  59632      1939   \n",
       "2019-01-01 00:03:06     41.96      M  24433        99   \n",
       "\n",
       "                                                     job  merch_lat  \\\n",
       "trans_date_trans_time                                                 \n",
       "2019-01-01 00:00:18            Psychologist, counselling  36.011293   \n",
       "2019-01-01 00:00:44    Special educational needs teacher  49.159047   \n",
       "2019-01-01 00:00:51          Nature conservation officer  43.150704   \n",
       "2019-01-01 00:01:16                      Patent attorney  47.034331   \n",
       "2019-01-01 00:03:06       Dance movement psychotherapist  38.674999   \n",
       "\n",
       "                       merch_long  is_fraud  age dayofweek  hourofday  \\\n",
       "trans_date_trans_time                                                   \n",
       "2019-01-01 00:00:18    -82.048315         0   30   Tuesday          0   \n",
       "2019-01-01 00:00:44   -118.186462         0   40   Tuesday          0   \n",
       "2019-01-01 00:00:51   -112.154481         0   56   Tuesday          0   \n",
       "2019-01-01 00:01:16   -112.561071         0   52   Tuesday          0   \n",
       "2019-01-01 00:03:06    -78.632459         0   32   Tuesday          0   \n",
       "\n",
       "                           age_group  \n",
       "trans_date_trans_time                 \n",
       "2019-01-01 00:00:18      Young_Adult  \n",
       "2019-01-01 00:00:44            Adult  \n",
       "2019-01-01 00:00:51          Mid_Age  \n",
       "2019-01-01 00:01:16    Early_Mid_Age  \n",
       "2019-01-01 00:03:06      Young_Adult  "
      ]
     },
     "execution_count": 6,
     "metadata": {},
     "output_type": "execute_result"
    }
   ],
   "source": [
    "df.head()"
   ]
  },
  {
   "cell_type": "markdown",
   "id": "8b4df744",
   "metadata": {},
   "source": [
    "### Define target ('is_fraud') versus the rest of the features"
   ]
  },
  {
   "cell_type": "code",
   "execution_count": 7,
   "id": "f141492f",
   "metadata": {},
   "outputs": [
    {
     "name": "stdout",
     "output_type": "stream",
     "text": [
      "is_fraud\n",
      "______\n",
      "['merchant', 'category', 'amt', 'gender', 'zip', 'city_pop', 'job', 'merch_lat', 'merch_long', 'age', 'dayofweek', 'hourofday', 'age_group']\n"
     ]
    }
   ],
   "source": [
    "target,features = wrangle.get_target_and_features(df)\n",
    "print(target)\n",
    "print('______')\n",
    "print(features)"
   ]
  },
  {
   "cell_type": "markdown",
   "id": "2a289f12",
   "metadata": {},
   "source": [
    "### Split the training data further (into Train and Validate)"
   ]
  },
  {
   "cell_type": "code",
   "execution_count": 8,
   "id": "4dfa55e1",
   "metadata": {},
   "outputs": [],
   "source": [
    "x_train,x_validate,y_train,y_validate = wrangle.train_val(df)"
   ]
  },
  {
   "cell_type": "code",
   "execution_count": 9,
   "id": "72b0ad1f",
   "metadata": {},
   "outputs": [
    {
     "data": {
      "text/html": [
       "<div>\n",
       "<style scoped>\n",
       "    .dataframe tbody tr th:only-of-type {\n",
       "        vertical-align: middle;\n",
       "    }\n",
       "\n",
       "    .dataframe tbody tr th {\n",
       "        vertical-align: top;\n",
       "    }\n",
       "\n",
       "    .dataframe thead th {\n",
       "        text-align: right;\n",
       "    }\n",
       "</style>\n",
       "<table border=\"1\" class=\"dataframe\">\n",
       "  <thead>\n",
       "    <tr style=\"text-align: right;\">\n",
       "      <th></th>\n",
       "      <th>merchant</th>\n",
       "      <th>category</th>\n",
       "      <th>amt</th>\n",
       "      <th>gender</th>\n",
       "      <th>zip</th>\n",
       "      <th>city_pop</th>\n",
       "      <th>job</th>\n",
       "      <th>merch_lat</th>\n",
       "      <th>merch_long</th>\n",
       "      <th>age</th>\n",
       "      <th>dayofweek</th>\n",
       "      <th>hourofday</th>\n",
       "      <th>age_group</th>\n",
       "    </tr>\n",
       "    <tr>\n",
       "      <th>trans_date_trans_time</th>\n",
       "      <th></th>\n",
       "      <th></th>\n",
       "      <th></th>\n",
       "      <th></th>\n",
       "      <th></th>\n",
       "      <th></th>\n",
       "      <th></th>\n",
       "      <th></th>\n",
       "      <th></th>\n",
       "      <th></th>\n",
       "      <th></th>\n",
       "      <th></th>\n",
       "      <th></th>\n",
       "    </tr>\n",
       "  </thead>\n",
       "  <tbody>\n",
       "    <tr>\n",
       "      <th>2019-10-23 19:14:39</th>\n",
       "      <td>fraud_Volkman PLC</td>\n",
       "      <td>food_dining</td>\n",
       "      <td>57.2</td>\n",
       "      <td>M</td>\n",
       "      <td>17850</td>\n",
       "      <td>645</td>\n",
       "      <td>Orthoptist</td>\n",
       "      <td>40.474056</td>\n",
       "      <td>-76.420734</td>\n",
       "      <td>45</td>\n",
       "      <td>Wednesday</td>\n",
       "      <td>19</td>\n",
       "      <td>Early_Mid_Age</td>\n",
       "    </tr>\n",
       "  </tbody>\n",
       "</table>\n",
       "</div>"
      ],
      "text/plain": [
       "                                merchant     category   amt gender    zip  \\\n",
       "trans_date_trans_time                                                       \n",
       "2019-10-23 19:14:39    fraud_Volkman PLC  food_dining  57.2      M  17850   \n",
       "\n",
       "                       city_pop         job  merch_lat  merch_long  age  \\\n",
       "trans_date_trans_time                                                     \n",
       "2019-10-23 19:14:39         645  Orthoptist  40.474056  -76.420734   45   \n",
       "\n",
       "                       dayofweek  hourofday      age_group  \n",
       "trans_date_trans_time                                       \n",
       "2019-10-23 19:14:39    Wednesday         19  Early_Mid_Age  "
      ]
     },
     "execution_count": 9,
     "metadata": {},
     "output_type": "execute_result"
    }
   ],
   "source": [
    "x_train.sample()"
   ]
  },
  {
   "cell_type": "code",
   "execution_count": 10,
   "id": "1c9a866c",
   "metadata": {},
   "outputs": [
    {
     "data": {
      "text/plain": [
       "trans_date_trans_time\n",
       "2019-10-14 08:33:29    0\n",
       "Name: is_fraud, dtype: int64"
      ]
     },
     "execution_count": 10,
     "metadata": {},
     "output_type": "execute_result"
    }
   ],
   "source": [
    "y_train.sample()"
   ]
  },
  {
   "cell_type": "markdown",
   "id": "ff79d4a4",
   "metadata": {},
   "source": [
    "### Break the TEST dataset into x and y sets"
   ]
  },
  {
   "cell_type": "code",
   "execution_count": 11,
   "id": "30ac3de1",
   "metadata": {},
   "outputs": [],
   "source": [
    "x_test,y_test = wrangle.test_df_x_y_split(test)"
   ]
  },
  {
   "cell_type": "code",
   "execution_count": 12,
   "id": "e2a352b7",
   "metadata": {},
   "outputs": [
    {
     "data": {
      "text/html": [
       "<div>\n",
       "<style scoped>\n",
       "    .dataframe tbody tr th:only-of-type {\n",
       "        vertical-align: middle;\n",
       "    }\n",
       "\n",
       "    .dataframe tbody tr th {\n",
       "        vertical-align: top;\n",
       "    }\n",
       "\n",
       "    .dataframe thead th {\n",
       "        text-align: right;\n",
       "    }\n",
       "</style>\n",
       "<table border=\"1\" class=\"dataframe\">\n",
       "  <thead>\n",
       "    <tr style=\"text-align: right;\">\n",
       "      <th></th>\n",
       "      <th>merchant</th>\n",
       "      <th>category</th>\n",
       "      <th>amt</th>\n",
       "      <th>gender</th>\n",
       "      <th>zip</th>\n",
       "      <th>city_pop</th>\n",
       "      <th>job</th>\n",
       "      <th>merch_lat</th>\n",
       "      <th>merch_long</th>\n",
       "      <th>age</th>\n",
       "      <th>dayofweek</th>\n",
       "      <th>hourofday</th>\n",
       "      <th>age_group</th>\n",
       "    </tr>\n",
       "    <tr>\n",
       "      <th>trans_date_trans_time</th>\n",
       "      <th></th>\n",
       "      <th></th>\n",
       "      <th></th>\n",
       "      <th></th>\n",
       "      <th></th>\n",
       "      <th></th>\n",
       "      <th></th>\n",
       "      <th></th>\n",
       "      <th></th>\n",
       "      <th></th>\n",
       "      <th></th>\n",
       "      <th></th>\n",
       "      <th></th>\n",
       "    </tr>\n",
       "  </thead>\n",
       "  <tbody>\n",
       "    <tr>\n",
       "      <th>2020-11-20 12:01:14</th>\n",
       "      <td>fraud_Medhurst PLC</td>\n",
       "      <td>shopping_net</td>\n",
       "      <td>6.65</td>\n",
       "      <td>F</td>\n",
       "      <td>92561</td>\n",
       "      <td>1661</td>\n",
       "      <td>Therapist, music</td>\n",
       "      <td>33.074625</td>\n",
       "      <td>-117.002407</td>\n",
       "      <td>32</td>\n",
       "      <td>Friday</td>\n",
       "      <td>12</td>\n",
       "      <td>Young_Adult</td>\n",
       "    </tr>\n",
       "  </tbody>\n",
       "</table>\n",
       "</div>"
      ],
      "text/plain": [
       "                                 merchant      category   amt gender    zip  \\\n",
       "trans_date_trans_time                                                         \n",
       "2020-11-20 12:01:14    fraud_Medhurst PLC  shopping_net  6.65      F  92561   \n",
       "\n",
       "                       city_pop               job  merch_lat  merch_long  age  \\\n",
       "trans_date_trans_time                                                           \n",
       "2020-11-20 12:01:14        1661  Therapist, music  33.074625 -117.002407   32   \n",
       "\n",
       "                      dayofweek  hourofday    age_group  \n",
       "trans_date_trans_time                                    \n",
       "2020-11-20 12:01:14      Friday         12  Young_Adult  "
      ]
     },
     "execution_count": 12,
     "metadata": {},
     "output_type": "execute_result"
    }
   ],
   "source": [
    "x_test.sample()"
   ]
  },
  {
   "cell_type": "code",
   "execution_count": 13,
   "id": "0b833c1e",
   "metadata": {},
   "outputs": [
    {
     "data": {
      "text/plain": [
       "trans_date_trans_time\n",
       "2020-07-14 21:08:01    0\n",
       "Name: is_fraud, dtype: int64"
      ]
     },
     "execution_count": 13,
     "metadata": {},
     "output_type": "execute_result"
    }
   ],
   "source": [
    "y_test.sample()"
   ]
  },
  {
   "cell_type": "markdown",
   "id": "735b477f",
   "metadata": {},
   "source": [
    "# Begin EDA (using the original DF, which includes train and validate data)"
   ]
  },
  {
   "cell_type": "code",
   "execution_count": 14,
   "id": "d480a544",
   "metadata": {},
   "outputs": [],
   "source": [
    "# df.isna().sum()\n",
    "# There are NO nulls"
   ]
  },
  {
   "cell_type": "code",
   "execution_count": 15,
   "id": "6e741911",
   "metadata": {},
   "outputs": [],
   "source": [
    "# df.info()"
   ]
  },
  {
   "cell_type": "markdown",
   "id": "78f4bb7e",
   "metadata": {},
   "source": [
    "### First of all...CLASS IMBALANCE?"
   ]
  },
  {
   "cell_type": "code",
   "execution_count": 16,
   "id": "3a12247a",
   "metadata": {},
   "outputs": [
    {
     "data": {
      "text/plain": [
       "is_fraud\n",
       "0    1289169\n",
       "1       7506\n",
       "Name: count, dtype: int64"
      ]
     },
     "execution_count": 16,
     "metadata": {},
     "output_type": "execute_result"
    }
   ],
   "source": [
    "df.is_fraud.value_counts()"
   ]
  },
  {
   "cell_type": "code",
   "execution_count": 17,
   "id": "23b727c4",
   "metadata": {},
   "outputs": [
    {
     "data": {
      "image/png": "[encoded data removed]",
      "text/plain": [
       "<Figure size 800x600 with 1 Axes>"
      ]
     },
     "metadata": {},
     "output_type": "display_data"
    }
   ],
   "source": [
    "plt.figure(figsize = (8, 6))\n",
    "ax = sns.countplot(x=df['is_fraud'],color='orange')\n",
    "ax.set_xlabel(xlabel = 'Observations without fraud (O) versus with (1)', fontsize = 12)\n",
    "ax.set_ylabel(ylabel = 'Count of is_fraud', fontsize = 16)\n",
    "ax.set_title(label = 'Class Imbalance: \"is_fraud\" is severly imbalanced', fontsize = 20)\n",
    "\n",
    "plt.show()"
   ]
  },
  {
   "cell_type": "markdown",
   "id": "b51d759f",
   "metadata": {},
   "source": [
    "### Amount?"
   ]
  },
  {
   "cell_type": "code",
   "execution_count": 18,
   "id": "bf8f71c3",
   "metadata": {},
   "outputs": [
    {
     "data": {
      "text/html": [
       "<div>\n",
       "<style scoped>\n",
       "    .dataframe tbody tr th:only-of-type {\n",
       "        vertical-align: middle;\n",
       "    }\n",
       "\n",
       "    .dataframe tbody tr th {\n",
       "        vertical-align: top;\n",
       "    }\n",
       "\n",
       "    .dataframe thead th {\n",
       "        text-align: right;\n",
       "    }\n",
       "</style>\n",
       "<table border=\"1\" class=\"dataframe\">\n",
       "  <thead>\n",
       "    <tr style=\"text-align: right;\">\n",
       "      <th></th>\n",
       "      <th>merchant</th>\n",
       "      <th>category</th>\n",
       "      <th>amt</th>\n",
       "      <th>gender</th>\n",
       "      <th>zip</th>\n",
       "      <th>city_pop</th>\n",
       "      <th>job</th>\n",
       "      <th>merch_lat</th>\n",
       "      <th>merch_long</th>\n",
       "      <th>is_fraud</th>\n",
       "      <th>age</th>\n",
       "      <th>dayofweek</th>\n",
       "      <th>hourofday</th>\n",
       "      <th>age_group</th>\n",
       "    </tr>\n",
       "    <tr>\n",
       "      <th>trans_date_trans_time</th>\n",
       "      <th></th>\n",
       "      <th></th>\n",
       "      <th></th>\n",
       "      <th></th>\n",
       "      <th></th>\n",
       "      <th></th>\n",
       "      <th></th>\n",
       "      <th></th>\n",
       "      <th></th>\n",
       "      <th></th>\n",
       "      <th></th>\n",
       "      <th></th>\n",
       "      <th></th>\n",
       "      <th></th>\n",
       "    </tr>\n",
       "  </thead>\n",
       "  <tbody>\n",
       "    <tr>\n",
       "      <th>2019-08-09 06:21:06</th>\n",
       "      <td>fraud_Huels-Hahn</td>\n",
       "      <td>gas_transport</td>\n",
       "      <td>50.26</td>\n",
       "      <td>F</td>\n",
       "      <td>12910</td>\n",
       "      <td>2148</td>\n",
       "      <td>Surveyor, land/geomatics</td>\n",
       "      <td>45.215316</td>\n",
       "      <td>-72.742253</td>\n",
       "      <td>0</td>\n",
       "      <td>66</td>\n",
       "      <td>Friday</td>\n",
       "      <td>6</td>\n",
       "      <td>Retirement_Age</td>\n",
       "    </tr>\n",
       "  </tbody>\n",
       "</table>\n",
       "</div>"
      ],
      "text/plain": [
       "                               merchant       category    amt gender    zip  \\\n",
       "trans_date_trans_time                                                         \n",
       "2019-08-09 06:21:06    fraud_Huels-Hahn  gas_transport  50.26      F  12910   \n",
       "\n",
       "                       city_pop                       job  merch_lat  \\\n",
       "trans_date_trans_time                                                  \n",
       "2019-08-09 06:21:06        2148  Surveyor, land/geomatics  45.215316   \n",
       "\n",
       "                       merch_long  is_fraud  age dayofweek  hourofday  \\\n",
       "trans_date_trans_time                                                   \n",
       "2019-08-09 06:21:06    -72.742253         0   66    Friday          6   \n",
       "\n",
       "                            age_group  \n",
       "trans_date_trans_time                  \n",
       "2019-08-09 06:21:06    Retirement_Age  "
      ]
     },
     "execution_count": 18,
     "metadata": {},
     "output_type": "execute_result"
    }
   ],
   "source": [
    "amount_df = df.copy()\n",
    "amount_df.sample()"
   ]
  },
  {
   "cell_type": "code",
   "execution_count": 19,
   "id": "c6c300b3",
   "metadata": {},
   "outputs": [
    {
     "data": {
      "text/plain": [
       "(1.0, 28948.9)"
      ]
     },
     "execution_count": 19,
     "metadata": {},
     "output_type": "execute_result"
    }
   ],
   "source": [
    "amount_df.amt.min(),amount_df.amt.max()"
   ]
  },
  {
   "cell_type": "code",
   "execution_count": 20,
   "id": "3f887a21",
   "metadata": {},
   "outputs": [
    {
     "data": {
      "image/png": "[encoded data removed]",
      "text/plain": [
       "<Figure size 640x480 with 1 Axes>"
      ]
     },
     "metadata": {},
     "output_type": "display_data"
    }
   ],
   "source": [
    "ax = sns.boxplot(data=amount_df[amount_df['is_fraud']==1],y=amount_df[amount_df['is_fraud']==1].amt,x=amount_df[amount_df['is_fraud']==1].is_fraud,width=.5)\n",
    "ax.set_xlabel(xlabel = 'Average amount of fraudulent transaction', fontsize = 12)\n",
    "ax.set_ylabel(ylabel = 'Amount', fontsize = 16)\n",
    "ax.set_title(label = 'The Average Fraudulent Transaction is ~ $530', fontsize = 20)\n",
    "plt.show()"
   ]
  },
  {
   "cell_type": "code",
   "execution_count": 21,
   "id": "a580c3c2",
   "metadata": {},
   "outputs": [
    {
     "data": {
      "text/plain": [
       "(1.06, 1376.04, 531.3200919264589)"
      ]
     },
     "execution_count": 21,
     "metadata": {},
     "output_type": "execute_result"
    }
   ],
   "source": [
    "df[df['is_fraud']==1].amt.min(),df[df['is_fraud']==1].amt.max(),df[df['is_fraud']==1].amt.mean()"
   ]
  },
  {
   "cell_type": "code",
   "execution_count": 22,
   "id": "0253bbb0",
   "metadata": {},
   "outputs": [
    {
     "data": {
      "text/plain": [
       "array([   0,   50,  100,  150,  200,  250,  300,  350,  400,  450,  500,\n",
       "        550,  600,  650,  700,  750,  800,  850,  900,  950, 1000, 1050,\n",
       "       1100, 1150])"
      ]
     },
     "execution_count": 22,
     "metadata": {},
     "output_type": "execute_result"
    }
   ],
   "source": [
    "np.arange(0,1200,50)"
   ]
  },
  {
   "cell_type": "code",
   "execution_count": 23,
   "id": "6198dbb9",
   "metadata": {},
   "outputs": [],
   "source": [
    "bins = [   0,   50,  100,  150,  200,  250,  300,  350,  400,  450,  500,\n",
    "        550,  600,  650,  700,  750,  800,  850,  900,  950, 1000, 1050,\n",
    "       1100, 1150,35000]"
   ]
  },
  {
   "cell_type": "code",
   "execution_count": 24,
   "id": "ea581d4d",
   "metadata": {},
   "outputs": [],
   "source": [
    "labels = ['0_50','50_100','100_150','150_200','200_250','250_300','300_350','350_400','400_450','450_500','500_550','550_600','600_650','650_700','700_750','750_800','800_850','850_900','900_950','950_1000','1000_1050','1050_1100','1100_1150','over_1150']"
   ]
  },
  {
   "cell_type": "code",
   "execution_count": 25,
   "id": "affe3437",
   "metadata": {},
   "outputs": [
    {
     "data": {
      "text/html": [
       "<div>\n",
       "<style scoped>\n",
       "    .dataframe tbody tr th:only-of-type {\n",
       "        vertical-align: middle;\n",
       "    }\n",
       "\n",
       "    .dataframe tbody tr th {\n",
       "        vertical-align: top;\n",
       "    }\n",
       "\n",
       "    .dataframe thead th {\n",
       "        text-align: right;\n",
       "    }\n",
       "</style>\n",
       "<table border=\"1\" class=\"dataframe\">\n",
       "  <thead>\n",
       "    <tr style=\"text-align: right;\">\n",
       "      <th></th>\n",
       "      <th>merchant</th>\n",
       "      <th>category</th>\n",
       "      <th>amt</th>\n",
       "      <th>gender</th>\n",
       "      <th>zip</th>\n",
       "      <th>city_pop</th>\n",
       "      <th>job</th>\n",
       "      <th>merch_lat</th>\n",
       "      <th>merch_long</th>\n",
       "      <th>is_fraud</th>\n",
       "      <th>age</th>\n",
       "      <th>dayofweek</th>\n",
       "      <th>hourofday</th>\n",
       "      <th>age_group</th>\n",
       "      <th>amt_bin</th>\n",
       "    </tr>\n",
       "    <tr>\n",
       "      <th>trans_date_trans_time</th>\n",
       "      <th></th>\n",
       "      <th></th>\n",
       "      <th></th>\n",
       "      <th></th>\n",
       "      <th></th>\n",
       "      <th></th>\n",
       "      <th></th>\n",
       "      <th></th>\n",
       "      <th></th>\n",
       "      <th></th>\n",
       "      <th></th>\n",
       "      <th></th>\n",
       "      <th></th>\n",
       "      <th></th>\n",
       "      <th></th>\n",
       "    </tr>\n",
       "  </thead>\n",
       "  <tbody>\n",
       "    <tr>\n",
       "      <th>2020-03-16 23:15:38</th>\n",
       "      <td>fraud_Heller PLC</td>\n",
       "      <td>health_fitness</td>\n",
       "      <td>29.75</td>\n",
       "      <td>M</td>\n",
       "      <td>94569</td>\n",
       "      <td>198</td>\n",
       "      <td>Armed forces training and education officer</td>\n",
       "      <td>38.821462</td>\n",
       "      <td>-122.627725</td>\n",
       "      <td>0</td>\n",
       "      <td>61</td>\n",
       "      <td>Monday</td>\n",
       "      <td>23</td>\n",
       "      <td>Mid_Age</td>\n",
       "      <td>0_50</td>\n",
       "    </tr>\n",
       "    <tr>\n",
       "      <th>2020-05-24 06:39:39</th>\n",
       "      <td>fraud_Nader-Heller</td>\n",
       "      <td>misc_net</td>\n",
       "      <td>381.65</td>\n",
       "      <td>F</td>\n",
       "      <td>97476</td>\n",
       "      <td>217</td>\n",
       "      <td>Retail merchandiser</td>\n",
       "      <td>43.514420</td>\n",
       "      <td>-123.588222</td>\n",
       "      <td>0</td>\n",
       "      <td>91</td>\n",
       "      <td>Sunday</td>\n",
       "      <td>6</td>\n",
       "      <td>Older_Person</td>\n",
       "      <td>350_400</td>\n",
       "    </tr>\n",
       "  </tbody>\n",
       "</table>\n",
       "</div>"
      ],
      "text/plain": [
       "                                 merchant        category     amt gender  \\\n",
       "trans_date_trans_time                                                      \n",
       "2020-03-16 23:15:38      fraud_Heller PLC  health_fitness   29.75      M   \n",
       "2020-05-24 06:39:39    fraud_Nader-Heller        misc_net  381.65      F   \n",
       "\n",
       "                         zip  city_pop  \\\n",
       "trans_date_trans_time                    \n",
       "2020-03-16 23:15:38    94569       198   \n",
       "2020-05-24 06:39:39    97476       217   \n",
       "\n",
       "                                                               job  merch_lat  \\\n",
       "trans_date_trans_time                                                           \n",
       "2020-03-16 23:15:38    Armed forces training and education officer  38.821462   \n",
       "2020-05-24 06:39:39                            Retail merchandiser  43.514420   \n",
       "\n",
       "                       merch_long  is_fraud  age dayofweek  hourofday  \\\n",
       "trans_date_trans_time                                                   \n",
       "2020-03-16 23:15:38   -122.627725         0   61    Monday         23   \n",
       "2020-05-24 06:39:39   -123.588222         0   91    Sunday          6   \n",
       "\n",
       "                          age_group  amt_bin  \n",
       "trans_date_trans_time                         \n",
       "2020-03-16 23:15:38         Mid_Age     0_50  \n",
       "2020-05-24 06:39:39    Older_Person  350_400  "
      ]
     },
     "execution_count": 25,
     "metadata": {},
     "output_type": "execute_result"
    }
   ],
   "source": [
    "# df['age_group'] = pd.cut(df['age'],[0,25,35,45,55,65,75,100], labels= ['Youth','Young_Adult','Adult','Early_Mid_Age','Mid_Age','Retirement_Age','Older_Person'],right=False)\n",
    "\n",
    "amount_df['amt_bin'] = pd.cut(amount_df['amt'],bins=bins,labels=labels, right = False)\n",
    "amount_df.sample(2)"
   ]
  },
  {
   "cell_type": "code",
   "execution_count": 26,
   "id": "d97edbb4",
   "metadata": {},
   "outputs": [
    {
     "data": {
      "text/plain": [
       "amt_bin\n",
       "0_50         1607\n",
       "300_350       974\n",
       "250_300       701\n",
       "900_950       487\n",
       "950_1000      456\n",
       "850_900       450\n",
       "750_800       411\n",
       "800_850       381\n",
       "1000_1050     364\n",
       "1050_1100     282\n",
       "700_750       252\n",
       "350_400       186\n",
       "1100_1150     165\n",
       "100_150       145\n",
       "over_1150     139\n",
       "650_700       122\n",
       "200_250        94\n",
       "450_500        61\n",
       "500_550        50\n",
       "50_100         45\n",
       "600_650        45\n",
       "550_600        44\n",
       "400_450        40\n",
       "150_200         5\n",
       "Name: count, dtype: int64"
      ]
     },
     "execution_count": 26,
     "metadata": {},
     "output_type": "execute_result"
    }
   ],
   "source": [
    "amount_df[amount_df['is_fraud']==1].amt_bin.value_counts()"
   ]
  },
  {
   "cell_type": "markdown",
   "id": "d541b041",
   "metadata": {},
   "source": [
    "# Could there be a polynomial relationship in the amount bins?"
   ]
  },
  {
   "cell_type": "markdown",
   "id": "d89e4a9b",
   "metadata": {},
   "source": [
    "### Check the # of observations for each \"price\" bin"
   ]
  },
  {
   "cell_type": "code",
   "execution_count": 27,
   "id": "3d48b988",
   "metadata": {},
   "outputs": [
    {
     "data": {
      "text/html": [
       "<div>\n",
       "<style scoped>\n",
       "    .dataframe tbody tr th:only-of-type {\n",
       "        vertical-align: middle;\n",
       "    }\n",
       "\n",
       "    .dataframe tbody tr th {\n",
       "        vertical-align: top;\n",
       "    }\n",
       "\n",
       "    .dataframe thead th {\n",
       "        text-align: right;\n",
       "    }\n",
       "</style>\n",
       "<table border=\"1\" class=\"dataframe\">\n",
       "  <thead>\n",
       "    <tr style=\"text-align: right;\">\n",
       "      <th>amt_bin</th>\n",
       "      <th>0_50</th>\n",
       "      <th>50_100</th>\n",
       "      <th>100_150</th>\n",
       "      <th>150_200</th>\n",
       "      <th>200_250</th>\n",
       "      <th>250_300</th>\n",
       "      <th>300_350</th>\n",
       "      <th>350_400</th>\n",
       "      <th>400_450</th>\n",
       "      <th>450_500</th>\n",
       "      <th>...</th>\n",
       "      <th>700_750</th>\n",
       "      <th>750_800</th>\n",
       "      <th>800_850</th>\n",
       "      <th>850_900</th>\n",
       "      <th>900_950</th>\n",
       "      <th>950_1000</th>\n",
       "      <th>1000_1050</th>\n",
       "      <th>1050_1100</th>\n",
       "      <th>1100_1150</th>\n",
       "      <th>over_1150</th>\n",
       "    </tr>\n",
       "    <tr>\n",
       "      <th>is_fraud</th>\n",
       "      <th></th>\n",
       "      <th></th>\n",
       "      <th></th>\n",
       "      <th></th>\n",
       "      <th></th>\n",
       "      <th></th>\n",
       "      <th></th>\n",
       "      <th></th>\n",
       "      <th></th>\n",
       "      <th></th>\n",
       "      <th></th>\n",
       "      <th></th>\n",
       "      <th></th>\n",
       "      <th></th>\n",
       "      <th></th>\n",
       "      <th></th>\n",
       "      <th></th>\n",
       "      <th></th>\n",
       "      <th></th>\n",
       "      <th></th>\n",
       "      <th></th>\n",
       "    </tr>\n",
       "  </thead>\n",
       "  <tbody>\n",
       "    <tr>\n",
       "      <th>0</th>\n",
       "      <td>670607</td>\n",
       "      <td>389469</td>\n",
       "      <td>127584</td>\n",
       "      <td>45283</td>\n",
       "      <td>23377</td>\n",
       "      <td>7459</td>\n",
       "      <td>4346</td>\n",
       "      <td>3094</td>\n",
       "      <td>2670</td>\n",
       "      <td>3297</td>\n",
       "      <td>...</td>\n",
       "      <td>662</td>\n",
       "      <td>585</td>\n",
       "      <td>450</td>\n",
       "      <td>398</td>\n",
       "      <td>363</td>\n",
       "      <td>296</td>\n",
       "      <td>253</td>\n",
       "      <td>234</td>\n",
       "      <td>210</td>\n",
       "      <td>2290</td>\n",
       "    </tr>\n",
       "    <tr>\n",
       "      <th>1</th>\n",
       "      <td>1607</td>\n",
       "      <td>45</td>\n",
       "      <td>145</td>\n",
       "      <td>5</td>\n",
       "      <td>94</td>\n",
       "      <td>701</td>\n",
       "      <td>974</td>\n",
       "      <td>186</td>\n",
       "      <td>40</td>\n",
       "      <td>61</td>\n",
       "      <td>...</td>\n",
       "      <td>252</td>\n",
       "      <td>411</td>\n",
       "      <td>381</td>\n",
       "      <td>450</td>\n",
       "      <td>487</td>\n",
       "      <td>456</td>\n",
       "      <td>364</td>\n",
       "      <td>282</td>\n",
       "      <td>165</td>\n",
       "      <td>139</td>\n",
       "    </tr>\n",
       "  </tbody>\n",
       "</table>\n",
       "<p>2 rows × 24 columns</p>\n",
       "</div>"
      ],
      "text/plain": [
       "amt_bin     0_50  50_100  100_150  150_200  200_250  250_300  300_350  \\\n",
       "is_fraud                                                                \n",
       "0         670607  389469   127584    45283    23377     7459     4346   \n",
       "1           1607      45      145        5       94      701      974   \n",
       "\n",
       "amt_bin   350_400  400_450  450_500  ...  700_750  750_800  800_850  850_900  \\\n",
       "is_fraud                             ...                                       \n",
       "0            3094     2670     3297  ...      662      585      450      398   \n",
       "1             186       40       61  ...      252      411      381      450   \n",
       "\n",
       "amt_bin   900_950  950_1000  1000_1050  1050_1100  1100_1150  over_1150  \n",
       "is_fraud                                                                 \n",
       "0             363       296        253        234        210       2290  \n",
       "1             487       456        364        282        165        139  \n",
       "\n",
       "[2 rows x 24 columns]"
      ]
     },
     "execution_count": 27,
     "metadata": {},
     "output_type": "execute_result"
    }
   ],
   "source": [
    "# down_sample.amt.groupby([down_sample['amt_bin'],down_sample['is_fraud'],down_sample['amt_bin']]).size().unstack(0)\n",
    "# down_sample.groupby([down_sample['amt_bin'],down_sample['is_fraud']]).size().unstack(0)\n",
    "amount_df.groupby([amount_df['amt_bin'],amount_df['is_fraud']]).size().unstack(0)"
   ]
  },
  {
   "cell_type": "markdown",
   "id": "9e7e0d8b",
   "metadata": {},
   "source": [
    "### Create % fraud for each bin. \n",
    "1. Create DFs for # of observations per bin (as above) and their sum\n",
    "2. Divide to get % fraud\n",
    "3. Create ratio_fraud df (which is the set where fruad == 1, i.e. the second row of the percentage_df)\n",
    "4. Merge % fraud in bin to the original df (resulting in fraud_ratio_per_bin_df)"
   ]
  },
  {
   "cell_type": "code",
   "execution_count": 28,
   "id": "cfbdbed1",
   "metadata": {},
   "outputs": [],
   "source": [
    "# bins_fraud_breakdown = down_sample.groupby([down_sample['amt_bin'],down_sample['is_fraud']]).size().unstack(0)\n",
    "# bins_fraud_sum = down_sample.groupby([down_sample['amt_bin'],down_sample['is_fraud']]).size().unstack(0).sum()\n",
    "bins_fraud_breakdown = amount_df.groupby([amount_df['amt_bin'],amount_df['is_fraud']]).size().unstack(0)\n",
    "bins_fraud_sum = amount_df.groupby([amount_df['amt_bin'],amount_df['is_fraud']]).size().unstack(0).sum()"
   ]
  },
  {
   "cell_type": "code",
   "execution_count": 29,
   "id": "b662a848",
   "metadata": {},
   "outputs": [
    {
     "data": {
      "text/html": [
       "<div>\n",
       "<style scoped>\n",
       "    .dataframe tbody tr th:only-of-type {\n",
       "        vertical-align: middle;\n",
       "    }\n",
       "\n",
       "    .dataframe tbody tr th {\n",
       "        vertical-align: top;\n",
       "    }\n",
       "\n",
       "    .dataframe thead th {\n",
       "        text-align: right;\n",
       "    }\n",
       "</style>\n",
       "<table border=\"1\" class=\"dataframe\">\n",
       "  <thead>\n",
       "    <tr style=\"text-align: right;\">\n",
       "      <th>amt_bin</th>\n",
       "      <th>0_50</th>\n",
       "      <th>50_100</th>\n",
       "      <th>100_150</th>\n",
       "      <th>150_200</th>\n",
       "      <th>200_250</th>\n",
       "      <th>250_300</th>\n",
       "      <th>300_350</th>\n",
       "      <th>350_400</th>\n",
       "      <th>400_450</th>\n",
       "      <th>450_500</th>\n",
       "      <th>...</th>\n",
       "      <th>700_750</th>\n",
       "      <th>750_800</th>\n",
       "      <th>800_850</th>\n",
       "      <th>850_900</th>\n",
       "      <th>900_950</th>\n",
       "      <th>950_1000</th>\n",
       "      <th>1000_1050</th>\n",
       "      <th>1050_1100</th>\n",
       "      <th>1100_1150</th>\n",
       "      <th>over_1150</th>\n",
       "    </tr>\n",
       "    <tr>\n",
       "      <th>is_fraud</th>\n",
       "      <th></th>\n",
       "      <th></th>\n",
       "      <th></th>\n",
       "      <th></th>\n",
       "      <th></th>\n",
       "      <th></th>\n",
       "      <th></th>\n",
       "      <th></th>\n",
       "      <th></th>\n",
       "      <th></th>\n",
       "      <th></th>\n",
       "      <th></th>\n",
       "      <th></th>\n",
       "      <th></th>\n",
       "      <th></th>\n",
       "      <th></th>\n",
       "      <th></th>\n",
       "      <th></th>\n",
       "      <th></th>\n",
       "      <th></th>\n",
       "      <th></th>\n",
       "    </tr>\n",
       "  </thead>\n",
       "  <tbody>\n",
       "    <tr>\n",
       "      <th>0</th>\n",
       "      <td>0.997609</td>\n",
       "      <td>0.999884</td>\n",
       "      <td>0.998865</td>\n",
       "      <td>0.99989</td>\n",
       "      <td>0.995995</td>\n",
       "      <td>0.914093</td>\n",
       "      <td>0.816917</td>\n",
       "      <td>0.943293</td>\n",
       "      <td>0.98524</td>\n",
       "      <td>0.981834</td>\n",
       "      <td>...</td>\n",
       "      <td>0.724289</td>\n",
       "      <td>0.587349</td>\n",
       "      <td>0.541516</td>\n",
       "      <td>0.46934</td>\n",
       "      <td>0.427059</td>\n",
       "      <td>0.393617</td>\n",
       "      <td>0.410049</td>\n",
       "      <td>0.453488</td>\n",
       "      <td>0.56</td>\n",
       "      <td>0.942775</td>\n",
       "    </tr>\n",
       "    <tr>\n",
       "      <th>1</th>\n",
       "      <td>0.002391</td>\n",
       "      <td>0.000116</td>\n",
       "      <td>0.001135</td>\n",
       "      <td>0.00011</td>\n",
       "      <td>0.004005</td>\n",
       "      <td>0.085907</td>\n",
       "      <td>0.183083</td>\n",
       "      <td>0.056707</td>\n",
       "      <td>0.01476</td>\n",
       "      <td>0.018166</td>\n",
       "      <td>...</td>\n",
       "      <td>0.275711</td>\n",
       "      <td>0.412651</td>\n",
       "      <td>0.458484</td>\n",
       "      <td>0.53066</td>\n",
       "      <td>0.572941</td>\n",
       "      <td>0.606383</td>\n",
       "      <td>0.589951</td>\n",
       "      <td>0.546512</td>\n",
       "      <td>0.44</td>\n",
       "      <td>0.057225</td>\n",
       "    </tr>\n",
       "  </tbody>\n",
       "</table>\n",
       "<p>2 rows × 24 columns</p>\n",
       "</div>"
      ],
      "text/plain": [
       "amt_bin       0_50    50_100   100_150  150_200   200_250   250_300   300_350  \\\n",
       "is_fraud                                                                        \n",
       "0         0.997609  0.999884  0.998865  0.99989  0.995995  0.914093  0.816917   \n",
       "1         0.002391  0.000116  0.001135  0.00011  0.004005  0.085907  0.183083   \n",
       "\n",
       "amt_bin    350_400  400_450   450_500  ...   700_750   750_800   800_850  \\\n",
       "is_fraud                               ...                                 \n",
       "0         0.943293  0.98524  0.981834  ...  0.724289  0.587349  0.541516   \n",
       "1         0.056707  0.01476  0.018166  ...  0.275711  0.412651  0.458484   \n",
       "\n",
       "amt_bin   850_900   900_950  950_1000  1000_1050  1050_1100  1100_1150  \\\n",
       "is_fraud                                                                 \n",
       "0         0.46934  0.427059  0.393617   0.410049   0.453488       0.56   \n",
       "1         0.53066  0.572941  0.606383   0.589951   0.546512       0.44   \n",
       "\n",
       "amt_bin   over_1150  \n",
       "is_fraud             \n",
       "0          0.942775  \n",
       "1          0.057225  \n",
       "\n",
       "[2 rows x 24 columns]"
      ]
     },
     "execution_count": 29,
     "metadata": {},
     "output_type": "execute_result"
    }
   ],
   "source": [
    "percentage_df = bins_fraud_breakdown/bins_fraud_sum\n",
    "percentage_df"
   ]
  },
  {
   "cell_type": "code",
   "execution_count": 30,
   "id": "9c4d9b6b",
   "metadata": {},
   "outputs": [
    {
     "data": {
      "text/html": [
       "<div>\n",
       "<style scoped>\n",
       "    .dataframe tbody tr th:only-of-type {\n",
       "        vertical-align: middle;\n",
       "    }\n",
       "\n",
       "    .dataframe tbody tr th {\n",
       "        vertical-align: top;\n",
       "    }\n",
       "\n",
       "    .dataframe thead th {\n",
       "        text-align: right;\n",
       "    }\n",
       "</style>\n",
       "<table border=\"1\" class=\"dataframe\">\n",
       "  <thead>\n",
       "    <tr style=\"text-align: right;\">\n",
       "      <th>amt_bin</th>\n",
       "      <th>0_50</th>\n",
       "      <th>50_100</th>\n",
       "      <th>100_150</th>\n",
       "      <th>150_200</th>\n",
       "      <th>200_250</th>\n",
       "      <th>250_300</th>\n",
       "      <th>300_350</th>\n",
       "      <th>350_400</th>\n",
       "      <th>400_450</th>\n",
       "      <th>450_500</th>\n",
       "      <th>...</th>\n",
       "      <th>700_750</th>\n",
       "      <th>750_800</th>\n",
       "      <th>800_850</th>\n",
       "      <th>850_900</th>\n",
       "      <th>900_950</th>\n",
       "      <th>950_1000</th>\n",
       "      <th>1000_1050</th>\n",
       "      <th>1050_1100</th>\n",
       "      <th>1100_1150</th>\n",
       "      <th>over_1150</th>\n",
       "    </tr>\n",
       "    <tr>\n",
       "      <th>is_fraud</th>\n",
       "      <th></th>\n",
       "      <th></th>\n",
       "      <th></th>\n",
       "      <th></th>\n",
       "      <th></th>\n",
       "      <th></th>\n",
       "      <th></th>\n",
       "      <th></th>\n",
       "      <th></th>\n",
       "      <th></th>\n",
       "      <th></th>\n",
       "      <th></th>\n",
       "      <th></th>\n",
       "      <th></th>\n",
       "      <th></th>\n",
       "      <th></th>\n",
       "      <th></th>\n",
       "      <th></th>\n",
       "      <th></th>\n",
       "      <th></th>\n",
       "      <th></th>\n",
       "    </tr>\n",
       "  </thead>\n",
       "  <tbody>\n",
       "    <tr>\n",
       "      <th>1</th>\n",
       "      <td>0.002391</td>\n",
       "      <td>0.000116</td>\n",
       "      <td>0.001135</td>\n",
       "      <td>0.00011</td>\n",
       "      <td>0.004005</td>\n",
       "      <td>0.085907</td>\n",
       "      <td>0.183083</td>\n",
       "      <td>0.056707</td>\n",
       "      <td>0.01476</td>\n",
       "      <td>0.018166</td>\n",
       "      <td>...</td>\n",
       "      <td>0.275711</td>\n",
       "      <td>0.412651</td>\n",
       "      <td>0.458484</td>\n",
       "      <td>0.53066</td>\n",
       "      <td>0.572941</td>\n",
       "      <td>0.606383</td>\n",
       "      <td>0.589951</td>\n",
       "      <td>0.546512</td>\n",
       "      <td>0.44</td>\n",
       "      <td>0.057225</td>\n",
       "    </tr>\n",
       "  </tbody>\n",
       "</table>\n",
       "<p>1 rows × 24 columns</p>\n",
       "</div>"
      ],
      "text/plain": [
       "amt_bin       0_50    50_100   100_150  150_200   200_250   250_300   300_350  \\\n",
       "is_fraud                                                                        \n",
       "1         0.002391  0.000116  0.001135  0.00011  0.004005  0.085907  0.183083   \n",
       "\n",
       "amt_bin    350_400  400_450   450_500  ...   700_750   750_800   800_850  \\\n",
       "is_fraud                               ...                                 \n",
       "1         0.056707  0.01476  0.018166  ...  0.275711  0.412651  0.458484   \n",
       "\n",
       "amt_bin   850_900   900_950  950_1000  1000_1050  1050_1100  1100_1150  \\\n",
       "is_fraud                                                                 \n",
       "1         0.53066  0.572941  0.606383   0.589951   0.546512       0.44   \n",
       "\n",
       "amt_bin   over_1150  \n",
       "is_fraud             \n",
       "1          0.057225  \n",
       "\n",
       "[1 rows x 24 columns]"
      ]
     },
     "execution_count": 30,
     "metadata": {},
     "output_type": "execute_result"
    }
   ],
   "source": [
    "ratio_fraud = percentage_df[percentage_df.index == 1]\n",
    "ratio_fraud"
   ]
  },
  {
   "cell_type": "code",
   "execution_count": 31,
   "id": "ad48457c",
   "metadata": {},
   "outputs": [],
   "source": [
    "ratio_fraud = pd.DataFrame(ratio_fraud.unstack(0)).droplevel(1)\n",
    "# temp_df"
   ]
  },
  {
   "cell_type": "code",
   "execution_count": 32,
   "id": "3d422c0c",
   "metadata": {},
   "outputs": [],
   "source": [
    "fraud_ratio_per_bin_df = amount_df.merge(ratio_fraud,on=['amt_bin']).rename(columns={0:'perc_fraud_in_bin'})"
   ]
  },
  {
   "cell_type": "code",
   "execution_count": 33,
   "id": "5f03b13f",
   "metadata": {},
   "outputs": [
    {
     "data": {
      "text/html": [
       "<div>\n",
       "<style scoped>\n",
       "    .dataframe tbody tr th:only-of-type {\n",
       "        vertical-align: middle;\n",
       "    }\n",
       "\n",
       "    .dataframe tbody tr th {\n",
       "        vertical-align: top;\n",
       "    }\n",
       "\n",
       "    .dataframe thead th {\n",
       "        text-align: right;\n",
       "    }\n",
       "</style>\n",
       "<table border=\"1\" class=\"dataframe\">\n",
       "  <thead>\n",
       "    <tr style=\"text-align: right;\">\n",
       "      <th></th>\n",
       "      <th>merchant</th>\n",
       "      <th>category</th>\n",
       "      <th>amt</th>\n",
       "      <th>gender</th>\n",
       "      <th>zip</th>\n",
       "      <th>city_pop</th>\n",
       "      <th>job</th>\n",
       "      <th>merch_lat</th>\n",
       "      <th>merch_long</th>\n",
       "      <th>is_fraud</th>\n",
       "      <th>age</th>\n",
       "      <th>dayofweek</th>\n",
       "      <th>hourofday</th>\n",
       "      <th>age_group</th>\n",
       "      <th>amt_bin</th>\n",
       "      <th>perc_fraud_in_bin</th>\n",
       "    </tr>\n",
       "  </thead>\n",
       "  <tbody>\n",
       "    <tr>\n",
       "      <th>370539</th>\n",
       "      <td>fraud_Ruecker Group</td>\n",
       "      <td>misc_net</td>\n",
       "      <td>14.42</td>\n",
       "      <td>M</td>\n",
       "      <td>1844</td>\n",
       "      <td>47249</td>\n",
       "      <td>Market researcher</td>\n",
       "      <td>41.922624</td>\n",
       "      <td>-71.873694</td>\n",
       "      <td>0</td>\n",
       "      <td>38</td>\n",
       "      <td>Friday</td>\n",
       "      <td>5</td>\n",
       "      <td>Adult</td>\n",
       "      <td>0_50</td>\n",
       "      <td>0.002391</td>\n",
       "    </tr>\n",
       "  </tbody>\n",
       "</table>\n",
       "</div>"
      ],
      "text/plain": [
       "                   merchant  category    amt gender   zip  city_pop  \\\n",
       "370539  fraud_Ruecker Group  misc_net  14.42      M  1844     47249   \n",
       "\n",
       "                      job  merch_lat  merch_long  is_fraud  age dayofweek  \\\n",
       "370539  Market researcher  41.922624  -71.873694         0   38    Friday   \n",
       "\n",
       "        hourofday age_group amt_bin  perc_fraud_in_bin  \n",
       "370539          5     Adult    0_50           0.002391  "
      ]
     },
     "execution_count": 33,
     "metadata": {},
     "output_type": "execute_result"
    }
   ],
   "source": [
    "fraud_ratio_per_bin_df.sample()"
   ]
  },
  {
   "cell_type": "code",
   "execution_count": 34,
   "id": "45e37782",
   "metadata": {},
   "outputs": [
    {
     "data": {
      "text/plain": [
       "0.005788651743883394"
      ]
     },
     "execution_count": 34,
     "metadata": {},
     "output_type": "execute_result"
    }
   ],
   "source": [
    "amount_df.is_fraud.mean()"
   ]
  },
  {
   "cell_type": "code",
   "execution_count": 35,
   "id": "1257b340",
   "metadata": {},
   "outputs": [
    {
     "data": {
      "image/png": "[encoded data removed]",
      "text/plain": [
       "<Figure size 2000x1000 with 1 Axes>"
      ]
     },
     "metadata": {},
     "output_type": "display_data"
    }
   ],
   "source": [
    "plt.figure(figsize = (20, 10))\n",
    "plt.style.use('ggplot')\n",
    "ax = sns.boxplot(data=fraud_ratio_per_bin_df,y=fraud_ratio_per_bin_df.perc_fraud_in_bin,x=fraud_ratio_per_bin_df.amt_bin)\n",
    "ax.set_xlabel(xlabel = 'Amount Bin', fontsize = 12)\n",
    "ax.set_ylabel(ylabel = '% Fraud in this Bin', fontsize = 16)\n",
    "ax.set_title(label = 'Does the Amount of the Transaction Affect the Ratio of Fraud?', fontsize = 20)\n",
    "\n",
    "ax.axhline(amount_df.is_fraud.mean(), ls='--')\n",
    "plt.annotate('Population Average Fraud Rate: ~0.0057%', xy=(18, 0.006), xytext=(18,.1),arrowprops={'facecolor': 'blue'},size=15,ha='center')\n",
    "\n",
    "plt.setp( ax.xaxis.get_majorticklabels(), rotation=-45, ha=\"left\" )\n",
    "plt.show()"
   ]
  },
  {
   "cell_type": "markdown",
   "id": "857a6e7a",
   "metadata": {},
   "source": [
    "### Test the hypothesis that the amount has statistical significance. We will use the amount bins in lieu of the actual amounts (discrete vs continuous variables)\n",
    "\n",
    "-- H0: The mean fraud rate of the different amount bins is equal\n",
    "\n",
    "-- Ha: The mean fraud rate of the different amount bins is NOT equal\n",
    "\n",
    "This will be a KRUSKAL Analysis of Variance\n",
    "    \n",
    "    * The assumptions of this test are met\n",
    "    * The assumptions of the ANOVA test are not quite met, as the distributions are not parametric\n",
    "        - These are large samples, but the Kruskal test was the better option--the result was the same either way"
   ]
  },
  {
   "cell_type": "code",
   "execution_count": 36,
   "id": "7e3371aa",
   "metadata": {},
   "outputs": [
    {
     "data": {
      "text/plain": [
       "is_fraud\n",
       "0    1289169\n",
       "1       7506\n",
       "Name: count, dtype: int64"
      ]
     },
     "execution_count": 36,
     "metadata": {},
     "output_type": "execute_result"
    }
   ],
   "source": [
    "amount_df.is_fraud.value_counts()"
   ]
  },
  {
   "cell_type": "code",
   "execution_count": 37,
   "id": "4d3745ef",
   "metadata": {},
   "outputs": [],
   "source": [
    "dict_list=amount_df.amt_bin.unique().tolist()\n",
    "# dict_list"
   ]
  },
  {
   "cell_type": "code",
   "execution_count": 38,
   "id": "88462238",
   "metadata": {},
   "outputs": [],
   "source": [
    "df_0_50 = pd.DataFrame(amount_df[amount_df['amt_bin'] == '0_50'].is_fraud)\n",
    "df_100_150 = pd.DataFrame(amount_df[amount_df['amt_bin'] == '100_150'].is_fraud)"
   ]
  },
  {
   "cell_type": "code",
   "execution_count": 39,
   "id": "5312622e",
   "metadata": {},
   "outputs": [],
   "source": [
    "names_list = []\n",
    "for i in dict_list:#enumerate(dict_list):\n",
    "    df_name = 'df_'+str(i)\n",
    "#     print(df_name)\n",
    "    names_list.append(df_name)"
   ]
  },
  {
   "cell_type": "code",
   "execution_count": 40,
   "id": "deb0c3bf",
   "metadata": {},
   "outputs": [
    {
     "data": {
      "text/plain": [
       "['df_0_50',\n",
       " 'df_100_150',\n",
       " 'df_200_250',\n",
       " 'df_50_100',\n",
       " 'df_150_200',\n",
       " 'df_300_350',\n",
       " 'df_600_650',\n",
       " 'df_500_550',\n",
       " 'df_1050_1100',\n",
       " 'df_350_400',\n",
       " 'df_450_500',\n",
       " 'df_900_950',\n",
       " 'df_over_1150',\n",
       " 'df_400_450',\n",
       " 'df_250_300',\n",
       " 'df_1000_1050',\n",
       " 'df_650_700',\n",
       " 'df_750_800',\n",
       " 'df_700_750',\n",
       " 'df_800_850',\n",
       " 'df_550_600',\n",
       " 'df_850_900',\n",
       " 'df_950_1000',\n",
       " 'df_1100_1150']"
      ]
     },
     "execution_count": 40,
     "metadata": {},
     "output_type": "execute_result"
    }
   ],
   "source": [
    "names_list"
   ]
  },
  {
   "cell_type": "code",
   "execution_count": 41,
   "id": "bd18cbf5",
   "metadata": {},
   "outputs": [],
   "source": [
    "d = {}\n",
    "for x in amount_df.amt_bin.unique().tolist():\n",
    "    d[x] = pd.DataFrame(amount_df[amount_df['amt_bin'] == x].is_fraud)"
   ]
  },
  {
   "cell_type": "code",
   "execution_count": 42,
   "id": "796ea28f",
   "metadata": {},
   "outputs": [],
   "source": [
    "# for key, value in d.items():\n",
    "#     print(f'The key is {key}', f'The value is {value}')"
   ]
  },
  {
   "cell_type": "code",
   "execution_count": 43,
   "id": "5ddc0b0f",
   "metadata": {},
   "outputs": [],
   "source": [
    "# for x in d:\n",
    "#     print(d[x].var())\n",
    "#The variances are all very small (under .3 in the highest case), so the diferrences are minor"
   ]
  },
  {
   "cell_type": "code",
   "execution_count": 44,
   "id": "08e332cf",
   "metadata": {},
   "outputs": [
    {
     "data": {
      "text/plain": [
       "(328361.19359891646, 0.0)"
      ]
     },
     "execution_count": 44,
     "metadata": {},
     "output_type": "execute_result"
    }
   ],
   "source": [
    "alpha = .05\n",
    "f,p = stats.kruskal(d['0_50'].is_fraud,\n",
    "d['100_150'].is_fraud,\n",
    "d['200_250'].is_fraud,\n",
    "d['50_100'].is_fraud,\n",
    "d['150_200'].is_fraud,\n",
    "d['300_350'].is_fraud,\n",
    "d['600_650'].is_fraud,\n",
    "d['500_550'].is_fraud,\n",
    "d['1050_1100'].is_fraud,\n",
    "d['350_400'].is_fraud,\n",
    "d['450_500'].is_fraud,\n",
    "d['900_950'].is_fraud,\n",
    "d['over_1150'].is_fraud,\n",
    "d['400_450'].is_fraud,\n",
    "d['250_300'].is_fraud,\n",
    "d['1000_1050'].is_fraud,\n",
    "d['650_700'].is_fraud,\n",
    "d['750_800'].is_fraud,\n",
    "d['700_750'].is_fraud,\n",
    "d['800_850'].is_fraud,\n",
    "d['550_600'].is_fraud,\n",
    "d['850_900'].is_fraud,\n",
    "d['950_1000'].is_fraud,\n",
    "d['1100_1150'].is_fraud\n",
    ")\n",
    "f,p"
   ]
  },
  {
   "cell_type": "markdown",
   "id": "72335bfd",
   "metadata": {},
   "source": [
    "### The Kruskal test illustrates there is a statistically significant difference between the prevalence of fraud from one price bin to another"
   ]
  },
  {
   "cell_type": "markdown",
   "id": "65ac90f1",
   "metadata": {},
   "source": [
    "### Merchant"
   ]
  },
  {
   "cell_type": "code",
   "execution_count": 45,
   "id": "6602e916",
   "metadata": {},
   "outputs": [],
   "source": [
    "merchant_df = df.copy()"
   ]
  },
  {
   "cell_type": "code",
   "execution_count": 46,
   "id": "02188ddb",
   "metadata": {},
   "outputs": [
    {
     "data": {
      "text/plain": [
       "merchant\n",
       "fraud_Kilback LLC                       4403\n",
       "fraud_Cormier LLC                       3649\n",
       "fraud_Schumm PLC                        3634\n",
       "fraud_Kuhn LLC                          3510\n",
       "fraud_Boyer PLC                         3493\n",
       "                                        ... \n",
       "fraud_Douglas, DuBuque and McKenzie      775\n",
       "fraud_Treutel-King                       775\n",
       "fraud_Medhurst, Labadie and Gottlieb     759\n",
       "fraud_Reichert-Weissnat                  753\n",
       "fraud_Hahn, Douglas and Schowalter       727\n",
       "Name: count, Length: 693, dtype: int64"
      ]
     },
     "execution_count": 46,
     "metadata": {},
     "output_type": "execute_result"
    }
   ],
   "source": [
    "merchant_df.merchant.value_counts()"
   ]
  },
  {
   "cell_type": "markdown",
   "id": "bbfb8765",
   "metadata": {},
   "source": [
    "### Getting the min, max, and average fraud from all merchants"
   ]
  },
  {
   "cell_type": "code",
   "execution_count": 47,
   "id": "37d78e8c",
   "metadata": {},
   "outputs": [
    {
     "data": {
      "text/plain": [
       "(0.0, 0.02572347266881029, 0.005602779328969938)"
      ]
     },
     "execution_count": 47,
     "metadata": {},
     "output_type": "execute_result"
    }
   ],
   "source": [
    "min(merchant_df.groupby(by='merchant').is_fraud.mean().sort_values()),max(merchant_df.groupby(by='merchant').is_fraud.mean().sort_values()),statistics.mean(merchant_df.groupby(by='merchant').is_fraud.mean().sort_values())"
   ]
  },
  {
   "cell_type": "markdown",
   "id": "d1d1ad16",
   "metadata": {},
   "source": [
    "### The top 10 \"offenders\" for fraudulent transactions"
   ]
  },
  {
   "cell_type": "code",
   "execution_count": 48,
   "id": "93e163a7",
   "metadata": {},
   "outputs": [
    {
     "data": {
      "text/plain": [
       "merchant\n",
       "fraud_Kozey-Boehm                       0.025723\n",
       "fraud_Herman, Treutel and Dickens       0.025385\n",
       "fraud_Kerluke-Abshire                   0.022307\n",
       "fraud_Brown PLC                         0.022109\n",
       "fraud_Goyette Inc                       0.021616\n",
       "fraud_Terry-Huel                        0.021543\n",
       "fraud_Jast Ltd                          0.021505\n",
       "fraud_Schmeler, Bashirian and Price     0.020833\n",
       "fraud_Boyer-Reichert                    0.019916\n",
       "fraud_Langworth, Boehm and Gulgowski    0.019807\n",
       "Name: is_fraud, dtype: float64"
      ]
     },
     "execution_count": 48,
     "metadata": {},
     "output_type": "execute_result"
    }
   ],
   "source": [
    "merchant_df.groupby(by='merchant').is_fraud.mean().sort_values(ascending=False).head(10)"
   ]
  },
  {
   "cell_type": "markdown",
   "id": "de625af9",
   "metadata": {},
   "source": [
    "## Category"
   ]
  },
  {
   "cell_type": "markdown",
   "id": "cfb458d1",
   "metadata": {},
   "source": [
    "### Getting the min, max, and average fraud from all merchants"
   ]
  },
  {
   "cell_type": "code",
   "execution_count": 49,
   "id": "3f9e6073",
   "metadata": {},
   "outputs": [
    {
     "data": {
      "text/plain": [
       "(0.0015486905995645036, 0.017561485703740914, 0.005629390136310047)"
      ]
     },
     "execution_count": 49,
     "metadata": {},
     "output_type": "execute_result"
    }
   ],
   "source": [
    "min(merchant_df.groupby(by='category').is_fraud.mean().sort_values()),max(merchant_df.groupby(by='category').is_fraud.mean().sort_values()),statistics.mean(merchant_df.groupby(by='category').is_fraud.mean().sort_values())"
   ]
  },
  {
   "cell_type": "markdown",
   "id": "2bf6734a",
   "metadata": {},
   "source": [
    "### The top ten offending categories--the top 3 are respectively twice as high as the 4th"
   ]
  },
  {
   "cell_type": "code",
   "execution_count": 50,
   "id": "b6694960",
   "metadata": {},
   "outputs": [
    {
     "data": {
      "text/plain": [
       "category\n",
       "shopping_net     0.017561\n",
       "misc_net         0.014458\n",
       "grocery_pos      0.014098\n",
       "shopping_pos     0.007225\n",
       "gas_transport    0.004694\n",
       "misc_pos         0.003139\n",
       "grocery_net      0.002948\n",
       "travel           0.002864\n",
       "entertainment    0.002478\n",
       "personal_care    0.002424\n",
       "Name: is_fraud, dtype: float64"
      ]
     },
     "execution_count": 50,
     "metadata": {},
     "output_type": "execute_result"
    }
   ],
   "source": [
    "merchant_df.groupby(by='category').is_fraud.mean().sort_values(ascending=False).head(10)"
   ]
  },
  {
   "cell_type": "markdown",
   "id": "6566f249",
   "metadata": {},
   "source": [
    "## Gender"
   ]
  },
  {
   "cell_type": "code",
   "execution_count": 51,
   "id": "13801f6d",
   "metadata": {},
   "outputs": [],
   "source": [
    "gender_df = df.copy()"
   ]
  },
  {
   "cell_type": "markdown",
   "id": "6784468e",
   "metadata": {},
   "source": [
    "### Like with the price bins above, we will add a column and graphically show the percentage of fraud by sex"
   ]
  },
  {
   "cell_type": "code",
   "execution_count": 52,
   "id": "76d2d536",
   "metadata": {},
   "outputs": [],
   "source": [
    "gender_fraud_breakdown = gender_df.groupby([gender_df['gender'],gender_df['is_fraud']]).size().unstack(0)\n",
    "gender_fraud_sum = gender_df.groupby([gender_df['gender'],gender_df['is_fraud']]).size().unstack(0).sum()"
   ]
  },
  {
   "cell_type": "code",
   "execution_count": 53,
   "id": "6dd7b946",
   "metadata": {},
   "outputs": [],
   "source": [
    "gender_percentage_df = gender_fraud_breakdown/gender_fraud_sum\n",
    "# percentage_df"
   ]
  },
  {
   "cell_type": "code",
   "execution_count": 54,
   "id": "a27a2b84",
   "metadata": {},
   "outputs": [
    {
     "data": {
      "text/html": [
       "<div>\n",
       "<style scoped>\n",
       "    .dataframe tbody tr th:only-of-type {\n",
       "        vertical-align: middle;\n",
       "    }\n",
       "\n",
       "    .dataframe tbody tr th {\n",
       "        vertical-align: top;\n",
       "    }\n",
       "\n",
       "    .dataframe thead th {\n",
       "        text-align: right;\n",
       "    }\n",
       "</style>\n",
       "<table border=\"1\" class=\"dataframe\">\n",
       "  <thead>\n",
       "    <tr style=\"text-align: right;\">\n",
       "      <th>gender</th>\n",
       "      <th>F</th>\n",
       "      <th>M</th>\n",
       "    </tr>\n",
       "    <tr>\n",
       "      <th>is_fraud</th>\n",
       "      <th></th>\n",
       "      <th></th>\n",
       "    </tr>\n",
       "  </thead>\n",
       "  <tbody>\n",
       "    <tr>\n",
       "      <th>1</th>\n",
       "      <td>0.005262</td>\n",
       "      <td>0.006426</td>\n",
       "    </tr>\n",
       "  </tbody>\n",
       "</table>\n",
       "</div>"
      ],
      "text/plain": [
       "gender           F         M\n",
       "is_fraud                    \n",
       "1         0.005262  0.006426"
      ]
     },
     "execution_count": 54,
     "metadata": {},
     "output_type": "execute_result"
    }
   ],
   "source": [
    "ratio_fraud_gender = gender_percentage_df[gender_percentage_df.index == 1]\n",
    "ratio_fraud_gender"
   ]
  },
  {
   "cell_type": "code",
   "execution_count": 55,
   "id": "79a601e6",
   "metadata": {},
   "outputs": [],
   "source": [
    "ratio_fraud_gender = pd.DataFrame(ratio_fraud_gender.unstack(0)).droplevel(1)\n",
    "# temp_df"
   ]
  },
  {
   "cell_type": "code",
   "execution_count": 56,
   "id": "d8179222",
   "metadata": {},
   "outputs": [],
   "source": [
    "gender_df = gender_df.merge(ratio_fraud_gender,on=['gender']).rename(columns={0:'perc_fraud_gender'})"
   ]
  },
  {
   "cell_type": "code",
   "execution_count": 57,
   "id": "4bd5304c",
   "metadata": {},
   "outputs": [
    {
     "data": {
      "text/html": [
       "<div>\n",
       "<style scoped>\n",
       "    .dataframe tbody tr th:only-of-type {\n",
       "        vertical-align: middle;\n",
       "    }\n",
       "\n",
       "    .dataframe tbody tr th {\n",
       "        vertical-align: top;\n",
       "    }\n",
       "\n",
       "    .dataframe thead th {\n",
       "        text-align: right;\n",
       "    }\n",
       "</style>\n",
       "<table border=\"1\" class=\"dataframe\">\n",
       "  <thead>\n",
       "    <tr style=\"text-align: right;\">\n",
       "      <th></th>\n",
       "      <th>merchant</th>\n",
       "      <th>category</th>\n",
       "      <th>amt</th>\n",
       "      <th>gender</th>\n",
       "      <th>zip</th>\n",
       "      <th>city_pop</th>\n",
       "      <th>job</th>\n",
       "      <th>merch_lat</th>\n",
       "      <th>merch_long</th>\n",
       "      <th>is_fraud</th>\n",
       "      <th>age</th>\n",
       "      <th>dayofweek</th>\n",
       "      <th>hourofday</th>\n",
       "      <th>age_group</th>\n",
       "      <th>perc_fraud_gender</th>\n",
       "    </tr>\n",
       "  </thead>\n",
       "  <tbody>\n",
       "    <tr>\n",
       "      <th>596730</th>\n",
       "      <td>fraud_Padberg-Rogahn</td>\n",
       "      <td>entertainment</td>\n",
       "      <td>17.34</td>\n",
       "      <td>F</td>\n",
       "      <td>40820</td>\n",
       "      <td>581</td>\n",
       "      <td>Psychologist, counselling</td>\n",
       "      <td>37.416668</td>\n",
       "      <td>-83.435543</td>\n",
       "      <td>0</td>\n",
       "      <td>53</td>\n",
       "      <td>Sunday</td>\n",
       "      <td>13</td>\n",
       "      <td>Early_Mid_Age</td>\n",
       "      <td>0.005262</td>\n",
       "    </tr>\n",
       "  </tbody>\n",
       "</table>\n",
       "</div>"
      ],
      "text/plain": [
       "                    merchant       category    amt gender    zip  city_pop  \\\n",
       "596730  fraud_Padberg-Rogahn  entertainment  17.34      F  40820       581   \n",
       "\n",
       "                              job  merch_lat  merch_long  is_fraud  age  \\\n",
       "596730  Psychologist, counselling  37.416668  -83.435543         0   53   \n",
       "\n",
       "       dayofweek  hourofday      age_group  perc_fraud_gender  \n",
       "596730    Sunday         13  Early_Mid_Age           0.005262  "
      ]
     },
     "execution_count": 57,
     "metadata": {},
     "output_type": "execute_result"
    }
   ],
   "source": [
    "gender_df.sample()"
   ]
  },
  {
   "cell_type": "code",
   "execution_count": 58,
   "id": "e14a1e3c",
   "metadata": {},
   "outputs": [
    {
     "data": {
      "text/plain": [
       "Text(0.5, 1.0, 'Do men commit more fraud than women?')"
      ]
     },
     "execution_count": 58,
     "metadata": {},
     "output_type": "execute_result"
    },
    {
     "data": {
      "image/png": "[encoded data removed]",
      "text/plain": [
       "<Figure size 640x480 with 1 Axes>"
      ]
     },
     "metadata": {},
     "output_type": "display_data"
    }
   ],
   "source": [
    "ax = sns.barplot(data=gender_df,y=gender_df.perc_fraud_gender,x=gender_df.gender)\n",
    "plt.style.use('ggplot')\n",
    "ax.set_xlabel(xlabel = 'Sex', fontsize = 12)\n",
    "ax.set_ylabel(ylabel = '% Fraud by Gender', fontsize = 16)\n",
    "ax.set_title(label = 'Do men commit more fraud than women?', fontsize = 20)"
   ]
  },
  {
   "cell_type": "markdown",
   "id": "0e842fe8",
   "metadata": {},
   "source": [
    "## The \"male\" transactions are slightly likelier to have fraud, according to this dataset."
   ]
  },
  {
   "cell_type": "markdown",
   "id": "676a694b",
   "metadata": {},
   "source": [
    "### Let's test that with an chi^2 test\n",
    "\n",
    "H0: Fraud is independent of someone's sex\n",
    "\n",
    "Ha: One sex has more fraud associated"
   ]
  },
  {
   "cell_type": "code",
   "execution_count": 59,
   "id": "fe802369",
   "metadata": {},
   "outputs": [
    {
     "data": {
      "text/html": [
       "<div>\n",
       "<style scoped>\n",
       "    .dataframe tbody tr th:only-of-type {\n",
       "        vertical-align: middle;\n",
       "    }\n",
       "\n",
       "    .dataframe tbody tr th {\n",
       "        vertical-align: top;\n",
       "    }\n",
       "\n",
       "    .dataframe thead th {\n",
       "        text-align: right;\n",
       "    }\n",
       "</style>\n",
       "<table border=\"1\" class=\"dataframe\">\n",
       "  <thead>\n",
       "    <tr style=\"text-align: right;\">\n",
       "      <th>is_fraud</th>\n",
       "      <th>0</th>\n",
       "      <th>1</th>\n",
       "    </tr>\n",
       "    <tr>\n",
       "      <th>gender</th>\n",
       "      <th></th>\n",
       "      <th></th>\n",
       "    </tr>\n",
       "  </thead>\n",
       "  <tbody>\n",
       "    <tr>\n",
       "      <th>F</th>\n",
       "      <td>706128</td>\n",
       "      <td>3735</td>\n",
       "    </tr>\n",
       "    <tr>\n",
       "      <th>M</th>\n",
       "      <td>583041</td>\n",
       "      <td>3771</td>\n",
       "    </tr>\n",
       "  </tbody>\n",
       "</table>\n",
       "</div>"
      ],
      "text/plain": [
       "is_fraud       0     1\n",
       "gender                \n",
       "F         706128  3735\n",
       "M         583041  3771"
      ]
     },
     "execution_count": 59,
     "metadata": {},
     "output_type": "execute_result"
    }
   ],
   "source": [
    "contingency_table = pd.crosstab(gender_df.gender,gender_df.is_fraud)\n",
    "contingency_table"
   ]
  },
  {
   "cell_type": "code",
   "execution_count": 60,
   "id": "57b73e1f",
   "metadata": {},
   "outputs": [
    {
     "data": {
      "text/plain": [
       "(75.51456622055794, 3.627211385830374e-18, 1)"
      ]
     },
     "execution_count": 60,
     "metadata": {},
     "output_type": "execute_result"
    }
   ],
   "source": [
    "chi2, p, deg_freedom, expected_matrix = stats.chi2_contingency(contingency_table)\n",
    "chi2, p, deg_freedom"
   ]
  },
  {
   "cell_type": "code",
   "execution_count": 61,
   "id": "da818d50",
   "metadata": {},
   "outputs": [
    {
     "data": {
      "text/plain": [
       "array([[705753.85030713,   4109.14969287],\n",
       "       [583415.14969287,   3396.85030713]])"
      ]
     },
     "execution_count": 61,
     "metadata": {},
     "output_type": "execute_result"
    }
   ],
   "source": [
    "expected_matrix"
   ]
  },
  {
   "cell_type": "markdown",
   "id": "05b3d8d0",
   "metadata": {},
   "source": [
    "The p value is so low that we reject the null hypothesis\n",
    "\n",
    "### Sex is a statistically significant driver of fraud"
   ]
  },
  {
   "cell_type": "markdown",
   "id": "93e635fa",
   "metadata": {},
   "source": [
    "## Zip"
   ]
  },
  {
   "cell_type": "code",
   "execution_count": 62,
   "id": "b703a0c8",
   "metadata": {},
   "outputs": [],
   "source": [
    "zip_df = df.copy()"
   ]
  },
  {
   "cell_type": "code",
   "execution_count": 63,
   "id": "ef8bbecb",
   "metadata": {},
   "outputs": [
    {
     "data": {
      "text/plain": [
       "zip\n",
       "73754    3646\n",
       "34112    3613\n",
       "48088    3597\n",
       "82514    3527\n",
       "49628    3123\n",
       "         ... \n",
       "46510       7\n",
       "16041       7\n",
       "38915       7\n",
       "10018       7\n",
       "23523       7\n",
       "Name: count, Length: 970, dtype: int64"
      ]
     },
     "execution_count": 63,
     "metadata": {},
     "output_type": "execute_result"
    }
   ],
   "source": [
    "zip_df.zip.value_counts()"
   ]
  },
  {
   "cell_type": "code",
   "execution_count": 64,
   "id": "a39f3cda",
   "metadata": {},
   "outputs": [
    {
     "data": {
      "text/plain": [
       "(0.0, 1.0, 0.08191090570958835)"
      ]
     },
     "execution_count": 64,
     "metadata": {},
     "output_type": "execute_result"
    }
   ],
   "source": [
    "min(zip_df.groupby(by='zip').is_fraud.mean().sort_values()),max(zip_df.groupby(by='zip').is_fraud.mean().sort_values()),statistics.mean(zip_df.groupby(by='zip').is_fraud.mean().sort_values())"
   ]
  },
  {
   "cell_type": "markdown",
   "id": "36690fc9",
   "metadata": {},
   "source": [
    "### There is a zip with all fraud?"
   ]
  },
  {
   "cell_type": "code",
   "execution_count": 65,
   "id": "d12de83f",
   "metadata": {},
   "outputs": [
    {
     "data": {
      "text/html": [
       "<div>\n",
       "<style scoped>\n",
       "    .dataframe tbody tr th:only-of-type {\n",
       "        vertical-align: middle;\n",
       "    }\n",
       "\n",
       "    .dataframe tbody tr th {\n",
       "        vertical-align: top;\n",
       "    }\n",
       "\n",
       "    .dataframe thead th {\n",
       "        text-align: right;\n",
       "    }\n",
       "</style>\n",
       "<table border=\"1\" class=\"dataframe\">\n",
       "  <thead>\n",
       "    <tr style=\"text-align: right;\">\n",
       "      <th></th>\n",
       "      <th></th>\n",
       "      <th>is_fraud</th>\n",
       "    </tr>\n",
       "    <tr>\n",
       "      <th>zip</th>\n",
       "      <th>city_pop</th>\n",
       "      <th></th>\n",
       "    </tr>\n",
       "  </thead>\n",
       "  <tbody>\n",
       "    <tr>\n",
       "      <th>68375</th>\n",
       "      <th>121</th>\n",
       "      <td>1.0</td>\n",
       "    </tr>\n",
       "    <tr>\n",
       "      <th>54980</th>\n",
       "      <th>149</th>\n",
       "      <td>1.0</td>\n",
       "    </tr>\n",
       "    <tr>\n",
       "      <th>99747</th>\n",
       "      <th>239</th>\n",
       "      <td>1.0</td>\n",
       "    </tr>\n",
       "    <tr>\n",
       "      <th>67346</th>\n",
       "      <th>372</th>\n",
       "      <td>1.0</td>\n",
       "    </tr>\n",
       "    <tr>\n",
       "      <th>21657</th>\n",
       "      <th>777</th>\n",
       "      <td>1.0</td>\n",
       "    </tr>\n",
       "    <tr>\n",
       "      <th>...</th>\n",
       "      <th>...</th>\n",
       "      <td>...</td>\n",
       "    </tr>\n",
       "    <tr>\n",
       "      <th>89109</th>\n",
       "      <th>1417793</th>\n",
       "      <td>1.0</td>\n",
       "    </tr>\n",
       "    <tr>\n",
       "      <th>10018</th>\n",
       "      <th>1577385</th>\n",
       "      <td>1.0</td>\n",
       "    </tr>\n",
       "    <tr>\n",
       "      <th>78208</th>\n",
       "      <th>1595797</th>\n",
       "      <td>1.0</td>\n",
       "    </tr>\n",
       "    <tr>\n",
       "      <th>77038</th>\n",
       "      <th>2906700</th>\n",
       "      <td>1.0</td>\n",
       "    </tr>\n",
       "    <tr>\n",
       "      <th>77027</th>\n",
       "      <th>2906700</th>\n",
       "      <td>1.0</td>\n",
       "    </tr>\n",
       "  </tbody>\n",
       "</table>\n",
       "<p>73 rows × 1 columns</p>\n",
       "</div>"
      ],
      "text/plain": [
       "                is_fraud\n",
       "zip   city_pop          \n",
       "68375 121            1.0\n",
       "54980 149            1.0\n",
       "99747 239            1.0\n",
       "67346 372            1.0\n",
       "21657 777            1.0\n",
       "...                  ...\n",
       "89109 1417793        1.0\n",
       "10018 1577385        1.0\n",
       "78208 1595797        1.0\n",
       "77038 2906700        1.0\n",
       "77027 2906700        1.0\n",
       "\n",
       "[73 rows x 1 columns]"
      ]
     },
     "execution_count": 65,
     "metadata": {},
     "output_type": "execute_result"
    }
   ],
   "source": [
    "# (df.groupby(by=['zip','is_fraud','city_pop']).is_fraud.mean() == 1)\n",
    "pd.DataFrame(zip_df.groupby(by=['zip','city_pop']).is_fraud.mean().sort_values(ascending = False).head(73)).sort_values(by = 'city_pop')"
   ]
  },
  {
   "cell_type": "markdown",
   "id": "ea12ac3b",
   "metadata": {},
   "source": [
    "There are 73"
   ]
  },
  {
   "cell_type": "code",
   "execution_count": 66,
   "id": "a8474cb6",
   "metadata": {},
   "outputs": [
    {
     "data": {
      "text/html": [
       "<div>\n",
       "<style scoped>\n",
       "    .dataframe tbody tr th:only-of-type {\n",
       "        vertical-align: middle;\n",
       "    }\n",
       "\n",
       "    .dataframe tbody tr th {\n",
       "        vertical-align: top;\n",
       "    }\n",
       "\n",
       "    .dataframe thead th {\n",
       "        text-align: right;\n",
       "    }\n",
       "</style>\n",
       "<table border=\"1\" class=\"dataframe\">\n",
       "  <thead>\n",
       "    <tr style=\"text-align: right;\">\n",
       "      <th></th>\n",
       "      <th></th>\n",
       "      <th>all_transactions_fraud</th>\n",
       "    </tr>\n",
       "    <tr>\n",
       "      <th>zip</th>\n",
       "      <th>city_pop</th>\n",
       "      <th></th>\n",
       "    </tr>\n",
       "  </thead>\n",
       "  <tbody>\n",
       "    <tr>\n",
       "      <th>47842</th>\n",
       "      <th>10085</th>\n",
       "      <td>1.0</td>\n",
       "    </tr>\n",
       "  </tbody>\n",
       "</table>\n",
       "</div>"
      ],
      "text/plain": [
       "                all_transactions_fraud\n",
       "zip   city_pop                        \n",
       "47842 10085                        1.0"
      ]
     },
     "execution_count": 66,
     "metadata": {},
     "output_type": "execute_result"
    }
   ],
   "source": [
    "all_fraud_zips = pd.DataFrame(zip_df.groupby(by=['zip','city_pop']).is_fraud.mean().sort_values(ascending = False).head(73)).sort_values(by = 'city_pop').rename(columns={'is_fraud':'all_transactions_fraud'})\n",
    "all_fraud_zips.sample()"
   ]
  },
  {
   "cell_type": "code",
   "execution_count": 67,
   "id": "0c7bea37",
   "metadata": {},
   "outputs": [
    {
     "data": {
      "text/html": [
       "<div>\n",
       "<style scoped>\n",
       "    .dataframe tbody tr th:only-of-type {\n",
       "        vertical-align: middle;\n",
       "    }\n",
       "\n",
       "    .dataframe tbody tr th {\n",
       "        vertical-align: top;\n",
       "    }\n",
       "\n",
       "    .dataframe thead th {\n",
       "        text-align: right;\n",
       "    }\n",
       "</style>\n",
       "<table border=\"1\" class=\"dataframe\">\n",
       "  <thead>\n",
       "    <tr style=\"text-align: right;\">\n",
       "      <th></th>\n",
       "      <th>merchant</th>\n",
       "      <th>category</th>\n",
       "      <th>amt</th>\n",
       "      <th>gender</th>\n",
       "      <th>zip</th>\n",
       "      <th>city_pop</th>\n",
       "      <th>job</th>\n",
       "      <th>merch_lat</th>\n",
       "      <th>merch_long</th>\n",
       "      <th>is_fraud</th>\n",
       "      <th>age</th>\n",
       "      <th>dayofweek</th>\n",
       "      <th>hourofday</th>\n",
       "      <th>age_group</th>\n",
       "      <th>all_transactions_fraud</th>\n",
       "    </tr>\n",
       "  </thead>\n",
       "  <tbody>\n",
       "    <tr>\n",
       "      <th>383421</th>\n",
       "      <td>fraud_Bernhard, Grant and Langworth</td>\n",
       "      <td>shopping_pos</td>\n",
       "      <td>3.51</td>\n",
       "      <td>F</td>\n",
       "      <td>50312</td>\n",
       "      <td>222785</td>\n",
       "      <td>Wellsite geologist</td>\n",
       "      <td>41.554281</td>\n",
       "      <td>-93.215154</td>\n",
       "      <td>0</td>\n",
       "      <td>63</td>\n",
       "      <td>Sunday</td>\n",
       "      <td>10</td>\n",
       "      <td>Mid_Age</td>\n",
       "      <td>0.0</td>\n",
       "    </tr>\n",
       "  </tbody>\n",
       "</table>\n",
       "</div>"
      ],
      "text/plain": [
       "                                   merchant      category   amt gender    zip  \\\n",
       "383421  fraud_Bernhard, Grant and Langworth  shopping_pos  3.51      F  50312   \n",
       "\n",
       "        city_pop                 job  merch_lat  merch_long  is_fraud  age  \\\n",
       "383421    222785  Wellsite geologist  41.554281  -93.215154         0   63   \n",
       "\n",
       "       dayofweek  hourofday age_group  all_transactions_fraud  \n",
       "383421    Sunday         10   Mid_Age                     0.0  "
      ]
     },
     "execution_count": 67,
     "metadata": {},
     "output_type": "execute_result"
    }
   ],
   "source": [
    "zip_df = zip_df.merge(all_fraud_zips,how='outer',on='zip')\n",
    "zip_df = zip_df.fillna({'all_transactions_fraud':0})\n",
    "zip_df.sample()"
   ]
  },
  {
   "cell_type": "code",
   "execution_count": 68,
   "id": "fbccc915",
   "metadata": {},
   "outputs": [
    {
     "data": {
      "text/plain": [
       "zip\n",
       "68375.0    19\n",
       "99116.0    15\n",
       "77038.0    15\n",
       "11747.0    15\n",
       "21657.0    13\n",
       "           ..\n",
       "95688.0     7\n",
       "37411.0     7\n",
       "61364.0     7\n",
       "38915.0     7\n",
       "77027.0     7\n",
       "Name: all_transactions_fraud, Length: 73, dtype: int64"
      ]
     },
     "execution_count": 68,
     "metadata": {},
     "output_type": "execute_result"
    }
   ],
   "source": [
    "# zip_df.groupby(by='zip').all_transactions_fraud.value_counts()\n",
    "zip_df.where(zip_df.all_transactions_fraud==1).groupby(by='zip').all_transactions_fraud.count().sort_values(ascending = False)"
   ]
  },
  {
   "cell_type": "markdown",
   "id": "4057806f",
   "metadata": {},
   "source": [
    "## Of all the 100% fraud zips, none of them have more than 19 transactions"
   ]
  },
  {
   "cell_type": "markdown",
   "id": "495a2929",
   "metadata": {},
   "source": [
    "### Population"
   ]
  },
  {
   "cell_type": "code",
   "execution_count": 69,
   "id": "7837ecae",
   "metadata": {},
   "outputs": [],
   "source": [
    "pop_df = df.copy()"
   ]
  },
  {
   "cell_type": "code",
   "execution_count": 70,
   "id": "4cb28fb6",
   "metadata": {},
   "outputs": [
    {
     "data": {
      "text/html": [
       "<div>\n",
       "<style scoped>\n",
       "    .dataframe tbody tr th:only-of-type {\n",
       "        vertical-align: middle;\n",
       "    }\n",
       "\n",
       "    .dataframe tbody tr th {\n",
       "        vertical-align: top;\n",
       "    }\n",
       "\n",
       "    .dataframe thead th {\n",
       "        text-align: right;\n",
       "    }\n",
       "</style>\n",
       "<table border=\"1\" class=\"dataframe\">\n",
       "  <thead>\n",
       "    <tr style=\"text-align: right;\">\n",
       "      <th></th>\n",
       "      <th>count</th>\n",
       "    </tr>\n",
       "    <tr>\n",
       "      <th>city_pop</th>\n",
       "      <th></th>\n",
       "    </tr>\n",
       "  </thead>\n",
       "  <tbody>\n",
       "    <tr>\n",
       "      <th>606</th>\n",
       "      <td>5496</td>\n",
       "    </tr>\n",
       "    <tr>\n",
       "      <th>1595797</th>\n",
       "      <td>5130</td>\n",
       "    </tr>\n",
       "    <tr>\n",
       "      <th>1312922</th>\n",
       "      <td>5075</td>\n",
       "    </tr>\n",
       "    <tr>\n",
       "      <th>1766</th>\n",
       "      <td>4574</td>\n",
       "    </tr>\n",
       "    <tr>\n",
       "      <th>241</th>\n",
       "      <td>4533</td>\n",
       "    </tr>\n",
       "    <tr>\n",
       "      <th>...</th>\n",
       "      <td>...</td>\n",
       "    </tr>\n",
       "    <tr>\n",
       "      <th>99475</th>\n",
       "      <td>7</td>\n",
       "    </tr>\n",
       "    <tr>\n",
       "      <th>198659</th>\n",
       "      <td>7</td>\n",
       "    </tr>\n",
       "    <tr>\n",
       "      <th>4046</th>\n",
       "      <td>7</td>\n",
       "    </tr>\n",
       "    <tr>\n",
       "      <th>1888</th>\n",
       "      <td>7</td>\n",
       "    </tr>\n",
       "    <tr>\n",
       "      <th>3631</th>\n",
       "      <td>7</td>\n",
       "    </tr>\n",
       "  </tbody>\n",
       "</table>\n",
       "<p>879 rows × 1 columns</p>\n",
       "</div>"
      ],
      "text/plain": [
       "          count\n",
       "city_pop       \n",
       "606        5496\n",
       "1595797    5130\n",
       "1312922    5075\n",
       "1766       4574\n",
       "241        4533\n",
       "...         ...\n",
       "99475         7\n",
       "198659        7\n",
       "4046          7\n",
       "1888          7\n",
       "3631          7\n",
       "\n",
       "[879 rows x 1 columns]"
      ]
     },
     "execution_count": 70,
     "metadata": {},
     "output_type": "execute_result"
    }
   ],
   "source": [
    "pd.DataFrame(pop_df.city_pop.value_counts())"
   ]
  },
  {
   "cell_type": "code",
   "execution_count": 71,
   "id": "a5202628",
   "metadata": {},
   "outputs": [
    {
     "data": {
      "text/html": [
       "<div>\n",
       "<style scoped>\n",
       "    .dataframe tbody tr th:only-of-type {\n",
       "        vertical-align: middle;\n",
       "    }\n",
       "\n",
       "    .dataframe tbody tr th {\n",
       "        vertical-align: top;\n",
       "    }\n",
       "\n",
       "    .dataframe thead th {\n",
       "        text-align: right;\n",
       "    }\n",
       "</style>\n",
       "<table border=\"1\" class=\"dataframe\">\n",
       "  <thead>\n",
       "    <tr style=\"text-align: right;\">\n",
       "      <th></th>\n",
       "      <th>is_fraud</th>\n",
       "    </tr>\n",
       "    <tr>\n",
       "      <th>city_pop</th>\n",
       "      <th></th>\n",
       "    </tr>\n",
       "  </thead>\n",
       "  <tbody>\n",
       "    <tr>\n",
       "      <th>3104</th>\n",
       "      <td>0.0</td>\n",
       "    </tr>\n",
       "    <tr>\n",
       "      <th>3766</th>\n",
       "      <td>0.0</td>\n",
       "    </tr>\n",
       "    <tr>\n",
       "      <th>3508</th>\n",
       "      <td>0.0</td>\n",
       "    </tr>\n",
       "    <tr>\n",
       "      <th>3495</th>\n",
       "      <td>0.0</td>\n",
       "    </tr>\n",
       "    <tr>\n",
       "      <th>3430</th>\n",
       "      <td>0.0</td>\n",
       "    </tr>\n",
       "    <tr>\n",
       "      <th>...</th>\n",
       "      <td>...</td>\n",
       "    </tr>\n",
       "    <tr>\n",
       "      <th>4299</th>\n",
       "      <td>1.0</td>\n",
       "    </tr>\n",
       "    <tr>\n",
       "      <th>1439</th>\n",
       "      <td>1.0</td>\n",
       "    </tr>\n",
       "    <tr>\n",
       "      <th>9141</th>\n",
       "      <td>1.0</td>\n",
       "    </tr>\n",
       "    <tr>\n",
       "      <th>64438</th>\n",
       "      <td>1.0</td>\n",
       "    </tr>\n",
       "    <tr>\n",
       "      <th>7369</th>\n",
       "      <td>1.0</td>\n",
       "    </tr>\n",
       "  </tbody>\n",
       "</table>\n",
       "<p>879 rows × 1 columns</p>\n",
       "</div>"
      ],
      "text/plain": [
       "          is_fraud\n",
       "city_pop          \n",
       "3104           0.0\n",
       "3766           0.0\n",
       "3508           0.0\n",
       "3495           0.0\n",
       "3430           0.0\n",
       "...            ...\n",
       "4299           1.0\n",
       "1439           1.0\n",
       "9141           1.0\n",
       "64438          1.0\n",
       "7369           1.0\n",
       "\n",
       "[879 rows x 1 columns]"
      ]
     },
     "execution_count": 71,
     "metadata": {},
     "output_type": "execute_result"
    }
   ],
   "source": [
    "# y_array = np.arange(pop_df.groupby(by='city_pop').is_fraud.mean().sort_values()\n",
    "pd.DataFrame(pop_df.groupby(by='city_pop').is_fraud.mean().sort_values())"
   ]
  },
  {
   "cell_type": "markdown",
   "id": "a639ec9f",
   "metadata": {},
   "source": [
    "There are cities with no fraud and cities with 100% fraud (refer to zip code EDA aboe)"
   ]
  },
  {
   "cell_type": "code",
   "execution_count": 72,
   "id": "4d121454",
   "metadata": {},
   "outputs": [
    {
     "data": {
      "text/html": [
       "<div>\n",
       "<style scoped>\n",
       "    .dataframe tbody tr th:only-of-type {\n",
       "        vertical-align: middle;\n",
       "    }\n",
       "\n",
       "    .dataframe tbody tr th {\n",
       "        vertical-align: top;\n",
       "    }\n",
       "\n",
       "    .dataframe thead th {\n",
       "        text-align: right;\n",
       "    }\n",
       "</style>\n",
       "<table border=\"1\" class=\"dataframe\">\n",
       "  <thead>\n",
       "    <tr style=\"text-align: right;\">\n",
       "      <th></th>\n",
       "      <th>count</th>\n",
       "      <th>fraud_percentage</th>\n",
       "    </tr>\n",
       "    <tr>\n",
       "      <th>city_pop</th>\n",
       "      <th></th>\n",
       "      <th></th>\n",
       "    </tr>\n",
       "  </thead>\n",
       "  <tbody>\n",
       "    <tr>\n",
       "      <th>606</th>\n",
       "      <td>5496</td>\n",
       "      <td>0.002547</td>\n",
       "    </tr>\n",
       "  </tbody>\n",
       "</table>\n",
       "</div>"
      ],
      "text/plain": [
       "          count  fraud_percentage\n",
       "city_pop                         \n",
       "606        5496          0.002547"
      ]
     },
     "execution_count": 72,
     "metadata": {},
     "output_type": "execute_result"
    }
   ],
   "source": [
    "pop_viz_df = pd.DataFrame(pop_df.city_pop.value_counts()).merge(pd.DataFrame(pop_df.groupby(by='city_pop').is_fraud.mean().sort_values()),left_index=True,right_index=True).rename(columns={'is_fraud':'fraud_percentage'})\n",
    "pop_viz_df.head(1)"
   ]
  },
  {
   "cell_type": "code",
   "execution_count": 73,
   "id": "820e2e6d",
   "metadata": {},
   "outputs": [],
   "source": [
    "pop_viz_df.fraud_percentage = pop_viz_df.fraud_percentage.astype('float')"
   ]
  },
  {
   "cell_type": "code",
   "execution_count": 74,
   "id": "2f8251c5",
   "metadata": {},
   "outputs": [
    {
     "data": {
      "text/plain": [
       "count               57\n",
       "fraud_percentage    57\n",
       "dtype: int64"
      ]
     },
     "execution_count": 74,
     "metadata": {},
     "output_type": "execute_result"
    }
   ],
   "source": [
    "pop_viz_df[pop_viz_df.fraud_percentage==1].count()\n",
    "# 57 cities have 100% fraud--meaning that some of the zip codes above span multiple cities"
   ]
  },
  {
   "cell_type": "code",
   "execution_count": 75,
   "id": "b7a31cac",
   "metadata": {},
   "outputs": [
    {
     "name": "stderr",
     "output_type": "stream",
     "text": [
      "/opt/homebrew/anaconda3/lib/python3.11/site-packages/seaborn/axisgrid.py:118: UserWarning: The figure layout has changed to tight\n",
      "  self._figure.tight_layout(*args, **kwargs)\n"
     ]
    },
    {
     "data": {
      "text/plain": [
       "<seaborn.axisgrid.FacetGrid at 0x15a807010>"
      ]
     },
     "execution_count": 75,
     "metadata": {},
     "output_type": "execute_result"
    },
    {
     "data": {
      "image/png": "[encoded data removed]",
      "text/plain": [
       "<Figure size 500x500 with 1 Axes>"
      ]
     },
     "metadata": {},
     "output_type": "display_data"
    }
   ],
   "source": [
    "sns.relplot(data=pop_viz_df,x='count',y='fraud_percentage')\n"
   ]
  },
  {
   "cell_type": "markdown",
   "id": "98304edf",
   "metadata": {},
   "source": [
    "## Vizualized without any of the 100% fraud cities to better illustrate the general trend toward less fraud in larger cities"
   ]
  },
  {
   "cell_type": "code",
   "execution_count": 76,
   "id": "ec84f014",
   "metadata": {},
   "outputs": [
    {
     "data": {
      "image/png": "[encoded data removed]",
      "text/plain": [
       "<Figure size 640x480 with 1 Axes>"
      ]
     },
     "metadata": {},
     "output_type": "display_data"
    }
   ],
   "source": [
    "ax = plt.scatter(data=pop_viz_df[pop_viz_df.fraud_percentage!=1],x='count',y='fraud_percentage')\n",
    "plt.style.use('ggplot')\n",
    "plt.xlabel(xlabel = 'City Population')#, fontsize = 12)\n",
    "plt.ylabel(ylabel = '% Fraud by City Population', fontsize = 16)\n",
    "plt.title('The larger the city, the lower the fraud rate, generally')#, fontsize = 20)\n",
    "plt.show()"
   ]
  },
  {
   "cell_type": "markdown",
   "id": "4bcf1c7a",
   "metadata": {},
   "source": [
    "### Unusual distribution of city populations"
   ]
  },
  {
   "cell_type": "markdown",
   "id": "cdc52ee7",
   "metadata": {},
   "source": [
    "### Day? Hour? "
   ]
  },
  {
   "cell_type": "code",
   "execution_count": 77,
   "id": "700265a1",
   "metadata": {},
   "outputs": [],
   "source": [
    "time_df = df.copy()"
   ]
  },
  {
   "cell_type": "code",
   "execution_count": 80,
   "id": "64de4d9a",
   "metadata": {},
   "outputs": [
    {
     "data": {
      "text/plain": [
       "dayofweek\n",
       "Monday       254282\n",
       "Sunday       250579\n",
       "Saturday     200957\n",
       "Tuesday      160227\n",
       "Friday       152272\n",
       "Thursday     147285\n",
       "Wednesday    131073\n",
       "Name: count, dtype: int64"
      ]
     },
     "execution_count": 80,
     "metadata": {},
     "output_type": "execute_result"
    }
   ],
   "source": [
    "time_df.dayofweek.value_counts()"
   ]
  },
  {
   "cell_type": "markdown",
   "id": "8aa51567",
   "metadata": {},
   "source": [
    "### Mon, Sun, and Sat are the days with the hightest number of fraudulent transactions"
   ]
  },
  {
   "cell_type": "code",
   "execution_count": 97,
   "id": "768cf8b9",
   "metadata": {},
   "outputs": [
    {
     "data": {
      "text/html": [
       "<div>\n",
       "<style scoped>\n",
       "    .dataframe tbody tr th:only-of-type {\n",
       "        vertical-align: middle;\n",
       "    }\n",
       "\n",
       "    .dataframe tbody tr th {\n",
       "        vertical-align: top;\n",
       "    }\n",
       "\n",
       "    .dataframe thead th {\n",
       "        text-align: right;\n",
       "    }\n",
       "</style>\n",
       "<table border=\"1\" class=\"dataframe\">\n",
       "  <thead>\n",
       "    <tr style=\"text-align: right;\">\n",
       "      <th></th>\n",
       "      <th>dayofweek</th>\n",
       "      <th>count</th>\n",
       "      <th>fraud_percentage</th>\n",
       "    </tr>\n",
       "  </thead>\n",
       "  <tbody>\n",
       "    <tr>\n",
       "      <th>0</th>\n",
       "      <td>Monday</td>\n",
       "      <td>254282</td>\n",
       "      <td>0.004648</td>\n",
       "    </tr>\n",
       "    <tr>\n",
       "      <th>1</th>\n",
       "      <td>Sunday</td>\n",
       "      <td>250579</td>\n",
       "      <td>0.004853</td>\n",
       "    </tr>\n",
       "    <tr>\n",
       "      <th>2</th>\n",
       "      <td>Saturday</td>\n",
       "      <td>200957</td>\n",
       "      <td>0.006106</td>\n",
       "    </tr>\n",
       "    <tr>\n",
       "      <th>3</th>\n",
       "      <td>Tuesday</td>\n",
       "      <td>160227</td>\n",
       "      <td>0.005835</td>\n",
       "    </tr>\n",
       "    <tr>\n",
       "      <th>4</th>\n",
       "      <td>Friday</td>\n",
       "      <td>152272</td>\n",
       "      <td>0.007086</td>\n",
       "    </tr>\n",
       "    <tr>\n",
       "      <th>5</th>\n",
       "      <td>Thursday</td>\n",
       "      <td>147285</td>\n",
       "      <td>0.006844</td>\n",
       "    </tr>\n",
       "    <tr>\n",
       "      <th>6</th>\n",
       "      <td>Wednesday</td>\n",
       "      <td>131073</td>\n",
       "      <td>0.006554</td>\n",
       "    </tr>\n",
       "  </tbody>\n",
       "</table>\n",
       "</div>"
      ],
      "text/plain": [
       "   dayofweek   count  fraud_percentage\n",
       "0     Monday  254282          0.004648\n",
       "1     Sunday  250579          0.004853\n",
       "2   Saturday  200957          0.006106\n",
       "3    Tuesday  160227          0.005835\n",
       "4     Friday  152272          0.007086\n",
       "5   Thursday  147285          0.006844\n",
       "6  Wednesday  131073          0.006554"
      ]
     },
     "execution_count": 97,
     "metadata": {},
     "output_type": "execute_result"
    }
   ],
   "source": [
    "day_viz_df = pd.DataFrame(time_df.dayofweek.value_counts()).merge(pd.DataFrame(time_df.groupby(by='dayofweek').is_fraud.mean().sort_values()),left_index=True,right_index=True).rename(columns={'is_fraud':'fraud_percentage'}).reset_index()\n",
    "day_viz_df"
   ]
  },
  {
   "cell_type": "code",
   "execution_count": 108,
   "id": "ac1b3050",
   "metadata": {},
   "outputs": [],
   "source": [
    "day_viz_df=day_viz_df.drop(columns=['count'])"
   ]
  },
  {
   "cell_type": "code",
   "execution_count": 109,
   "id": "598ab6fc",
   "metadata": {},
   "outputs": [
    {
     "data": {
      "text/plain": [
       "<Axes: xlabel='dayofweek', ylabel='fraud_percentage'>"
      ]
     },
     "execution_count": 109,
     "metadata": {},
     "output_type": "execute_result"
    },
    {
     "data": {
      "image/png": "[encoded data removed]",
      "text/plain": [
       "<Figure size 640x480 with 1 Axes>"
      ]
     },
     "metadata": {},
     "output_type": "display_data"
    }
   ],
   "source": [
    "sns.barplot(data=day_viz_df,x=day_viz_df.dayofweek,y=day_viz_df.fraud_percentage)"
   ]
  },
  {
   "cell_type": "markdown",
   "id": "35edd95d",
   "metadata": {},
   "source": [
    "### However, Fri, Thur and Wed have"
   ]
  },
  {
   "cell_type": "code",
   "execution_count": null,
   "id": "790ddb5d",
   "metadata": {},
   "outputs": [],
   "source": []
  },
  {
   "cell_type": "code",
   "execution_count": null,
   "id": "9dc04d8a",
   "metadata": {},
   "outputs": [],
   "source": []
  },
  {
   "cell_type": "code",
   "execution_count": null,
   "id": "5039d7b4",
   "metadata": {},
   "outputs": [],
   "source": []
  },
  {
   "cell_type": "markdown",
   "id": "a158be15",
   "metadata": {},
   "source": [
    "# Multivariate EDA?"
   ]
  },
  {
   "cell_type": "code",
   "execution_count": null,
   "id": "1609f247",
   "metadata": {},
   "outputs": [],
   "source": [
    "#sns.pairplot(df, hue='gender')"
   ]
  },
  {
   "cell_type": "code",
   "execution_count": 79,
   "id": "ba51b015",
   "metadata": {},
   "outputs": [
    {
     "data": {
      "text/html": [
       "<div>\n",
       "<style scoped>\n",
       "    .dataframe tbody tr th:only-of-type {\n",
       "        vertical-align: middle;\n",
       "    }\n",
       "\n",
       "    .dataframe tbody tr th {\n",
       "        vertical-align: top;\n",
       "    }\n",
       "\n",
       "    .dataframe thead th {\n",
       "        text-align: right;\n",
       "    }\n",
       "</style>\n",
       "<table border=\"1\" class=\"dataframe\">\n",
       "  <thead>\n",
       "    <tr style=\"text-align: right;\">\n",
       "      <th></th>\n",
       "      <th>merchant</th>\n",
       "      <th>category</th>\n",
       "      <th>amt</th>\n",
       "      <th>gender</th>\n",
       "      <th>zip</th>\n",
       "      <th>city_pop</th>\n",
       "      <th>job</th>\n",
       "      <th>merch_lat</th>\n",
       "      <th>merch_long</th>\n",
       "      <th>is_fraud</th>\n",
       "      <th>age</th>\n",
       "      <th>dayofweek</th>\n",
       "      <th>hourofday</th>\n",
       "      <th>age_group</th>\n",
       "    </tr>\n",
       "    <tr>\n",
       "      <th>trans_date_trans_time</th>\n",
       "      <th></th>\n",
       "      <th></th>\n",
       "      <th></th>\n",
       "      <th></th>\n",
       "      <th></th>\n",
       "      <th></th>\n",
       "      <th></th>\n",
       "      <th></th>\n",
       "      <th></th>\n",
       "      <th></th>\n",
       "      <th></th>\n",
       "      <th></th>\n",
       "      <th></th>\n",
       "      <th></th>\n",
       "    </tr>\n",
       "  </thead>\n",
       "  <tbody>\n",
       "    <tr>\n",
       "      <th>2019-01-01 00:00:18</th>\n",
       "      <td>fraud_Rippin, Kub and Mann</td>\n",
       "      <td>misc_net</td>\n",
       "      <td>4.97</td>\n",
       "      <td>F</td>\n",
       "      <td>28654</td>\n",
       "      <td>3495</td>\n",
       "      <td>Psychologist, counselling</td>\n",
       "      <td>36.011293</td>\n",
       "      <td>-82.048315</td>\n",
       "      <td>0</td>\n",
       "      <td>30</td>\n",
       "      <td>Tuesday</td>\n",
       "      <td>0</td>\n",
       "      <td>Young_Adult</td>\n",
       "    </tr>\n",
       "    <tr>\n",
       "      <th>2019-01-01 00:00:44</th>\n",
       "      <td>fraud_Heller, Gutmann and Zieme</td>\n",
       "      <td>grocery_pos</td>\n",
       "      <td>107.23</td>\n",
       "      <td>F</td>\n",
       "      <td>99160</td>\n",
       "      <td>149</td>\n",
       "      <td>Special educational needs teacher</td>\n",
       "      <td>49.159047</td>\n",
       "      <td>-118.186462</td>\n",
       "      <td>0</td>\n",
       "      <td>40</td>\n",
       "      <td>Tuesday</td>\n",
       "      <td>0</td>\n",
       "      <td>Adult</td>\n",
       "    </tr>\n",
       "    <tr>\n",
       "      <th>2019-01-01 00:00:51</th>\n",
       "      <td>fraud_Lind-Buckridge</td>\n",
       "      <td>entertainment</td>\n",
       "      <td>220.11</td>\n",
       "      <td>M</td>\n",
       "      <td>83252</td>\n",
       "      <td>4154</td>\n",
       "      <td>Nature conservation officer</td>\n",
       "      <td>43.150704</td>\n",
       "      <td>-112.154481</td>\n",
       "      <td>0</td>\n",
       "      <td>56</td>\n",
       "      <td>Tuesday</td>\n",
       "      <td>0</td>\n",
       "      <td>Mid_Age</td>\n",
       "    </tr>\n",
       "    <tr>\n",
       "      <th>2019-01-01 00:01:16</th>\n",
       "      <td>fraud_Kutch, Hermiston and Farrell</td>\n",
       "      <td>gas_transport</td>\n",
       "      <td>45.00</td>\n",
       "      <td>M</td>\n",
       "      <td>59632</td>\n",
       "      <td>1939</td>\n",
       "      <td>Patent attorney</td>\n",
       "      <td>47.034331</td>\n",
       "      <td>-112.561071</td>\n",
       "      <td>0</td>\n",
       "      <td>52</td>\n",
       "      <td>Tuesday</td>\n",
       "      <td>0</td>\n",
       "      <td>Early_Mid_Age</td>\n",
       "    </tr>\n",
       "    <tr>\n",
       "      <th>2019-01-01 00:03:06</th>\n",
       "      <td>fraud_Keeling-Crist</td>\n",
       "      <td>misc_pos</td>\n",
       "      <td>41.96</td>\n",
       "      <td>M</td>\n",
       "      <td>24433</td>\n",
       "      <td>99</td>\n",
       "      <td>Dance movement psychotherapist</td>\n",
       "      <td>38.674999</td>\n",
       "      <td>-78.632459</td>\n",
       "      <td>0</td>\n",
       "      <td>32</td>\n",
       "      <td>Tuesday</td>\n",
       "      <td>0</td>\n",
       "      <td>Young_Adult</td>\n",
       "    </tr>\n",
       "  </tbody>\n",
       "</table>\n",
       "</div>"
      ],
      "text/plain": [
       "                                                 merchant       category  \\\n",
       "trans_date_trans_time                                                      \n",
       "2019-01-01 00:00:18            fraud_Rippin, Kub and Mann       misc_net   \n",
       "2019-01-01 00:00:44       fraud_Heller, Gutmann and Zieme    grocery_pos   \n",
       "2019-01-01 00:00:51                  fraud_Lind-Buckridge  entertainment   \n",
       "2019-01-01 00:01:16    fraud_Kutch, Hermiston and Farrell  gas_transport   \n",
       "2019-01-01 00:03:06                   fraud_Keeling-Crist       misc_pos   \n",
       "\n",
       "                          amt gender    zip  city_pop  \\\n",
       "trans_date_trans_time                                   \n",
       "2019-01-01 00:00:18      4.97      F  28654      3495   \n",
       "2019-01-01 00:00:44    107.23      F  99160       149   \n",
       "2019-01-01 00:00:51    220.11      M  83252      4154   \n",
       "2019-01-01 00:01:16     45.00      M  59632      1939   \n",
       "2019-01-01 00:03:06     41.96      M  24433        99   \n",
       "\n",
       "                                                     job  merch_lat  \\\n",
       "trans_date_trans_time                                                 \n",
       "2019-01-01 00:00:18            Psychologist, counselling  36.011293   \n",
       "2019-01-01 00:00:44    Special educational needs teacher  49.159047   \n",
       "2019-01-01 00:00:51          Nature conservation officer  43.150704   \n",
       "2019-01-01 00:01:16                      Patent attorney  47.034331   \n",
       "2019-01-01 00:03:06       Dance movement psychotherapist  38.674999   \n",
       "\n",
       "                       merch_long  is_fraud  age dayofweek  hourofday  \\\n",
       "trans_date_trans_time                                                   \n",
       "2019-01-01 00:00:18    -82.048315         0   30   Tuesday          0   \n",
       "2019-01-01 00:00:44   -118.186462         0   40   Tuesday          0   \n",
       "2019-01-01 00:00:51   -112.154481         0   56   Tuesday          0   \n",
       "2019-01-01 00:01:16   -112.561071         0   52   Tuesday          0   \n",
       "2019-01-01 00:03:06    -78.632459         0   32   Tuesday          0   \n",
       "\n",
       "                           age_group  \n",
       "trans_date_trans_time                 \n",
       "2019-01-01 00:00:18      Young_Adult  \n",
       "2019-01-01 00:00:44            Adult  \n",
       "2019-01-01 00:00:51          Mid_Age  \n",
       "2019-01-01 00:01:16    Early_Mid_Age  \n",
       "2019-01-01 00:03:06      Young_Adult  "
      ]
     },
     "execution_count": 79,
     "metadata": {},
     "output_type": "execute_result"
    }
   ],
   "source": [
    "df.head()"
   ]
  },
  {
   "cell_type": "code",
   "execution_count": null,
   "id": "22743964",
   "metadata": {},
   "outputs": [],
   "source": []
  }
 ],
 "metadata": {
  "kernelspec": {
   "display_name": "Python 3 (ipykernel)",
   "language": "python",
   "name": "python3"
  },
  "language_info": {
   "codemirror_mode": {
    "name": "ipython",
    "version": 3
   },
   "file_extension": ".py",
   "mimetype": "text/x-python",
   "name": "python",
   "nbconvert_exporter": "python",
   "pygments_lexer": "ipython3",
   "version": "3.11.5"
  }
 },
 "nbformat": 4,
 "nbformat_minor": 5
}
