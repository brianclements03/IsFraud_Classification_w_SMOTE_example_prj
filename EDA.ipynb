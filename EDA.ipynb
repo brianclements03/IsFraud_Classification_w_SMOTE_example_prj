{
 "cells": [
  {
   "cell_type": "markdown",
   "id": "7a179dcb",
   "metadata": {},
   "source": [
    "### Imports"
   ]
  },
  {
   "cell_type": "code",
   "execution_count": 1,
   "id": "e2fa1549",
   "metadata": {},
   "outputs": [],
   "source": [
    "import pandas as pd\n",
    "import numpy as np\n",
    "import seaborn as sns\n",
    "from sklearn.model_selection import train_test_split\n",
    "import matplotlib.pyplot as plt\n",
    "import datetime\n",
    "from imblearn.over_sampling import SMOTE\n",
    "from zipfile import ZipFile\n",
    "\n",
    "import wrangle"
   ]
  },
  {
   "cell_type": "markdown",
   "id": "9f10e13c",
   "metadata": {},
   "source": [
    "### Certain configs for visualizations"
   ]
  },
  {
   "cell_type": "code",
   "execution_count": 2,
   "id": "07adb34c",
   "metadata": {},
   "outputs": [
    {
     "name": "stderr",
     "output_type": "stream",
     "text": [
      "/var/folders/h6/xxqcvddd61v8kq3bhvkfyqzw0000gn/T/ipykernel_32248/29349232.py:2: MatplotlibDeprecationWarning: The seaborn styles shipped by Matplotlib are deprecated since 3.6, as they no longer correspond to the styles shipped by seaborn. However, they will remain available as 'seaborn-v0_8-<style>'. Alternatively, directly use the seaborn API instead.\n",
      "  style.use('seaborn-colorblind')\n"
     ]
    }
   ],
   "source": [
    "import matplotlib.style as style\n",
    "style.use('seaborn-colorblind')"
   ]
  },
  {
   "cell_type": "markdown",
   "id": "6908c50e",
   "metadata": {},
   "source": [
    "### Acquire datasets"
   ]
  },
  {
   "cell_type": "code",
   "execution_count": 3,
   "id": "4da2dacc",
   "metadata": {},
   "outputs": [],
   "source": [
    "test, df = wrangle.acquire_fraud('cc_fraud.zip')"
   ]
  },
  {
   "cell_type": "code",
   "execution_count": 4,
   "id": "6a2c5afe",
   "metadata": {},
   "outputs": [
    {
     "data": {
      "text/plain": [
       "((555719, 23), (1296675, 23))"
      ]
     },
     "execution_count": 4,
     "metadata": {},
     "output_type": "execute_result"
    }
   ],
   "source": [
    "test.shape,df.shape"
   ]
  },
  {
   "cell_type": "markdown",
   "id": "247ab6e3",
   "metadata": {},
   "source": [
    "### Clean and Prep"
   ]
  },
  {
   "cell_type": "code",
   "execution_count": 5,
   "id": "717e33cd",
   "metadata": {},
   "outputs": [],
   "source": [
    "df = wrangle.prep(df)\n",
    "test = wrangle.prep(test)"
   ]
  },
  {
   "cell_type": "code",
   "execution_count": 6,
   "id": "78623fb6",
   "metadata": {},
   "outputs": [
    {
     "data": {
      "text/html": [
       "<div>\n",
       "<style scoped>\n",
       "    .dataframe tbody tr th:only-of-type {\n",
       "        vertical-align: middle;\n",
       "    }\n",
       "\n",
       "    .dataframe tbody tr th {\n",
       "        vertical-align: top;\n",
       "    }\n",
       "\n",
       "    .dataframe thead th {\n",
       "        text-align: right;\n",
       "    }\n",
       "</style>\n",
       "<table border=\"1\" class=\"dataframe\">\n",
       "  <thead>\n",
       "    <tr style=\"text-align: right;\">\n",
       "      <th></th>\n",
       "      <th>merchant</th>\n",
       "      <th>category</th>\n",
       "      <th>amt</th>\n",
       "      <th>gender</th>\n",
       "      <th>zip</th>\n",
       "      <th>city_pop</th>\n",
       "      <th>job</th>\n",
       "      <th>merch_lat</th>\n",
       "      <th>merch_long</th>\n",
       "      <th>is_fraud</th>\n",
       "      <th>age</th>\n",
       "      <th>dayofweek</th>\n",
       "      <th>hourofday</th>\n",
       "      <th>age_group</th>\n",
       "    </tr>\n",
       "    <tr>\n",
       "      <th>trans_date_trans_time</th>\n",
       "      <th></th>\n",
       "      <th></th>\n",
       "      <th></th>\n",
       "      <th></th>\n",
       "      <th></th>\n",
       "      <th></th>\n",
       "      <th></th>\n",
       "      <th></th>\n",
       "      <th></th>\n",
       "      <th></th>\n",
       "      <th></th>\n",
       "      <th></th>\n",
       "      <th></th>\n",
       "      <th></th>\n",
       "    </tr>\n",
       "  </thead>\n",
       "  <tbody>\n",
       "    <tr>\n",
       "      <th>2019-01-01 00:00:18</th>\n",
       "      <td>fraud_Rippin, Kub and Mann</td>\n",
       "      <td>misc_net</td>\n",
       "      <td>4.97</td>\n",
       "      <td>F</td>\n",
       "      <td>28654</td>\n",
       "      <td>3495</td>\n",
       "      <td>Psychologist, counselling</td>\n",
       "      <td>36.011293</td>\n",
       "      <td>-82.048315</td>\n",
       "      <td>0</td>\n",
       "      <td>30</td>\n",
       "      <td>Tuesday</td>\n",
       "      <td>0</td>\n",
       "      <td>Young_Adult</td>\n",
       "    </tr>\n",
       "    <tr>\n",
       "      <th>2019-01-01 00:00:44</th>\n",
       "      <td>fraud_Heller, Gutmann and Zieme</td>\n",
       "      <td>grocery_pos</td>\n",
       "      <td>107.23</td>\n",
       "      <td>F</td>\n",
       "      <td>99160</td>\n",
       "      <td>149</td>\n",
       "      <td>Special educational needs teacher</td>\n",
       "      <td>49.159047</td>\n",
       "      <td>-118.186462</td>\n",
       "      <td>0</td>\n",
       "      <td>40</td>\n",
       "      <td>Tuesday</td>\n",
       "      <td>0</td>\n",
       "      <td>Adult</td>\n",
       "    </tr>\n",
       "    <tr>\n",
       "      <th>2019-01-01 00:00:51</th>\n",
       "      <td>fraud_Lind-Buckridge</td>\n",
       "      <td>entertainment</td>\n",
       "      <td>220.11</td>\n",
       "      <td>M</td>\n",
       "      <td>83252</td>\n",
       "      <td>4154</td>\n",
       "      <td>Nature conservation officer</td>\n",
       "      <td>43.150704</td>\n",
       "      <td>-112.154481</td>\n",
       "      <td>0</td>\n",
       "      <td>56</td>\n",
       "      <td>Tuesday</td>\n",
       "      <td>0</td>\n",
       "      <td>Mid_Age</td>\n",
       "    </tr>\n",
       "    <tr>\n",
       "      <th>2019-01-01 00:01:16</th>\n",
       "      <td>fraud_Kutch, Hermiston and Farrell</td>\n",
       "      <td>gas_transport</td>\n",
       "      <td>45.00</td>\n",
       "      <td>M</td>\n",
       "      <td>59632</td>\n",
       "      <td>1939</td>\n",
       "      <td>Patent attorney</td>\n",
       "      <td>47.034331</td>\n",
       "      <td>-112.561071</td>\n",
       "      <td>0</td>\n",
       "      <td>52</td>\n",
       "      <td>Tuesday</td>\n",
       "      <td>0</td>\n",
       "      <td>Early_Mid_Age</td>\n",
       "    </tr>\n",
       "    <tr>\n",
       "      <th>2019-01-01 00:03:06</th>\n",
       "      <td>fraud_Keeling-Crist</td>\n",
       "      <td>misc_pos</td>\n",
       "      <td>41.96</td>\n",
       "      <td>M</td>\n",
       "      <td>24433</td>\n",
       "      <td>99</td>\n",
       "      <td>Dance movement psychotherapist</td>\n",
       "      <td>38.674999</td>\n",
       "      <td>-78.632459</td>\n",
       "      <td>0</td>\n",
       "      <td>32</td>\n",
       "      <td>Tuesday</td>\n",
       "      <td>0</td>\n",
       "      <td>Young_Adult</td>\n",
       "    </tr>\n",
       "  </tbody>\n",
       "</table>\n",
       "</div>"
      ],
      "text/plain": [
       "                                                 merchant       category  \\\n",
       "trans_date_trans_time                                                      \n",
       "2019-01-01 00:00:18            fraud_Rippin, Kub and Mann       misc_net   \n",
       "2019-01-01 00:00:44       fraud_Heller, Gutmann and Zieme    grocery_pos   \n",
       "2019-01-01 00:00:51                  fraud_Lind-Buckridge  entertainment   \n",
       "2019-01-01 00:01:16    fraud_Kutch, Hermiston and Farrell  gas_transport   \n",
       "2019-01-01 00:03:06                   fraud_Keeling-Crist       misc_pos   \n",
       "\n",
       "                          amt gender    zip  city_pop  \\\n",
       "trans_date_trans_time                                   \n",
       "2019-01-01 00:00:18      4.97      F  28654      3495   \n",
       "2019-01-01 00:00:44    107.23      F  99160       149   \n",
       "2019-01-01 00:00:51    220.11      M  83252      4154   \n",
       "2019-01-01 00:01:16     45.00      M  59632      1939   \n",
       "2019-01-01 00:03:06     41.96      M  24433        99   \n",
       "\n",
       "                                                     job  merch_lat  \\\n",
       "trans_date_trans_time                                                 \n",
       "2019-01-01 00:00:18            Psychologist, counselling  36.011293   \n",
       "2019-01-01 00:00:44    Special educational needs teacher  49.159047   \n",
       "2019-01-01 00:00:51          Nature conservation officer  43.150704   \n",
       "2019-01-01 00:01:16                      Patent attorney  47.034331   \n",
       "2019-01-01 00:03:06       Dance movement psychotherapist  38.674999   \n",
       "\n",
       "                       merch_long  is_fraud  age dayofweek  hourofday  \\\n",
       "trans_date_trans_time                                                   \n",
       "2019-01-01 00:00:18    -82.048315         0   30   Tuesday          0   \n",
       "2019-01-01 00:00:44   -118.186462         0   40   Tuesday          0   \n",
       "2019-01-01 00:00:51   -112.154481         0   56   Tuesday          0   \n",
       "2019-01-01 00:01:16   -112.561071         0   52   Tuesday          0   \n",
       "2019-01-01 00:03:06    -78.632459         0   32   Tuesday          0   \n",
       "\n",
       "                           age_group  \n",
       "trans_date_trans_time                 \n",
       "2019-01-01 00:00:18      Young_Adult  \n",
       "2019-01-01 00:00:44            Adult  \n",
       "2019-01-01 00:00:51          Mid_Age  \n",
       "2019-01-01 00:01:16    Early_Mid_Age  \n",
       "2019-01-01 00:03:06      Young_Adult  "
      ]
     },
     "execution_count": 6,
     "metadata": {},
     "output_type": "execute_result"
    }
   ],
   "source": [
    "df.head()"
   ]
  },
  {
   "cell_type": "markdown",
   "id": "26e6661b",
   "metadata": {},
   "source": [
    "### Define target ('is_fraud') versus the rest of the features"
   ]
  },
  {
   "cell_type": "code",
   "execution_count": 7,
   "id": "8bf78cf6",
   "metadata": {},
   "outputs": [
    {
     "name": "stdout",
     "output_type": "stream",
     "text": [
      "is_fraud\n",
      "______\n",
      "['merchant', 'category', 'amt', 'gender', 'zip', 'city_pop', 'job', 'merch_lat', 'merch_long', 'age', 'dayofweek', 'hourofday', 'age_group']\n"
     ]
    }
   ],
   "source": [
    "target,features = wrangle.get_target_and_features(df)\n",
    "print(target)\n",
    "print('______')\n",
    "print(features)"
   ]
  },
  {
   "cell_type": "markdown",
   "id": "3b0396c7",
   "metadata": {},
   "source": [
    "### Split the training data further (into Train and Validate)"
   ]
  },
  {
   "cell_type": "code",
   "execution_count": 8,
   "id": "491c6930",
   "metadata": {},
   "outputs": [],
   "source": [
    "x_train,x_validate,y_train,y_validate = wrangle.train_val(df)"
   ]
  },
  {
   "cell_type": "code",
   "execution_count": 9,
   "id": "195090d9",
   "metadata": {},
   "outputs": [
    {
     "data": {
      "text/html": [
       "<div>\n",
       "<style scoped>\n",
       "    .dataframe tbody tr th:only-of-type {\n",
       "        vertical-align: middle;\n",
       "    }\n",
       "\n",
       "    .dataframe tbody tr th {\n",
       "        vertical-align: top;\n",
       "    }\n",
       "\n",
       "    .dataframe thead th {\n",
       "        text-align: right;\n",
       "    }\n",
       "</style>\n",
       "<table border=\"1\" class=\"dataframe\">\n",
       "  <thead>\n",
       "    <tr style=\"text-align: right;\">\n",
       "      <th></th>\n",
       "      <th>merchant</th>\n",
       "      <th>category</th>\n",
       "      <th>amt</th>\n",
       "      <th>gender</th>\n",
       "      <th>zip</th>\n",
       "      <th>city_pop</th>\n",
       "      <th>job</th>\n",
       "      <th>merch_lat</th>\n",
       "      <th>merch_long</th>\n",
       "      <th>age</th>\n",
       "      <th>dayofweek</th>\n",
       "      <th>hourofday</th>\n",
       "      <th>age_group</th>\n",
       "    </tr>\n",
       "    <tr>\n",
       "      <th>trans_date_trans_time</th>\n",
       "      <th></th>\n",
       "      <th></th>\n",
       "      <th></th>\n",
       "      <th></th>\n",
       "      <th></th>\n",
       "      <th></th>\n",
       "      <th></th>\n",
       "      <th></th>\n",
       "      <th></th>\n",
       "      <th></th>\n",
       "      <th></th>\n",
       "      <th></th>\n",
       "      <th></th>\n",
       "    </tr>\n",
       "  </thead>\n",
       "  <tbody>\n",
       "    <tr>\n",
       "      <th>2019-08-12 21:52:06</th>\n",
       "      <td>fraud_Padberg-Rogahn</td>\n",
       "      <td>entertainment</td>\n",
       "      <td>71.76</td>\n",
       "      <td>M</td>\n",
       "      <td>3601</td>\n",
       "      <td>477</td>\n",
       "      <td>Naval architect</td>\n",
       "      <td>43.200583</td>\n",
       "      <td>-73.195777</td>\n",
       "      <td>31</td>\n",
       "      <td>Monday</td>\n",
       "      <td>21</td>\n",
       "      <td>Young_Adult</td>\n",
       "    </tr>\n",
       "  </tbody>\n",
       "</table>\n",
       "</div>"
      ],
      "text/plain": [
       "                                   merchant       category    amt gender  \\\n",
       "trans_date_trans_time                                                      \n",
       "2019-08-12 21:52:06    fraud_Padberg-Rogahn  entertainment  71.76      M   \n",
       "\n",
       "                        zip  city_pop              job  merch_lat  merch_long  \\\n",
       "trans_date_trans_time                                                           \n",
       "2019-08-12 21:52:06    3601       477  Naval architect  43.200583  -73.195777   \n",
       "\n",
       "                       age dayofweek  hourofday    age_group  \n",
       "trans_date_trans_time                                         \n",
       "2019-08-12 21:52:06     31    Monday         21  Young_Adult  "
      ]
     },
     "execution_count": 9,
     "metadata": {},
     "output_type": "execute_result"
    }
   ],
   "source": [
    "x_train.sample()"
   ]
  },
  {
   "cell_type": "code",
   "execution_count": 10,
   "id": "0702c474",
   "metadata": {},
   "outputs": [
    {
     "data": {
      "text/plain": [
       "trans_date_trans_time\n",
       "2020-04-13 18:37:27    0\n",
       "Name: is_fraud, dtype: int64"
      ]
     },
     "execution_count": 10,
     "metadata": {},
     "output_type": "execute_result"
    }
   ],
   "source": [
    "y_train.sample()"
   ]
  },
  {
   "cell_type": "markdown",
   "id": "d8b14632",
   "metadata": {},
   "source": [
    "### Break the TEST dataset into x and y sets"
   ]
  },
  {
   "cell_type": "code",
   "execution_count": 11,
   "id": "45b2583f",
   "metadata": {},
   "outputs": [],
   "source": [
    "x_test,y_test = wrangle.test_df_x_y_split(test)"
   ]
  },
  {
   "cell_type": "code",
   "execution_count": 12,
   "id": "33aee447",
   "metadata": {},
   "outputs": [
    {
     "data": {
      "text/html": [
       "<div>\n",
       "<style scoped>\n",
       "    .dataframe tbody tr th:only-of-type {\n",
       "        vertical-align: middle;\n",
       "    }\n",
       "\n",
       "    .dataframe tbody tr th {\n",
       "        vertical-align: top;\n",
       "    }\n",
       "\n",
       "    .dataframe thead th {\n",
       "        text-align: right;\n",
       "    }\n",
       "</style>\n",
       "<table border=\"1\" class=\"dataframe\">\n",
       "  <thead>\n",
       "    <tr style=\"text-align: right;\">\n",
       "      <th></th>\n",
       "      <th>merchant</th>\n",
       "      <th>category</th>\n",
       "      <th>amt</th>\n",
       "      <th>gender</th>\n",
       "      <th>zip</th>\n",
       "      <th>city_pop</th>\n",
       "      <th>job</th>\n",
       "      <th>merch_lat</th>\n",
       "      <th>merch_long</th>\n",
       "      <th>age</th>\n",
       "      <th>dayofweek</th>\n",
       "      <th>hourofday</th>\n",
       "      <th>age_group</th>\n",
       "    </tr>\n",
       "    <tr>\n",
       "      <th>trans_date_trans_time</th>\n",
       "      <th></th>\n",
       "      <th></th>\n",
       "      <th></th>\n",
       "      <th></th>\n",
       "      <th></th>\n",
       "      <th></th>\n",
       "      <th></th>\n",
       "      <th></th>\n",
       "      <th></th>\n",
       "      <th></th>\n",
       "      <th></th>\n",
       "      <th></th>\n",
       "      <th></th>\n",
       "    </tr>\n",
       "  </thead>\n",
       "  <tbody>\n",
       "    <tr>\n",
       "      <th>2020-11-15 13:41:22</th>\n",
       "      <td>fraud_Jerde-Hermann</td>\n",
       "      <td>travel</td>\n",
       "      <td>6.5</td>\n",
       "      <td>F</td>\n",
       "      <td>92637</td>\n",
       "      <td>45303</td>\n",
       "      <td>Sales executive</td>\n",
       "      <td>33.283938</td>\n",
       "      <td>-118.436578</td>\n",
       "      <td>50</td>\n",
       "      <td>Sunday</td>\n",
       "      <td>13</td>\n",
       "      <td>Early_Mid_Age</td>\n",
       "    </tr>\n",
       "  </tbody>\n",
       "</table>\n",
       "</div>"
      ],
      "text/plain": [
       "                                  merchant category  amt gender    zip  \\\n",
       "trans_date_trans_time                                                    \n",
       "2020-11-15 13:41:22    fraud_Jerde-Hermann   travel  6.5      F  92637   \n",
       "\n",
       "                       city_pop              job  merch_lat  merch_long  age  \\\n",
       "trans_date_trans_time                                                          \n",
       "2020-11-15 13:41:22       45303  Sales executive  33.283938 -118.436578   50   \n",
       "\n",
       "                      dayofweek  hourofday      age_group  \n",
       "trans_date_trans_time                                      \n",
       "2020-11-15 13:41:22      Sunday         13  Early_Mid_Age  "
      ]
     },
     "execution_count": 12,
     "metadata": {},
     "output_type": "execute_result"
    }
   ],
   "source": [
    "x_test.sample()"
   ]
  },
  {
   "cell_type": "code",
   "execution_count": 13,
   "id": "5ff0c9b6",
   "metadata": {},
   "outputs": [
    {
     "data": {
      "text/plain": [
       "trans_date_trans_time\n",
       "2020-12-31 18:05:52    0\n",
       "Name: is_fraud, dtype: int64"
      ]
     },
     "execution_count": 13,
     "metadata": {},
     "output_type": "execute_result"
    }
   ],
   "source": [
    "y_test.sample()"
   ]
  },
  {
   "cell_type": "markdown",
   "id": "83145b57",
   "metadata": {},
   "source": [
    "# Begin EDA (using the original DF, which includes train and validate data)"
   ]
  },
  {
   "cell_type": "code",
   "execution_count": 14,
   "id": "093b8c3b",
   "metadata": {},
   "outputs": [],
   "source": [
    "# df.isna().sum()\n",
    "# There are NO nulls"
   ]
  },
  {
   "cell_type": "markdown",
   "id": "a654094b",
   "metadata": {},
   "source": [
    "### First of all...CLASS IMBALANCE?"
   ]
  },
  {
   "cell_type": "code",
   "execution_count": 15,
   "id": "515d28fb",
   "metadata": {},
   "outputs": [
    {
     "data": {
      "text/plain": [
       "is_fraud\n",
       "0    1289169\n",
       "1       7506\n",
       "Name: count, dtype: int64"
      ]
     },
     "execution_count": 15,
     "metadata": {},
     "output_type": "execute_result"
    }
   ],
   "source": [
    "df.is_fraud.value_counts()"
   ]
  },
  {
   "cell_type": "code",
   "execution_count": 16,
   "id": "454a53d1",
   "metadata": {},
   "outputs": [
    {
     "data": {
      "image/png": "[encoded data removed]",
      "text/plain": [
       "<Figure size 800x600 with 1 Axes>"
      ]
     },
     "metadata": {},
     "output_type": "display_data"
    }
   ],
   "source": [
    "plt.figure(figsize = (8, 6))\n",
    "ax = sns.countplot(x=df['is_fraud'],color='orange')\n",
    "ax.set_xlabel(xlabel = 'Observations without fraud (O) versus with (1)', fontsize = 12)\n",
    "ax.set_ylabel(ylabel = 'Count of is_fraud', fontsize = 16)\n",
    "ax.set_title(label = 'Class Imbalance: \"is_fraud\" is severly imbalanced', fontsize = 20)\n",
    "\n",
    "plt.show()"
   ]
  },
  {
   "cell_type": "markdown",
   "id": "89d58caa",
   "metadata": {},
   "source": [
    "### Amount?"
   ]
  },
  {
   "cell_type": "code",
   "execution_count": 17,
   "id": "ab9a1084",
   "metadata": {},
   "outputs": [
    {
     "data": {
      "text/html": [
       "<div>\n",
       "<style scoped>\n",
       "    .dataframe tbody tr th:only-of-type {\n",
       "        vertical-align: middle;\n",
       "    }\n",
       "\n",
       "    .dataframe tbody tr th {\n",
       "        vertical-align: top;\n",
       "    }\n",
       "\n",
       "    .dataframe thead th {\n",
       "        text-align: right;\n",
       "    }\n",
       "</style>\n",
       "<table border=\"1\" class=\"dataframe\">\n",
       "  <thead>\n",
       "    <tr style=\"text-align: right;\">\n",
       "      <th></th>\n",
       "      <th>merchant</th>\n",
       "      <th>category</th>\n",
       "      <th>amt</th>\n",
       "      <th>gender</th>\n",
       "      <th>zip</th>\n",
       "      <th>city_pop</th>\n",
       "      <th>job</th>\n",
       "      <th>merch_lat</th>\n",
       "      <th>merch_long</th>\n",
       "      <th>is_fraud</th>\n",
       "      <th>age</th>\n",
       "      <th>dayofweek</th>\n",
       "      <th>hourofday</th>\n",
       "      <th>age_group</th>\n",
       "    </tr>\n",
       "    <tr>\n",
       "      <th>trans_date_trans_time</th>\n",
       "      <th></th>\n",
       "      <th></th>\n",
       "      <th></th>\n",
       "      <th></th>\n",
       "      <th></th>\n",
       "      <th></th>\n",
       "      <th></th>\n",
       "      <th></th>\n",
       "      <th></th>\n",
       "      <th></th>\n",
       "      <th></th>\n",
       "      <th></th>\n",
       "      <th></th>\n",
       "      <th></th>\n",
       "    </tr>\n",
       "  </thead>\n",
       "  <tbody>\n",
       "    <tr>\n",
       "      <th>2020-06-01 14:48:23</th>\n",
       "      <td>fraud_Romaguera, Cruickshank and Greenholt</td>\n",
       "      <td>shopping_net</td>\n",
       "      <td>4.65</td>\n",
       "      <td>F</td>\n",
       "      <td>29911</td>\n",
       "      <td>1725</td>\n",
       "      <td>Social researcher</td>\n",
       "      <td>31.97856</td>\n",
       "      <td>-80.417485</td>\n",
       "      <td>0</td>\n",
       "      <td>45</td>\n",
       "      <td>Monday</td>\n",
       "      <td>14</td>\n",
       "      <td>Early_Mid_Age</td>\n",
       "    </tr>\n",
       "  </tbody>\n",
       "</table>\n",
       "</div>"
      ],
      "text/plain": [
       "                                                         merchant  \\\n",
       "trans_date_trans_time                                               \n",
       "2020-06-01 14:48:23    fraud_Romaguera, Cruickshank and Greenholt   \n",
       "\n",
       "                           category   amt gender    zip  city_pop  \\\n",
       "trans_date_trans_time                                               \n",
       "2020-06-01 14:48:23    shopping_net  4.65      F  29911      1725   \n",
       "\n",
       "                                     job  merch_lat  merch_long  is_fraud  \\\n",
       "trans_date_trans_time                                                       \n",
       "2020-06-01 14:48:23    Social researcher   31.97856  -80.417485         0   \n",
       "\n",
       "                       age dayofweek  hourofday      age_group  \n",
       "trans_date_trans_time                                           \n",
       "2020-06-01 14:48:23     45    Monday         14  Early_Mid_Age  "
      ]
     },
     "execution_count": 17,
     "metadata": {},
     "output_type": "execute_result"
    }
   ],
   "source": [
    "amount_df = df.copy()\n",
    "amount_df.sample()"
   ]
  },
  {
   "cell_type": "code",
   "execution_count": 18,
   "id": "45a6b49b",
   "metadata": {},
   "outputs": [
    {
     "data": {
      "text/plain": [
       "(1.0, 28948.9)"
      ]
     },
     "execution_count": 18,
     "metadata": {},
     "output_type": "execute_result"
    }
   ],
   "source": [
    "amount_df.amt.min(),amount_df.amt.max()"
   ]
  },
  {
   "cell_type": "code",
   "execution_count": 19,
   "id": "cd9865b6",
   "metadata": {},
   "outputs": [
    {
     "data": {
      "image/png": "[encoded data removed]",
      "text/plain": [
       "<Figure size 640x480 with 1 Axes>"
      ]
     },
     "metadata": {},
     "output_type": "display_data"
    }
   ],
   "source": [
    "ax = sns.boxplot(data=amount_df[amount_df['is_fraud']==1],y=amount_df[amount_df['is_fraud']==1].amt,x=amount_df[amount_df['is_fraud']==1].is_fraud,width=.5)\n",
    "ax.set_xlabel(xlabel = 'Average amount of fraudulent transaction', fontsize = 12)\n",
    "ax.set_ylabel(ylabel = 'Amount', fontsize = 16)\n",
    "ax.set_title(label = 'The Average Fraudulent Transaction is ~ $530', fontsize = 20)\n",
    "plt.show()"
   ]
  },
  {
   "cell_type": "code",
   "execution_count": 20,
   "id": "3534fa35",
   "metadata": {},
   "outputs": [
    {
     "data": {
      "text/plain": [
       "(1.06, 1376.04, 531.3200919264589)"
      ]
     },
     "execution_count": 20,
     "metadata": {},
     "output_type": "execute_result"
    }
   ],
   "source": [
    "df[df['is_fraud']==1].amt.min(),df[df['is_fraud']==1].amt.max(),df[df['is_fraud']==1].amt.mean()"
   ]
  },
  {
   "cell_type": "code",
   "execution_count": 21,
   "id": "54f12ee1",
   "metadata": {},
   "outputs": [
    {
     "data": {
      "text/plain": [
       "array([   0,   50,  100,  150,  200,  250,  300,  350,  400,  450,  500,\n",
       "        550,  600,  650,  700,  750,  800,  850,  900,  950, 1000, 1050,\n",
       "       1100, 1150])"
      ]
     },
     "execution_count": 21,
     "metadata": {},
     "output_type": "execute_result"
    }
   ],
   "source": [
    "np.arange(0,1200,50)"
   ]
  },
  {
   "cell_type": "code",
   "execution_count": 22,
   "id": "b4dee721",
   "metadata": {},
   "outputs": [
    {
     "data": {
      "text/html": [
       "<div>\n",
       "<style scoped>\n",
       "    .dataframe tbody tr th:only-of-type {\n",
       "        vertical-align: middle;\n",
       "    }\n",
       "\n",
       "    .dataframe tbody tr th {\n",
       "        vertical-align: top;\n",
       "    }\n",
       "\n",
       "    .dataframe thead th {\n",
       "        text-align: right;\n",
       "    }\n",
       "</style>\n",
       "<table border=\"1\" class=\"dataframe\">\n",
       "  <thead>\n",
       "    <tr style=\"text-align: right;\">\n",
       "      <th></th>\n",
       "      <th>merchant</th>\n",
       "      <th>category</th>\n",
       "      <th>amt</th>\n",
       "      <th>gender</th>\n",
       "      <th>zip</th>\n",
       "      <th>city_pop</th>\n",
       "      <th>job</th>\n",
       "      <th>merch_lat</th>\n",
       "      <th>merch_long</th>\n",
       "      <th>is_fraud</th>\n",
       "      <th>age</th>\n",
       "      <th>dayofweek</th>\n",
       "      <th>hourofday</th>\n",
       "      <th>age_group</th>\n",
       "      <th>amt_bin</th>\n",
       "    </tr>\n",
       "    <tr>\n",
       "      <th>trans_date_trans_time</th>\n",
       "      <th></th>\n",
       "      <th></th>\n",
       "      <th></th>\n",
       "      <th></th>\n",
       "      <th></th>\n",
       "      <th></th>\n",
       "      <th></th>\n",
       "      <th></th>\n",
       "      <th></th>\n",
       "      <th></th>\n",
       "      <th></th>\n",
       "      <th></th>\n",
       "      <th></th>\n",
       "      <th></th>\n",
       "      <th></th>\n",
       "    </tr>\n",
       "  </thead>\n",
       "  <tbody>\n",
       "    <tr>\n",
       "      <th>2020-04-05 20:26:27</th>\n",
       "      <td>fraud_Deckow-Dare</td>\n",
       "      <td>food_dining</td>\n",
       "      <td>48.99</td>\n",
       "      <td>F</td>\n",
       "      <td>64058</td>\n",
       "      <td>123373</td>\n",
       "      <td>Engineer, production</td>\n",
       "      <td>39.212698</td>\n",
       "      <td>-94.760683</td>\n",
       "      <td>0</td>\n",
       "      <td>27</td>\n",
       "      <td>Sunday</td>\n",
       "      <td>20</td>\n",
       "      <td>Young_Adult</td>\n",
       "      <td>[0, 50)</td>\n",
       "    </tr>\n",
       "    <tr>\n",
       "      <th>2020-03-10 13:10:17</th>\n",
       "      <td>fraud_Monahan-Morar</td>\n",
       "      <td>personal_care</td>\n",
       "      <td>3.48</td>\n",
       "      <td>F</td>\n",
       "      <td>25106</td>\n",
       "      <td>642</td>\n",
       "      <td>Building services engineer</td>\n",
       "      <td>39.721017</td>\n",
       "      <td>-82.750481</td>\n",
       "      <td>0</td>\n",
       "      <td>73</td>\n",
       "      <td>Tuesday</td>\n",
       "      <td>13</td>\n",
       "      <td>Retirement_Age</td>\n",
       "      <td>[0, 50)</td>\n",
       "    </tr>\n",
       "  </tbody>\n",
       "</table>\n",
       "</div>"
      ],
      "text/plain": [
       "                                  merchant       category    amt gender  \\\n",
       "trans_date_trans_time                                                     \n",
       "2020-04-05 20:26:27      fraud_Deckow-Dare    food_dining  48.99      F   \n",
       "2020-03-10 13:10:17    fraud_Monahan-Morar  personal_care   3.48      F   \n",
       "\n",
       "                         zip  city_pop                         job  merch_lat  \\\n",
       "trans_date_trans_time                                                           \n",
       "2020-04-05 20:26:27    64058    123373        Engineer, production  39.212698   \n",
       "2020-03-10 13:10:17    25106       642  Building services engineer  39.721017   \n",
       "\n",
       "                       merch_long  is_fraud  age dayofweek  hourofday  \\\n",
       "trans_date_trans_time                                                   \n",
       "2020-04-05 20:26:27    -94.760683         0   27    Sunday         20   \n",
       "2020-03-10 13:10:17    -82.750481         0   73   Tuesday         13   \n",
       "\n",
       "                            age_group  amt_bin  \n",
       "trans_date_trans_time                           \n",
       "2020-04-05 20:26:27       Young_Adult  [0, 50)  \n",
       "2020-03-10 13:10:17    Retirement_Age  [0, 50)  "
      ]
     },
     "execution_count": 22,
     "metadata": {},
     "output_type": "execute_result"
    }
   ],
   "source": [
    "# df['age_group'] = pd.cut(df['age'],[0,25,35,45,55,65,75,100], labels= ['Youth','Young_Adult','Adult','Early_Mid_Age','Mid_Age','Retirement_Age','Older_Person'],right=False)\n",
    "\n",
    "amount_df['amt_bin'] = pd.cut(amount_df['amt'],np.arange(0,1200,50), right = False)\n",
    "amount_df.sample(2)"
   ]
  },
  {
   "cell_type": "code",
   "execution_count": 23,
   "id": "c769cfbc",
   "metadata": {},
   "outputs": [
    {
     "data": {
      "text/plain": [
       "amt_bin\n",
       "[0, 50)         1607\n",
       "[300, 350)       974\n",
       "[250, 300)       701\n",
       "[900, 950)       487\n",
       "[950, 1000)      456\n",
       "[850, 900)       450\n",
       "[750, 800)       411\n",
       "[800, 850)       381\n",
       "[1000, 1050)     364\n",
       "[1050, 1100)     282\n",
       "[700, 750)       252\n",
       "[350, 400)       186\n",
       "[1100, 1150)     165\n",
       "[100, 150)       145\n",
       "[650, 700)       122\n",
       "[200, 250)        94\n",
       "[450, 500)        61\n",
       "[500, 550)        50\n",
       "[600, 650)        45\n",
       "[50, 100)         45\n",
       "[550, 600)        44\n",
       "[400, 450)        40\n",
       "[150, 200)         5\n",
       "Name: count, dtype: int64"
      ]
     },
     "execution_count": 23,
     "metadata": {},
     "output_type": "execute_result"
    }
   ],
   "source": [
    "amount_df[amount_df['is_fraud']==1].amt_bin.value_counts()"
   ]
  },
  {
   "cell_type": "markdown",
   "id": "1d8c29f0",
   "metadata": {},
   "source": [
    "### Could there be a polynomial relationship in the amount bins?"
   ]
  },
  {
   "cell_type": "code",
   "execution_count": 78,
   "id": "c0abfc9e",
   "metadata": {},
   "outputs": [],
   "source": [
    "# amount_df['amt_bin_fraud_ratio'] = \n",
    "# amount_df[amount_df['is_fraud']==1]['amt_bin']\n",
    "\n",
    "down_sample = amount_df.sample(10_000)"
   ]
  },
  {
   "cell_type": "code",
   "execution_count": 89,
   "id": "eeb01407",
   "metadata": {},
   "outputs": [
    {
     "data": {
      "text/html": [
       "<div>\n",
       "<style scoped>\n",
       "    .dataframe tbody tr th:only-of-type {\n",
       "        vertical-align: middle;\n",
       "    }\n",
       "\n",
       "    .dataframe tbody tr th {\n",
       "        vertical-align: top;\n",
       "    }\n",
       "\n",
       "    .dataframe thead th {\n",
       "        text-align: right;\n",
       "    }\n",
       "</style>\n",
       "<table border=\"1\" class=\"dataframe\">\n",
       "  <thead>\n",
       "    <tr style=\"text-align: right;\">\n",
       "      <th></th>\n",
       "      <th>merchant</th>\n",
       "      <th>category</th>\n",
       "      <th>amt</th>\n",
       "      <th>gender</th>\n",
       "      <th>zip</th>\n",
       "      <th>city_pop</th>\n",
       "      <th>job</th>\n",
       "      <th>merch_lat</th>\n",
       "      <th>merch_long</th>\n",
       "      <th>is_fraud</th>\n",
       "      <th>age</th>\n",
       "      <th>dayofweek</th>\n",
       "      <th>hourofday</th>\n",
       "      <th>age_group</th>\n",
       "      <th>amt_bin</th>\n",
       "    </tr>\n",
       "    <tr>\n",
       "      <th>trans_date_trans_time</th>\n",
       "      <th></th>\n",
       "      <th></th>\n",
       "      <th></th>\n",
       "      <th></th>\n",
       "      <th></th>\n",
       "      <th></th>\n",
       "      <th></th>\n",
       "      <th></th>\n",
       "      <th></th>\n",
       "      <th></th>\n",
       "      <th></th>\n",
       "      <th></th>\n",
       "      <th></th>\n",
       "      <th></th>\n",
       "      <th></th>\n",
       "    </tr>\n",
       "  </thead>\n",
       "  <tbody>\n",
       "    <tr>\n",
       "      <th>2019-12-15 16:39:28</th>\n",
       "      <td>fraud_Lynch-Wisozk</td>\n",
       "      <td>home</td>\n",
       "      <td>20.31</td>\n",
       "      <td>M</td>\n",
       "      <td>80138</td>\n",
       "      <td>84861</td>\n",
       "      <td>Materials engineer</td>\n",
       "      <td>39.438077</td>\n",
       "      <td>-104.728213</td>\n",
       "      <td>0</td>\n",
       "      <td>87</td>\n",
       "      <td>Sunday</td>\n",
       "      <td>16</td>\n",
       "      <td>Older_Person</td>\n",
       "      <td>[0, 50)</td>\n",
       "    </tr>\n",
       "  </tbody>\n",
       "</table>\n",
       "</div>"
      ],
      "text/plain": [
       "                                 merchant category    amt gender    zip  \\\n",
       "trans_date_trans_time                                                     \n",
       "2019-12-15 16:39:28    fraud_Lynch-Wisozk     home  20.31      M  80138   \n",
       "\n",
       "                       city_pop                 job  merch_lat  merch_long  \\\n",
       "trans_date_trans_time                                                        \n",
       "2019-12-15 16:39:28       84861  Materials engineer  39.438077 -104.728213   \n",
       "\n",
       "                       is_fraud  age dayofweek  hourofday     age_group  \\\n",
       "trans_date_trans_time                                                     \n",
       "2019-12-15 16:39:28           0   87    Sunday         16  Older_Person   \n",
       "\n",
       "                       amt_bin  \n",
       "trans_date_trans_time           \n",
       "2019-12-15 16:39:28    [0, 50)  "
      ]
     },
     "execution_count": 89,
     "metadata": {},
     "output_type": "execute_result"
    }
   ],
   "source": [
    "down_sample.head(1)"
   ]
  },
  {
   "cell_type": "code",
   "execution_count": 88,
   "id": "45f43310",
   "metadata": {},
   "outputs": [
    {
     "data": {
      "text/html": [
       "<div>\n",
       "<style scoped>\n",
       "    .dataframe tbody tr th:only-of-type {\n",
       "        vertical-align: middle;\n",
       "    }\n",
       "\n",
       "    .dataframe tbody tr th {\n",
       "        vertical-align: top;\n",
       "    }\n",
       "\n",
       "    .dataframe thead th {\n",
       "        text-align: right;\n",
       "    }\n",
       "</style>\n",
       "<table border=\"1\" class=\"dataframe\">\n",
       "  <thead>\n",
       "    <tr style=\"text-align: right;\">\n",
       "      <th>amt_bin</th>\n",
       "      <th>[0, 50)</th>\n",
       "      <th>[50, 100)</th>\n",
       "      <th>[100, 150)</th>\n",
       "      <th>[150, 200)</th>\n",
       "      <th>[200, 250)</th>\n",
       "      <th>[250, 300)</th>\n",
       "      <th>[300, 350)</th>\n",
       "      <th>[350, 400)</th>\n",
       "      <th>[400, 450)</th>\n",
       "      <th>[450, 500)</th>\n",
       "      <th>...</th>\n",
       "      <th>[650, 700)</th>\n",
       "      <th>[700, 750)</th>\n",
       "      <th>[750, 800)</th>\n",
       "      <th>[800, 850)</th>\n",
       "      <th>[850, 900)</th>\n",
       "      <th>[900, 950)</th>\n",
       "      <th>[950, 1000)</th>\n",
       "      <th>[1000, 1050)</th>\n",
       "      <th>[1050, 1100)</th>\n",
       "      <th>[1100, 1150)</th>\n",
       "    </tr>\n",
       "    <tr>\n",
       "      <th>is_fraud</th>\n",
       "      <th></th>\n",
       "      <th></th>\n",
       "      <th></th>\n",
       "      <th></th>\n",
       "      <th></th>\n",
       "      <th></th>\n",
       "      <th></th>\n",
       "      <th></th>\n",
       "      <th></th>\n",
       "      <th></th>\n",
       "      <th></th>\n",
       "      <th></th>\n",
       "      <th></th>\n",
       "      <th></th>\n",
       "      <th></th>\n",
       "      <th></th>\n",
       "      <th></th>\n",
       "      <th></th>\n",
       "      <th></th>\n",
       "      <th></th>\n",
       "      <th></th>\n",
       "    </tr>\n",
       "  </thead>\n",
       "  <tbody>\n",
       "    <tr>\n",
       "      <th>0</th>\n",
       "      <td>5160</td>\n",
       "      <td>2974</td>\n",
       "      <td>990</td>\n",
       "      <td>379</td>\n",
       "      <td>175</td>\n",
       "      <td>55</td>\n",
       "      <td>40</td>\n",
       "      <td>21</td>\n",
       "      <td>21</td>\n",
       "      <td>25</td>\n",
       "      <td>...</td>\n",
       "      <td>6</td>\n",
       "      <td>5</td>\n",
       "      <td>4</td>\n",
       "      <td>1</td>\n",
       "      <td>5</td>\n",
       "      <td>1</td>\n",
       "      <td>4</td>\n",
       "      <td>2</td>\n",
       "      <td>3</td>\n",
       "      <td>0</td>\n",
       "    </tr>\n",
       "    <tr>\n",
       "      <th>1</th>\n",
       "      <td>13</td>\n",
       "      <td>0</td>\n",
       "      <td>3</td>\n",
       "      <td>0</td>\n",
       "      <td>0</td>\n",
       "      <td>5</td>\n",
       "      <td>9</td>\n",
       "      <td>0</td>\n",
       "      <td>0</td>\n",
       "      <td>1</td>\n",
       "      <td>...</td>\n",
       "      <td>1</td>\n",
       "      <td>1</td>\n",
       "      <td>3</td>\n",
       "      <td>2</td>\n",
       "      <td>3</td>\n",
       "      <td>4</td>\n",
       "      <td>6</td>\n",
       "      <td>4</td>\n",
       "      <td>5</td>\n",
       "      <td>4</td>\n",
       "    </tr>\n",
       "  </tbody>\n",
       "</table>\n",
       "<p>2 rows × 23 columns</p>\n",
       "</div>"
      ],
      "text/plain": [
       "amt_bin   [0, 50)  [50, 100)  [100, 150)  [150, 200)  [200, 250)  [250, 300)  \\\n",
       "is_fraud                                                                       \n",
       "0            5160       2974         990         379         175          55   \n",
       "1              13          0           3           0           0           5   \n",
       "\n",
       "amt_bin   [300, 350)  [350, 400)  [400, 450)  [450, 500)  ...  [650, 700)  \\\n",
       "is_fraud                                                  ...               \n",
       "0                 40          21          21          25  ...           6   \n",
       "1                  9           0           0           1  ...           1   \n",
       "\n",
       "amt_bin   [700, 750)  [750, 800)  [800, 850)  [850, 900)  [900, 950)  \\\n",
       "is_fraud                                                               \n",
       "0                  5           4           1           5           1   \n",
       "1                  1           3           2           3           4   \n",
       "\n",
       "amt_bin   [950, 1000)  [1000, 1050)  [1050, 1100)  [1100, 1150)  \n",
       "is_fraud                                                         \n",
       "0                   4             2             3             0  \n",
       "1                   6             4             5             4  \n",
       "\n",
       "[2 rows x 23 columns]"
      ]
     },
     "execution_count": 88,
     "metadata": {},
     "output_type": "execute_result"
    }
   ],
   "source": [
    "# down_sample.amt.groupby([down_sample['amt_bin'],down_sample['is_fraud'],down_sample['amt_bin']]).size().unstack(0)\n",
    "down_sample.groupby([down_sample['amt_bin'],down_sample['is_fraud']]).size().unstack(0)"
   ]
  },
  {
   "cell_type": "code",
   "execution_count": 82,
   "id": "31958ca6",
   "metadata": {},
   "outputs": [],
   "source": [
    "bins_fraud_breakdown = down_sample.groupby([down_sample['amt_bin'],down_sample['is_fraud']]).size().unstack(0)\n",
    "bins_fraud_sum = down_sample.groupby([down_sample['amt_bin'],down_sample['is_fraud']]).size().unstack(0).sum()"
   ]
  },
  {
   "cell_type": "code",
   "execution_count": 95,
   "id": "53819c9b",
   "metadata": {},
   "outputs": [
    {
     "data": {
      "text/html": [
       "<div>\n",
       "<style scoped>\n",
       "    .dataframe tbody tr th:only-of-type {\n",
       "        vertical-align: middle;\n",
       "    }\n",
       "\n",
       "    .dataframe tbody tr th {\n",
       "        vertical-align: top;\n",
       "    }\n",
       "\n",
       "    .dataframe thead th {\n",
       "        text-align: right;\n",
       "    }\n",
       "</style>\n",
       "<table border=\"1\" class=\"dataframe\">\n",
       "  <thead>\n",
       "    <tr style=\"text-align: right;\">\n",
       "      <th>amt_bin</th>\n",
       "      <th>[0, 50)</th>\n",
       "      <th>[50, 100)</th>\n",
       "      <th>[100, 150)</th>\n",
       "      <th>[150, 200)</th>\n",
       "      <th>[200, 250)</th>\n",
       "      <th>[250, 300)</th>\n",
       "      <th>[300, 350)</th>\n",
       "      <th>[350, 400)</th>\n",
       "      <th>[400, 450)</th>\n",
       "      <th>[450, 500)</th>\n",
       "      <th>...</th>\n",
       "      <th>[650, 700)</th>\n",
       "      <th>[700, 750)</th>\n",
       "      <th>[750, 800)</th>\n",
       "      <th>[800, 850)</th>\n",
       "      <th>[850, 900)</th>\n",
       "      <th>[900, 950)</th>\n",
       "      <th>[950, 1000)</th>\n",
       "      <th>[1000, 1050)</th>\n",
       "      <th>[1050, 1100)</th>\n",
       "      <th>[1100, 1150)</th>\n",
       "    </tr>\n",
       "    <tr>\n",
       "      <th>is_fraud</th>\n",
       "      <th></th>\n",
       "      <th></th>\n",
       "      <th></th>\n",
       "      <th></th>\n",
       "      <th></th>\n",
       "      <th></th>\n",
       "      <th></th>\n",
       "      <th></th>\n",
       "      <th></th>\n",
       "      <th></th>\n",
       "      <th></th>\n",
       "      <th></th>\n",
       "      <th></th>\n",
       "      <th></th>\n",
       "      <th></th>\n",
       "      <th></th>\n",
       "      <th></th>\n",
       "      <th></th>\n",
       "      <th></th>\n",
       "      <th></th>\n",
       "      <th></th>\n",
       "    </tr>\n",
       "  </thead>\n",
       "  <tbody>\n",
       "    <tr>\n",
       "      <th>0</th>\n",
       "      <td>0.997487</td>\n",
       "      <td>1.0</td>\n",
       "      <td>0.996979</td>\n",
       "      <td>1.0</td>\n",
       "      <td>1.0</td>\n",
       "      <td>0.916667</td>\n",
       "      <td>0.816327</td>\n",
       "      <td>1.0</td>\n",
       "      <td>1.0</td>\n",
       "      <td>0.961538</td>\n",
       "      <td>...</td>\n",
       "      <td>0.857143</td>\n",
       "      <td>0.833333</td>\n",
       "      <td>0.571429</td>\n",
       "      <td>0.333333</td>\n",
       "      <td>0.625</td>\n",
       "      <td>0.2</td>\n",
       "      <td>0.4</td>\n",
       "      <td>0.333333</td>\n",
       "      <td>0.375</td>\n",
       "      <td>0.0</td>\n",
       "    </tr>\n",
       "    <tr>\n",
       "      <th>1</th>\n",
       "      <td>0.002513</td>\n",
       "      <td>0.0</td>\n",
       "      <td>0.003021</td>\n",
       "      <td>0.0</td>\n",
       "      <td>0.0</td>\n",
       "      <td>0.083333</td>\n",
       "      <td>0.183673</td>\n",
       "      <td>0.0</td>\n",
       "      <td>0.0</td>\n",
       "      <td>0.038462</td>\n",
       "      <td>...</td>\n",
       "      <td>0.142857</td>\n",
       "      <td>0.166667</td>\n",
       "      <td>0.428571</td>\n",
       "      <td>0.666667</td>\n",
       "      <td>0.375</td>\n",
       "      <td>0.8</td>\n",
       "      <td>0.6</td>\n",
       "      <td>0.666667</td>\n",
       "      <td>0.625</td>\n",
       "      <td>1.0</td>\n",
       "    </tr>\n",
       "  </tbody>\n",
       "</table>\n",
       "<p>2 rows × 23 columns</p>\n",
       "</div>"
      ],
      "text/plain": [
       "amt_bin    [0, 50)  [50, 100)  [100, 150)  [150, 200)  [200, 250)  [250, 300)  \\\n",
       "is_fraud                                                                        \n",
       "0         0.997487        1.0    0.996979         1.0         1.0    0.916667   \n",
       "1         0.002513        0.0    0.003021         0.0         0.0    0.083333   \n",
       "\n",
       "amt_bin   [300, 350)  [350, 400)  [400, 450)  [450, 500)  ...  [650, 700)  \\\n",
       "is_fraud                                                  ...               \n",
       "0           0.816327         1.0         1.0    0.961538  ...    0.857143   \n",
       "1           0.183673         0.0         0.0    0.038462  ...    0.142857   \n",
       "\n",
       "amt_bin   [700, 750)  [750, 800)  [800, 850)  [850, 900)  [900, 950)  \\\n",
       "is_fraud                                                               \n",
       "0           0.833333    0.571429    0.333333       0.625         0.2   \n",
       "1           0.166667    0.428571    0.666667       0.375         0.8   \n",
       "\n",
       "amt_bin   [950, 1000)  [1000, 1050)  [1050, 1100)  [1100, 1150)  \n",
       "is_fraud                                                         \n",
       "0                 0.4      0.333333         0.375           0.0  \n",
       "1                 0.6      0.666667         0.625           1.0  \n",
       "\n",
       "[2 rows x 23 columns]"
      ]
     },
     "execution_count": 95,
     "metadata": {},
     "output_type": "execute_result"
    }
   ],
   "source": [
    "percentage_df = bins_fraud_breakdown/bins_fraud_sum\n",
    "percentage_df"
   ]
  },
  {
   "cell_type": "code",
   "execution_count": 97,
   "id": "c3ffd225",
   "metadata": {},
   "outputs": [
    {
     "data": {
      "text/html": [
       "<div>\n",
       "<style scoped>\n",
       "    .dataframe tbody tr th:only-of-type {\n",
       "        vertical-align: middle;\n",
       "    }\n",
       "\n",
       "    .dataframe tbody tr th {\n",
       "        vertical-align: top;\n",
       "    }\n",
       "\n",
       "    .dataframe thead th {\n",
       "        text-align: right;\n",
       "    }\n",
       "</style>\n",
       "<table border=\"1\" class=\"dataframe\">\n",
       "  <thead>\n",
       "    <tr style=\"text-align: right;\">\n",
       "      <th>amt_bin</th>\n",
       "      <th>[0, 50)</th>\n",
       "      <th>[50, 100)</th>\n",
       "      <th>[100, 150)</th>\n",
       "      <th>[150, 200)</th>\n",
       "      <th>[200, 250)</th>\n",
       "      <th>[250, 300)</th>\n",
       "      <th>[300, 350)</th>\n",
       "      <th>[350, 400)</th>\n",
       "      <th>[400, 450)</th>\n",
       "      <th>[450, 500)</th>\n",
       "      <th>...</th>\n",
       "      <th>[650, 700)</th>\n",
       "      <th>[700, 750)</th>\n",
       "      <th>[750, 800)</th>\n",
       "      <th>[800, 850)</th>\n",
       "      <th>[850, 900)</th>\n",
       "      <th>[900, 950)</th>\n",
       "      <th>[950, 1000)</th>\n",
       "      <th>[1000, 1050)</th>\n",
       "      <th>[1050, 1100)</th>\n",
       "      <th>[1100, 1150)</th>\n",
       "    </tr>\n",
       "    <tr>\n",
       "      <th>is_fraud</th>\n",
       "      <th></th>\n",
       "      <th></th>\n",
       "      <th></th>\n",
       "      <th></th>\n",
       "      <th></th>\n",
       "      <th></th>\n",
       "      <th></th>\n",
       "      <th></th>\n",
       "      <th></th>\n",
       "      <th></th>\n",
       "      <th></th>\n",
       "      <th></th>\n",
       "      <th></th>\n",
       "      <th></th>\n",
       "      <th></th>\n",
       "      <th></th>\n",
       "      <th></th>\n",
       "      <th></th>\n",
       "      <th></th>\n",
       "      <th></th>\n",
       "      <th></th>\n",
       "    </tr>\n",
       "  </thead>\n",
       "  <tbody>\n",
       "    <tr>\n",
       "      <th>1</th>\n",
       "      <td>0.002513</td>\n",
       "      <td>0.0</td>\n",
       "      <td>0.003021</td>\n",
       "      <td>0.0</td>\n",
       "      <td>0.0</td>\n",
       "      <td>0.083333</td>\n",
       "      <td>0.183673</td>\n",
       "      <td>0.0</td>\n",
       "      <td>0.0</td>\n",
       "      <td>0.038462</td>\n",
       "      <td>...</td>\n",
       "      <td>0.142857</td>\n",
       "      <td>0.166667</td>\n",
       "      <td>0.428571</td>\n",
       "      <td>0.666667</td>\n",
       "      <td>0.375</td>\n",
       "      <td>0.8</td>\n",
       "      <td>0.6</td>\n",
       "      <td>0.666667</td>\n",
       "      <td>0.625</td>\n",
       "      <td>1.0</td>\n",
       "    </tr>\n",
       "  </tbody>\n",
       "</table>\n",
       "<p>1 rows × 23 columns</p>\n",
       "</div>"
      ],
      "text/plain": [
       "amt_bin    [0, 50)  [50, 100)  [100, 150)  [150, 200)  [200, 250)  [250, 300)  \\\n",
       "is_fraud                                                                        \n",
       "1         0.002513        0.0    0.003021         0.0         0.0    0.083333   \n",
       "\n",
       "amt_bin   [300, 350)  [350, 400)  [400, 450)  [450, 500)  ...  [650, 700)  \\\n",
       "is_fraud                                                  ...               \n",
       "1           0.183673         0.0         0.0    0.038462  ...    0.142857   \n",
       "\n",
       "amt_bin   [700, 750)  [750, 800)  [800, 850)  [850, 900)  [900, 950)  \\\n",
       "is_fraud                                                               \n",
       "1           0.166667    0.428571    0.666667       0.375         0.8   \n",
       "\n",
       "amt_bin   [950, 1000)  [1000, 1050)  [1050, 1100)  [1100, 1150)  \n",
       "is_fraud                                                         \n",
       "1                 0.6      0.666667         0.625           1.0  \n",
       "\n",
       "[1 rows x 23 columns]"
      ]
     },
     "execution_count": 97,
     "metadata": {},
     "output_type": "execute_result"
    }
   ],
   "source": [
    "ratio_fraud = percentage_df[percentage_df.index == 1]\n",
    "ratio_fraud"
   ]
  },
  {
   "cell_type": "code",
   "execution_count": 119,
   "id": "3d793e5d",
   "metadata": {},
   "outputs": [
    {
     "data": {
      "text/html": [
       "<div>\n",
       "<style scoped>\n",
       "    .dataframe tbody tr th:only-of-type {\n",
       "        vertical-align: middle;\n",
       "    }\n",
       "\n",
       "    .dataframe tbody tr th {\n",
       "        vertical-align: top;\n",
       "    }\n",
       "\n",
       "    .dataframe thead th {\n",
       "        text-align: right;\n",
       "    }\n",
       "</style>\n",
       "<table border=\"1\" class=\"dataframe\">\n",
       "  <thead>\n",
       "    <tr style=\"text-align: right;\">\n",
       "      <th></th>\n",
       "      <th>0</th>\n",
       "    </tr>\n",
       "    <tr>\n",
       "      <th>amt_bin</th>\n",
       "      <th></th>\n",
       "    </tr>\n",
       "  </thead>\n",
       "  <tbody>\n",
       "    <tr>\n",
       "      <th>[0, 50)</th>\n",
       "      <td>0.002513</td>\n",
       "    </tr>\n",
       "    <tr>\n",
       "      <th>[50, 100)</th>\n",
       "      <td>0.000000</td>\n",
       "    </tr>\n",
       "    <tr>\n",
       "      <th>[100, 150)</th>\n",
       "      <td>0.003021</td>\n",
       "    </tr>\n",
       "    <tr>\n",
       "      <th>[150, 200)</th>\n",
       "      <td>0.000000</td>\n",
       "    </tr>\n",
       "    <tr>\n",
       "      <th>[200, 250)</th>\n",
       "      <td>0.000000</td>\n",
       "    </tr>\n",
       "    <tr>\n",
       "      <th>[250, 300)</th>\n",
       "      <td>0.083333</td>\n",
       "    </tr>\n",
       "    <tr>\n",
       "      <th>[300, 350)</th>\n",
       "      <td>0.183673</td>\n",
       "    </tr>\n",
       "    <tr>\n",
       "      <th>[350, 400)</th>\n",
       "      <td>0.000000</td>\n",
       "    </tr>\n",
       "    <tr>\n",
       "      <th>[400, 450)</th>\n",
       "      <td>0.000000</td>\n",
       "    </tr>\n",
       "    <tr>\n",
       "      <th>[450, 500)</th>\n",
       "      <td>0.038462</td>\n",
       "    </tr>\n",
       "    <tr>\n",
       "      <th>[500, 550)</th>\n",
       "      <td>0.035714</td>\n",
       "    </tr>\n",
       "    <tr>\n",
       "      <th>[550, 600)</th>\n",
       "      <td>0.062500</td>\n",
       "    </tr>\n",
       "    <tr>\n",
       "      <th>[600, 650)</th>\n",
       "      <td>0.333333</td>\n",
       "    </tr>\n",
       "    <tr>\n",
       "      <th>[650, 700)</th>\n",
       "      <td>0.142857</td>\n",
       "    </tr>\n",
       "    <tr>\n",
       "      <th>[700, 750)</th>\n",
       "      <td>0.166667</td>\n",
       "    </tr>\n",
       "    <tr>\n",
       "      <th>[750, 800)</th>\n",
       "      <td>0.428571</td>\n",
       "    </tr>\n",
       "    <tr>\n",
       "      <th>[800, 850)</th>\n",
       "      <td>0.666667</td>\n",
       "    </tr>\n",
       "    <tr>\n",
       "      <th>[850, 900)</th>\n",
       "      <td>0.375000</td>\n",
       "    </tr>\n",
       "    <tr>\n",
       "      <th>[900, 950)</th>\n",
       "      <td>0.800000</td>\n",
       "    </tr>\n",
       "    <tr>\n",
       "      <th>[950, 1000)</th>\n",
       "      <td>0.600000</td>\n",
       "    </tr>\n",
       "    <tr>\n",
       "      <th>[1000, 1050)</th>\n",
       "      <td>0.666667</td>\n",
       "    </tr>\n",
       "    <tr>\n",
       "      <th>[1050, 1100)</th>\n",
       "      <td>0.625000</td>\n",
       "    </tr>\n",
       "    <tr>\n",
       "      <th>[1100, 1150)</th>\n",
       "      <td>1.000000</td>\n",
       "    </tr>\n",
       "  </tbody>\n",
       "</table>\n",
       "</div>"
      ],
      "text/plain": [
       "                     0\n",
       "amt_bin               \n",
       "[0, 50)       0.002513\n",
       "[50, 100)     0.000000\n",
       "[100, 150)    0.003021\n",
       "[150, 200)    0.000000\n",
       "[200, 250)    0.000000\n",
       "[250, 300)    0.083333\n",
       "[300, 350)    0.183673\n",
       "[350, 400)    0.000000\n",
       "[400, 450)    0.000000\n",
       "[450, 500)    0.038462\n",
       "[500, 550)    0.035714\n",
       "[550, 600)    0.062500\n",
       "[600, 650)    0.333333\n",
       "[650, 700)    0.142857\n",
       "[700, 750)    0.166667\n",
       "[750, 800)    0.428571\n",
       "[800, 850)    0.666667\n",
       "[850, 900)    0.375000\n",
       "[900, 950)    0.800000\n",
       "[950, 1000)   0.600000\n",
       "[1000, 1050)  0.666667\n",
       "[1050, 1100)  0.625000\n",
       "[1100, 1150)  1.000000"
      ]
     },
     "execution_count": 119,
     "metadata": {},
     "output_type": "execute_result"
    }
   ],
   "source": [
    "temp_df = pd.DataFrame(ratio_fraud.unstack(0)).droplevel(1)\n",
    "temp_df"
   ]
  },
  {
   "cell_type": "code",
   "execution_count": 126,
   "id": "62d5de6d",
   "metadata": {},
   "outputs": [],
   "source": [
    "fraud_ratio_per_bin_df = amount_df.merge(temp_df,on=['amt_bin'])"
   ]
  },
  {
   "cell_type": "code",
   "execution_count": 136,
   "id": "f4010750",
   "metadata": {},
   "outputs": [],
   "source": [
    "fraud_ratio_per_bin_df = fraud_ratio_per_bin_df.rename(columns={0:'perc_fraud_in_bin'})"
   ]
  },
  {
   "cell_type": "code",
   "execution_count": 137,
   "id": "0f392c45",
   "metadata": {},
   "outputs": [
    {
     "data": {
      "text/html": [
       "<div>\n",
       "<style scoped>\n",
       "    .dataframe tbody tr th:only-of-type {\n",
       "        vertical-align: middle;\n",
       "    }\n",
       "\n",
       "    .dataframe tbody tr th {\n",
       "        vertical-align: top;\n",
       "    }\n",
       "\n",
       "    .dataframe thead th {\n",
       "        text-align: right;\n",
       "    }\n",
       "</style>\n",
       "<table border=\"1\" class=\"dataframe\">\n",
       "  <thead>\n",
       "    <tr style=\"text-align: right;\">\n",
       "      <th></th>\n",
       "      <th>merchant</th>\n",
       "      <th>category</th>\n",
       "      <th>amt</th>\n",
       "      <th>gender</th>\n",
       "      <th>zip</th>\n",
       "      <th>city_pop</th>\n",
       "      <th>job</th>\n",
       "      <th>merch_lat</th>\n",
       "      <th>merch_long</th>\n",
       "      <th>is_fraud</th>\n",
       "      <th>age</th>\n",
       "      <th>dayofweek</th>\n",
       "      <th>hourofday</th>\n",
       "      <th>age_group</th>\n",
       "      <th>amt_bin</th>\n",
       "      <th>perc_fraud_in_bin</th>\n",
       "    </tr>\n",
       "  </thead>\n",
       "  <tbody>\n",
       "    <tr>\n",
       "      <th>1161186</th>\n",
       "      <td>fraud_O'Hara-Wilderman</td>\n",
       "      <td>food_dining</td>\n",
       "      <td>88.32</td>\n",
       "      <td>F</td>\n",
       "      <td>71291</td>\n",
       "      <td>54185</td>\n",
       "      <td>Radiographer, diagnostic</td>\n",
       "      <td>32.768837</td>\n",
       "      <td>-91.961203</td>\n",
       "      <td>0</td>\n",
       "      <td>27</td>\n",
       "      <td>Monday</td>\n",
       "      <td>13</td>\n",
       "      <td>Young_Adult</td>\n",
       "      <td>[50, 100)</td>\n",
       "      <td>0.0</td>\n",
       "    </tr>\n",
       "  </tbody>\n",
       "</table>\n",
       "</div>"
      ],
      "text/plain": [
       "                       merchant     category    amt gender    zip  city_pop  \\\n",
       "1161186  fraud_O'Hara-Wilderman  food_dining  88.32      F  71291     54185   \n",
       "\n",
       "                              job  merch_lat  merch_long  is_fraud  age  \\\n",
       "1161186  Radiographer, diagnostic  32.768837  -91.961203         0   27   \n",
       "\n",
       "        dayofweek  hourofday    age_group    amt_bin  perc_fraud_in_bin  \n",
       "1161186    Monday         13  Young_Adult  [50, 100)                0.0  "
      ]
     },
     "execution_count": 137,
     "metadata": {},
     "output_type": "execute_result"
    }
   ],
   "source": [
    "fraud_ratio_per_bin_df.sample()"
   ]
  },
  {
   "cell_type": "code",
   "execution_count": 141,
   "id": "02d99c67",
   "metadata": {},
   "outputs": [
    {
     "data": {
      "image/png": "[encoded data removed]",
      "text/plain": [
       "<Figure size 2000x800 with 1 Axes>"
      ]
     },
     "metadata": {},
     "output_type": "display_data"
    }
   ],
   "source": [
    "plt.figure(figsize = (20, 8))\n",
    "ax = sns.boxplot(data=fraud_ratio_per_bin_df,y=fraud_ratio_per_bin_df.perc_fraud_in_bin,x=fraud_ratio_per_bin_df.amt_bin,hue=fraud_ratio_per_bin_df.is_fraud,width=.5)\n",
    "ax.set_xlabel(xlabel = 'Amount Bin', fontsize = 12)\n",
    "ax.set_ylabel(ylabel = '% Fraud in this Bin', fontsize = 16)\n",
    "ax.set_title(label = 'The Amount of the Transaction Affects the Ratio of Fraud', fontsize = 20)\n",
    "plt.setp( ax.xaxis.get_majorticklabels(), rotation=-45, ha=\"left\" )\n",
    "plt.show()"
   ]
  },
  {
   "cell_type": "code",
   "execution_count": 29,
   "id": "651b6c01",
   "metadata": {},
   "outputs": [
    {
     "data": {
      "text/plain": [
       "Index(['merchant', 'category', 'amt', 'gender', 'zip', 'city_pop', 'job',\n",
       "       'merch_lat', 'merch_long', 'is_fraud', 'age', 'dayofweek', 'hourofday',\n",
       "       'age_group'],\n",
       "      dtype='object')"
      ]
     },
     "execution_count": 29,
     "metadata": {},
     "output_type": "execute_result"
    }
   ],
   "source": [
    "df.columns"
   ]
  },
  {
   "cell_type": "code",
   "execution_count": null,
   "id": "d306d38a",
   "metadata": {},
   "outputs": [],
   "source": []
  }
 ],
 "metadata": {
  "kernelspec": {
   "display_name": "Python 3 (ipykernel)",
   "language": "python",
   "name": "python3"
  },
  "language_info": {
   "codemirror_mode": {
    "name": "ipython",
    "version": 3
   },
   "file_extension": ".py",
   "mimetype": "text/x-python",
   "name": "python",
   "nbconvert_exporter": "python",
   "pygments_lexer": "ipython3",
   "version": "3.11.5"
  }
 },
 "nbformat": 4,
 "nbformat_minor": 5
}
