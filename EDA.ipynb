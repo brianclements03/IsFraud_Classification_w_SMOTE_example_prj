{
 "cells": [
  {
   "cell_type": "markdown",
   "id": "7551aa04",
   "metadata": {},
   "source": [
    "### Imports"
   ]
  },
  {
   "cell_type": "code",
   "execution_count": 68,
   "id": "e2fa1549",
   "metadata": {},
   "outputs": [],
   "source": [
    "import pandas as pd\n",
    "import numpy as np\n",
    "import statistics\n",
    "import seaborn as sns\n",
    "from sklearn.model_selection import train_test_split\n",
    "import matplotlib.pyplot as plt\n",
    "import datetime\n",
    "from imblearn.over_sampling import SMOTE\n",
    "from zipfile import ZipFile\n",
    "\n",
    "#Stats Imports\n",
    "from scipy import stats\n",
    "\n",
    "import wrangle"
   ]
  },
  {
   "cell_type": "markdown",
   "id": "598c2fb9",
   "metadata": {},
   "source": [
    "### Certain configs for visualizations"
   ]
  },
  {
   "cell_type": "code",
   "execution_count": 2,
   "id": "3c621901",
   "metadata": {},
   "outputs": [
    {
     "name": "stderr",
     "output_type": "stream",
     "text": [
      "/var/folders/h6/xxqcvddd61v8kq3bhvkfyqzw0000gn/T/ipykernel_34255/29349232.py:2: MatplotlibDeprecationWarning: The seaborn styles shipped by Matplotlib are deprecated since 3.6, as they no longer correspond to the styles shipped by seaborn. However, they will remain available as 'seaborn-v0_8-<style>'. Alternatively, directly use the seaborn API instead.\n",
      "  style.use('seaborn-colorblind')\n"
     ]
    }
   ],
   "source": [
    "import matplotlib.style as style\n",
    "style.use('seaborn-colorblind')"
   ]
  },
  {
   "cell_type": "markdown",
   "id": "ce0ca5ac",
   "metadata": {},
   "source": [
    "### Acquire datasets"
   ]
  },
  {
   "cell_type": "code",
   "execution_count": 3,
   "id": "4da2dacc",
   "metadata": {},
   "outputs": [],
   "source": [
    "test, df = wrangle.acquire_fraud('cc_fraud.zip')"
   ]
  },
  {
   "cell_type": "code",
   "execution_count": 4,
   "id": "6a2c5afe",
   "metadata": {},
   "outputs": [
    {
     "data": {
      "text/plain": [
       "((555719, 23), (1296675, 23))"
      ]
     },
     "execution_count": 4,
     "metadata": {},
     "output_type": "execute_result"
    }
   ],
   "source": [
    "test.shape,df.shape"
   ]
  },
  {
   "cell_type": "markdown",
   "id": "7389b9fc",
   "metadata": {},
   "source": [
    "### Clean and Prep"
   ]
  },
  {
   "cell_type": "code",
   "execution_count": 5,
   "id": "717e33cd",
   "metadata": {},
   "outputs": [],
   "source": [
    "df = wrangle.prep(df)\n",
    "test = wrangle.prep(test)"
   ]
  },
  {
   "cell_type": "code",
   "execution_count": 6,
   "id": "78623fb6",
   "metadata": {},
   "outputs": [
    {
     "data": {
      "text/html": [
       "<div>\n",
       "<style scoped>\n",
       "    .dataframe tbody tr th:only-of-type {\n",
       "        vertical-align: middle;\n",
       "    }\n",
       "\n",
       "    .dataframe tbody tr th {\n",
       "        vertical-align: top;\n",
       "    }\n",
       "\n",
       "    .dataframe thead th {\n",
       "        text-align: right;\n",
       "    }\n",
       "</style>\n",
       "<table border=\"1\" class=\"dataframe\">\n",
       "  <thead>\n",
       "    <tr style=\"text-align: right;\">\n",
       "      <th></th>\n",
       "      <th>merchant</th>\n",
       "      <th>category</th>\n",
       "      <th>amt</th>\n",
       "      <th>gender</th>\n",
       "      <th>zip</th>\n",
       "      <th>city_pop</th>\n",
       "      <th>job</th>\n",
       "      <th>merch_lat</th>\n",
       "      <th>merch_long</th>\n",
       "      <th>is_fraud</th>\n",
       "      <th>age</th>\n",
       "      <th>dayofweek</th>\n",
       "      <th>hourofday</th>\n",
       "      <th>age_group</th>\n",
       "    </tr>\n",
       "    <tr>\n",
       "      <th>trans_date_trans_time</th>\n",
       "      <th></th>\n",
       "      <th></th>\n",
       "      <th></th>\n",
       "      <th></th>\n",
       "      <th></th>\n",
       "      <th></th>\n",
       "      <th></th>\n",
       "      <th></th>\n",
       "      <th></th>\n",
       "      <th></th>\n",
       "      <th></th>\n",
       "      <th></th>\n",
       "      <th></th>\n",
       "      <th></th>\n",
       "    </tr>\n",
       "  </thead>\n",
       "  <tbody>\n",
       "    <tr>\n",
       "      <th>2019-01-01 00:00:18</th>\n",
       "      <td>fraud_Rippin, Kub and Mann</td>\n",
       "      <td>misc_net</td>\n",
       "      <td>4.97</td>\n",
       "      <td>F</td>\n",
       "      <td>28654</td>\n",
       "      <td>3495</td>\n",
       "      <td>Psychologist, counselling</td>\n",
       "      <td>36.011293</td>\n",
       "      <td>-82.048315</td>\n",
       "      <td>0</td>\n",
       "      <td>30</td>\n",
       "      <td>Tuesday</td>\n",
       "      <td>0</td>\n",
       "      <td>Young_Adult</td>\n",
       "    </tr>\n",
       "    <tr>\n",
       "      <th>2019-01-01 00:00:44</th>\n",
       "      <td>fraud_Heller, Gutmann and Zieme</td>\n",
       "      <td>grocery_pos</td>\n",
       "      <td>107.23</td>\n",
       "      <td>F</td>\n",
       "      <td>99160</td>\n",
       "      <td>149</td>\n",
       "      <td>Special educational needs teacher</td>\n",
       "      <td>49.159047</td>\n",
       "      <td>-118.186462</td>\n",
       "      <td>0</td>\n",
       "      <td>40</td>\n",
       "      <td>Tuesday</td>\n",
       "      <td>0</td>\n",
       "      <td>Adult</td>\n",
       "    </tr>\n",
       "    <tr>\n",
       "      <th>2019-01-01 00:00:51</th>\n",
       "      <td>fraud_Lind-Buckridge</td>\n",
       "      <td>entertainment</td>\n",
       "      <td>220.11</td>\n",
       "      <td>M</td>\n",
       "      <td>83252</td>\n",
       "      <td>4154</td>\n",
       "      <td>Nature conservation officer</td>\n",
       "      <td>43.150704</td>\n",
       "      <td>-112.154481</td>\n",
       "      <td>0</td>\n",
       "      <td>56</td>\n",
       "      <td>Tuesday</td>\n",
       "      <td>0</td>\n",
       "      <td>Mid_Age</td>\n",
       "    </tr>\n",
       "    <tr>\n",
       "      <th>2019-01-01 00:01:16</th>\n",
       "      <td>fraud_Kutch, Hermiston and Farrell</td>\n",
       "      <td>gas_transport</td>\n",
       "      <td>45.00</td>\n",
       "      <td>M</td>\n",
       "      <td>59632</td>\n",
       "      <td>1939</td>\n",
       "      <td>Patent attorney</td>\n",
       "      <td>47.034331</td>\n",
       "      <td>-112.561071</td>\n",
       "      <td>0</td>\n",
       "      <td>52</td>\n",
       "      <td>Tuesday</td>\n",
       "      <td>0</td>\n",
       "      <td>Early_Mid_Age</td>\n",
       "    </tr>\n",
       "    <tr>\n",
       "      <th>2019-01-01 00:03:06</th>\n",
       "      <td>fraud_Keeling-Crist</td>\n",
       "      <td>misc_pos</td>\n",
       "      <td>41.96</td>\n",
       "      <td>M</td>\n",
       "      <td>24433</td>\n",
       "      <td>99</td>\n",
       "      <td>Dance movement psychotherapist</td>\n",
       "      <td>38.674999</td>\n",
       "      <td>-78.632459</td>\n",
       "      <td>0</td>\n",
       "      <td>32</td>\n",
       "      <td>Tuesday</td>\n",
       "      <td>0</td>\n",
       "      <td>Young_Adult</td>\n",
       "    </tr>\n",
       "  </tbody>\n",
       "</table>\n",
       "</div>"
      ],
      "text/plain": [
       "                                                 merchant       category  \\\n",
       "trans_date_trans_time                                                      \n",
       "2019-01-01 00:00:18            fraud_Rippin, Kub and Mann       misc_net   \n",
       "2019-01-01 00:00:44       fraud_Heller, Gutmann and Zieme    grocery_pos   \n",
       "2019-01-01 00:00:51                  fraud_Lind-Buckridge  entertainment   \n",
       "2019-01-01 00:01:16    fraud_Kutch, Hermiston and Farrell  gas_transport   \n",
       "2019-01-01 00:03:06                   fraud_Keeling-Crist       misc_pos   \n",
       "\n",
       "                          amt gender    zip  city_pop  \\\n",
       "trans_date_trans_time                                   \n",
       "2019-01-01 00:00:18      4.97      F  28654      3495   \n",
       "2019-01-01 00:00:44    107.23      F  99160       149   \n",
       "2019-01-01 00:00:51    220.11      M  83252      4154   \n",
       "2019-01-01 00:01:16     45.00      M  59632      1939   \n",
       "2019-01-01 00:03:06     41.96      M  24433        99   \n",
       "\n",
       "                                                     job  merch_lat  \\\n",
       "trans_date_trans_time                                                 \n",
       "2019-01-01 00:00:18            Psychologist, counselling  36.011293   \n",
       "2019-01-01 00:00:44    Special educational needs teacher  49.159047   \n",
       "2019-01-01 00:00:51          Nature conservation officer  43.150704   \n",
       "2019-01-01 00:01:16                      Patent attorney  47.034331   \n",
       "2019-01-01 00:03:06       Dance movement psychotherapist  38.674999   \n",
       "\n",
       "                       merch_long  is_fraud  age dayofweek  hourofday  \\\n",
       "trans_date_trans_time                                                   \n",
       "2019-01-01 00:00:18    -82.048315         0   30   Tuesday          0   \n",
       "2019-01-01 00:00:44   -118.186462         0   40   Tuesday          0   \n",
       "2019-01-01 00:00:51   -112.154481         0   56   Tuesday          0   \n",
       "2019-01-01 00:01:16   -112.561071         0   52   Tuesday          0   \n",
       "2019-01-01 00:03:06    -78.632459         0   32   Tuesday          0   \n",
       "\n",
       "                           age_group  \n",
       "trans_date_trans_time                 \n",
       "2019-01-01 00:00:18      Young_Adult  \n",
       "2019-01-01 00:00:44            Adult  \n",
       "2019-01-01 00:00:51          Mid_Age  \n",
       "2019-01-01 00:01:16    Early_Mid_Age  \n",
       "2019-01-01 00:03:06      Young_Adult  "
      ]
     },
     "execution_count": 6,
     "metadata": {},
     "output_type": "execute_result"
    }
   ],
   "source": [
    "df.head()"
   ]
  },
  {
   "cell_type": "markdown",
   "id": "8b4df744",
   "metadata": {},
   "source": [
    "### Define target ('is_fraud') versus the rest of the features"
   ]
  },
  {
   "cell_type": "code",
   "execution_count": 7,
   "id": "f141492f",
   "metadata": {},
   "outputs": [
    {
     "name": "stdout",
     "output_type": "stream",
     "text": [
      "is_fraud\n",
      "______\n",
      "['merchant', 'category', 'amt', 'gender', 'zip', 'city_pop', 'job', 'merch_lat', 'merch_long', 'age', 'dayofweek', 'hourofday', 'age_group']\n"
     ]
    }
   ],
   "source": [
    "target,features = wrangle.get_target_and_features(df)\n",
    "print(target)\n",
    "print('______')\n",
    "print(features)"
   ]
  },
  {
   "cell_type": "markdown",
   "id": "2a289f12",
   "metadata": {},
   "source": [
    "### Split the training data further (into Train and Validate)"
   ]
  },
  {
   "cell_type": "code",
   "execution_count": 8,
   "id": "4dfa55e1",
   "metadata": {},
   "outputs": [],
   "source": [
    "x_train,x_validate,y_train,y_validate = wrangle.train_val(df)"
   ]
  },
  {
   "cell_type": "code",
   "execution_count": 9,
   "id": "72b0ad1f",
   "metadata": {},
   "outputs": [
    {
     "data": {
      "text/html": [
       "<div>\n",
       "<style scoped>\n",
       "    .dataframe tbody tr th:only-of-type {\n",
       "        vertical-align: middle;\n",
       "    }\n",
       "\n",
       "    .dataframe tbody tr th {\n",
       "        vertical-align: top;\n",
       "    }\n",
       "\n",
       "    .dataframe thead th {\n",
       "        text-align: right;\n",
       "    }\n",
       "</style>\n",
       "<table border=\"1\" class=\"dataframe\">\n",
       "  <thead>\n",
       "    <tr style=\"text-align: right;\">\n",
       "      <th></th>\n",
       "      <th>merchant</th>\n",
       "      <th>category</th>\n",
       "      <th>amt</th>\n",
       "      <th>gender</th>\n",
       "      <th>zip</th>\n",
       "      <th>city_pop</th>\n",
       "      <th>job</th>\n",
       "      <th>merch_lat</th>\n",
       "      <th>merch_long</th>\n",
       "      <th>age</th>\n",
       "      <th>dayofweek</th>\n",
       "      <th>hourofday</th>\n",
       "      <th>age_group</th>\n",
       "    </tr>\n",
       "    <tr>\n",
       "      <th>trans_date_trans_time</th>\n",
       "      <th></th>\n",
       "      <th></th>\n",
       "      <th></th>\n",
       "      <th></th>\n",
       "      <th></th>\n",
       "      <th></th>\n",
       "      <th></th>\n",
       "      <th></th>\n",
       "      <th></th>\n",
       "      <th></th>\n",
       "      <th></th>\n",
       "      <th></th>\n",
       "      <th></th>\n",
       "    </tr>\n",
       "  </thead>\n",
       "  <tbody>\n",
       "    <tr>\n",
       "      <th>2019-05-19 02:36:28</th>\n",
       "      <td>fraud_Harris Inc</td>\n",
       "      <td>gas_transport</td>\n",
       "      <td>83.17</td>\n",
       "      <td>M</td>\n",
       "      <td>99033</td>\n",
       "      <td>895</td>\n",
       "      <td>Clothing/textile technologist</td>\n",
       "      <td>48.171668</td>\n",
       "      <td>-116.712809</td>\n",
       "      <td>19</td>\n",
       "      <td>Sunday</td>\n",
       "      <td>2</td>\n",
       "      <td>Youth</td>\n",
       "    </tr>\n",
       "  </tbody>\n",
       "</table>\n",
       "</div>"
      ],
      "text/plain": [
       "                               merchant       category    amt gender    zip  \\\n",
       "trans_date_trans_time                                                         \n",
       "2019-05-19 02:36:28    fraud_Harris Inc  gas_transport  83.17      M  99033   \n",
       "\n",
       "                       city_pop                            job  merch_lat  \\\n",
       "trans_date_trans_time                                                       \n",
       "2019-05-19 02:36:28         895  Clothing/textile technologist  48.171668   \n",
       "\n",
       "                       merch_long  age dayofweek  hourofday age_group  \n",
       "trans_date_trans_time                                                  \n",
       "2019-05-19 02:36:28   -116.712809   19    Sunday          2     Youth  "
      ]
     },
     "execution_count": 9,
     "metadata": {},
     "output_type": "execute_result"
    }
   ],
   "source": [
    "x_train.sample()"
   ]
  },
  {
   "cell_type": "code",
   "execution_count": 10,
   "id": "1c9a866c",
   "metadata": {},
   "outputs": [
    {
     "data": {
      "text/plain": [
       "trans_date_trans_time\n",
       "2019-03-18 21:24:16    0\n",
       "Name: is_fraud, dtype: int64"
      ]
     },
     "execution_count": 10,
     "metadata": {},
     "output_type": "execute_result"
    }
   ],
   "source": [
    "y_train.sample()"
   ]
  },
  {
   "cell_type": "markdown",
   "id": "ff79d4a4",
   "metadata": {},
   "source": [
    "### Break the TEST dataset into x and y sets"
   ]
  },
  {
   "cell_type": "code",
   "execution_count": 11,
   "id": "30ac3de1",
   "metadata": {},
   "outputs": [],
   "source": [
    "x_test,y_test = wrangle.test_df_x_y_split(test)"
   ]
  },
  {
   "cell_type": "code",
   "execution_count": 12,
   "id": "e2a352b7",
   "metadata": {},
   "outputs": [
    {
     "data": {
      "text/html": [
       "<div>\n",
       "<style scoped>\n",
       "    .dataframe tbody tr th:only-of-type {\n",
       "        vertical-align: middle;\n",
       "    }\n",
       "\n",
       "    .dataframe tbody tr th {\n",
       "        vertical-align: top;\n",
       "    }\n",
       "\n",
       "    .dataframe thead th {\n",
       "        text-align: right;\n",
       "    }\n",
       "</style>\n",
       "<table border=\"1\" class=\"dataframe\">\n",
       "  <thead>\n",
       "    <tr style=\"text-align: right;\">\n",
       "      <th></th>\n",
       "      <th>merchant</th>\n",
       "      <th>category</th>\n",
       "      <th>amt</th>\n",
       "      <th>gender</th>\n",
       "      <th>zip</th>\n",
       "      <th>city_pop</th>\n",
       "      <th>job</th>\n",
       "      <th>merch_lat</th>\n",
       "      <th>merch_long</th>\n",
       "      <th>age</th>\n",
       "      <th>dayofweek</th>\n",
       "      <th>hourofday</th>\n",
       "      <th>age_group</th>\n",
       "    </tr>\n",
       "    <tr>\n",
       "      <th>trans_date_trans_time</th>\n",
       "      <th></th>\n",
       "      <th></th>\n",
       "      <th></th>\n",
       "      <th></th>\n",
       "      <th></th>\n",
       "      <th></th>\n",
       "      <th></th>\n",
       "      <th></th>\n",
       "      <th></th>\n",
       "      <th></th>\n",
       "      <th></th>\n",
       "      <th></th>\n",
       "      <th></th>\n",
       "    </tr>\n",
       "  </thead>\n",
       "  <tbody>\n",
       "    <tr>\n",
       "      <th>2020-10-11 16:29:03</th>\n",
       "      <td>fraud_Crooks and Sons</td>\n",
       "      <td>personal_care</td>\n",
       "      <td>80.41</td>\n",
       "      <td>M</td>\n",
       "      <td>45051</td>\n",
       "      <td>177</td>\n",
       "      <td>Exhibition designer</td>\n",
       "      <td>38.10129</td>\n",
       "      <td>-84.601272</td>\n",
       "      <td>46</td>\n",
       "      <td>Sunday</td>\n",
       "      <td>16</td>\n",
       "      <td>Early_Mid_Age</td>\n",
       "    </tr>\n",
       "  </tbody>\n",
       "</table>\n",
       "</div>"
      ],
      "text/plain": [
       "                                    merchant       category    amt gender  \\\n",
       "trans_date_trans_time                                                       \n",
       "2020-10-11 16:29:03    fraud_Crooks and Sons  personal_care  80.41      M   \n",
       "\n",
       "                         zip  city_pop                  job  merch_lat  \\\n",
       "trans_date_trans_time                                                    \n",
       "2020-10-11 16:29:03    45051       177  Exhibition designer   38.10129   \n",
       "\n",
       "                       merch_long  age dayofweek  hourofday      age_group  \n",
       "trans_date_trans_time                                                       \n",
       "2020-10-11 16:29:03    -84.601272   46    Sunday         16  Early_Mid_Age  "
      ]
     },
     "execution_count": 12,
     "metadata": {},
     "output_type": "execute_result"
    }
   ],
   "source": [
    "x_test.sample()"
   ]
  },
  {
   "cell_type": "code",
   "execution_count": 13,
   "id": "0b833c1e",
   "metadata": {},
   "outputs": [
    {
     "data": {
      "text/plain": [
       "trans_date_trans_time\n",
       "2020-08-05 16:57:39    0\n",
       "Name: is_fraud, dtype: int64"
      ]
     },
     "execution_count": 13,
     "metadata": {},
     "output_type": "execute_result"
    }
   ],
   "source": [
    "y_test.sample()"
   ]
  },
  {
   "cell_type": "markdown",
   "id": "735b477f",
   "metadata": {},
   "source": [
    "# Begin EDA (using the original DF, which includes train and validate data)"
   ]
  },
  {
   "cell_type": "code",
   "execution_count": 14,
   "id": "d480a544",
   "metadata": {},
   "outputs": [],
   "source": [
    "# df.isna().sum()\n",
    "# There are NO nulls"
   ]
  },
  {
   "cell_type": "code",
   "execution_count": 63,
   "id": "6d47247d",
   "metadata": {},
   "outputs": [],
   "source": [
    "# df.info()"
   ]
  },
  {
   "cell_type": "markdown",
   "id": "78f4bb7e",
   "metadata": {},
   "source": [
    "### First of all...CLASS IMBALANCE?"
   ]
  },
  {
   "cell_type": "code",
   "execution_count": 15,
   "id": "3a12247a",
   "metadata": {},
   "outputs": [
    {
     "data": {
      "text/plain": [
       "is_fraud\n",
       "0    1289169\n",
       "1       7506\n",
       "Name: count, dtype: int64"
      ]
     },
     "execution_count": 15,
     "metadata": {},
     "output_type": "execute_result"
    }
   ],
   "source": [
    "df.is_fraud.value_counts()"
   ]
  },
  {
   "cell_type": "code",
   "execution_count": 16,
   "id": "23b727c4",
   "metadata": {},
   "outputs": [
    {
     "data": {
      "image/png": "[encoded data removed]",
      "text/plain": [
       "<Figure size 800x600 with 1 Axes>"
      ]
     },
     "metadata": {},
     "output_type": "display_data"
    }
   ],
   "source": [
    "plt.figure(figsize = (8, 6))\n",
    "ax = sns.countplot(x=df['is_fraud'],color='orange')\n",
    "ax.set_xlabel(xlabel = 'Observations without fraud (O) versus with (1)', fontsize = 12)\n",
    "ax.set_ylabel(ylabel = 'Count of is_fraud', fontsize = 16)\n",
    "ax.set_title(label = 'Class Imbalance: \"is_fraud\" is severly imbalanced', fontsize = 20)\n",
    "\n",
    "plt.show()"
   ]
  },
  {
   "cell_type": "markdown",
   "id": "b51d759f",
   "metadata": {},
   "source": [
    "### Amount?"
   ]
  },
  {
   "cell_type": "code",
   "execution_count": 17,
   "id": "bf8f71c3",
   "metadata": {},
   "outputs": [
    {
     "data": {
      "text/html": [
       "<div>\n",
       "<style scoped>\n",
       "    .dataframe tbody tr th:only-of-type {\n",
       "        vertical-align: middle;\n",
       "    }\n",
       "\n",
       "    .dataframe tbody tr th {\n",
       "        vertical-align: top;\n",
       "    }\n",
       "\n",
       "    .dataframe thead th {\n",
       "        text-align: right;\n",
       "    }\n",
       "</style>\n",
       "<table border=\"1\" class=\"dataframe\">\n",
       "  <thead>\n",
       "    <tr style=\"text-align: right;\">\n",
       "      <th></th>\n",
       "      <th>merchant</th>\n",
       "      <th>category</th>\n",
       "      <th>amt</th>\n",
       "      <th>gender</th>\n",
       "      <th>zip</th>\n",
       "      <th>city_pop</th>\n",
       "      <th>job</th>\n",
       "      <th>merch_lat</th>\n",
       "      <th>merch_long</th>\n",
       "      <th>is_fraud</th>\n",
       "      <th>age</th>\n",
       "      <th>dayofweek</th>\n",
       "      <th>hourofday</th>\n",
       "      <th>age_group</th>\n",
       "    </tr>\n",
       "    <tr>\n",
       "      <th>trans_date_trans_time</th>\n",
       "      <th></th>\n",
       "      <th></th>\n",
       "      <th></th>\n",
       "      <th></th>\n",
       "      <th></th>\n",
       "      <th></th>\n",
       "      <th></th>\n",
       "      <th></th>\n",
       "      <th></th>\n",
       "      <th></th>\n",
       "      <th></th>\n",
       "      <th></th>\n",
       "      <th></th>\n",
       "      <th></th>\n",
       "    </tr>\n",
       "  </thead>\n",
       "  <tbody>\n",
       "    <tr>\n",
       "      <th>2019-08-25 02:34:44</th>\n",
       "      <td>fraud_Tillman, Dickinson and Labadie</td>\n",
       "      <td>gas_transport</td>\n",
       "      <td>67.67</td>\n",
       "      <td>M</td>\n",
       "      <td>71762</td>\n",
       "      <td>2501</td>\n",
       "      <td>Financial adviser</td>\n",
       "      <td>32.954163</td>\n",
       "      <td>-93.370561</td>\n",
       "      <td>0</td>\n",
       "      <td>33</td>\n",
       "      <td>Sunday</td>\n",
       "      <td>2</td>\n",
       "      <td>Young_Adult</td>\n",
       "    </tr>\n",
       "  </tbody>\n",
       "</table>\n",
       "</div>"
      ],
      "text/plain": [
       "                                                   merchant       category  \\\n",
       "trans_date_trans_time                                                        \n",
       "2019-08-25 02:34:44    fraud_Tillman, Dickinson and Labadie  gas_transport   \n",
       "\n",
       "                         amt gender    zip  city_pop                job  \\\n",
       "trans_date_trans_time                                                     \n",
       "2019-08-25 02:34:44    67.67      M  71762      2501  Financial adviser   \n",
       "\n",
       "                       merch_lat  merch_long  is_fraud  age dayofweek  \\\n",
       "trans_date_trans_time                                                   \n",
       "2019-08-25 02:34:44    32.954163  -93.370561         0   33    Sunday   \n",
       "\n",
       "                       hourofday    age_group  \n",
       "trans_date_trans_time                          \n",
       "2019-08-25 02:34:44            2  Young_Adult  "
      ]
     },
     "execution_count": 17,
     "metadata": {},
     "output_type": "execute_result"
    }
   ],
   "source": [
    "amount_df = df.copy()\n",
    "amount_df.sample()"
   ]
  },
  {
   "cell_type": "code",
   "execution_count": 18,
   "id": "c6c300b3",
   "metadata": {},
   "outputs": [
    {
     "data": {
      "text/plain": [
       "(1.0, 28948.9)"
      ]
     },
     "execution_count": 18,
     "metadata": {},
     "output_type": "execute_result"
    }
   ],
   "source": [
    "amount_df.amt.min(),amount_df.amt.max()"
   ]
  },
  {
   "cell_type": "code",
   "execution_count": 19,
   "id": "3f887a21",
   "metadata": {},
   "outputs": [
    {
     "data": {
      "image/png": "[encoded data removed]",
      "text/plain": [
       "<Figure size 640x480 with 1 Axes>"
      ]
     },
     "metadata": {},
     "output_type": "display_data"
    }
   ],
   "source": [
    "ax = sns.boxplot(data=amount_df[amount_df['is_fraud']==1],y=amount_df[amount_df['is_fraud']==1].amt,x=amount_df[amount_df['is_fraud']==1].is_fraud,width=.5)\n",
    "ax.set_xlabel(xlabel = 'Average amount of fraudulent transaction', fontsize = 12)\n",
    "ax.set_ylabel(ylabel = 'Amount', fontsize = 16)\n",
    "ax.set_title(label = 'The Average Fraudulent Transaction is ~ $530', fontsize = 20)\n",
    "plt.show()"
   ]
  },
  {
   "cell_type": "code",
   "execution_count": 20,
   "id": "a580c3c2",
   "metadata": {},
   "outputs": [
    {
     "data": {
      "text/plain": [
       "(1.06, 1376.04, 531.3200919264589)"
      ]
     },
     "execution_count": 20,
     "metadata": {},
     "output_type": "execute_result"
    }
   ],
   "source": [
    "df[df['is_fraud']==1].amt.min(),df[df['is_fraud']==1].amt.max(),df[df['is_fraud']==1].amt.mean()"
   ]
  },
  {
   "cell_type": "code",
   "execution_count": 21,
   "id": "0253bbb0",
   "metadata": {},
   "outputs": [
    {
     "data": {
      "text/plain": [
       "array([   0,   50,  100,  150,  200,  250,  300,  350,  400,  450,  500,\n",
       "        550,  600,  650,  700,  750,  800,  850,  900,  950, 1000, 1050,\n",
       "       1100, 1150])"
      ]
     },
     "execution_count": 21,
     "metadata": {},
     "output_type": "execute_result"
    }
   ],
   "source": [
    "np.arange(0,1200,50)"
   ]
  },
  {
   "cell_type": "code",
   "execution_count": 22,
   "id": "d8fa265d",
   "metadata": {},
   "outputs": [],
   "source": [
    "bins = [   0,   50,  100,  150,  200,  250,  300,  350,  400,  450,  500,\n",
    "        550,  600,  650,  700,  750,  800,  850,  900,  950, 1000, 1050,\n",
    "       1100, 1150,35000]"
   ]
  },
  {
   "cell_type": "code",
   "execution_count": 23,
   "id": "3f29d086",
   "metadata": {},
   "outputs": [],
   "source": [
    "labels = ['0_50','50_100','100_150','150_200','200_250','250_300','300_350','350_400','400_450','450_500','500_550','550_600','600_650','650_700','700_750','750_800','800_850','850_900','900_950','950_1000','1000_1050','1050_1100','1100_1150','over_1150']"
   ]
  },
  {
   "cell_type": "code",
   "execution_count": 24,
   "id": "affe3437",
   "metadata": {},
   "outputs": [
    {
     "data": {
      "text/html": [
       "<div>\n",
       "<style scoped>\n",
       "    .dataframe tbody tr th:only-of-type {\n",
       "        vertical-align: middle;\n",
       "    }\n",
       "\n",
       "    .dataframe tbody tr th {\n",
       "        vertical-align: top;\n",
       "    }\n",
       "\n",
       "    .dataframe thead th {\n",
       "        text-align: right;\n",
       "    }\n",
       "</style>\n",
       "<table border=\"1\" class=\"dataframe\">\n",
       "  <thead>\n",
       "    <tr style=\"text-align: right;\">\n",
       "      <th></th>\n",
       "      <th>merchant</th>\n",
       "      <th>category</th>\n",
       "      <th>amt</th>\n",
       "      <th>gender</th>\n",
       "      <th>zip</th>\n",
       "      <th>city_pop</th>\n",
       "      <th>job</th>\n",
       "      <th>merch_lat</th>\n",
       "      <th>merch_long</th>\n",
       "      <th>is_fraud</th>\n",
       "      <th>age</th>\n",
       "      <th>dayofweek</th>\n",
       "      <th>hourofday</th>\n",
       "      <th>age_group</th>\n",
       "      <th>amt_bin</th>\n",
       "    </tr>\n",
       "    <tr>\n",
       "      <th>trans_date_trans_time</th>\n",
       "      <th></th>\n",
       "      <th></th>\n",
       "      <th></th>\n",
       "      <th></th>\n",
       "      <th></th>\n",
       "      <th></th>\n",
       "      <th></th>\n",
       "      <th></th>\n",
       "      <th></th>\n",
       "      <th></th>\n",
       "      <th></th>\n",
       "      <th></th>\n",
       "      <th></th>\n",
       "      <th></th>\n",
       "      <th></th>\n",
       "    </tr>\n",
       "  </thead>\n",
       "  <tbody>\n",
       "    <tr>\n",
       "      <th>2019-08-22 15:47:46</th>\n",
       "      <td>fraud_Bogisich-Weimann</td>\n",
       "      <td>kids_pets</td>\n",
       "      <td>150.13</td>\n",
       "      <td>F</td>\n",
       "      <td>49854</td>\n",
       "      <td>6469</td>\n",
       "      <td>Trade mark attorney</td>\n",
       "      <td>46.594221</td>\n",
       "      <td>-86.887160</td>\n",
       "      <td>0</td>\n",
       "      <td>40</td>\n",
       "      <td>Thursday</td>\n",
       "      <td>15</td>\n",
       "      <td>Adult</td>\n",
       "      <td>150_200</td>\n",
       "    </tr>\n",
       "    <tr>\n",
       "      <th>2020-05-26 21:57:12</th>\n",
       "      <td>fraud_Swaniawski, Lowe and Robel</td>\n",
       "      <td>shopping_pos</td>\n",
       "      <td>426.09</td>\n",
       "      <td>F</td>\n",
       "      <td>10039</td>\n",
       "      <td>1577385</td>\n",
       "      <td>Herbalist</td>\n",
       "      <td>41.481683</td>\n",
       "      <td>-73.086737</td>\n",
       "      <td>0</td>\n",
       "      <td>38</td>\n",
       "      <td>Tuesday</td>\n",
       "      <td>21</td>\n",
       "      <td>Adult</td>\n",
       "      <td>400_450</td>\n",
       "    </tr>\n",
       "  </tbody>\n",
       "</table>\n",
       "</div>"
      ],
      "text/plain": [
       "                                               merchant      category     amt  \\\n",
       "trans_date_trans_time                                                           \n",
       "2019-08-22 15:47:46              fraud_Bogisich-Weimann     kids_pets  150.13   \n",
       "2020-05-26 21:57:12    fraud_Swaniawski, Lowe and Robel  shopping_pos  426.09   \n",
       "\n",
       "                      gender    zip  city_pop                  job  merch_lat  \\\n",
       "trans_date_trans_time                                                           \n",
       "2019-08-22 15:47:46        F  49854      6469  Trade mark attorney  46.594221   \n",
       "2020-05-26 21:57:12        F  10039   1577385            Herbalist  41.481683   \n",
       "\n",
       "                       merch_long  is_fraud  age dayofweek  hourofday  \\\n",
       "trans_date_trans_time                                                   \n",
       "2019-08-22 15:47:46    -86.887160         0   40  Thursday         15   \n",
       "2020-05-26 21:57:12    -73.086737         0   38   Tuesday         21   \n",
       "\n",
       "                      age_group  amt_bin  \n",
       "trans_date_trans_time                     \n",
       "2019-08-22 15:47:46       Adult  150_200  \n",
       "2020-05-26 21:57:12       Adult  400_450  "
      ]
     },
     "execution_count": 24,
     "metadata": {},
     "output_type": "execute_result"
    }
   ],
   "source": [
    "# df['age_group'] = pd.cut(df['age'],[0,25,35,45,55,65,75,100], labels= ['Youth','Young_Adult','Adult','Early_Mid_Age','Mid_Age','Retirement_Age','Older_Person'],right=False)\n",
    "\n",
    "amount_df['amt_bin'] = pd.cut(amount_df['amt'],bins=bins,labels=labels, right = False)\n",
    "amount_df.sample(2)"
   ]
  },
  {
   "cell_type": "code",
   "execution_count": 25,
   "id": "d97edbb4",
   "metadata": {},
   "outputs": [
    {
     "data": {
      "text/plain": [
       "amt_bin\n",
       "0_50         1607\n",
       "300_350       974\n",
       "250_300       701\n",
       "900_950       487\n",
       "950_1000      456\n",
       "850_900       450\n",
       "750_800       411\n",
       "800_850       381\n",
       "1000_1050     364\n",
       "1050_1100     282\n",
       "700_750       252\n",
       "350_400       186\n",
       "1100_1150     165\n",
       "100_150       145\n",
       "over_1150     139\n",
       "650_700       122\n",
       "200_250        94\n",
       "450_500        61\n",
       "500_550        50\n",
       "50_100         45\n",
       "600_650        45\n",
       "550_600        44\n",
       "400_450        40\n",
       "150_200         5\n",
       "Name: count, dtype: int64"
      ]
     },
     "execution_count": 25,
     "metadata": {},
     "output_type": "execute_result"
    }
   ],
   "source": [
    "amount_df[amount_df['is_fraud']==1].amt_bin.value_counts()"
   ]
  },
  {
   "cell_type": "markdown",
   "id": "d541b041",
   "metadata": {},
   "source": [
    "### Could there be a polynomial relationship in the amount bins?"
   ]
  },
  {
   "cell_type": "code",
   "execution_count": 26,
   "id": "b12837f8",
   "metadata": {},
   "outputs": [],
   "source": [
    "# amount_df['amt_bin_fraud_ratio'] = \n",
    "# amount_df[amount_df['is_fraud']==1]['amt_bin']\n",
    "\n",
    "# down_sample = amount_df.sample(10_000)"
   ]
  },
  {
   "cell_type": "code",
   "execution_count": 27,
   "id": "d573c8f0",
   "metadata": {},
   "outputs": [],
   "source": [
    "# down_sample.head(1)"
   ]
  },
  {
   "cell_type": "code",
   "execution_count": 28,
   "id": "3d48b988",
   "metadata": {},
   "outputs": [
    {
     "data": {
      "text/html": [
       "<div>\n",
       "<style scoped>\n",
       "    .dataframe tbody tr th:only-of-type {\n",
       "        vertical-align: middle;\n",
       "    }\n",
       "\n",
       "    .dataframe tbody tr th {\n",
       "        vertical-align: top;\n",
       "    }\n",
       "\n",
       "    .dataframe thead th {\n",
       "        text-align: right;\n",
       "    }\n",
       "</style>\n",
       "<table border=\"1\" class=\"dataframe\">\n",
       "  <thead>\n",
       "    <tr style=\"text-align: right;\">\n",
       "      <th>amt_bin</th>\n",
       "      <th>0_50</th>\n",
       "      <th>50_100</th>\n",
       "      <th>100_150</th>\n",
       "      <th>150_200</th>\n",
       "      <th>200_250</th>\n",
       "      <th>250_300</th>\n",
       "      <th>300_350</th>\n",
       "      <th>350_400</th>\n",
       "      <th>400_450</th>\n",
       "      <th>450_500</th>\n",
       "      <th>...</th>\n",
       "      <th>700_750</th>\n",
       "      <th>750_800</th>\n",
       "      <th>800_850</th>\n",
       "      <th>850_900</th>\n",
       "      <th>900_950</th>\n",
       "      <th>950_1000</th>\n",
       "      <th>1000_1050</th>\n",
       "      <th>1050_1100</th>\n",
       "      <th>1100_1150</th>\n",
       "      <th>over_1150</th>\n",
       "    </tr>\n",
       "    <tr>\n",
       "      <th>is_fraud</th>\n",
       "      <th></th>\n",
       "      <th></th>\n",
       "      <th></th>\n",
       "      <th></th>\n",
       "      <th></th>\n",
       "      <th></th>\n",
       "      <th></th>\n",
       "      <th></th>\n",
       "      <th></th>\n",
       "      <th></th>\n",
       "      <th></th>\n",
       "      <th></th>\n",
       "      <th></th>\n",
       "      <th></th>\n",
       "      <th></th>\n",
       "      <th></th>\n",
       "      <th></th>\n",
       "      <th></th>\n",
       "      <th></th>\n",
       "      <th></th>\n",
       "      <th></th>\n",
       "    </tr>\n",
       "  </thead>\n",
       "  <tbody>\n",
       "    <tr>\n",
       "      <th>0</th>\n",
       "      <td>670607</td>\n",
       "      <td>389469</td>\n",
       "      <td>127584</td>\n",
       "      <td>45283</td>\n",
       "      <td>23377</td>\n",
       "      <td>7459</td>\n",
       "      <td>4346</td>\n",
       "      <td>3094</td>\n",
       "      <td>2670</td>\n",
       "      <td>3297</td>\n",
       "      <td>...</td>\n",
       "      <td>662</td>\n",
       "      <td>585</td>\n",
       "      <td>450</td>\n",
       "      <td>398</td>\n",
       "      <td>363</td>\n",
       "      <td>296</td>\n",
       "      <td>253</td>\n",
       "      <td>234</td>\n",
       "      <td>210</td>\n",
       "      <td>2290</td>\n",
       "    </tr>\n",
       "    <tr>\n",
       "      <th>1</th>\n",
       "      <td>1607</td>\n",
       "      <td>45</td>\n",
       "      <td>145</td>\n",
       "      <td>5</td>\n",
       "      <td>94</td>\n",
       "      <td>701</td>\n",
       "      <td>974</td>\n",
       "      <td>186</td>\n",
       "      <td>40</td>\n",
       "      <td>61</td>\n",
       "      <td>...</td>\n",
       "      <td>252</td>\n",
       "      <td>411</td>\n",
       "      <td>381</td>\n",
       "      <td>450</td>\n",
       "      <td>487</td>\n",
       "      <td>456</td>\n",
       "      <td>364</td>\n",
       "      <td>282</td>\n",
       "      <td>165</td>\n",
       "      <td>139</td>\n",
       "    </tr>\n",
       "  </tbody>\n",
       "</table>\n",
       "<p>2 rows × 24 columns</p>\n",
       "</div>"
      ],
      "text/plain": [
       "amt_bin     0_50  50_100  100_150  150_200  200_250  250_300  300_350  \\\n",
       "is_fraud                                                                \n",
       "0         670607  389469   127584    45283    23377     7459     4346   \n",
       "1           1607      45      145        5       94      701      974   \n",
       "\n",
       "amt_bin   350_400  400_450  450_500  ...  700_750  750_800  800_850  850_900  \\\n",
       "is_fraud                             ...                                       \n",
       "0            3094     2670     3297  ...      662      585      450      398   \n",
       "1             186       40       61  ...      252      411      381      450   \n",
       "\n",
       "amt_bin   900_950  950_1000  1000_1050  1050_1100  1100_1150  over_1150  \n",
       "is_fraud                                                                 \n",
       "0             363       296        253        234        210       2290  \n",
       "1             487       456        364        282        165        139  \n",
       "\n",
       "[2 rows x 24 columns]"
      ]
     },
     "execution_count": 28,
     "metadata": {},
     "output_type": "execute_result"
    }
   ],
   "source": [
    "# down_sample.amt.groupby([down_sample['amt_bin'],down_sample['is_fraud'],down_sample['amt_bin']]).size().unstack(0)\n",
    "# down_sample.groupby([down_sample['amt_bin'],down_sample['is_fraud']]).size().unstack(0)\n",
    "amount_df.groupby([amount_df['amt_bin'],amount_df['is_fraud']]).size().unstack(0)"
   ]
  },
  {
   "cell_type": "code",
   "execution_count": 29,
   "id": "cfbdbed1",
   "metadata": {},
   "outputs": [],
   "source": [
    "# bins_fraud_breakdown = down_sample.groupby([down_sample['amt_bin'],down_sample['is_fraud']]).size().unstack(0)\n",
    "# bins_fraud_sum = down_sample.groupby([down_sample['amt_bin'],down_sample['is_fraud']]).size().unstack(0).sum()\n",
    "bins_fraud_breakdown = amount_df.groupby([amount_df['amt_bin'],amount_df['is_fraud']]).size().unstack(0)\n",
    "bins_fraud_sum = amount_df.groupby([amount_df['amt_bin'],amount_df['is_fraud']]).size().unstack(0).sum()"
   ]
  },
  {
   "cell_type": "code",
   "execution_count": 30,
   "id": "b662a848",
   "metadata": {},
   "outputs": [
    {
     "data": {
      "text/html": [
       "<div>\n",
       "<style scoped>\n",
       "    .dataframe tbody tr th:only-of-type {\n",
       "        vertical-align: middle;\n",
       "    }\n",
       "\n",
       "    .dataframe tbody tr th {\n",
       "        vertical-align: top;\n",
       "    }\n",
       "\n",
       "    .dataframe thead th {\n",
       "        text-align: right;\n",
       "    }\n",
       "</style>\n",
       "<table border=\"1\" class=\"dataframe\">\n",
       "  <thead>\n",
       "    <tr style=\"text-align: right;\">\n",
       "      <th>amt_bin</th>\n",
       "      <th>0_50</th>\n",
       "      <th>50_100</th>\n",
       "      <th>100_150</th>\n",
       "      <th>150_200</th>\n",
       "      <th>200_250</th>\n",
       "      <th>250_300</th>\n",
       "      <th>300_350</th>\n",
       "      <th>350_400</th>\n",
       "      <th>400_450</th>\n",
       "      <th>450_500</th>\n",
       "      <th>...</th>\n",
       "      <th>700_750</th>\n",
       "      <th>750_800</th>\n",
       "      <th>800_850</th>\n",
       "      <th>850_900</th>\n",
       "      <th>900_950</th>\n",
       "      <th>950_1000</th>\n",
       "      <th>1000_1050</th>\n",
       "      <th>1050_1100</th>\n",
       "      <th>1100_1150</th>\n",
       "      <th>over_1150</th>\n",
       "    </tr>\n",
       "    <tr>\n",
       "      <th>is_fraud</th>\n",
       "      <th></th>\n",
       "      <th></th>\n",
       "      <th></th>\n",
       "      <th></th>\n",
       "      <th></th>\n",
       "      <th></th>\n",
       "      <th></th>\n",
       "      <th></th>\n",
       "      <th></th>\n",
       "      <th></th>\n",
       "      <th></th>\n",
       "      <th></th>\n",
       "      <th></th>\n",
       "      <th></th>\n",
       "      <th></th>\n",
       "      <th></th>\n",
       "      <th></th>\n",
       "      <th></th>\n",
       "      <th></th>\n",
       "      <th></th>\n",
       "      <th></th>\n",
       "    </tr>\n",
       "  </thead>\n",
       "  <tbody>\n",
       "    <tr>\n",
       "      <th>0</th>\n",
       "      <td>0.997609</td>\n",
       "      <td>0.999884</td>\n",
       "      <td>0.998865</td>\n",
       "      <td>0.99989</td>\n",
       "      <td>0.995995</td>\n",
       "      <td>0.914093</td>\n",
       "      <td>0.816917</td>\n",
       "      <td>0.943293</td>\n",
       "      <td>0.98524</td>\n",
       "      <td>0.981834</td>\n",
       "      <td>...</td>\n",
       "      <td>0.724289</td>\n",
       "      <td>0.587349</td>\n",
       "      <td>0.541516</td>\n",
       "      <td>0.46934</td>\n",
       "      <td>0.427059</td>\n",
       "      <td>0.393617</td>\n",
       "      <td>0.410049</td>\n",
       "      <td>0.453488</td>\n",
       "      <td>0.56</td>\n",
       "      <td>0.942775</td>\n",
       "    </tr>\n",
       "    <tr>\n",
       "      <th>1</th>\n",
       "      <td>0.002391</td>\n",
       "      <td>0.000116</td>\n",
       "      <td>0.001135</td>\n",
       "      <td>0.00011</td>\n",
       "      <td>0.004005</td>\n",
       "      <td>0.085907</td>\n",
       "      <td>0.183083</td>\n",
       "      <td>0.056707</td>\n",
       "      <td>0.01476</td>\n",
       "      <td>0.018166</td>\n",
       "      <td>...</td>\n",
       "      <td>0.275711</td>\n",
       "      <td>0.412651</td>\n",
       "      <td>0.458484</td>\n",
       "      <td>0.53066</td>\n",
       "      <td>0.572941</td>\n",
       "      <td>0.606383</td>\n",
       "      <td>0.589951</td>\n",
       "      <td>0.546512</td>\n",
       "      <td>0.44</td>\n",
       "      <td>0.057225</td>\n",
       "    </tr>\n",
       "  </tbody>\n",
       "</table>\n",
       "<p>2 rows × 24 columns</p>\n",
       "</div>"
      ],
      "text/plain": [
       "amt_bin       0_50    50_100   100_150  150_200   200_250   250_300   300_350  \\\n",
       "is_fraud                                                                        \n",
       "0         0.997609  0.999884  0.998865  0.99989  0.995995  0.914093  0.816917   \n",
       "1         0.002391  0.000116  0.001135  0.00011  0.004005  0.085907  0.183083   \n",
       "\n",
       "amt_bin    350_400  400_450   450_500  ...   700_750   750_800   800_850  \\\n",
       "is_fraud                               ...                                 \n",
       "0         0.943293  0.98524  0.981834  ...  0.724289  0.587349  0.541516   \n",
       "1         0.056707  0.01476  0.018166  ...  0.275711  0.412651  0.458484   \n",
       "\n",
       "amt_bin   850_900   900_950  950_1000  1000_1050  1050_1100  1100_1150  \\\n",
       "is_fraud                                                                 \n",
       "0         0.46934  0.427059  0.393617   0.410049   0.453488       0.56   \n",
       "1         0.53066  0.572941  0.606383   0.589951   0.546512       0.44   \n",
       "\n",
       "amt_bin   over_1150  \n",
       "is_fraud             \n",
       "0          0.942775  \n",
       "1          0.057225  \n",
       "\n",
       "[2 rows x 24 columns]"
      ]
     },
     "execution_count": 30,
     "metadata": {},
     "output_type": "execute_result"
    }
   ],
   "source": [
    "percentage_df = bins_fraud_breakdown/bins_fraud_sum\n",
    "percentage_df"
   ]
  },
  {
   "cell_type": "code",
   "execution_count": 31,
   "id": "9c4d9b6b",
   "metadata": {},
   "outputs": [
    {
     "data": {
      "text/html": [
       "<div>\n",
       "<style scoped>\n",
       "    .dataframe tbody tr th:only-of-type {\n",
       "        vertical-align: middle;\n",
       "    }\n",
       "\n",
       "    .dataframe tbody tr th {\n",
       "        vertical-align: top;\n",
       "    }\n",
       "\n",
       "    .dataframe thead th {\n",
       "        text-align: right;\n",
       "    }\n",
       "</style>\n",
       "<table border=\"1\" class=\"dataframe\">\n",
       "  <thead>\n",
       "    <tr style=\"text-align: right;\">\n",
       "      <th>amt_bin</th>\n",
       "      <th>0_50</th>\n",
       "      <th>50_100</th>\n",
       "      <th>100_150</th>\n",
       "      <th>150_200</th>\n",
       "      <th>200_250</th>\n",
       "      <th>250_300</th>\n",
       "      <th>300_350</th>\n",
       "      <th>350_400</th>\n",
       "      <th>400_450</th>\n",
       "      <th>450_500</th>\n",
       "      <th>...</th>\n",
       "      <th>700_750</th>\n",
       "      <th>750_800</th>\n",
       "      <th>800_850</th>\n",
       "      <th>850_900</th>\n",
       "      <th>900_950</th>\n",
       "      <th>950_1000</th>\n",
       "      <th>1000_1050</th>\n",
       "      <th>1050_1100</th>\n",
       "      <th>1100_1150</th>\n",
       "      <th>over_1150</th>\n",
       "    </tr>\n",
       "    <tr>\n",
       "      <th>is_fraud</th>\n",
       "      <th></th>\n",
       "      <th></th>\n",
       "      <th></th>\n",
       "      <th></th>\n",
       "      <th></th>\n",
       "      <th></th>\n",
       "      <th></th>\n",
       "      <th></th>\n",
       "      <th></th>\n",
       "      <th></th>\n",
       "      <th></th>\n",
       "      <th></th>\n",
       "      <th></th>\n",
       "      <th></th>\n",
       "      <th></th>\n",
       "      <th></th>\n",
       "      <th></th>\n",
       "      <th></th>\n",
       "      <th></th>\n",
       "      <th></th>\n",
       "      <th></th>\n",
       "    </tr>\n",
       "  </thead>\n",
       "  <tbody>\n",
       "    <tr>\n",
       "      <th>1</th>\n",
       "      <td>0.002391</td>\n",
       "      <td>0.000116</td>\n",
       "      <td>0.001135</td>\n",
       "      <td>0.00011</td>\n",
       "      <td>0.004005</td>\n",
       "      <td>0.085907</td>\n",
       "      <td>0.183083</td>\n",
       "      <td>0.056707</td>\n",
       "      <td>0.01476</td>\n",
       "      <td>0.018166</td>\n",
       "      <td>...</td>\n",
       "      <td>0.275711</td>\n",
       "      <td>0.412651</td>\n",
       "      <td>0.458484</td>\n",
       "      <td>0.53066</td>\n",
       "      <td>0.572941</td>\n",
       "      <td>0.606383</td>\n",
       "      <td>0.589951</td>\n",
       "      <td>0.546512</td>\n",
       "      <td>0.44</td>\n",
       "      <td>0.057225</td>\n",
       "    </tr>\n",
       "  </tbody>\n",
       "</table>\n",
       "<p>1 rows × 24 columns</p>\n",
       "</div>"
      ],
      "text/plain": [
       "amt_bin       0_50    50_100   100_150  150_200   200_250   250_300   300_350  \\\n",
       "is_fraud                                                                        \n",
       "1         0.002391  0.000116  0.001135  0.00011  0.004005  0.085907  0.183083   \n",
       "\n",
       "amt_bin    350_400  400_450   450_500  ...   700_750   750_800   800_850  \\\n",
       "is_fraud                               ...                                 \n",
       "1         0.056707  0.01476  0.018166  ...  0.275711  0.412651  0.458484   \n",
       "\n",
       "amt_bin   850_900   900_950  950_1000  1000_1050  1050_1100  1100_1150  \\\n",
       "is_fraud                                                                 \n",
       "1         0.53066  0.572941  0.606383   0.589951   0.546512       0.44   \n",
       "\n",
       "amt_bin   over_1150  \n",
       "is_fraud             \n",
       "1          0.057225  \n",
       "\n",
       "[1 rows x 24 columns]"
      ]
     },
     "execution_count": 31,
     "metadata": {},
     "output_type": "execute_result"
    }
   ],
   "source": [
    "ratio_fraud = percentage_df[percentage_df.index == 1]\n",
    "ratio_fraud"
   ]
  },
  {
   "cell_type": "code",
   "execution_count": 32,
   "id": "ad48457c",
   "metadata": {},
   "outputs": [],
   "source": [
    "temp_df = pd.DataFrame(ratio_fraud.unstack(0)).droplevel(1)\n",
    "# temp_df"
   ]
  },
  {
   "cell_type": "code",
   "execution_count": 33,
   "id": "3d422c0c",
   "metadata": {},
   "outputs": [],
   "source": [
    "fraud_ratio_per_bin_df = amount_df.merge(temp_df,on=['amt_bin']).rename(columns={0:'perc_fraud_in_bin'})"
   ]
  },
  {
   "cell_type": "code",
   "execution_count": 34,
   "id": "899099ec",
   "metadata": {},
   "outputs": [],
   "source": [
    "# fraud_ratio_per_bin_df = fraud_ratio_per_bin_df.rename(columns={0:'perc_fraud_in_bin'})"
   ]
  },
  {
   "cell_type": "code",
   "execution_count": 35,
   "id": "5f03b13f",
   "metadata": {},
   "outputs": [
    {
     "data": {
      "text/html": [
       "<div>\n",
       "<style scoped>\n",
       "    .dataframe tbody tr th:only-of-type {\n",
       "        vertical-align: middle;\n",
       "    }\n",
       "\n",
       "    .dataframe tbody tr th {\n",
       "        vertical-align: top;\n",
       "    }\n",
       "\n",
       "    .dataframe thead th {\n",
       "        text-align: right;\n",
       "    }\n",
       "</style>\n",
       "<table border=\"1\" class=\"dataframe\">\n",
       "  <thead>\n",
       "    <tr style=\"text-align: right;\">\n",
       "      <th></th>\n",
       "      <th>merchant</th>\n",
       "      <th>category</th>\n",
       "      <th>amt</th>\n",
       "      <th>gender</th>\n",
       "      <th>zip</th>\n",
       "      <th>city_pop</th>\n",
       "      <th>job</th>\n",
       "      <th>merch_lat</th>\n",
       "      <th>merch_long</th>\n",
       "      <th>is_fraud</th>\n",
       "      <th>age</th>\n",
       "      <th>dayofweek</th>\n",
       "      <th>hourofday</th>\n",
       "      <th>age_group</th>\n",
       "      <th>amt_bin</th>\n",
       "      <th>perc_fraud_in_bin</th>\n",
       "    </tr>\n",
       "  </thead>\n",
       "  <tbody>\n",
       "    <tr>\n",
       "      <th>168959</th>\n",
       "      <td>fraud_Schulist Ltd</td>\n",
       "      <td>food_dining</td>\n",
       "      <td>19.3</td>\n",
       "      <td>F</td>\n",
       "      <td>27837</td>\n",
       "      <td>5903</td>\n",
       "      <td>Manufacturing systems engineer</td>\n",
       "      <td>34.842994</td>\n",
       "      <td>-77.277328</td>\n",
       "      <td>0</td>\n",
       "      <td>25</td>\n",
       "      <td>Tuesday</td>\n",
       "      <td>16</td>\n",
       "      <td>Young_Adult</td>\n",
       "      <td>0_50</td>\n",
       "      <td>0.002391</td>\n",
       "    </tr>\n",
       "  </tbody>\n",
       "</table>\n",
       "</div>"
      ],
      "text/plain": [
       "                  merchant     category   amt gender    zip  city_pop  \\\n",
       "168959  fraud_Schulist Ltd  food_dining  19.3      F  27837      5903   \n",
       "\n",
       "                                   job  merch_lat  merch_long  is_fraud  age  \\\n",
       "168959  Manufacturing systems engineer  34.842994  -77.277328         0   25   \n",
       "\n",
       "       dayofweek  hourofday    age_group amt_bin  perc_fraud_in_bin  \n",
       "168959   Tuesday         16  Young_Adult    0_50           0.002391  "
      ]
     },
     "execution_count": 35,
     "metadata": {},
     "output_type": "execute_result"
    }
   ],
   "source": [
    "fraud_ratio_per_bin_df.sample()"
   ]
  },
  {
   "cell_type": "code",
   "execution_count": 36,
   "id": "1257b340",
   "metadata": {},
   "outputs": [
    {
     "data": {
      "image/png": "[encoded data removed]",
      "text/plain": [
       "<Figure size 2000x1000 with 1 Axes>"
      ]
     },
     "metadata": {},
     "output_type": "display_data"
    }
   ],
   "source": [
    "plt.figure(figsize = (20, 10))\n",
    "ax = sns.boxplot(data=fraud_ratio_per_bin_df,y=fraud_ratio_per_bin_df.perc_fraud_in_bin,x=fraud_ratio_per_bin_df.amt_bin)\n",
    "ax.set_xlabel(xlabel = 'Amount Bin', fontsize = 12)\n",
    "ax.set_ylabel(ylabel = '% Fraud in this Bin', fontsize = 16)\n",
    "ax.set_title(label = 'Does the Amount of the Transaction Affect the Ratio of Fraud?', fontsize = 20)\n",
    "plt.setp( ax.xaxis.get_majorticklabels(), rotation=-45, ha=\"left\" )\n",
    "plt.show()"
   ]
  },
  {
   "cell_type": "markdown",
   "id": "82597f41",
   "metadata": {},
   "source": [
    "### Test the hypothesis that the amount has statistical significance. We will use the amount bins in lieu of the actual amounts (discrete vs continuous variables)\n",
    "\n",
    "-- H0: The mean fraud rate of the different amount bins is equal\n",
    "\n",
    "-- Ha: The mean fraud rate of the different amount bins is NOT equal\n",
    "\n",
    "This will be an ANOVA Analysis of Variance\n",
    "    \n",
    "    * The assumptions of this test are met"
   ]
  },
  {
   "cell_type": "code",
   "execution_count": 73,
   "id": "5ed9c2a1",
   "metadata": {},
   "outputs": [
    {
     "data": {
      "text/plain": [
       "is_fraud\n",
       "0    1289169\n",
       "1       7506\n",
       "Name: count, dtype: int64"
      ]
     },
     "execution_count": 73,
     "metadata": {},
     "output_type": "execute_result"
    }
   ],
   "source": [
    "amount_df.is_fraud.value_counts()"
   ]
  },
  {
   "cell_type": "code",
   "execution_count": 76,
   "id": "6876117d",
   "metadata": {},
   "outputs": [
    {
     "data": {
      "text/plain": [
       "['0_50', '100_150', '200_250', '50_100', '150_200', ..., '800_850', '550_600', '850_900', '950_1000', '1100_1150']\n",
       "Length: 24\n",
       "Categories (24, object): ['0_50' < '50_100' < '100_150' < '150_200' ... '1000_1050' < '1050_1100' < '1100_1150' < 'over_1150']"
      ]
     },
     "execution_count": 76,
     "metadata": {},
     "output_type": "execute_result"
    }
   ],
   "source": [
    "amount_df.amt_bin.unique()"
   ]
  },
  {
   "cell_type": "code",
   "execution_count": 80,
   "id": "34258c15",
   "metadata": {},
   "outputs": [],
   "source": [
    "d = {}\n",
    "for x in amount_df.amt_bin.unique():\n",
    "    d[x] = amount_df[amount_df['amt_bin'] == x].is_fraud"
   ]
  },
  {
   "cell_type": "code",
   "execution_count": 82,
   "id": "5cc3be8a",
   "metadata": {},
   "outputs": [
    {
     "data": {
      "text/plain": [
       "trans_date_trans_time\n",
       "2019-01-01 00:00:18    0\n",
       "2019-01-01 00:01:16    0\n",
       "2019-01-01 00:03:06    0\n",
       "2019-01-01 00:04:42    0\n",
       "2019-01-01 00:05:18    0\n",
       "                      ..\n",
       "2020-06-21 12:09:22    0\n",
       "2020-06-21 12:10:56    0\n",
       "2020-06-21 12:11:36    0\n",
       "2020-06-21 12:12:08    0\n",
       "2020-06-21 12:13:37    0\n",
       "Name: is_fraud, Length: 672214, dtype: int64"
      ]
     },
     "execution_count": 82,
     "metadata": {},
     "output_type": "execute_result"
    }
   ],
   "source": [
    "d['0_50']"
   ]
  },
  {
   "cell_type": "code",
   "execution_count": 71,
   "id": "9a22d1f2",
   "metadata": {},
   "outputs": [],
   "source": [
    "alpha = .05\n",
    "fraud_amounts = amount_df[amount_df.is_fraud == 1].amt\n",
    "overall_mean = amount_df.amt.mean()"
   ]
  },
  {
   "cell_type": "code",
   "execution_count": 72,
   "id": "3efc0928",
   "metadata": {},
   "outputs": [
    {
     "data": {
      "text/plain": [
       "TtestResult(statistic=102.25586194301829, pvalue=0.0, df=7505)"
      ]
     },
     "execution_count": 72,
     "metadata": {},
     "output_type": "execute_result"
    }
   ],
   "source": [
    "test_result = stats.ttest_1samp(fraud_amounts, overall_mean)\n",
    "test_result"
   ]
  },
  {
   "cell_type": "code",
   "execution_count": null,
   "id": "14d1118a",
   "metadata": {},
   "outputs": [],
   "source": []
  },
  {
   "cell_type": "markdown",
   "id": "dd3b22d2",
   "metadata": {},
   "source": [
    "### Merchant"
   ]
  },
  {
   "cell_type": "code",
   "execution_count": 38,
   "id": "d10dc3f3",
   "metadata": {},
   "outputs": [],
   "source": [
    "merchant_df = df.copy()"
   ]
  },
  {
   "cell_type": "code",
   "execution_count": 39,
   "id": "2f6adba3",
   "metadata": {},
   "outputs": [
    {
     "data": {
      "text/plain": [
       "merchant\n",
       "fraud_Kilback LLC                       4403\n",
       "fraud_Cormier LLC                       3649\n",
       "fraud_Schumm PLC                        3634\n",
       "fraud_Kuhn LLC                          3510\n",
       "fraud_Boyer PLC                         3493\n",
       "                                        ... \n",
       "fraud_Douglas, DuBuque and McKenzie      775\n",
       "fraud_Treutel-King                       775\n",
       "fraud_Medhurst, Labadie and Gottlieb     759\n",
       "fraud_Reichert-Weissnat                  753\n",
       "fraud_Hahn, Douglas and Schowalter       727\n",
       "Name: count, Length: 693, dtype: int64"
      ]
     },
     "execution_count": 39,
     "metadata": {},
     "output_type": "execute_result"
    }
   ],
   "source": [
    "merchant_df.merchant.value_counts()"
   ]
  },
  {
   "cell_type": "code",
   "execution_count": 51,
   "id": "97d99df9",
   "metadata": {},
   "outputs": [
    {
     "data": {
      "text/plain": [
       "(0.0, 0.02572347266881029, 0.005602779328969938)"
      ]
     },
     "execution_count": 51,
     "metadata": {},
     "output_type": "execute_result"
    }
   ],
   "source": [
    "min(merchant_df.groupby(by='merchant').is_fraud.mean().sort_values()),max(merchant_df.groupby(by='merchant').is_fraud.mean().sort_values()),statistics.mean(merchant_df.groupby(by='merchant').is_fraud.mean().sort_values())"
   ]
  },
  {
   "cell_type": "markdown",
   "id": "73cf39cd",
   "metadata": {},
   "source": [
    "### The top 10 \"offenders\" for fraudulent transactions"
   ]
  },
  {
   "cell_type": "code",
   "execution_count": 60,
   "id": "63b80c8f",
   "metadata": {},
   "outputs": [
    {
     "data": {
      "text/plain": [
       "merchant\n",
       "fraud_Kozey-Boehm                       0.025723\n",
       "fraud_Herman, Treutel and Dickens       0.025385\n",
       "fraud_Kerluke-Abshire                   0.022307\n",
       "fraud_Brown PLC                         0.022109\n",
       "fraud_Goyette Inc                       0.021616\n",
       "fraud_Terry-Huel                        0.021543\n",
       "fraud_Jast Ltd                          0.021505\n",
       "fraud_Schmeler, Bashirian and Price     0.020833\n",
       "fraud_Boyer-Reichert                    0.019916\n",
       "fraud_Langworth, Boehm and Gulgowski    0.019807\n",
       "Name: is_fraud, dtype: float64"
      ]
     },
     "execution_count": 60,
     "metadata": {},
     "output_type": "execute_result"
    }
   ],
   "source": [
    "merchant_df.groupby(by='merchant').is_fraud.mean().sort_values(ascending=False).head(10)"
   ]
  },
  {
   "cell_type": "code",
   "execution_count": null,
   "id": "4aca0ee4",
   "metadata": {},
   "outputs": [],
   "source": []
  }
 ],
 "metadata": {
  "kernelspec": {
   "display_name": "Python 3 (ipykernel)",
   "language": "python",
   "name": "python3"
  },
  "language_info": {
   "codemirror_mode": {
    "name": "ipython",
    "version": 3
   },
   "file_extension": ".py",
   "mimetype": "text/x-python",
   "name": "python",
   "nbconvert_exporter": "python",
   "pygments_lexer": "ipython3",
   "version": "3.11.5"
  }
 },
 "nbformat": 4,
 "nbformat_minor": 5
}
