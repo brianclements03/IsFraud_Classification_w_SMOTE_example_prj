{
 "cells": [
  {
   "cell_type": "markdown",
   "id": "1307409e",
   "metadata": {},
   "source": [
    "### Imports"
   ]
  },
  {
   "cell_type": "code",
   "execution_count": 1,
   "id": "e2fa1549",
   "metadata": {},
   "outputs": [],
   "source": [
    "import pandas as pd\n",
    "import numpy as np\n",
    "import seaborn as sns\n",
    "from sklearn.model_selection import train_test_split\n",
    "import matplotlib.pyplot as plt\n",
    "import datetime\n",
    "from imblearn.over_sampling import SMOTE\n",
    "from zipfile import ZipFile\n",
    "\n",
    "import wrangle"
   ]
  },
  {
   "cell_type": "code",
   "execution_count": null,
   "id": "da9b90f5",
   "metadata": {},
   "outputs": [],
   "source": []
  },
  {
   "cell_type": "code",
   "execution_count": 2,
   "id": "4da2dacc",
   "metadata": {},
   "outputs": [],
   "source": [
    "test, df = wrangle.acquire_fraud('cc_fraud.zip')"
   ]
  },
  {
   "cell_type": "code",
   "execution_count": 3,
   "id": "6a2c5afe",
   "metadata": {},
   "outputs": [
    {
     "data": {
      "text/plain": [
       "((555719, 23), (1296675, 23))"
      ]
     },
     "execution_count": 3,
     "metadata": {},
     "output_type": "execute_result"
    }
   ],
   "source": [
    "test.shape,df.shape"
   ]
  },
  {
   "cell_type": "code",
   "execution_count": 4,
   "id": "717e33cd",
   "metadata": {},
   "outputs": [],
   "source": [
    "df = wrangle.prep(df)\n",
    "test = wrangle.prep(test)"
   ]
  },
  {
   "cell_type": "code",
   "execution_count": 5,
   "id": "78623fb6",
   "metadata": {},
   "outputs": [
    {
     "data": {
      "text/html": [
       "<div>\n",
       "<style scoped>\n",
       "    .dataframe tbody tr th:only-of-type {\n",
       "        vertical-align: middle;\n",
       "    }\n",
       "\n",
       "    .dataframe tbody tr th {\n",
       "        vertical-align: top;\n",
       "    }\n",
       "\n",
       "    .dataframe thead th {\n",
       "        text-align: right;\n",
       "    }\n",
       "</style>\n",
       "<table border=\"1\" class=\"dataframe\">\n",
       "  <thead>\n",
       "    <tr style=\"text-align: right;\">\n",
       "      <th></th>\n",
       "      <th>merchant</th>\n",
       "      <th>category</th>\n",
       "      <th>amt</th>\n",
       "      <th>gender</th>\n",
       "      <th>zip</th>\n",
       "      <th>city_pop</th>\n",
       "      <th>job</th>\n",
       "      <th>merch_lat</th>\n",
       "      <th>merch_long</th>\n",
       "      <th>is_fraud</th>\n",
       "      <th>age</th>\n",
       "      <th>dayofweek</th>\n",
       "      <th>hourofday</th>\n",
       "      <th>age_group</th>\n",
       "    </tr>\n",
       "    <tr>\n",
       "      <th>trans_date_trans_time</th>\n",
       "      <th></th>\n",
       "      <th></th>\n",
       "      <th></th>\n",
       "      <th></th>\n",
       "      <th></th>\n",
       "      <th></th>\n",
       "      <th></th>\n",
       "      <th></th>\n",
       "      <th></th>\n",
       "      <th></th>\n",
       "      <th></th>\n",
       "      <th></th>\n",
       "      <th></th>\n",
       "      <th></th>\n",
       "    </tr>\n",
       "  </thead>\n",
       "  <tbody>\n",
       "    <tr>\n",
       "      <th>2019-01-01 00:00:18</th>\n",
       "      <td>fraud_Rippin, Kub and Mann</td>\n",
       "      <td>misc_net</td>\n",
       "      <td>4.97</td>\n",
       "      <td>F</td>\n",
       "      <td>28654</td>\n",
       "      <td>3495</td>\n",
       "      <td>Psychologist, counselling</td>\n",
       "      <td>36.011293</td>\n",
       "      <td>-82.048315</td>\n",
       "      <td>0</td>\n",
       "      <td>30</td>\n",
       "      <td>Tuesday</td>\n",
       "      <td>0</td>\n",
       "      <td>Young_Adult</td>\n",
       "    </tr>\n",
       "    <tr>\n",
       "      <th>2019-01-01 00:00:44</th>\n",
       "      <td>fraud_Heller, Gutmann and Zieme</td>\n",
       "      <td>grocery_pos</td>\n",
       "      <td>107.23</td>\n",
       "      <td>F</td>\n",
       "      <td>99160</td>\n",
       "      <td>149</td>\n",
       "      <td>Special educational needs teacher</td>\n",
       "      <td>49.159047</td>\n",
       "      <td>-118.186462</td>\n",
       "      <td>0</td>\n",
       "      <td>40</td>\n",
       "      <td>Tuesday</td>\n",
       "      <td>0</td>\n",
       "      <td>Adult</td>\n",
       "    </tr>\n",
       "    <tr>\n",
       "      <th>2019-01-01 00:00:51</th>\n",
       "      <td>fraud_Lind-Buckridge</td>\n",
       "      <td>entertainment</td>\n",
       "      <td>220.11</td>\n",
       "      <td>M</td>\n",
       "      <td>83252</td>\n",
       "      <td>4154</td>\n",
       "      <td>Nature conservation officer</td>\n",
       "      <td>43.150704</td>\n",
       "      <td>-112.154481</td>\n",
       "      <td>0</td>\n",
       "      <td>56</td>\n",
       "      <td>Tuesday</td>\n",
       "      <td>0</td>\n",
       "      <td>Mid_Age</td>\n",
       "    </tr>\n",
       "    <tr>\n",
       "      <th>2019-01-01 00:01:16</th>\n",
       "      <td>fraud_Kutch, Hermiston and Farrell</td>\n",
       "      <td>gas_transport</td>\n",
       "      <td>45.00</td>\n",
       "      <td>M</td>\n",
       "      <td>59632</td>\n",
       "      <td>1939</td>\n",
       "      <td>Patent attorney</td>\n",
       "      <td>47.034331</td>\n",
       "      <td>-112.561071</td>\n",
       "      <td>0</td>\n",
       "      <td>52</td>\n",
       "      <td>Tuesday</td>\n",
       "      <td>0</td>\n",
       "      <td>Early_Mid_Age</td>\n",
       "    </tr>\n",
       "    <tr>\n",
       "      <th>2019-01-01 00:03:06</th>\n",
       "      <td>fraud_Keeling-Crist</td>\n",
       "      <td>misc_pos</td>\n",
       "      <td>41.96</td>\n",
       "      <td>M</td>\n",
       "      <td>24433</td>\n",
       "      <td>99</td>\n",
       "      <td>Dance movement psychotherapist</td>\n",
       "      <td>38.674999</td>\n",
       "      <td>-78.632459</td>\n",
       "      <td>0</td>\n",
       "      <td>32</td>\n",
       "      <td>Tuesday</td>\n",
       "      <td>0</td>\n",
       "      <td>Young_Adult</td>\n",
       "    </tr>\n",
       "  </tbody>\n",
       "</table>\n",
       "</div>"
      ],
      "text/plain": [
       "                                                 merchant       category  \\\n",
       "trans_date_trans_time                                                      \n",
       "2019-01-01 00:00:18            fraud_Rippin, Kub and Mann       misc_net   \n",
       "2019-01-01 00:00:44       fraud_Heller, Gutmann and Zieme    grocery_pos   \n",
       "2019-01-01 00:00:51                  fraud_Lind-Buckridge  entertainment   \n",
       "2019-01-01 00:01:16    fraud_Kutch, Hermiston and Farrell  gas_transport   \n",
       "2019-01-01 00:03:06                   fraud_Keeling-Crist       misc_pos   \n",
       "\n",
       "                          amt gender    zip  city_pop  \\\n",
       "trans_date_trans_time                                   \n",
       "2019-01-01 00:00:18      4.97      F  28654      3495   \n",
       "2019-01-01 00:00:44    107.23      F  99160       149   \n",
       "2019-01-01 00:00:51    220.11      M  83252      4154   \n",
       "2019-01-01 00:01:16     45.00      M  59632      1939   \n",
       "2019-01-01 00:03:06     41.96      M  24433        99   \n",
       "\n",
       "                                                     job  merch_lat  \\\n",
       "trans_date_trans_time                                                 \n",
       "2019-01-01 00:00:18            Psychologist, counselling  36.011293   \n",
       "2019-01-01 00:00:44    Special educational needs teacher  49.159047   \n",
       "2019-01-01 00:00:51          Nature conservation officer  43.150704   \n",
       "2019-01-01 00:01:16                      Patent attorney  47.034331   \n",
       "2019-01-01 00:03:06       Dance movement psychotherapist  38.674999   \n",
       "\n",
       "                       merch_long  is_fraud  age dayofweek  hourofday  \\\n",
       "trans_date_trans_time                                                   \n",
       "2019-01-01 00:00:18    -82.048315         0   30   Tuesday          0   \n",
       "2019-01-01 00:00:44   -118.186462         0   40   Tuesday          0   \n",
       "2019-01-01 00:00:51   -112.154481         0   56   Tuesday          0   \n",
       "2019-01-01 00:01:16   -112.561071         0   52   Tuesday          0   \n",
       "2019-01-01 00:03:06    -78.632459         0   32   Tuesday          0   \n",
       "\n",
       "                           age_group  \n",
       "trans_date_trans_time                 \n",
       "2019-01-01 00:00:18      Young_Adult  \n",
       "2019-01-01 00:00:44            Adult  \n",
       "2019-01-01 00:00:51          Mid_Age  \n",
       "2019-01-01 00:01:16    Early_Mid_Age  \n",
       "2019-01-01 00:03:06      Young_Adult  "
      ]
     },
     "execution_count": 5,
     "metadata": {},
     "output_type": "execute_result"
    }
   ],
   "source": [
    "df.head()"
   ]
  },
  {
   "cell_type": "code",
   "execution_count": 6,
   "id": "84345139",
   "metadata": {},
   "outputs": [
    {
     "name": "stdout",
     "output_type": "stream",
     "text": [
      "is_fraud\n",
      "______\n",
      "['merchant', 'category', 'amt', 'gender', 'zip', 'city_pop', 'job', 'merch_lat', 'merch_long', 'age', 'dayofweek', 'hourofday', 'age_group']\n"
     ]
    }
   ],
   "source": [
    "target,features = wrangle.get_target_and_features(df)\n",
    "print(target)\n",
    "print('______')\n",
    "print(features)"
   ]
  },
  {
   "cell_type": "code",
   "execution_count": 7,
   "id": "c64fe6cb",
   "metadata": {},
   "outputs": [],
   "source": [
    "x_train,x_validate,y_train,y_validate = wrangle.train_val(df)"
   ]
  },
  {
   "cell_type": "code",
   "execution_count": 8,
   "id": "bded118f",
   "metadata": {},
   "outputs": [
    {
     "data": {
      "text/html": [
       "<div>\n",
       "<style scoped>\n",
       "    .dataframe tbody tr th:only-of-type {\n",
       "        vertical-align: middle;\n",
       "    }\n",
       "\n",
       "    .dataframe tbody tr th {\n",
       "        vertical-align: top;\n",
       "    }\n",
       "\n",
       "    .dataframe thead th {\n",
       "        text-align: right;\n",
       "    }\n",
       "</style>\n",
       "<table border=\"1\" class=\"dataframe\">\n",
       "  <thead>\n",
       "    <tr style=\"text-align: right;\">\n",
       "      <th></th>\n",
       "      <th>merchant</th>\n",
       "      <th>category</th>\n",
       "      <th>amt</th>\n",
       "      <th>gender</th>\n",
       "      <th>zip</th>\n",
       "      <th>city_pop</th>\n",
       "      <th>job</th>\n",
       "      <th>merch_lat</th>\n",
       "      <th>merch_long</th>\n",
       "      <th>age</th>\n",
       "      <th>dayofweek</th>\n",
       "      <th>hourofday</th>\n",
       "      <th>age_group</th>\n",
       "    </tr>\n",
       "    <tr>\n",
       "      <th>trans_date_trans_time</th>\n",
       "      <th></th>\n",
       "      <th></th>\n",
       "      <th></th>\n",
       "      <th></th>\n",
       "      <th></th>\n",
       "      <th></th>\n",
       "      <th></th>\n",
       "      <th></th>\n",
       "      <th></th>\n",
       "      <th></th>\n",
       "      <th></th>\n",
       "      <th></th>\n",
       "      <th></th>\n",
       "    </tr>\n",
       "  </thead>\n",
       "  <tbody>\n",
       "    <tr>\n",
       "      <th>2020-04-26 22:02:41</th>\n",
       "      <td>fraud_O'Keefe-Wisoky</td>\n",
       "      <td>food_dining</td>\n",
       "      <td>61.06</td>\n",
       "      <td>M</td>\n",
       "      <td>78631</td>\n",
       "      <td>2395</td>\n",
       "      <td>Pharmacist, community</td>\n",
       "      <td>30.247401</td>\n",
       "      <td>-99.582274</td>\n",
       "      <td>26</td>\n",
       "      <td>Sunday</td>\n",
       "      <td>22</td>\n",
       "      <td>Young_Adult</td>\n",
       "    </tr>\n",
       "  </tbody>\n",
       "</table>\n",
       "</div>"
      ],
      "text/plain": [
       "                                   merchant     category    amt gender    zip  \\\n",
       "trans_date_trans_time                                                           \n",
       "2020-04-26 22:02:41    fraud_O'Keefe-Wisoky  food_dining  61.06      M  78631   \n",
       "\n",
       "                       city_pop                    job  merch_lat  merch_long  \\\n",
       "trans_date_trans_time                                                           \n",
       "2020-04-26 22:02:41        2395  Pharmacist, community  30.247401  -99.582274   \n",
       "\n",
       "                       age dayofweek  hourofday    age_group  \n",
       "trans_date_trans_time                                         \n",
       "2020-04-26 22:02:41     26    Sunday         22  Young_Adult  "
      ]
     },
     "execution_count": 8,
     "metadata": {},
     "output_type": "execute_result"
    }
   ],
   "source": [
    "x_train.sample()"
   ]
  },
  {
   "cell_type": "code",
   "execution_count": 9,
   "id": "6d8bdbbb",
   "metadata": {},
   "outputs": [
    {
     "data": {
      "text/plain": [
       "trans_date_trans_time\n",
       "2019-03-02 18:19:01    0\n",
       "Name: is_fraud, dtype: int64"
      ]
     },
     "execution_count": 9,
     "metadata": {},
     "output_type": "execute_result"
    }
   ],
   "source": [
    "y_train.sample()"
   ]
  },
  {
   "cell_type": "code",
   "execution_count": 10,
   "id": "5925ac96",
   "metadata": {},
   "outputs": [],
   "source": [
    "x_test,y_test = wrangle.test_df_x_y_split(test)"
   ]
  },
  {
   "cell_type": "code",
   "execution_count": 11,
   "id": "a2a51521",
   "metadata": {},
   "outputs": [
    {
     "data": {
      "text/html": [
       "<div>\n",
       "<style scoped>\n",
       "    .dataframe tbody tr th:only-of-type {\n",
       "        vertical-align: middle;\n",
       "    }\n",
       "\n",
       "    .dataframe tbody tr th {\n",
       "        vertical-align: top;\n",
       "    }\n",
       "\n",
       "    .dataframe thead th {\n",
       "        text-align: right;\n",
       "    }\n",
       "</style>\n",
       "<table border=\"1\" class=\"dataframe\">\n",
       "  <thead>\n",
       "    <tr style=\"text-align: right;\">\n",
       "      <th></th>\n",
       "      <th>merchant</th>\n",
       "      <th>category</th>\n",
       "      <th>amt</th>\n",
       "      <th>gender</th>\n",
       "      <th>zip</th>\n",
       "      <th>city_pop</th>\n",
       "      <th>job</th>\n",
       "      <th>merch_lat</th>\n",
       "      <th>merch_long</th>\n",
       "      <th>age</th>\n",
       "      <th>dayofweek</th>\n",
       "      <th>hourofday</th>\n",
       "      <th>age_group</th>\n",
       "    </tr>\n",
       "    <tr>\n",
       "      <th>trans_date_trans_time</th>\n",
       "      <th></th>\n",
       "      <th></th>\n",
       "      <th></th>\n",
       "      <th></th>\n",
       "      <th></th>\n",
       "      <th></th>\n",
       "      <th></th>\n",
       "      <th></th>\n",
       "      <th></th>\n",
       "      <th></th>\n",
       "      <th></th>\n",
       "      <th></th>\n",
       "      <th></th>\n",
       "    </tr>\n",
       "  </thead>\n",
       "  <tbody>\n",
       "    <tr>\n",
       "      <th>2020-09-07 16:46:01</th>\n",
       "      <td>fraud_Beier LLC</td>\n",
       "      <td>entertainment</td>\n",
       "      <td>15.09</td>\n",
       "      <td>F</td>\n",
       "      <td>30426</td>\n",
       "      <td>1100</td>\n",
       "      <td>Conservator, museum/gallery</td>\n",
       "      <td>33.512054</td>\n",
       "      <td>-82.64736</td>\n",
       "      <td>70</td>\n",
       "      <td>Monday</td>\n",
       "      <td>16</td>\n",
       "      <td>Retirement_Age</td>\n",
       "    </tr>\n",
       "  </tbody>\n",
       "</table>\n",
       "</div>"
      ],
      "text/plain": [
       "                              merchant       category    amt gender    zip  \\\n",
       "trans_date_trans_time                                                        \n",
       "2020-09-07 16:46:01    fraud_Beier LLC  entertainment  15.09      F  30426   \n",
       "\n",
       "                       city_pop                          job  merch_lat  \\\n",
       "trans_date_trans_time                                                     \n",
       "2020-09-07 16:46:01        1100  Conservator, museum/gallery  33.512054   \n",
       "\n",
       "                       merch_long  age dayofweek  hourofday       age_group  \n",
       "trans_date_trans_time                                                        \n",
       "2020-09-07 16:46:01     -82.64736   70    Monday         16  Retirement_Age  "
      ]
     },
     "execution_count": 11,
     "metadata": {},
     "output_type": "execute_result"
    }
   ],
   "source": [
    "x_test.sample()"
   ]
  },
  {
   "cell_type": "code",
   "execution_count": 12,
   "id": "44592af8",
   "metadata": {},
   "outputs": [
    {
     "data": {
      "text/plain": [
       "trans_date_trans_time\n",
       "2020-10-08 19:24:51    0\n",
       "Name: is_fraud, dtype: int64"
      ]
     },
     "execution_count": 12,
     "metadata": {},
     "output_type": "execute_result"
    }
   ],
   "source": [
    "y_test.sample()"
   ]
  }
 ],
 "metadata": {
  "kernelspec": {
   "display_name": "Python 3 (ipykernel)",
   "language": "python",
   "name": "python3"
  },
  "language_info": {
   "codemirror_mode": {
    "name": "ipython",
    "version": 3
   },
   "file_extension": ".py",
   "mimetype": "text/x-python",
   "name": "python",
   "nbconvert_exporter": "python",
   "pygments_lexer": "ipython3",
   "version": "3.11.5"
  }
 },
 "nbformat": 4,
 "nbformat_minor": 5
}
