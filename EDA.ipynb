{
 "cells": [
  {
   "cell_type": "markdown",
   "id": "bb05493b",
   "metadata": {},
   "source": [
    "### Imports"
   ]
  },
  {
   "cell_type": "code",
   "execution_count": 1,
   "id": "e2fa1549",
   "metadata": {},
   "outputs": [],
   "source": [
    "import pandas as pd\n",
    "import numpy as np\n",
    "import seaborn as sns\n",
    "from sklearn.model_selection import train_test_split\n",
    "import matplotlib.pyplot as plt\n",
    "import datetime\n",
    "from imblearn.over_sampling import SMOTE\n",
    "from zipfile import ZipFile\n",
    "\n",
    "import wrangle"
   ]
  },
  {
   "cell_type": "markdown",
   "id": "1a71d3c1",
   "metadata": {},
   "source": [
    "### Certain configs for visualizations"
   ]
  },
  {
   "cell_type": "code",
   "execution_count": 2,
   "id": "7feef76e",
   "metadata": {},
   "outputs": [
    {
     "name": "stderr",
     "output_type": "stream",
     "text": [
      "/var/folders/h6/xxqcvddd61v8kq3bhvkfyqzw0000gn/T/ipykernel_32248/29349232.py:2: MatplotlibDeprecationWarning: The seaborn styles shipped by Matplotlib are deprecated since 3.6, as they no longer correspond to the styles shipped by seaborn. However, they will remain available as 'seaborn-v0_8-<style>'. Alternatively, directly use the seaborn API instead.\n",
      "  style.use('seaborn-colorblind')\n"
     ]
    }
   ],
   "source": [
    "import matplotlib.style as style\n",
    "style.use('seaborn-colorblind')"
   ]
  },
  {
   "cell_type": "markdown",
   "id": "a183f5ac",
   "metadata": {},
   "source": [
    "### Acquire datasets"
   ]
  },
  {
   "cell_type": "code",
   "execution_count": 3,
   "id": "4da2dacc",
   "metadata": {},
   "outputs": [],
   "source": [
    "test, df = wrangle.acquire_fraud('cc_fraud.zip')"
   ]
  },
  {
   "cell_type": "code",
   "execution_count": 4,
   "id": "6a2c5afe",
   "metadata": {},
   "outputs": [
    {
     "data": {
      "text/plain": [
       "((555719, 23), (1296675, 23))"
      ]
     },
     "execution_count": 4,
     "metadata": {},
     "output_type": "execute_result"
    }
   ],
   "source": [
    "test.shape,df.shape"
   ]
  },
  {
   "cell_type": "markdown",
   "id": "cf2a02d8",
   "metadata": {},
   "source": [
    "### Clean and Prep"
   ]
  },
  {
   "cell_type": "code",
   "execution_count": 5,
   "id": "717e33cd",
   "metadata": {},
   "outputs": [],
   "source": [
    "df = wrangle.prep(df)\n",
    "test = wrangle.prep(test)"
   ]
  },
  {
   "cell_type": "code",
   "execution_count": 6,
   "id": "78623fb6",
   "metadata": {},
   "outputs": [
    {
     "data": {
      "text/html": [
       "<div>\n",
       "<style scoped>\n",
       "    .dataframe tbody tr th:only-of-type {\n",
       "        vertical-align: middle;\n",
       "    }\n",
       "\n",
       "    .dataframe tbody tr th {\n",
       "        vertical-align: top;\n",
       "    }\n",
       "\n",
       "    .dataframe thead th {\n",
       "        text-align: right;\n",
       "    }\n",
       "</style>\n",
       "<table border=\"1\" class=\"dataframe\">\n",
       "  <thead>\n",
       "    <tr style=\"text-align: right;\">\n",
       "      <th></th>\n",
       "      <th>merchant</th>\n",
       "      <th>category</th>\n",
       "      <th>amt</th>\n",
       "      <th>gender</th>\n",
       "      <th>zip</th>\n",
       "      <th>city_pop</th>\n",
       "      <th>job</th>\n",
       "      <th>merch_lat</th>\n",
       "      <th>merch_long</th>\n",
       "      <th>is_fraud</th>\n",
       "      <th>age</th>\n",
       "      <th>dayofweek</th>\n",
       "      <th>hourofday</th>\n",
       "      <th>age_group</th>\n",
       "    </tr>\n",
       "    <tr>\n",
       "      <th>trans_date_trans_time</th>\n",
       "      <th></th>\n",
       "      <th></th>\n",
       "      <th></th>\n",
       "      <th></th>\n",
       "      <th></th>\n",
       "      <th></th>\n",
       "      <th></th>\n",
       "      <th></th>\n",
       "      <th></th>\n",
       "      <th></th>\n",
       "      <th></th>\n",
       "      <th></th>\n",
       "      <th></th>\n",
       "      <th></th>\n",
       "    </tr>\n",
       "  </thead>\n",
       "  <tbody>\n",
       "    <tr>\n",
       "      <th>2019-01-01 00:00:18</th>\n",
       "      <td>fraud_Rippin, Kub and Mann</td>\n",
       "      <td>misc_net</td>\n",
       "      <td>4.97</td>\n",
       "      <td>F</td>\n",
       "      <td>28654</td>\n",
       "      <td>3495</td>\n",
       "      <td>Psychologist, counselling</td>\n",
       "      <td>36.011293</td>\n",
       "      <td>-82.048315</td>\n",
       "      <td>0</td>\n",
       "      <td>30</td>\n",
       "      <td>Tuesday</td>\n",
       "      <td>0</td>\n",
       "      <td>Young_Adult</td>\n",
       "    </tr>\n",
       "    <tr>\n",
       "      <th>2019-01-01 00:00:44</th>\n",
       "      <td>fraud_Heller, Gutmann and Zieme</td>\n",
       "      <td>grocery_pos</td>\n",
       "      <td>107.23</td>\n",
       "      <td>F</td>\n",
       "      <td>99160</td>\n",
       "      <td>149</td>\n",
       "      <td>Special educational needs teacher</td>\n",
       "      <td>49.159047</td>\n",
       "      <td>-118.186462</td>\n",
       "      <td>0</td>\n",
       "      <td>40</td>\n",
       "      <td>Tuesday</td>\n",
       "      <td>0</td>\n",
       "      <td>Adult</td>\n",
       "    </tr>\n",
       "    <tr>\n",
       "      <th>2019-01-01 00:00:51</th>\n",
       "      <td>fraud_Lind-Buckridge</td>\n",
       "      <td>entertainment</td>\n",
       "      <td>220.11</td>\n",
       "      <td>M</td>\n",
       "      <td>83252</td>\n",
       "      <td>4154</td>\n",
       "      <td>Nature conservation officer</td>\n",
       "      <td>43.150704</td>\n",
       "      <td>-112.154481</td>\n",
       "      <td>0</td>\n",
       "      <td>56</td>\n",
       "      <td>Tuesday</td>\n",
       "      <td>0</td>\n",
       "      <td>Mid_Age</td>\n",
       "    </tr>\n",
       "    <tr>\n",
       "      <th>2019-01-01 00:01:16</th>\n",
       "      <td>fraud_Kutch, Hermiston and Farrell</td>\n",
       "      <td>gas_transport</td>\n",
       "      <td>45.00</td>\n",
       "      <td>M</td>\n",
       "      <td>59632</td>\n",
       "      <td>1939</td>\n",
       "      <td>Patent attorney</td>\n",
       "      <td>47.034331</td>\n",
       "      <td>-112.561071</td>\n",
       "      <td>0</td>\n",
       "      <td>52</td>\n",
       "      <td>Tuesday</td>\n",
       "      <td>0</td>\n",
       "      <td>Early_Mid_Age</td>\n",
       "    </tr>\n",
       "    <tr>\n",
       "      <th>2019-01-01 00:03:06</th>\n",
       "      <td>fraud_Keeling-Crist</td>\n",
       "      <td>misc_pos</td>\n",
       "      <td>41.96</td>\n",
       "      <td>M</td>\n",
       "      <td>24433</td>\n",
       "      <td>99</td>\n",
       "      <td>Dance movement psychotherapist</td>\n",
       "      <td>38.674999</td>\n",
       "      <td>-78.632459</td>\n",
       "      <td>0</td>\n",
       "      <td>32</td>\n",
       "      <td>Tuesday</td>\n",
       "      <td>0</td>\n",
       "      <td>Young_Adult</td>\n",
       "    </tr>\n",
       "  </tbody>\n",
       "</table>\n",
       "</div>"
      ],
      "text/plain": [
       "                                                 merchant       category  \\\n",
       "trans_date_trans_time                                                      \n",
       "2019-01-01 00:00:18            fraud_Rippin, Kub and Mann       misc_net   \n",
       "2019-01-01 00:00:44       fraud_Heller, Gutmann and Zieme    grocery_pos   \n",
       "2019-01-01 00:00:51                  fraud_Lind-Buckridge  entertainment   \n",
       "2019-01-01 00:01:16    fraud_Kutch, Hermiston and Farrell  gas_transport   \n",
       "2019-01-01 00:03:06                   fraud_Keeling-Crist       misc_pos   \n",
       "\n",
       "                          amt gender    zip  city_pop  \\\n",
       "trans_date_trans_time                                   \n",
       "2019-01-01 00:00:18      4.97      F  28654      3495   \n",
       "2019-01-01 00:00:44    107.23      F  99160       149   \n",
       "2019-01-01 00:00:51    220.11      M  83252      4154   \n",
       "2019-01-01 00:01:16     45.00      M  59632      1939   \n",
       "2019-01-01 00:03:06     41.96      M  24433        99   \n",
       "\n",
       "                                                     job  merch_lat  \\\n",
       "trans_date_trans_time                                                 \n",
       "2019-01-01 00:00:18            Psychologist, counselling  36.011293   \n",
       "2019-01-01 00:00:44    Special educational needs teacher  49.159047   \n",
       "2019-01-01 00:00:51          Nature conservation officer  43.150704   \n",
       "2019-01-01 00:01:16                      Patent attorney  47.034331   \n",
       "2019-01-01 00:03:06       Dance movement psychotherapist  38.674999   \n",
       "\n",
       "                       merch_long  is_fraud  age dayofweek  hourofday  \\\n",
       "trans_date_trans_time                                                   \n",
       "2019-01-01 00:00:18    -82.048315         0   30   Tuesday          0   \n",
       "2019-01-01 00:00:44   -118.186462         0   40   Tuesday          0   \n",
       "2019-01-01 00:00:51   -112.154481         0   56   Tuesday          0   \n",
       "2019-01-01 00:01:16   -112.561071         0   52   Tuesday          0   \n",
       "2019-01-01 00:03:06    -78.632459         0   32   Tuesday          0   \n",
       "\n",
       "                           age_group  \n",
       "trans_date_trans_time                 \n",
       "2019-01-01 00:00:18      Young_Adult  \n",
       "2019-01-01 00:00:44            Adult  \n",
       "2019-01-01 00:00:51          Mid_Age  \n",
       "2019-01-01 00:01:16    Early_Mid_Age  \n",
       "2019-01-01 00:03:06      Young_Adult  "
      ]
     },
     "execution_count": 6,
     "metadata": {},
     "output_type": "execute_result"
    }
   ],
   "source": [
    "df.head()"
   ]
  },
  {
   "cell_type": "markdown",
   "id": "1347f935",
   "metadata": {},
   "source": [
    "### Define target ('is_fraud') versus the rest of the features"
   ]
  },
  {
   "cell_type": "code",
   "execution_count": 7,
   "id": "a470cdde",
   "metadata": {},
   "outputs": [
    {
     "name": "stdout",
     "output_type": "stream",
     "text": [
      "is_fraud\n",
      "______\n",
      "['merchant', 'category', 'amt', 'gender', 'zip', 'city_pop', 'job', 'merch_lat', 'merch_long', 'age', 'dayofweek', 'hourofday', 'age_group']\n"
     ]
    }
   ],
   "source": [
    "target,features = wrangle.get_target_and_features(df)\n",
    "print(target)\n",
    "print('______')\n",
    "print(features)"
   ]
  },
  {
   "cell_type": "markdown",
   "id": "a5104c4c",
   "metadata": {},
   "source": [
    "### Split the training data further (into Train and Validate)"
   ]
  },
  {
   "cell_type": "code",
   "execution_count": 8,
   "id": "741e2ff7",
   "metadata": {},
   "outputs": [],
   "source": [
    "x_train,x_validate,y_train,y_validate = wrangle.train_val(df)"
   ]
  },
  {
   "cell_type": "code",
   "execution_count": 9,
   "id": "c98dfbbc",
   "metadata": {},
   "outputs": [
    {
     "data": {
      "text/html": [
       "<div>\n",
       "<style scoped>\n",
       "    .dataframe tbody tr th:only-of-type {\n",
       "        vertical-align: middle;\n",
       "    }\n",
       "\n",
       "    .dataframe tbody tr th {\n",
       "        vertical-align: top;\n",
       "    }\n",
       "\n",
       "    .dataframe thead th {\n",
       "        text-align: right;\n",
       "    }\n",
       "</style>\n",
       "<table border=\"1\" class=\"dataframe\">\n",
       "  <thead>\n",
       "    <tr style=\"text-align: right;\">\n",
       "      <th></th>\n",
       "      <th>merchant</th>\n",
       "      <th>category</th>\n",
       "      <th>amt</th>\n",
       "      <th>gender</th>\n",
       "      <th>zip</th>\n",
       "      <th>city_pop</th>\n",
       "      <th>job</th>\n",
       "      <th>merch_lat</th>\n",
       "      <th>merch_long</th>\n",
       "      <th>age</th>\n",
       "      <th>dayofweek</th>\n",
       "      <th>hourofday</th>\n",
       "      <th>age_group</th>\n",
       "    </tr>\n",
       "    <tr>\n",
       "      <th>trans_date_trans_time</th>\n",
       "      <th></th>\n",
       "      <th></th>\n",
       "      <th></th>\n",
       "      <th></th>\n",
       "      <th></th>\n",
       "      <th></th>\n",
       "      <th></th>\n",
       "      <th></th>\n",
       "      <th></th>\n",
       "      <th></th>\n",
       "      <th></th>\n",
       "      <th></th>\n",
       "      <th></th>\n",
       "    </tr>\n",
       "  </thead>\n",
       "  <tbody>\n",
       "    <tr>\n",
       "      <th>2019-08-12 21:52:06</th>\n",
       "      <td>fraud_Padberg-Rogahn</td>\n",
       "      <td>entertainment</td>\n",
       "      <td>71.76</td>\n",
       "      <td>M</td>\n",
       "      <td>3601</td>\n",
       "      <td>477</td>\n",
       "      <td>Naval architect</td>\n",
       "      <td>43.200583</td>\n",
       "      <td>-73.195777</td>\n",
       "      <td>31</td>\n",
       "      <td>Monday</td>\n",
       "      <td>21</td>\n",
       "      <td>Young_Adult</td>\n",
       "    </tr>\n",
       "  </tbody>\n",
       "</table>\n",
       "</div>"
      ],
      "text/plain": [
       "                                   merchant       category    amt gender  \\\n",
       "trans_date_trans_time                                                      \n",
       "2019-08-12 21:52:06    fraud_Padberg-Rogahn  entertainment  71.76      M   \n",
       "\n",
       "                        zip  city_pop              job  merch_lat  merch_long  \\\n",
       "trans_date_trans_time                                                           \n",
       "2019-08-12 21:52:06    3601       477  Naval architect  43.200583  -73.195777   \n",
       "\n",
       "                       age dayofweek  hourofday    age_group  \n",
       "trans_date_trans_time                                         \n",
       "2019-08-12 21:52:06     31    Monday         21  Young_Adult  "
      ]
     },
     "execution_count": 9,
     "metadata": {},
     "output_type": "execute_result"
    }
   ],
   "source": [
    "x_train.sample()"
   ]
  },
  {
   "cell_type": "code",
   "execution_count": 10,
   "id": "66999a4e",
   "metadata": {},
   "outputs": [
    {
     "data": {
      "text/plain": [
       "trans_date_trans_time\n",
       "2020-04-13 18:37:27    0\n",
       "Name: is_fraud, dtype: int64"
      ]
     },
     "execution_count": 10,
     "metadata": {},
     "output_type": "execute_result"
    }
   ],
   "source": [
    "y_train.sample()"
   ]
  },
  {
   "cell_type": "markdown",
   "id": "005fa676",
   "metadata": {},
   "source": [
    "### Break the TEST dataset into x and y sets"
   ]
  },
  {
   "cell_type": "code",
   "execution_count": 11,
   "id": "2dc3eb5d",
   "metadata": {},
   "outputs": [],
   "source": [
    "x_test,y_test = wrangle.test_df_x_y_split(test)"
   ]
  },
  {
   "cell_type": "code",
   "execution_count": 12,
   "id": "5e1f5fbd",
   "metadata": {},
   "outputs": [
    {
     "data": {
      "text/html": [
       "<div>\n",
       "<style scoped>\n",
       "    .dataframe tbody tr th:only-of-type {\n",
       "        vertical-align: middle;\n",
       "    }\n",
       "\n",
       "    .dataframe tbody tr th {\n",
       "        vertical-align: top;\n",
       "    }\n",
       "\n",
       "    .dataframe thead th {\n",
       "        text-align: right;\n",
       "    }\n",
       "</style>\n",
       "<table border=\"1\" class=\"dataframe\">\n",
       "  <thead>\n",
       "    <tr style=\"text-align: right;\">\n",
       "      <th></th>\n",
       "      <th>merchant</th>\n",
       "      <th>category</th>\n",
       "      <th>amt</th>\n",
       "      <th>gender</th>\n",
       "      <th>zip</th>\n",
       "      <th>city_pop</th>\n",
       "      <th>job</th>\n",
       "      <th>merch_lat</th>\n",
       "      <th>merch_long</th>\n",
       "      <th>age</th>\n",
       "      <th>dayofweek</th>\n",
       "      <th>hourofday</th>\n",
       "      <th>age_group</th>\n",
       "    </tr>\n",
       "    <tr>\n",
       "      <th>trans_date_trans_time</th>\n",
       "      <th></th>\n",
       "      <th></th>\n",
       "      <th></th>\n",
       "      <th></th>\n",
       "      <th></th>\n",
       "      <th></th>\n",
       "      <th></th>\n",
       "      <th></th>\n",
       "      <th></th>\n",
       "      <th></th>\n",
       "      <th></th>\n",
       "      <th></th>\n",
       "      <th></th>\n",
       "    </tr>\n",
       "  </thead>\n",
       "  <tbody>\n",
       "    <tr>\n",
       "      <th>2020-11-15 13:41:22</th>\n",
       "      <td>fraud_Jerde-Hermann</td>\n",
       "      <td>travel</td>\n",
       "      <td>6.5</td>\n",
       "      <td>F</td>\n",
       "      <td>92637</td>\n",
       "      <td>45303</td>\n",
       "      <td>Sales executive</td>\n",
       "      <td>33.283938</td>\n",
       "      <td>-118.436578</td>\n",
       "      <td>50</td>\n",
       "      <td>Sunday</td>\n",
       "      <td>13</td>\n",
       "      <td>Early_Mid_Age</td>\n",
       "    </tr>\n",
       "  </tbody>\n",
       "</table>\n",
       "</div>"
      ],
      "text/plain": [
       "                                  merchant category  amt gender    zip  \\\n",
       "trans_date_trans_time                                                    \n",
       "2020-11-15 13:41:22    fraud_Jerde-Hermann   travel  6.5      F  92637   \n",
       "\n",
       "                       city_pop              job  merch_lat  merch_long  age  \\\n",
       "trans_date_trans_time                                                          \n",
       "2020-11-15 13:41:22       45303  Sales executive  33.283938 -118.436578   50   \n",
       "\n",
       "                      dayofweek  hourofday      age_group  \n",
       "trans_date_trans_time                                      \n",
       "2020-11-15 13:41:22      Sunday         13  Early_Mid_Age  "
      ]
     },
     "execution_count": 12,
     "metadata": {},
     "output_type": "execute_result"
    }
   ],
   "source": [
    "x_test.sample()"
   ]
  },
  {
   "cell_type": "code",
   "execution_count": 13,
   "id": "6e6fca0c",
   "metadata": {},
   "outputs": [
    {
     "data": {
      "text/plain": [
       "trans_date_trans_time\n",
       "2020-12-31 18:05:52    0\n",
       "Name: is_fraud, dtype: int64"
      ]
     },
     "execution_count": 13,
     "metadata": {},
     "output_type": "execute_result"
    }
   ],
   "source": [
    "y_test.sample()"
   ]
  },
  {
   "cell_type": "markdown",
   "id": "2e5cc855",
   "metadata": {},
   "source": [
    "# Begin EDA (using the original DF, which includes train and validate data)"
   ]
  },
  {
   "cell_type": "code",
   "execution_count": 14,
   "id": "66ce7081",
   "metadata": {},
   "outputs": [],
   "source": [
    "# df.isna().sum()\n",
    "# There are NO nulls"
   ]
  },
  {
   "cell_type": "markdown",
   "id": "b4968100",
   "metadata": {},
   "source": [
    "### First of all...CLASS IMBALANCE?"
   ]
  },
  {
   "cell_type": "code",
   "execution_count": 15,
   "id": "3bf86e56",
   "metadata": {},
   "outputs": [
    {
     "data": {
      "text/plain": [
       "is_fraud\n",
       "0    1289169\n",
       "1       7506\n",
       "Name: count, dtype: int64"
      ]
     },
     "execution_count": 15,
     "metadata": {},
     "output_type": "execute_result"
    }
   ],
   "source": [
    "df.is_fraud.value_counts()"
   ]
  },
  {
   "cell_type": "code",
   "execution_count": 16,
   "id": "4572d05a",
   "metadata": {},
   "outputs": [
    {
     "data": {
      "image/png": "[encoded data removed]",
      "text/plain": [
       "<Figure size 800x600 with 1 Axes>"
      ]
     },
     "metadata": {},
     "output_type": "display_data"
    }
   ],
   "source": [
    "plt.figure(figsize = (8, 6))\n",
    "ax = sns.countplot(x=df['is_fraud'],color='orange')\n",
    "ax.set_xlabel(xlabel = 'Observations without fraud (O) versus with (1)', fontsize = 12)\n",
    "ax.set_ylabel(ylabel = 'Count of is_fraud', fontsize = 16)\n",
    "ax.set_title(label = 'Class Imbalance: \"is_fraud\" is severly imbalanced', fontsize = 20)\n",
    "\n",
    "plt.show()"
   ]
  },
  {
   "cell_type": "markdown",
   "id": "540d5c94",
   "metadata": {},
   "source": [
    "### Amount?"
   ]
  },
  {
   "cell_type": "code",
   "execution_count": 17,
   "id": "2d7352e6",
   "metadata": {},
   "outputs": [
    {
     "data": {
      "text/html": [
       "<div>\n",
       "<style scoped>\n",
       "    .dataframe tbody tr th:only-of-type {\n",
       "        vertical-align: middle;\n",
       "    }\n",
       "\n",
       "    .dataframe tbody tr th {\n",
       "        vertical-align: top;\n",
       "    }\n",
       "\n",
       "    .dataframe thead th {\n",
       "        text-align: right;\n",
       "    }\n",
       "</style>\n",
       "<table border=\"1\" class=\"dataframe\">\n",
       "  <thead>\n",
       "    <tr style=\"text-align: right;\">\n",
       "      <th></th>\n",
       "      <th>merchant</th>\n",
       "      <th>category</th>\n",
       "      <th>amt</th>\n",
       "      <th>gender</th>\n",
       "      <th>zip</th>\n",
       "      <th>city_pop</th>\n",
       "      <th>job</th>\n",
       "      <th>merch_lat</th>\n",
       "      <th>merch_long</th>\n",
       "      <th>is_fraud</th>\n",
       "      <th>age</th>\n",
       "      <th>dayofweek</th>\n",
       "      <th>hourofday</th>\n",
       "      <th>age_group</th>\n",
       "    </tr>\n",
       "    <tr>\n",
       "      <th>trans_date_trans_time</th>\n",
       "      <th></th>\n",
       "      <th></th>\n",
       "      <th></th>\n",
       "      <th></th>\n",
       "      <th></th>\n",
       "      <th></th>\n",
       "      <th></th>\n",
       "      <th></th>\n",
       "      <th></th>\n",
       "      <th></th>\n",
       "      <th></th>\n",
       "      <th></th>\n",
       "      <th></th>\n",
       "      <th></th>\n",
       "    </tr>\n",
       "  </thead>\n",
       "  <tbody>\n",
       "    <tr>\n",
       "      <th>2020-06-01 14:48:23</th>\n",
       "      <td>fraud_Romaguera, Cruickshank and Greenholt</td>\n",
       "      <td>shopping_net</td>\n",
       "      <td>4.65</td>\n",
       "      <td>F</td>\n",
       "      <td>29911</td>\n",
       "      <td>1725</td>\n",
       "      <td>Social researcher</td>\n",
       "      <td>31.97856</td>\n",
       "      <td>-80.417485</td>\n",
       "      <td>0</td>\n",
       "      <td>45</td>\n",
       "      <td>Monday</td>\n",
       "      <td>14</td>\n",
       "      <td>Early_Mid_Age</td>\n",
       "    </tr>\n",
       "  </tbody>\n",
       "</table>\n",
       "</div>"
      ],
      "text/plain": [
       "                                                         merchant  \\\n",
       "trans_date_trans_time                                               \n",
       "2020-06-01 14:48:23    fraud_Romaguera, Cruickshank and Greenholt   \n",
       "\n",
       "                           category   amt gender    zip  city_pop  \\\n",
       "trans_date_trans_time                                               \n",
       "2020-06-01 14:48:23    shopping_net  4.65      F  29911      1725   \n",
       "\n",
       "                                     job  merch_lat  merch_long  is_fraud  \\\n",
       "trans_date_trans_time                                                       \n",
       "2020-06-01 14:48:23    Social researcher   31.97856  -80.417485         0   \n",
       "\n",
       "                       age dayofweek  hourofday      age_group  \n",
       "trans_date_trans_time                                           \n",
       "2020-06-01 14:48:23     45    Monday         14  Early_Mid_Age  "
      ]
     },
     "execution_count": 17,
     "metadata": {},
     "output_type": "execute_result"
    }
   ],
   "source": [
    "amount_df = df.copy()\n",
    "amount_df.sample()"
   ]
  },
  {
   "cell_type": "code",
   "execution_count": 18,
   "id": "7b020a0e",
   "metadata": {},
   "outputs": [
    {
     "data": {
      "text/plain": [
       "(1.0, 28948.9)"
      ]
     },
     "execution_count": 18,
     "metadata": {},
     "output_type": "execute_result"
    }
   ],
   "source": [
    "amount_df.amt.min(),amount_df.amt.max()"
   ]
  },
  {
   "cell_type": "code",
   "execution_count": 19,
   "id": "d70076c1",
   "metadata": {},
   "outputs": [
    {
     "data": {
      "image/png": "[encoded data removed]",
      "text/plain": [
       "<Figure size 640x480 with 1 Axes>"
      ]
     },
     "metadata": {},
     "output_type": "display_data"
    }
   ],
   "source": [
    "ax = sns.boxplot(data=amount_df[amount_df['is_fraud']==1],y=amount_df[amount_df['is_fraud']==1].amt,x=amount_df[amount_df['is_fraud']==1].is_fraud,width=.5)\n",
    "ax.set_xlabel(xlabel = 'Average amount of fraudulent transaction', fontsize = 12)\n",
    "ax.set_ylabel(ylabel = 'Amount', fontsize = 16)\n",
    "ax.set_title(label = 'The Average Fraudulent Transaction is ~ $530', fontsize = 20)\n",
    "plt.show()"
   ]
  },
  {
   "cell_type": "code",
   "execution_count": 20,
   "id": "ff209d91",
   "metadata": {},
   "outputs": [
    {
     "data": {
      "text/plain": [
       "(1.06, 1376.04, 531.3200919264589)"
      ]
     },
     "execution_count": 20,
     "metadata": {},
     "output_type": "execute_result"
    }
   ],
   "source": [
    "df[df['is_fraud']==1].amt.min(),df[df['is_fraud']==1].amt.max(),df[df['is_fraud']==1].amt.mean()"
   ]
  },
  {
   "cell_type": "code",
   "execution_count": 21,
   "id": "9b5a0ea7",
   "metadata": {},
   "outputs": [
    {
     "data": {
      "text/plain": [
       "array([   0,   50,  100,  150,  200,  250,  300,  350,  400,  450,  500,\n",
       "        550,  600,  650,  700,  750,  800,  850,  900,  950, 1000, 1050,\n",
       "       1100, 1150])"
      ]
     },
     "execution_count": 21,
     "metadata": {},
     "output_type": "execute_result"
    }
   ],
   "source": [
    "np.arange(0,1200,50)"
   ]
  },
  {
   "cell_type": "code",
   "execution_count": 22,
   "id": "00f4afed",
   "metadata": {},
   "outputs": [
    {
     "data": {
      "text/html": [
       "<div>\n",
       "<style scoped>\n",
       "    .dataframe tbody tr th:only-of-type {\n",
       "        vertical-align: middle;\n",
       "    }\n",
       "\n",
       "    .dataframe tbody tr th {\n",
       "        vertical-align: top;\n",
       "    }\n",
       "\n",
       "    .dataframe thead th {\n",
       "        text-align: right;\n",
       "    }\n",
       "</style>\n",
       "<table border=\"1\" class=\"dataframe\">\n",
       "  <thead>\n",
       "    <tr style=\"text-align: right;\">\n",
       "      <th></th>\n",
       "      <th>merchant</th>\n",
       "      <th>category</th>\n",
       "      <th>amt</th>\n",
       "      <th>gender</th>\n",
       "      <th>zip</th>\n",
       "      <th>city_pop</th>\n",
       "      <th>job</th>\n",
       "      <th>merch_lat</th>\n",
       "      <th>merch_long</th>\n",
       "      <th>is_fraud</th>\n",
       "      <th>age</th>\n",
       "      <th>dayofweek</th>\n",
       "      <th>hourofday</th>\n",
       "      <th>age_group</th>\n",
       "      <th>amt_bin</th>\n",
       "    </tr>\n",
       "    <tr>\n",
       "      <th>trans_date_trans_time</th>\n",
       "      <th></th>\n",
       "      <th></th>\n",
       "      <th></th>\n",
       "      <th></th>\n",
       "      <th></th>\n",
       "      <th></th>\n",
       "      <th></th>\n",
       "      <th></th>\n",
       "      <th></th>\n",
       "      <th></th>\n",
       "      <th></th>\n",
       "      <th></th>\n",
       "      <th></th>\n",
       "      <th></th>\n",
       "      <th></th>\n",
       "    </tr>\n",
       "  </thead>\n",
       "  <tbody>\n",
       "    <tr>\n",
       "      <th>2020-04-05 20:26:27</th>\n",
       "      <td>fraud_Deckow-Dare</td>\n",
       "      <td>food_dining</td>\n",
       "      <td>48.99</td>\n",
       "      <td>F</td>\n",
       "      <td>64058</td>\n",
       "      <td>123373</td>\n",
       "      <td>Engineer, production</td>\n",
       "      <td>39.212698</td>\n",
       "      <td>-94.760683</td>\n",
       "      <td>0</td>\n",
       "      <td>27</td>\n",
       "      <td>Sunday</td>\n",
       "      <td>20</td>\n",
       "      <td>Young_Adult</td>\n",
       "      <td>[0, 50)</td>\n",
       "    </tr>\n",
       "    <tr>\n",
       "      <th>2020-03-10 13:10:17</th>\n",
       "      <td>fraud_Monahan-Morar</td>\n",
       "      <td>personal_care</td>\n",
       "      <td>3.48</td>\n",
       "      <td>F</td>\n",
       "      <td>25106</td>\n",
       "      <td>642</td>\n",
       "      <td>Building services engineer</td>\n",
       "      <td>39.721017</td>\n",
       "      <td>-82.750481</td>\n",
       "      <td>0</td>\n",
       "      <td>73</td>\n",
       "      <td>Tuesday</td>\n",
       "      <td>13</td>\n",
       "      <td>Retirement_Age</td>\n",
       "      <td>[0, 50)</td>\n",
       "    </tr>\n",
       "  </tbody>\n",
       "</table>\n",
       "</div>"
      ],
      "text/plain": [
       "                                  merchant       category    amt gender  \\\n",
       "trans_date_trans_time                                                     \n",
       "2020-04-05 20:26:27      fraud_Deckow-Dare    food_dining  48.99      F   \n",
       "2020-03-10 13:10:17    fraud_Monahan-Morar  personal_care   3.48      F   \n",
       "\n",
       "                         zip  city_pop                         job  merch_lat  \\\n",
       "trans_date_trans_time                                                           \n",
       "2020-04-05 20:26:27    64058    123373        Engineer, production  39.212698   \n",
       "2020-03-10 13:10:17    25106       642  Building services engineer  39.721017   \n",
       "\n",
       "                       merch_long  is_fraud  age dayofweek  hourofday  \\\n",
       "trans_date_trans_time                                                   \n",
       "2020-04-05 20:26:27    -94.760683         0   27    Sunday         20   \n",
       "2020-03-10 13:10:17    -82.750481         0   73   Tuesday         13   \n",
       "\n",
       "                            age_group  amt_bin  \n",
       "trans_date_trans_time                           \n",
       "2020-04-05 20:26:27       Young_Adult  [0, 50)  \n",
       "2020-03-10 13:10:17    Retirement_Age  [0, 50)  "
      ]
     },
     "execution_count": 22,
     "metadata": {},
     "output_type": "execute_result"
    }
   ],
   "source": [
    "# df['age_group'] = pd.cut(df['age'],[0,25,35,45,55,65,75,100], labels= ['Youth','Young_Adult','Adult','Early_Mid_Age','Mid_Age','Retirement_Age','Older_Person'],right=False)\n",
    "\n",
    "amount_df['amt_bin'] = pd.cut(amount_df['amt'],np.arange(0,1200,50), right = False)\n",
    "amount_df.sample(2)"
   ]
  },
  {
   "cell_type": "code",
   "execution_count": 23,
   "id": "4aa31c3c",
   "metadata": {},
   "outputs": [
    {
     "data": {
      "text/plain": [
       "amt_bin\n",
       "[0, 50)         1607\n",
       "[300, 350)       974\n",
       "[250, 300)       701\n",
       "[900, 950)       487\n",
       "[950, 1000)      456\n",
       "[850, 900)       450\n",
       "[750, 800)       411\n",
       "[800, 850)       381\n",
       "[1000, 1050)     364\n",
       "[1050, 1100)     282\n",
       "[700, 750)       252\n",
       "[350, 400)       186\n",
       "[1100, 1150)     165\n",
       "[100, 150)       145\n",
       "[650, 700)       122\n",
       "[200, 250)        94\n",
       "[450, 500)        61\n",
       "[500, 550)        50\n",
       "[600, 650)        45\n",
       "[50, 100)         45\n",
       "[550, 600)        44\n",
       "[400, 450)        40\n",
       "[150, 200)         5\n",
       "Name: count, dtype: int64"
      ]
     },
     "execution_count": 23,
     "metadata": {},
     "output_type": "execute_result"
    }
   ],
   "source": [
    "amount_df[amount_df['is_fraud']==1].amt_bin.value_counts()"
   ]
  },
  {
   "cell_type": "markdown",
   "id": "0e439be5",
   "metadata": {},
   "source": [
    "### Could there be a polynomial relationship in the amount bins?"
   ]
  },
  {
   "cell_type": "code",
   "execution_count": 78,
   "id": "69933b8e",
   "metadata": {},
   "outputs": [],
   "source": [
    "# amount_df['amt_bin_fraud_ratio'] = \n",
    "# amount_df[amount_df['is_fraud']==1]['amt_bin']\n",
    "\n",
    "down_sample = amount_df.sample(10_000)"
   ]
  },
  {
   "cell_type": "code",
   "execution_count": 89,
   "id": "c62ccf45",
   "metadata": {},
   "outputs": [
    {
     "data": {
      "text/html": [
       "<div>\n",
       "<style scoped>\n",
       "    .dataframe tbody tr th:only-of-type {\n",
       "        vertical-align: middle;\n",
       "    }\n",
       "\n",
       "    .dataframe tbody tr th {\n",
       "        vertical-align: top;\n",
       "    }\n",
       "\n",
       "    .dataframe thead th {\n",
       "        text-align: right;\n",
       "    }\n",
       "</style>\n",
       "<table border=\"1\" class=\"dataframe\">\n",
       "  <thead>\n",
       "    <tr style=\"text-align: right;\">\n",
       "      <th></th>\n",
       "      <th>merchant</th>\n",
       "      <th>category</th>\n",
       "      <th>amt</th>\n",
       "      <th>gender</th>\n",
       "      <th>zip</th>\n",
       "      <th>city_pop</th>\n",
       "      <th>job</th>\n",
       "      <th>merch_lat</th>\n",
       "      <th>merch_long</th>\n",
       "      <th>is_fraud</th>\n",
       "      <th>age</th>\n",
       "      <th>dayofweek</th>\n",
       "      <th>hourofday</th>\n",
       "      <th>age_group</th>\n",
       "      <th>amt_bin</th>\n",
       "    </tr>\n",
       "    <tr>\n",
       "      <th>trans_date_trans_time</th>\n",
       "      <th></th>\n",
       "      <th></th>\n",
       "      <th></th>\n",
       "      <th></th>\n",
       "      <th></th>\n",
       "      <th></th>\n",
       "      <th></th>\n",
       "      <th></th>\n",
       "      <th></th>\n",
       "      <th></th>\n",
       "      <th></th>\n",
       "      <th></th>\n",
       "      <th></th>\n",
       "      <th></th>\n",
       "      <th></th>\n",
       "    </tr>\n",
       "  </thead>\n",
       "  <tbody>\n",
       "    <tr>\n",
       "      <th>2019-12-15 16:39:28</th>\n",
       "      <td>fraud_Lynch-Wisozk</td>\n",
       "      <td>home</td>\n",
       "      <td>20.31</td>\n",
       "      <td>M</td>\n",
       "      <td>80138</td>\n",
       "      <td>84861</td>\n",
       "      <td>Materials engineer</td>\n",
       "      <td>39.438077</td>\n",
       "      <td>-104.728213</td>\n",
       "      <td>0</td>\n",
       "      <td>87</td>\n",
       "      <td>Sunday</td>\n",
       "      <td>16</td>\n",
       "      <td>Older_Person</td>\n",
       "      <td>[0, 50)</td>\n",
       "    </tr>\n",
       "  </tbody>\n",
       "</table>\n",
       "</div>"
      ],
      "text/plain": [
       "                                 merchant category    amt gender    zip  \\\n",
       "trans_date_trans_time                                                     \n",
       "2019-12-15 16:39:28    fraud_Lynch-Wisozk     home  20.31      M  80138   \n",
       "\n",
       "                       city_pop                 job  merch_lat  merch_long  \\\n",
       "trans_date_trans_time                                                        \n",
       "2019-12-15 16:39:28       84861  Materials engineer  39.438077 -104.728213   \n",
       "\n",
       "                       is_fraud  age dayofweek  hourofday     age_group  \\\n",
       "trans_date_trans_time                                                     \n",
       "2019-12-15 16:39:28           0   87    Sunday         16  Older_Person   \n",
       "\n",
       "                       amt_bin  \n",
       "trans_date_trans_time           \n",
       "2019-12-15 16:39:28    [0, 50)  "
      ]
     },
     "execution_count": 89,
     "metadata": {},
     "output_type": "execute_result"
    }
   ],
   "source": [
    "down_sample.head(1)"
   ]
  },
  {
   "cell_type": "code",
   "execution_count": 88,
   "id": "bc369264",
   "metadata": {},
   "outputs": [
    {
     "data": {
      "text/html": [
       "<div>\n",
       "<style scoped>\n",
       "    .dataframe tbody tr th:only-of-type {\n",
       "        vertical-align: middle;\n",
       "    }\n",
       "\n",
       "    .dataframe tbody tr th {\n",
       "        vertical-align: top;\n",
       "    }\n",
       "\n",
       "    .dataframe thead th {\n",
       "        text-align: right;\n",
       "    }\n",
       "</style>\n",
       "<table border=\"1\" class=\"dataframe\">\n",
       "  <thead>\n",
       "    <tr style=\"text-align: right;\">\n",
       "      <th>amt_bin</th>\n",
       "      <th>[0, 50)</th>\n",
       "      <th>[50, 100)</th>\n",
       "      <th>[100, 150)</th>\n",
       "      <th>[150, 200)</th>\n",
       "      <th>[200, 250)</th>\n",
       "      <th>[250, 300)</th>\n",
       "      <th>[300, 350)</th>\n",
       "      <th>[350, 400)</th>\n",
       "      <th>[400, 450)</th>\n",
       "      <th>[450, 500)</th>\n",
       "      <th>...</th>\n",
       "      <th>[650, 700)</th>\n",
       "      <th>[700, 750)</th>\n",
       "      <th>[750, 800)</th>\n",
       "      <th>[800, 850)</th>\n",
       "      <th>[850, 900)</th>\n",
       "      <th>[900, 950)</th>\n",
       "      <th>[950, 1000)</th>\n",
       "      <th>[1000, 1050)</th>\n",
       "      <th>[1050, 1100)</th>\n",
       "      <th>[1100, 1150)</th>\n",
       "    </tr>\n",
       "    <tr>\n",
       "      <th>is_fraud</th>\n",
       "      <th></th>\n",
       "      <th></th>\n",
       "      <th></th>\n",
       "      <th></th>\n",
       "      <th></th>\n",
       "      <th></th>\n",
       "      <th></th>\n",
       "      <th></th>\n",
       "      <th></th>\n",
       "      <th></th>\n",
       "      <th></th>\n",
       "      <th></th>\n",
       "      <th></th>\n",
       "      <th></th>\n",
       "      <th></th>\n",
       "      <th></th>\n",
       "      <th></th>\n",
       "      <th></th>\n",
       "      <th></th>\n",
       "      <th></th>\n",
       "      <th></th>\n",
       "    </tr>\n",
       "  </thead>\n",
       "  <tbody>\n",
       "    <tr>\n",
       "      <th>0</th>\n",
       "      <td>5160</td>\n",
       "      <td>2974</td>\n",
       "      <td>990</td>\n",
       "      <td>379</td>\n",
       "      <td>175</td>\n",
       "      <td>55</td>\n",
       "      <td>40</td>\n",
       "      <td>21</td>\n",
       "      <td>21</td>\n",
       "      <td>25</td>\n",
       "      <td>...</td>\n",
       "      <td>6</td>\n",
       "      <td>5</td>\n",
       "      <td>4</td>\n",
       "      <td>1</td>\n",
       "      <td>5</td>\n",
       "      <td>1</td>\n",
       "      <td>4</td>\n",
       "      <td>2</td>\n",
       "      <td>3</td>\n",
       "      <td>0</td>\n",
       "    </tr>\n",
       "    <tr>\n",
       "      <th>1</th>\n",
       "      <td>13</td>\n",
       "      <td>0</td>\n",
       "      <td>3</td>\n",
       "      <td>0</td>\n",
       "      <td>0</td>\n",
       "      <td>5</td>\n",
       "      <td>9</td>\n",
       "      <td>0</td>\n",
       "      <td>0</td>\n",
       "      <td>1</td>\n",
       "      <td>...</td>\n",
       "      <td>1</td>\n",
       "      <td>1</td>\n",
       "      <td>3</td>\n",
       "      <td>2</td>\n",
       "      <td>3</td>\n",
       "      <td>4</td>\n",
       "      <td>6</td>\n",
       "      <td>4</td>\n",
       "      <td>5</td>\n",
       "      <td>4</td>\n",
       "    </tr>\n",
       "  </tbody>\n",
       "</table>\n",
       "<p>2 rows × 23 columns</p>\n",
       "</div>"
      ],
      "text/plain": [
       "amt_bin   [0, 50)  [50, 100)  [100, 150)  [150, 200)  [200, 250)  [250, 300)  \\\n",
       "is_fraud                                                                       \n",
       "0            5160       2974         990         379         175          55   \n",
       "1              13          0           3           0           0           5   \n",
       "\n",
       "amt_bin   [300, 350)  [350, 400)  [400, 450)  [450, 500)  ...  [650, 700)  \\\n",
       "is_fraud                                                  ...               \n",
       "0                 40          21          21          25  ...           6   \n",
       "1                  9           0           0           1  ...           1   \n",
       "\n",
       "amt_bin   [700, 750)  [750, 800)  [800, 850)  [850, 900)  [900, 950)  \\\n",
       "is_fraud                                                               \n",
       "0                  5           4           1           5           1   \n",
       "1                  1           3           2           3           4   \n",
       "\n",
       "amt_bin   [950, 1000)  [1000, 1050)  [1050, 1100)  [1100, 1150)  \n",
       "is_fraud                                                         \n",
       "0                   4             2             3             0  \n",
       "1                   6             4             5             4  \n",
       "\n",
       "[2 rows x 23 columns]"
      ]
     },
     "execution_count": 88,
     "metadata": {},
     "output_type": "execute_result"
    }
   ],
   "source": [
    "# down_sample.amt.groupby([down_sample['amt_bin'],down_sample['is_fraud'],down_sample['amt_bin']]).size().unstack(0)\n",
    "down_sample.groupby([down_sample['amt_bin'],down_sample['is_fraud']]).size().unstack(0)"
   ]
  },
  {
   "cell_type": "code",
   "execution_count": 82,
   "id": "24f02e95",
   "metadata": {},
   "outputs": [],
   "source": [
    "bins_fraud_breakdown = down_sample.groupby([down_sample['amt_bin'],down_sample['is_fraud']]).size().unstack(0)\n",
    "bins_fraud_sum = down_sample.groupby([down_sample['amt_bin'],down_sample['is_fraud']]).size().unstack(0).sum()"
   ]
  },
  {
   "cell_type": "code",
   "execution_count": 95,
   "id": "8064b563",
   "metadata": {},
   "outputs": [
    {
     "data": {
      "text/html": [
       "<div>\n",
       "<style scoped>\n",
       "    .dataframe tbody tr th:only-of-type {\n",
       "        vertical-align: middle;\n",
       "    }\n",
       "\n",
       "    .dataframe tbody tr th {\n",
       "        vertical-align: top;\n",
       "    }\n",
       "\n",
       "    .dataframe thead th {\n",
       "        text-align: right;\n",
       "    }\n",
       "</style>\n",
       "<table border=\"1\" class=\"dataframe\">\n",
       "  <thead>\n",
       "    <tr style=\"text-align: right;\">\n",
       "      <th>amt_bin</th>\n",
       "      <th>[0, 50)</th>\n",
       "      <th>[50, 100)</th>\n",
       "      <th>[100, 150)</th>\n",
       "      <th>[150, 200)</th>\n",
       "      <th>[200, 250)</th>\n",
       "      <th>[250, 300)</th>\n",
       "      <th>[300, 350)</th>\n",
       "      <th>[350, 400)</th>\n",
       "      <th>[400, 450)</th>\n",
       "      <th>[450, 500)</th>\n",
       "      <th>...</th>\n",
       "      <th>[650, 700)</th>\n",
       "      <th>[700, 750)</th>\n",
       "      <th>[750, 800)</th>\n",
       "      <th>[800, 850)</th>\n",
       "      <th>[850, 900)</th>\n",
       "      <th>[900, 950)</th>\n",
       "      <th>[950, 1000)</th>\n",
       "      <th>[1000, 1050)</th>\n",
       "      <th>[1050, 1100)</th>\n",
       "      <th>[1100, 1150)</th>\n",
       "    </tr>\n",
       "    <tr>\n",
       "      <th>is_fraud</th>\n",
       "      <th></th>\n",
       "      <th></th>\n",
       "      <th></th>\n",
       "      <th></th>\n",
       "      <th></th>\n",
       "      <th></th>\n",
       "      <th></th>\n",
       "      <th></th>\n",
       "      <th></th>\n",
       "      <th></th>\n",
       "      <th></th>\n",
       "      <th></th>\n",
       "      <th></th>\n",
       "      <th></th>\n",
       "      <th></th>\n",
       "      <th></th>\n",
       "      <th></th>\n",
       "      <th></th>\n",
       "      <th></th>\n",
       "      <th></th>\n",
       "      <th></th>\n",
       "    </tr>\n",
       "  </thead>\n",
       "  <tbody>\n",
       "    <tr>\n",
       "      <th>0</th>\n",
       "      <td>0.997487</td>\n",
       "      <td>1.0</td>\n",
       "      <td>0.996979</td>\n",
       "      <td>1.0</td>\n",
       "      <td>1.0</td>\n",
       "      <td>0.916667</td>\n",
       "      <td>0.816327</td>\n",
       "      <td>1.0</td>\n",
       "      <td>1.0</td>\n",
       "      <td>0.961538</td>\n",
       "      <td>...</td>\n",
       "      <td>0.857143</td>\n",
       "      <td>0.833333</td>\n",
       "      <td>0.571429</td>\n",
       "      <td>0.333333</td>\n",
       "      <td>0.625</td>\n",
       "      <td>0.2</td>\n",
       "      <td>0.4</td>\n",
       "      <td>0.333333</td>\n",
       "      <td>0.375</td>\n",
       "      <td>0.0</td>\n",
       "    </tr>\n",
       "    <tr>\n",
       "      <th>1</th>\n",
       "      <td>0.002513</td>\n",
       "      <td>0.0</td>\n",
       "      <td>0.003021</td>\n",
       "      <td>0.0</td>\n",
       "      <td>0.0</td>\n",
       "      <td>0.083333</td>\n",
       "      <td>0.183673</td>\n",
       "      <td>0.0</td>\n",
       "      <td>0.0</td>\n",
       "      <td>0.038462</td>\n",
       "      <td>...</td>\n",
       "      <td>0.142857</td>\n",
       "      <td>0.166667</td>\n",
       "      <td>0.428571</td>\n",
       "      <td>0.666667</td>\n",
       "      <td>0.375</td>\n",
       "      <td>0.8</td>\n",
       "      <td>0.6</td>\n",
       "      <td>0.666667</td>\n",
       "      <td>0.625</td>\n",
       "      <td>1.0</td>\n",
       "    </tr>\n",
       "  </tbody>\n",
       "</table>\n",
       "<p>2 rows × 23 columns</p>\n",
       "</div>"
      ],
      "text/plain": [
       "amt_bin    [0, 50)  [50, 100)  [100, 150)  [150, 200)  [200, 250)  [250, 300)  \\\n",
       "is_fraud                                                                        \n",
       "0         0.997487        1.0    0.996979         1.0         1.0    0.916667   \n",
       "1         0.002513        0.0    0.003021         0.0         0.0    0.083333   \n",
       "\n",
       "amt_bin   [300, 350)  [350, 400)  [400, 450)  [450, 500)  ...  [650, 700)  \\\n",
       "is_fraud                                                  ...               \n",
       "0           0.816327         1.0         1.0    0.961538  ...    0.857143   \n",
       "1           0.183673         0.0         0.0    0.038462  ...    0.142857   \n",
       "\n",
       "amt_bin   [700, 750)  [750, 800)  [800, 850)  [850, 900)  [900, 950)  \\\n",
       "is_fraud                                                               \n",
       "0           0.833333    0.571429    0.333333       0.625         0.2   \n",
       "1           0.166667    0.428571    0.666667       0.375         0.8   \n",
       "\n",
       "amt_bin   [950, 1000)  [1000, 1050)  [1050, 1100)  [1100, 1150)  \n",
       "is_fraud                                                         \n",
       "0                 0.4      0.333333         0.375           0.0  \n",
       "1                 0.6      0.666667         0.625           1.0  \n",
       "\n",
       "[2 rows x 23 columns]"
      ]
     },
     "execution_count": 95,
     "metadata": {},
     "output_type": "execute_result"
    }
   ],
   "source": [
    "percentage_df = bins_fraud_breakdown/bins_fraud_sum\n",
    "percentage_df"
   ]
  },
  {
   "cell_type": "code",
   "execution_count": 97,
   "id": "c0677a4d",
   "metadata": {},
   "outputs": [
    {
     "data": {
      "text/html": [
       "<div>\n",
       "<style scoped>\n",
       "    .dataframe tbody tr th:only-of-type {\n",
       "        vertical-align: middle;\n",
       "    }\n",
       "\n",
       "    .dataframe tbody tr th {\n",
       "        vertical-align: top;\n",
       "    }\n",
       "\n",
       "    .dataframe thead th {\n",
       "        text-align: right;\n",
       "    }\n",
       "</style>\n",
       "<table border=\"1\" class=\"dataframe\">\n",
       "  <thead>\n",
       "    <tr style=\"text-align: right;\">\n",
       "      <th>amt_bin</th>\n",
       "      <th>[0, 50)</th>\n",
       "      <th>[50, 100)</th>\n",
       "      <th>[100, 150)</th>\n",
       "      <th>[150, 200)</th>\n",
       "      <th>[200, 250)</th>\n",
       "      <th>[250, 300)</th>\n",
       "      <th>[300, 350)</th>\n",
       "      <th>[350, 400)</th>\n",
       "      <th>[400, 450)</th>\n",
       "      <th>[450, 500)</th>\n",
       "      <th>...</th>\n",
       "      <th>[650, 700)</th>\n",
       "      <th>[700, 750)</th>\n",
       "      <th>[750, 800)</th>\n",
       "      <th>[800, 850)</th>\n",
       "      <th>[850, 900)</th>\n",
       "      <th>[900, 950)</th>\n",
       "      <th>[950, 1000)</th>\n",
       "      <th>[1000, 1050)</th>\n",
       "      <th>[1050, 1100)</th>\n",
       "      <th>[1100, 1150)</th>\n",
       "    </tr>\n",
       "    <tr>\n",
       "      <th>is_fraud</th>\n",
       "      <th></th>\n",
       "      <th></th>\n",
       "      <th></th>\n",
       "      <th></th>\n",
       "      <th></th>\n",
       "      <th></th>\n",
       "      <th></th>\n",
       "      <th></th>\n",
       "      <th></th>\n",
       "      <th></th>\n",
       "      <th></th>\n",
       "      <th></th>\n",
       "      <th></th>\n",
       "      <th></th>\n",
       "      <th></th>\n",
       "      <th></th>\n",
       "      <th></th>\n",
       "      <th></th>\n",
       "      <th></th>\n",
       "      <th></th>\n",
       "      <th></th>\n",
       "    </tr>\n",
       "  </thead>\n",
       "  <tbody>\n",
       "    <tr>\n",
       "      <th>1</th>\n",
       "      <td>0.002513</td>\n",
       "      <td>0.0</td>\n",
       "      <td>0.003021</td>\n",
       "      <td>0.0</td>\n",
       "      <td>0.0</td>\n",
       "      <td>0.083333</td>\n",
       "      <td>0.183673</td>\n",
       "      <td>0.0</td>\n",
       "      <td>0.0</td>\n",
       "      <td>0.038462</td>\n",
       "      <td>...</td>\n",
       "      <td>0.142857</td>\n",
       "      <td>0.166667</td>\n",
       "      <td>0.428571</td>\n",
       "      <td>0.666667</td>\n",
       "      <td>0.375</td>\n",
       "      <td>0.8</td>\n",
       "      <td>0.6</td>\n",
       "      <td>0.666667</td>\n",
       "      <td>0.625</td>\n",
       "      <td>1.0</td>\n",
       "    </tr>\n",
       "  </tbody>\n",
       "</table>\n",
       "<p>1 rows × 23 columns</p>\n",
       "</div>"
      ],
      "text/plain": [
       "amt_bin    [0, 50)  [50, 100)  [100, 150)  [150, 200)  [200, 250)  [250, 300)  \\\n",
       "is_fraud                                                                        \n",
       "1         0.002513        0.0    0.003021         0.0         0.0    0.083333   \n",
       "\n",
       "amt_bin   [300, 350)  [350, 400)  [400, 450)  [450, 500)  ...  [650, 700)  \\\n",
       "is_fraud                                                  ...               \n",
       "1           0.183673         0.0         0.0    0.038462  ...    0.142857   \n",
       "\n",
       "amt_bin   [700, 750)  [750, 800)  [800, 850)  [850, 900)  [900, 950)  \\\n",
       "is_fraud                                                               \n",
       "1           0.166667    0.428571    0.666667       0.375         0.8   \n",
       "\n",
       "amt_bin   [950, 1000)  [1000, 1050)  [1050, 1100)  [1100, 1150)  \n",
       "is_fraud                                                         \n",
       "1                 0.6      0.666667         0.625           1.0  \n",
       "\n",
       "[1 rows x 23 columns]"
      ]
     },
     "execution_count": 97,
     "metadata": {},
     "output_type": "execute_result"
    }
   ],
   "source": [
    "ratio_fraud = percentage_df[percentage_df.index == 1]\n",
    "ratio_fraud"
   ]
  },
  {
   "cell_type": "code",
   "execution_count": 104,
   "id": "5c7d6fc4",
   "metadata": {},
   "outputs": [
    {
     "data": {
      "text/html": [
       "<div>\n",
       "<style scoped>\n",
       "    .dataframe tbody tr th:only-of-type {\n",
       "        vertical-align: middle;\n",
       "    }\n",
       "\n",
       "    .dataframe tbody tr th {\n",
       "        vertical-align: top;\n",
       "    }\n",
       "\n",
       "    .dataframe thead th {\n",
       "        text-align: right;\n",
       "    }\n",
       "</style>\n",
       "<table border=\"1\" class=\"dataframe\">\n",
       "  <thead>\n",
       "    <tr style=\"text-align: right;\">\n",
       "      <th></th>\n",
       "      <th></th>\n",
       "      <th>0</th>\n",
       "    </tr>\n",
       "    <tr>\n",
       "      <th>amt_bin</th>\n",
       "      <th>is_fraud</th>\n",
       "      <th></th>\n",
       "    </tr>\n",
       "  </thead>\n",
       "  <tbody>\n",
       "    <tr>\n",
       "      <th>[0, 50)</th>\n",
       "      <th>1</th>\n",
       "      <td>0.002513</td>\n",
       "    </tr>\n",
       "    <tr>\n",
       "      <th>[50, 100)</th>\n",
       "      <th>1</th>\n",
       "      <td>0.000000</td>\n",
       "    </tr>\n",
       "    <tr>\n",
       "      <th>[100, 150)</th>\n",
       "      <th>1</th>\n",
       "      <td>0.003021</td>\n",
       "    </tr>\n",
       "    <tr>\n",
       "      <th>[150, 200)</th>\n",
       "      <th>1</th>\n",
       "      <td>0.000000</td>\n",
       "    </tr>\n",
       "    <tr>\n",
       "      <th>[200, 250)</th>\n",
       "      <th>1</th>\n",
       "      <td>0.000000</td>\n",
       "    </tr>\n",
       "    <tr>\n",
       "      <th>[250, 300)</th>\n",
       "      <th>1</th>\n",
       "      <td>0.083333</td>\n",
       "    </tr>\n",
       "    <tr>\n",
       "      <th>[300, 350)</th>\n",
       "      <th>1</th>\n",
       "      <td>0.183673</td>\n",
       "    </tr>\n",
       "    <tr>\n",
       "      <th>[350, 400)</th>\n",
       "      <th>1</th>\n",
       "      <td>0.000000</td>\n",
       "    </tr>\n",
       "    <tr>\n",
       "      <th>[400, 450)</th>\n",
       "      <th>1</th>\n",
       "      <td>0.000000</td>\n",
       "    </tr>\n",
       "    <tr>\n",
       "      <th>[450, 500)</th>\n",
       "      <th>1</th>\n",
       "      <td>0.038462</td>\n",
       "    </tr>\n",
       "    <tr>\n",
       "      <th>[500, 550)</th>\n",
       "      <th>1</th>\n",
       "      <td>0.035714</td>\n",
       "    </tr>\n",
       "    <tr>\n",
       "      <th>[550, 600)</th>\n",
       "      <th>1</th>\n",
       "      <td>0.062500</td>\n",
       "    </tr>\n",
       "    <tr>\n",
       "      <th>[600, 650)</th>\n",
       "      <th>1</th>\n",
       "      <td>0.333333</td>\n",
       "    </tr>\n",
       "    <tr>\n",
       "      <th>[650, 700)</th>\n",
       "      <th>1</th>\n",
       "      <td>0.142857</td>\n",
       "    </tr>\n",
       "    <tr>\n",
       "      <th>[700, 750)</th>\n",
       "      <th>1</th>\n",
       "      <td>0.166667</td>\n",
       "    </tr>\n",
       "    <tr>\n",
       "      <th>[750, 800)</th>\n",
       "      <th>1</th>\n",
       "      <td>0.428571</td>\n",
       "    </tr>\n",
       "    <tr>\n",
       "      <th>[800, 850)</th>\n",
       "      <th>1</th>\n",
       "      <td>0.666667</td>\n",
       "    </tr>\n",
       "    <tr>\n",
       "      <th>[850, 900)</th>\n",
       "      <th>1</th>\n",
       "      <td>0.375000</td>\n",
       "    </tr>\n",
       "    <tr>\n",
       "      <th>[900, 950)</th>\n",
       "      <th>1</th>\n",
       "      <td>0.800000</td>\n",
       "    </tr>\n",
       "    <tr>\n",
       "      <th>[950, 1000)</th>\n",
       "      <th>1</th>\n",
       "      <td>0.600000</td>\n",
       "    </tr>\n",
       "    <tr>\n",
       "      <th>[1000, 1050)</th>\n",
       "      <th>1</th>\n",
       "      <td>0.666667</td>\n",
       "    </tr>\n",
       "    <tr>\n",
       "      <th>[1050, 1100)</th>\n",
       "      <th>1</th>\n",
       "      <td>0.625000</td>\n",
       "    </tr>\n",
       "    <tr>\n",
       "      <th>[1100, 1150)</th>\n",
       "      <th>1</th>\n",
       "      <td>1.000000</td>\n",
       "    </tr>\n",
       "  </tbody>\n",
       "</table>\n",
       "</div>"
      ],
      "text/plain": [
       "                              0\n",
       "amt_bin      is_fraud          \n",
       "[0, 50)      1         0.002513\n",
       "[50, 100)    1         0.000000\n",
       "[100, 150)   1         0.003021\n",
       "[150, 200)   1         0.000000\n",
       "[200, 250)   1         0.000000\n",
       "[250, 300)   1         0.083333\n",
       "[300, 350)   1         0.183673\n",
       "[350, 400)   1         0.000000\n",
       "[400, 450)   1         0.000000\n",
       "[450, 500)   1         0.038462\n",
       "[500, 550)   1         0.035714\n",
       "[550, 600)   1         0.062500\n",
       "[600, 650)   1         0.333333\n",
       "[650, 700)   1         0.142857\n",
       "[700, 750)   1         0.166667\n",
       "[750, 800)   1         0.428571\n",
       "[800, 850)   1         0.666667\n",
       "[850, 900)   1         0.375000\n",
       "[900, 950)   1         0.800000\n",
       "[950, 1000)  1         0.600000\n",
       "[1000, 1050) 1         0.666667\n",
       "[1050, 1100) 1         0.625000\n",
       "[1100, 1150) 1         1.000000"
      ]
     },
     "execution_count": 104,
     "metadata": {},
     "output_type": "execute_result"
    }
   ],
   "source": [
    "temp_df = pd.DataFrame(ratio_fraud.unstack(0))\n",
    "temp_df"
   ]
  },
  {
   "cell_type": "code",
   "execution_count": 115,
   "id": "55e1a071",
   "metadata": {},
   "outputs": [
    {
     "ename": "ValueError",
     "evalue": "Cannot remove 1 levels from an index with 1 levels: at least one level must be left.",
     "output_type": "error",
     "traceback": [
      "\u001b[0;31m---------------------------------------------------------------------------\u001b[0m",
      "\u001b[0;31mValueError\u001b[0m                                Traceback (most recent call last)",
      "Cell \u001b[0;32mIn[115], line 3\u001b[0m\n\u001b[1;32m      1\u001b[0m \u001b[38;5;66;03m# mi = pd.MultiIndex\u001b[39;00m\n\u001b[1;32m      2\u001b[0m \u001b[38;5;66;03m# temp_df.index = pd.MultiIndex.droplevel('is_fraud')\u001b[39;00m\n\u001b[0;32m----> 3\u001b[0m temp_df\u001b[38;5;241m.\u001b[39mdroplevel(\u001b[38;5;241m0\u001b[39m,axis\u001b[38;5;241m=\u001b[39m\u001b[38;5;241m1\u001b[39m)\n",
      "File \u001b[0;32m/opt/homebrew/anaconda3/lib/python3.11/site-packages/pandas/core/generic.py:849\u001b[0m, in \u001b[0;36mNDFrame.droplevel\u001b[0;34m(self, level, axis)\u001b[0m\n\u001b[1;32m    790\u001b[0m \u001b[38;5;250m\u001b[39m\u001b[38;5;124;03m\"\"\"\u001b[39;00m\n\u001b[1;32m    791\u001b[0m \u001b[38;5;124;03mReturn {klass} with requested index / column level(s) removed.\u001b[39;00m\n\u001b[1;32m    792\u001b[0m \n\u001b[0;32m   (...)\u001b[0m\n\u001b[1;32m    846\u001b[0m \u001b[38;5;124;03m9 10    11  12\u001b[39;00m\n\u001b[1;32m    847\u001b[0m \u001b[38;5;124;03m\"\"\"\u001b[39;00m\n\u001b[1;32m    848\u001b[0m labels \u001b[38;5;241m=\u001b[39m \u001b[38;5;28mself\u001b[39m\u001b[38;5;241m.\u001b[39m_get_axis(axis)\n\u001b[0;32m--> 849\u001b[0m new_labels \u001b[38;5;241m=\u001b[39m labels\u001b[38;5;241m.\u001b[39mdroplevel(level)\n\u001b[1;32m    850\u001b[0m \u001b[38;5;28;01mreturn\u001b[39;00m \u001b[38;5;28mself\u001b[39m\u001b[38;5;241m.\u001b[39mset_axis(new_labels, axis\u001b[38;5;241m=\u001b[39maxis, copy\u001b[38;5;241m=\u001b[39m\u001b[38;5;28;01mNone\u001b[39;00m)\n",
      "File \u001b[0;32m/opt/homebrew/anaconda3/lib/python3.11/site-packages/pandas/core/indexes/base.py:2044\u001b[0m, in \u001b[0;36mIndex.droplevel\u001b[0;34m(self, level)\u001b[0m\n\u001b[1;32m   2040\u001b[0m     level \u001b[38;5;241m=\u001b[39m [level]\n\u001b[1;32m   2042\u001b[0m levnums \u001b[38;5;241m=\u001b[39m \u001b[38;5;28msorted\u001b[39m(\u001b[38;5;28mself\u001b[39m\u001b[38;5;241m.\u001b[39m_get_level_number(lev) \u001b[38;5;28;01mfor\u001b[39;00m lev \u001b[38;5;129;01min\u001b[39;00m level)[::\u001b[38;5;241m-\u001b[39m\u001b[38;5;241m1\u001b[39m]\n\u001b[0;32m-> 2044\u001b[0m \u001b[38;5;28;01mreturn\u001b[39;00m \u001b[38;5;28mself\u001b[39m\u001b[38;5;241m.\u001b[39m_drop_level_numbers(levnums)\n",
      "File \u001b[0;32m/opt/homebrew/anaconda3/lib/python3.11/site-packages/pandas/core/indexes/base.py:2055\u001b[0m, in \u001b[0;36mIndex._drop_level_numbers\u001b[0;34m(self, levnums)\u001b[0m\n\u001b[1;32m   2053\u001b[0m     \u001b[38;5;28;01mreturn\u001b[39;00m \u001b[38;5;28mself\u001b[39m\n\u001b[1;32m   2054\u001b[0m \u001b[38;5;28;01mif\u001b[39;00m \u001b[38;5;28mlen\u001b[39m(levnums) \u001b[38;5;241m>\u001b[39m\u001b[38;5;241m=\u001b[39m \u001b[38;5;28mself\u001b[39m\u001b[38;5;241m.\u001b[39mnlevels:\n\u001b[0;32m-> 2055\u001b[0m     \u001b[38;5;28;01mraise\u001b[39;00m \u001b[38;5;167;01mValueError\u001b[39;00m(\n\u001b[1;32m   2056\u001b[0m         \u001b[38;5;124mf\u001b[39m\u001b[38;5;124m\"\u001b[39m\u001b[38;5;124mCannot remove \u001b[39m\u001b[38;5;132;01m{\u001b[39;00m\u001b[38;5;28mlen\u001b[39m(levnums)\u001b[38;5;132;01m}\u001b[39;00m\u001b[38;5;124m levels from an index with \u001b[39m\u001b[38;5;124m\"\u001b[39m\n\u001b[1;32m   2057\u001b[0m         \u001b[38;5;124mf\u001b[39m\u001b[38;5;124m\"\u001b[39m\u001b[38;5;132;01m{\u001b[39;00m\u001b[38;5;28mself\u001b[39m\u001b[38;5;241m.\u001b[39mnlevels\u001b[38;5;132;01m}\u001b[39;00m\u001b[38;5;124m levels: at least one level must be left.\u001b[39m\u001b[38;5;124m\"\u001b[39m\n\u001b[1;32m   2058\u001b[0m     )\n\u001b[1;32m   2059\u001b[0m \u001b[38;5;66;03m# The two checks above guarantee that here self is a MultiIndex\u001b[39;00m\n\u001b[1;32m   2060\u001b[0m \u001b[38;5;28mself\u001b[39m \u001b[38;5;241m=\u001b[39m cast(\u001b[38;5;124m\"\u001b[39m\u001b[38;5;124mMultiIndex\u001b[39m\u001b[38;5;124m\"\u001b[39m, \u001b[38;5;28mself\u001b[39m)\n",
      "\u001b[0;31mValueError\u001b[0m: Cannot remove 1 levels from an index with 1 levels: at least one level must be left."
     ]
    }
   ],
   "source": [
    "# mi = pd.MultiIndex\n",
    "# temp_df.index = pd.MultiIndex.droplevel('is_fraud')\n",
    "temp_df.droplevel(0,axis=1)"
   ]
  },
  {
   "cell_type": "code",
   "execution_count": 93,
   "id": "e819e516",
   "metadata": {},
   "outputs": [
    {
     "ename": "TypeError",
     "evalue": "unhashable type: 'DataFrame'",
     "output_type": "error",
     "traceback": [
      "\u001b[0;31m---------------------------------------------------------------------------\u001b[0m",
      "\u001b[0;31mTypeError\u001b[0m                                 Traceback (most recent call last)",
      "Cell \u001b[0;32mIn[93], line 1\u001b[0m\n\u001b[0;32m----> 1\u001b[0m down_sample[\u001b[38;5;124m'\u001b[39m\u001b[38;5;124mamt_bin_fraud_ratio\u001b[39m\u001b[38;5;124m'\u001b[39m] \u001b[38;5;241m=\u001b[39m down_sample\u001b[38;5;241m.\u001b[39mamt_bin\u001b[38;5;241m.\u001b[39mapply(\u001b[38;5;28;01mlambda\u001b[39;00m amt_bin: bins_fraud_breakdown\u001b[38;5;241m/\u001b[39mbins_fraud_sum)\n\u001b[1;32m      2\u001b[0m down_sample\u001b[38;5;241m.\u001b[39msample()\n",
      "File \u001b[0;32m/opt/homebrew/anaconda3/lib/python3.11/site-packages/pandas/core/series.py:4630\u001b[0m, in \u001b[0;36mSeries.apply\u001b[0;34m(self, func, convert_dtype, args, **kwargs)\u001b[0m\n\u001b[1;32m   4520\u001b[0m \u001b[38;5;28;01mdef\u001b[39;00m \u001b[38;5;21mapply\u001b[39m(\n\u001b[1;32m   4521\u001b[0m     \u001b[38;5;28mself\u001b[39m,\n\u001b[1;32m   4522\u001b[0m     func: AggFuncType,\n\u001b[0;32m   (...)\u001b[0m\n\u001b[1;32m   4525\u001b[0m     \u001b[38;5;241m*\u001b[39m\u001b[38;5;241m*\u001b[39mkwargs,\n\u001b[1;32m   4526\u001b[0m ) \u001b[38;5;241m-\u001b[39m\u001b[38;5;241m>\u001b[39m DataFrame \u001b[38;5;241m|\u001b[39m Series:\n\u001b[1;32m   4527\u001b[0m \u001b[38;5;250m    \u001b[39m\u001b[38;5;124;03m\"\"\"\u001b[39;00m\n\u001b[1;32m   4528\u001b[0m \u001b[38;5;124;03m    Invoke function on values of Series.\u001b[39;00m\n\u001b[1;32m   4529\u001b[0m \n\u001b[0;32m   (...)\u001b[0m\n\u001b[1;32m   4628\u001b[0m \u001b[38;5;124;03m    dtype: float64\u001b[39;00m\n\u001b[1;32m   4629\u001b[0m \u001b[38;5;124;03m    \"\"\"\u001b[39;00m\n\u001b[0;32m-> 4630\u001b[0m     \u001b[38;5;28;01mreturn\u001b[39;00m SeriesApply(\u001b[38;5;28mself\u001b[39m, func, convert_dtype, args, kwargs)\u001b[38;5;241m.\u001b[39mapply()\n",
      "File \u001b[0;32m/opt/homebrew/anaconda3/lib/python3.11/site-packages/pandas/core/apply.py:1025\u001b[0m, in \u001b[0;36mSeriesApply.apply\u001b[0;34m(self)\u001b[0m\n\u001b[1;32m   1022\u001b[0m     \u001b[38;5;28;01mreturn\u001b[39;00m \u001b[38;5;28mself\u001b[39m\u001b[38;5;241m.\u001b[39mapply_str()\n\u001b[1;32m   1024\u001b[0m \u001b[38;5;66;03m# self.f is Callable\u001b[39;00m\n\u001b[0;32m-> 1025\u001b[0m \u001b[38;5;28;01mreturn\u001b[39;00m \u001b[38;5;28mself\u001b[39m\u001b[38;5;241m.\u001b[39mapply_standard()\n",
      "File \u001b[0;32m/opt/homebrew/anaconda3/lib/python3.11/site-packages/pandas/core/apply.py:1073\u001b[0m, in \u001b[0;36mSeriesApply.apply_standard\u001b[0;34m(self)\u001b[0m\n\u001b[1;32m   1070\u001b[0m \u001b[38;5;66;03m# row-wise access\u001b[39;00m\n\u001b[1;32m   1071\u001b[0m \u001b[38;5;28;01mif\u001b[39;00m is_extension_array_dtype(obj\u001b[38;5;241m.\u001b[39mdtype) \u001b[38;5;129;01mand\u001b[39;00m \u001b[38;5;28mhasattr\u001b[39m(obj\u001b[38;5;241m.\u001b[39m_values, \u001b[38;5;124m\"\u001b[39m\u001b[38;5;124mmap\u001b[39m\u001b[38;5;124m\"\u001b[39m):\n\u001b[1;32m   1072\u001b[0m     \u001b[38;5;66;03m# GH#23179 some EAs do not have `map`\u001b[39;00m\n\u001b[0;32m-> 1073\u001b[0m     mapped \u001b[38;5;241m=\u001b[39m obj\u001b[38;5;241m.\u001b[39m_values\u001b[38;5;241m.\u001b[39mmap(f)\n\u001b[1;32m   1074\u001b[0m \u001b[38;5;28;01melse\u001b[39;00m:\n\u001b[1;32m   1075\u001b[0m     values \u001b[38;5;241m=\u001b[39m obj\u001b[38;5;241m.\u001b[39mastype(\u001b[38;5;28mobject\u001b[39m)\u001b[38;5;241m.\u001b[39m_values\n",
      "File \u001b[0;32m/opt/homebrew/anaconda3/lib/python3.11/site-packages/pandas/core/arrays/categorical.py:1272\u001b[0m, in \u001b[0;36mCategorical.map\u001b[0;34m(self, mapper)\u001b[0m\n\u001b[1;32m   1270\u001b[0m new_categories \u001b[38;5;241m=\u001b[39m \u001b[38;5;28mself\u001b[39m\u001b[38;5;241m.\u001b[39mcategories\u001b[38;5;241m.\u001b[39mmap(mapper)\n\u001b[1;32m   1271\u001b[0m \u001b[38;5;28;01mtry\u001b[39;00m:\n\u001b[0;32m-> 1272\u001b[0m     \u001b[38;5;28;01mreturn\u001b[39;00m \u001b[38;5;28mself\u001b[39m\u001b[38;5;241m.\u001b[39mfrom_codes(\n\u001b[1;32m   1273\u001b[0m         \u001b[38;5;28mself\u001b[39m\u001b[38;5;241m.\u001b[39m_codes\u001b[38;5;241m.\u001b[39mcopy(), categories\u001b[38;5;241m=\u001b[39mnew_categories, ordered\u001b[38;5;241m=\u001b[39m\u001b[38;5;28mself\u001b[39m\u001b[38;5;241m.\u001b[39mordered\n\u001b[1;32m   1274\u001b[0m     )\n\u001b[1;32m   1275\u001b[0m \u001b[38;5;28;01mexcept\u001b[39;00m \u001b[38;5;167;01mValueError\u001b[39;00m:\n\u001b[1;32m   1276\u001b[0m     \u001b[38;5;66;03m# NA values are represented in self._codes with -1\u001b[39;00m\n\u001b[1;32m   1277\u001b[0m     \u001b[38;5;66;03m# np.take causes NA values to take final element in new_categories\u001b[39;00m\n\u001b[1;32m   1278\u001b[0m     \u001b[38;5;28;01mif\u001b[39;00m np\u001b[38;5;241m.\u001b[39many(\u001b[38;5;28mself\u001b[39m\u001b[38;5;241m.\u001b[39m_codes \u001b[38;5;241m==\u001b[39m \u001b[38;5;241m-\u001b[39m\u001b[38;5;241m1\u001b[39m):\n",
      "File \u001b[0;32m/opt/homebrew/anaconda3/lib/python3.11/site-packages/pandas/core/arrays/categorical.py:669\u001b[0m, in \u001b[0;36mCategorical.from_codes\u001b[0;34m(cls, codes, categories, ordered, dtype)\u001b[0m\n\u001b[1;32m    627\u001b[0m \u001b[38;5;129m@classmethod\u001b[39m\n\u001b[1;32m    628\u001b[0m \u001b[38;5;28;01mdef\u001b[39;00m \u001b[38;5;21mfrom_codes\u001b[39m(\n\u001b[1;32m    629\u001b[0m     \u001b[38;5;28mcls\u001b[39m, codes, categories\u001b[38;5;241m=\u001b[39m\u001b[38;5;28;01mNone\u001b[39;00m, ordered\u001b[38;5;241m=\u001b[39m\u001b[38;5;28;01mNone\u001b[39;00m, dtype: Dtype \u001b[38;5;241m|\u001b[39m \u001b[38;5;28;01mNone\u001b[39;00m \u001b[38;5;241m=\u001b[39m \u001b[38;5;28;01mNone\u001b[39;00m\n\u001b[1;32m    630\u001b[0m ) \u001b[38;5;241m-\u001b[39m\u001b[38;5;241m>\u001b[39m Categorical:\n\u001b[1;32m    631\u001b[0m \u001b[38;5;250m    \u001b[39m\u001b[38;5;124;03m\"\"\"\u001b[39;00m\n\u001b[1;32m    632\u001b[0m \u001b[38;5;124;03m    Make a Categorical type from codes and categories or dtype.\u001b[39;00m\n\u001b[1;32m    633\u001b[0m \n\u001b[0;32m   (...)\u001b[0m\n\u001b[1;32m    667\u001b[0m \u001b[38;5;124;03m    Categories (2, object): ['a' < 'b']\u001b[39;00m\n\u001b[1;32m    668\u001b[0m \u001b[38;5;124;03m    \"\"\"\u001b[39;00m\n\u001b[0;32m--> 669\u001b[0m     dtype \u001b[38;5;241m=\u001b[39m CategoricalDtype\u001b[38;5;241m.\u001b[39m_from_values_or_dtype(\n\u001b[1;32m    670\u001b[0m         categories\u001b[38;5;241m=\u001b[39mcategories, ordered\u001b[38;5;241m=\u001b[39mordered, dtype\u001b[38;5;241m=\u001b[39mdtype\n\u001b[1;32m    671\u001b[0m     )\n\u001b[1;32m    672\u001b[0m     \u001b[38;5;28;01mif\u001b[39;00m dtype\u001b[38;5;241m.\u001b[39mcategories \u001b[38;5;129;01mis\u001b[39;00m \u001b[38;5;28;01mNone\u001b[39;00m:\n\u001b[1;32m    673\u001b[0m         msg \u001b[38;5;241m=\u001b[39m (\n\u001b[1;32m    674\u001b[0m             \u001b[38;5;124m\"\u001b[39m\u001b[38;5;124mThe categories must be provided in \u001b[39m\u001b[38;5;124m'\u001b[39m\u001b[38;5;124mcategories\u001b[39m\u001b[38;5;124m'\u001b[39m\u001b[38;5;124m or \u001b[39m\u001b[38;5;124m\"\u001b[39m\n\u001b[1;32m    675\u001b[0m             \u001b[38;5;124m\"\u001b[39m\u001b[38;5;124m'\u001b[39m\u001b[38;5;124mdtype\u001b[39m\u001b[38;5;124m'\u001b[39m\u001b[38;5;124m. Both were None.\u001b[39m\u001b[38;5;124m\"\u001b[39m\n\u001b[1;32m    676\u001b[0m         )\n",
      "File \u001b[0;32m/opt/homebrew/anaconda3/lib/python3.11/site-packages/pandas/core/dtypes/dtypes.py:304\u001b[0m, in \u001b[0;36mCategoricalDtype._from_values_or_dtype\u001b[0;34m(cls, values, categories, ordered, dtype)\u001b[0m\n\u001b[1;32m    297\u001b[0m     dtype \u001b[38;5;241m=\u001b[39m values\u001b[38;5;241m.\u001b[39mdtype\u001b[38;5;241m.\u001b[39m_from_categorical_dtype(\n\u001b[1;32m    298\u001b[0m         values\u001b[38;5;241m.\u001b[39mdtype, categories, ordered\n\u001b[1;32m    299\u001b[0m     )\n\u001b[1;32m    300\u001b[0m \u001b[38;5;28;01melse\u001b[39;00m:\n\u001b[1;32m    301\u001b[0m     \u001b[38;5;66;03m# If dtype=None and values is not categorical, create a new dtype.\u001b[39;00m\n\u001b[1;32m    302\u001b[0m     \u001b[38;5;66;03m# Note: This could potentially have categories=None and\u001b[39;00m\n\u001b[1;32m    303\u001b[0m     \u001b[38;5;66;03m# ordered=None.\u001b[39;00m\n\u001b[0;32m--> 304\u001b[0m     dtype \u001b[38;5;241m=\u001b[39m CategoricalDtype(categories, ordered)\n\u001b[1;32m    306\u001b[0m \u001b[38;5;28;01mreturn\u001b[39;00m cast(CategoricalDtype, dtype)\n",
      "File \u001b[0;32m/opt/homebrew/anaconda3/lib/python3.11/site-packages/pandas/core/dtypes/dtypes.py:187\u001b[0m, in \u001b[0;36mCategoricalDtype.__init__\u001b[0;34m(self, categories, ordered)\u001b[0m\n\u001b[1;32m    186\u001b[0m \u001b[38;5;28;01mdef\u001b[39;00m \u001b[38;5;21m__init__\u001b[39m(\u001b[38;5;28mself\u001b[39m, categories\u001b[38;5;241m=\u001b[39m\u001b[38;5;28;01mNone\u001b[39;00m, ordered: Ordered \u001b[38;5;241m=\u001b[39m \u001b[38;5;28;01mFalse\u001b[39;00m) \u001b[38;5;241m-\u001b[39m\u001b[38;5;241m>\u001b[39m \u001b[38;5;28;01mNone\u001b[39;00m:\n\u001b[0;32m--> 187\u001b[0m     \u001b[38;5;28mself\u001b[39m\u001b[38;5;241m.\u001b[39m_finalize(categories, ordered, fastpath\u001b[38;5;241m=\u001b[39m\u001b[38;5;28;01mFalse\u001b[39;00m)\n",
      "File \u001b[0;32m/opt/homebrew/anaconda3/lib/python3.11/site-packages/pandas/core/dtypes/dtypes.py:344\u001b[0m, in \u001b[0;36mCategoricalDtype._finalize\u001b[0;34m(self, categories, ordered, fastpath)\u001b[0m\n\u001b[1;32m    341\u001b[0m     \u001b[38;5;28mself\u001b[39m\u001b[38;5;241m.\u001b[39mvalidate_ordered(ordered)\n\u001b[1;32m    343\u001b[0m \u001b[38;5;28;01mif\u001b[39;00m categories \u001b[38;5;129;01mis\u001b[39;00m \u001b[38;5;129;01mnot\u001b[39;00m \u001b[38;5;28;01mNone\u001b[39;00m:\n\u001b[0;32m--> 344\u001b[0m     categories \u001b[38;5;241m=\u001b[39m \u001b[38;5;28mself\u001b[39m\u001b[38;5;241m.\u001b[39mvalidate_categories(categories, fastpath\u001b[38;5;241m=\u001b[39mfastpath)\n\u001b[1;32m    346\u001b[0m \u001b[38;5;28mself\u001b[39m\u001b[38;5;241m.\u001b[39m_categories \u001b[38;5;241m=\u001b[39m categories\n\u001b[1;32m    347\u001b[0m \u001b[38;5;28mself\u001b[39m\u001b[38;5;241m.\u001b[39m_ordered \u001b[38;5;241m=\u001b[39m ordered\n",
      "File \u001b[0;32m/opt/homebrew/anaconda3/lib/python3.11/site-packages/pandas/core/dtypes/dtypes.py:539\u001b[0m, in \u001b[0;36mCategoricalDtype.validate_categories\u001b[0;34m(categories, fastpath)\u001b[0m\n\u001b[1;32m    536\u001b[0m     \u001b[38;5;28;01mif\u001b[39;00m categories\u001b[38;5;241m.\u001b[39mhasnans:\n\u001b[1;32m    537\u001b[0m         \u001b[38;5;28;01mraise\u001b[39;00m \u001b[38;5;167;01mValueError\u001b[39;00m(\u001b[38;5;124m\"\u001b[39m\u001b[38;5;124mCategorical categories cannot be null\u001b[39m\u001b[38;5;124m\"\u001b[39m)\n\u001b[0;32m--> 539\u001b[0m     \u001b[38;5;28;01mif\u001b[39;00m \u001b[38;5;129;01mnot\u001b[39;00m categories\u001b[38;5;241m.\u001b[39mis_unique:\n\u001b[1;32m    540\u001b[0m         \u001b[38;5;28;01mraise\u001b[39;00m \u001b[38;5;167;01mValueError\u001b[39;00m(\u001b[38;5;124m\"\u001b[39m\u001b[38;5;124mCategorical categories must be unique\u001b[39m\u001b[38;5;124m\"\u001b[39m)\n\u001b[1;32m    542\u001b[0m \u001b[38;5;28;01mif\u001b[39;00m \u001b[38;5;28misinstance\u001b[39m(categories, ABCCategoricalIndex):\n",
      "File \u001b[0;32m/opt/homebrew/anaconda3/lib/python3.11/site-packages/pandas/_libs/properties.pyx:36\u001b[0m, in \u001b[0;36mpandas._libs.properties.CachedProperty.__get__\u001b[0;34m()\u001b[0m\n",
      "File \u001b[0;32m/opt/homebrew/anaconda3/lib/python3.11/site-packages/pandas/core/indexes/base.py:2238\u001b[0m, in \u001b[0;36mIndex.is_unique\u001b[0;34m(self)\u001b[0m\n\u001b[1;32m   2205\u001b[0m \u001b[38;5;129m@cache_readonly\u001b[39m\n\u001b[1;32m   2206\u001b[0m \u001b[38;5;28;01mdef\u001b[39;00m \u001b[38;5;21mis_unique\u001b[39m(\u001b[38;5;28mself\u001b[39m) \u001b[38;5;241m-\u001b[39m\u001b[38;5;241m>\u001b[39m \u001b[38;5;28mbool\u001b[39m:\n\u001b[1;32m   2207\u001b[0m \u001b[38;5;250m    \u001b[39m\u001b[38;5;124;03m\"\"\"\u001b[39;00m\n\u001b[1;32m   2208\u001b[0m \u001b[38;5;124;03m    Return if the index has unique values.\u001b[39;00m\n\u001b[1;32m   2209\u001b[0m \n\u001b[0;32m   (...)\u001b[0m\n\u001b[1;32m   2236\u001b[0m \u001b[38;5;124;03m    True\u001b[39;00m\n\u001b[1;32m   2237\u001b[0m \u001b[38;5;124;03m    \"\"\"\u001b[39;00m\n\u001b[0;32m-> 2238\u001b[0m     \u001b[38;5;28;01mreturn\u001b[39;00m \u001b[38;5;28mself\u001b[39m\u001b[38;5;241m.\u001b[39m_engine\u001b[38;5;241m.\u001b[39mis_unique\n",
      "File \u001b[0;32m/opt/homebrew/anaconda3/lib/python3.11/site-packages/pandas/_libs/index.pyx:236\u001b[0m, in \u001b[0;36mpandas._libs.index.IndexEngine.is_unique.__get__\u001b[0;34m()\u001b[0m\n",
      "File \u001b[0;32m/opt/homebrew/anaconda3/lib/python3.11/site-packages/pandas/_libs/index.pyx:241\u001b[0m, in \u001b[0;36mpandas._libs.index.IndexEngine._do_unique_check\u001b[0;34m()\u001b[0m\n",
      "File \u001b[0;32m/opt/homebrew/anaconda3/lib/python3.11/site-packages/pandas/_libs/index.pyx:303\u001b[0m, in \u001b[0;36mpandas._libs.index.IndexEngine._ensure_mapping_populated\u001b[0;34m()\u001b[0m\n",
      "File \u001b[0;32mpandas/_libs/hashtable_class_helper.pxi:7114\u001b[0m, in \u001b[0;36mpandas._libs.hashtable.PyObjectHashTable.map_locations\u001b[0;34m()\u001b[0m\n",
      "\u001b[0;31mTypeError\u001b[0m: unhashable type: 'DataFrame'"
     ]
    }
   ],
   "source": [
    "down_sample['amt_bin_fraud_ratio'] = down_sample.apply(lambda x: bins_fraud_breakdown/bins_fraud_sum)\n",
    "down_sample.sample()"
   ]
  },
  {
   "cell_type": "code",
   "execution_count": null,
   "id": "f42b7c41",
   "metadata": {},
   "outputs": [],
   "source": []
  },
  {
   "cell_type": "code",
   "execution_count": 27,
   "id": "ee0e3f32",
   "metadata": {},
   "outputs": [
    {
     "data": {
      "image/png": "[encoded data removed]",
      "text/plain": [
       "<Figure size 640x480 with 1 Axes>"
      ]
     },
     "metadata": {},
     "output_type": "display_data"
    }
   ],
   "source": [
    "ax = sns.boxplot(data=amount_df,y=amount_df.amt,x=amount_df.amt_bin,hue=amount_df.is_fraud,width=.5)\n",
    "ax.set_xlabel(xlabel = 'Average amount of the fraudulent transaction', fontsize = 12)\n",
    "ax.set_ylabel(ylabel = 'Amount by Bin', fontsize = 16)\n",
    "ax.set_title(label = 'Certain Transaction Amounts Are More Prone to Fraud', fontsize = 20)\n",
    "plt.xticks(rotation=30)\n",
    "plt.show()"
   ]
  },
  {
   "cell_type": "code",
   "execution_count": 28,
   "id": "1ef037d8",
   "metadata": {},
   "outputs": [
    {
     "data": {
      "text/plain": [
       "<Axes: xlabel='amt_bin', ylabel='is_fraud'>"
      ]
     },
     "execution_count": 28,
     "metadata": {},
     "output_type": "execute_result"
    },
    {
     "data": {
      "image/png": "[encoded data removed]",
      "text/plain": [
       "<Figure size 640x480 with 1 Axes>"
      ]
     },
     "metadata": {},
     "output_type": "display_data"
    }
   ],
   "source": [
    "# ax = sns.histplot(data=amount_df,y=amount_df.is_fraud,x=amount_df.amt_bin,hue=amount_df.is_fraud,width=.5)\n",
    "# ax.set_xlabel(xlabel = 'Average amount of the fraudulent transaction', fontsize = 12)\n",
    "# ax.set_ylabel(ylabel = 'Amount by Bin', fontsize = 16)\n",
    "# ax.set_title(label = 'Certain Transaction Amounts Are More Prone to Fraud', fontsize = 20)\n",
    "# plt.xticks(rotation=30)\n",
    "# plt.show()\n",
    "\n",
    "sns.boxplot(amount_df, x=\"amt_bin\",y=\"is_fraud\", hue=\"is_fraud\")"
   ]
  },
  {
   "cell_type": "code",
   "execution_count": 29,
   "id": "9fc54b16",
   "metadata": {},
   "outputs": [
    {
     "data": {
      "text/plain": [
       "Index(['merchant', 'category', 'amt', 'gender', 'zip', 'city_pop', 'job',\n",
       "       'merch_lat', 'merch_long', 'is_fraud', 'age', 'dayofweek', 'hourofday',\n",
       "       'age_group'],\n",
       "      dtype='object')"
      ]
     },
     "execution_count": 29,
     "metadata": {},
     "output_type": "execute_result"
    }
   ],
   "source": [
    "df.columns"
   ]
  },
  {
   "cell_type": "code",
   "execution_count": null,
   "id": "cbfdf247",
   "metadata": {},
   "outputs": [],
   "source": []
  }
 ],
 "metadata": {
  "kernelspec": {
   "display_name": "Python 3 (ipykernel)",
   "language": "python",
   "name": "python3"
  },
  "language_info": {
   "codemirror_mode": {
    "name": "ipython",
    "version": 3
   },
   "file_extension": ".py",
   "mimetype": "text/x-python",
   "name": "python",
   "nbconvert_exporter": "python",
   "pygments_lexer": "ipython3",
   "version": "3.11.5"
  }
 },
 "nbformat": 4,
 "nbformat_minor": 5
}
