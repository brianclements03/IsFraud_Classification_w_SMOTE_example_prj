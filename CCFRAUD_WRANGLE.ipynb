{
 "cells": [
  {
   "cell_type": "code",
   "execution_count": 1,
   "id": "c09bcbd6",
   "metadata": {},
   "outputs": [],
   "source": [
    "import pandas as pd\n",
    "import numpy as np\n",
    "import seaborn as sns\n",
    "from sklearn.model_selection import train_test_split\n",
    "import matplotlib.pyplot as plt\n",
    "import datetime\n",
    "from imblearn.over_sampling import SMOTE"
   ]
  },
  {
   "cell_type": "code",
   "execution_count": 2,
   "id": "87cd4286",
   "metadata": {},
   "outputs": [],
   "source": [
    "from zipfile import ZipFile\n",
    "\n",
    "zip_file = ZipFile('cc_fraud.zip')\n",
    "# df = pd.read_csv(zip_file.open('fraudTrain.csv'))\n",
    "# df.head(1)"
   ]
  },
  {
   "cell_type": "code",
   "execution_count": 3,
   "id": "9866f8e7",
   "metadata": {},
   "outputs": [
    {
     "data": {
      "text/plain": [
       "['fraudTest.csv', 'fraudTrain.csv']"
      ]
     },
     "execution_count": 3,
     "metadata": {},
     "output_type": "execute_result"
    }
   ],
   "source": [
    "zip_file.namelist()"
   ]
  },
  {
   "cell_type": "code",
   "execution_count": 4,
   "id": "fbb165ab",
   "metadata": {},
   "outputs": [],
   "source": [
    "def acquire_fraud(zip_file_name_in_quotes):\n",
    "    '''\n",
    "    Create a df from zipped file source. Requires ZipFile import\n",
    "    '''\n",
    "    zip_file = ZipFile(zip_file_name_in_quotes)\n",
    "    df_test = pd.read_csv(zip_file.open(zip_file.namelist()[0]))\n",
    "    df_train = pd.read_csv(zip_file.open(zip_file.namelist()[1]))\n",
    "    return df_test, df_train"
   ]
  },
  {
   "cell_type": "code",
   "execution_count": 5,
   "id": "eb06d0c2",
   "metadata": {},
   "outputs": [],
   "source": [
    "test, df = acquire_fraud('cc_fraud.zip')"
   ]
  },
  {
   "cell_type": "code",
   "execution_count": 6,
   "id": "cb88ce9c",
   "metadata": {},
   "outputs": [
    {
     "data": {
      "text/html": [
       "<div>\n",
       "<style scoped>\n",
       "    .dataframe tbody tr th:only-of-type {\n",
       "        vertical-align: middle;\n",
       "    }\n",
       "\n",
       "    .dataframe tbody tr th {\n",
       "        vertical-align: top;\n",
       "    }\n",
       "\n",
       "    .dataframe thead th {\n",
       "        text-align: right;\n",
       "    }\n",
       "</style>\n",
       "<table border=\"1\" class=\"dataframe\">\n",
       "  <thead>\n",
       "    <tr style=\"text-align: right;\">\n",
       "      <th></th>\n",
       "      <th>Unnamed: 0</th>\n",
       "      <th>trans_date_trans_time</th>\n",
       "      <th>cc_num</th>\n",
       "      <th>merchant</th>\n",
       "      <th>category</th>\n",
       "      <th>amt</th>\n",
       "      <th>first</th>\n",
       "      <th>last</th>\n",
       "      <th>gender</th>\n",
       "      <th>street</th>\n",
       "      <th>...</th>\n",
       "      <th>lat</th>\n",
       "      <th>long</th>\n",
       "      <th>city_pop</th>\n",
       "      <th>job</th>\n",
       "      <th>dob</th>\n",
       "      <th>trans_num</th>\n",
       "      <th>unix_time</th>\n",
       "      <th>merch_lat</th>\n",
       "      <th>merch_long</th>\n",
       "      <th>is_fraud</th>\n",
       "    </tr>\n",
       "  </thead>\n",
       "  <tbody>\n",
       "    <tr>\n",
       "      <th>872104</th>\n",
       "      <td>872104</td>\n",
       "      <td>2019-12-20 19:39:21</td>\n",
       "      <td>4926376199189801</td>\n",
       "      <td>fraud_Schuppe, Nolan and Hoeger</td>\n",
       "      <td>shopping_pos</td>\n",
       "      <td>2.14</td>\n",
       "      <td>Claire</td>\n",
       "      <td>Davis</td>\n",
       "      <td>F</td>\n",
       "      <td>83685 Matthew Center Suite 870</td>\n",
       "      <td>...</td>\n",
       "      <td>36.3011</td>\n",
       "      <td>-91.5281</td>\n",
       "      <td>4726</td>\n",
       "      <td>Pharmacologist</td>\n",
       "      <td>1977-06-07</td>\n",
       "      <td>aef33bd3cae97896f092f3cb6ecd9659</td>\n",
       "      <td>1356032361</td>\n",
       "      <td>35.656891</td>\n",
       "      <td>-91.654446</td>\n",
       "      <td>0</td>\n",
       "    </tr>\n",
       "  </tbody>\n",
       "</table>\n",
       "<p>1 rows × 23 columns</p>\n",
       "</div>"
      ],
      "text/plain": [
       "        Unnamed: 0 trans_date_trans_time            cc_num  \\\n",
       "872104      872104   2019-12-20 19:39:21  4926376199189801   \n",
       "\n",
       "                               merchant      category   amt   first   last  \\\n",
       "872104  fraud_Schuppe, Nolan and Hoeger  shopping_pos  2.14  Claire  Davis   \n",
       "\n",
       "       gender                          street  ...      lat     long  \\\n",
       "872104      F  83685 Matthew Center Suite 870  ...  36.3011 -91.5281   \n",
       "\n",
       "        city_pop             job         dob  \\\n",
       "872104      4726  Pharmacologist  1977-06-07   \n",
       "\n",
       "                               trans_num   unix_time  merch_lat merch_long  \\\n",
       "872104  aef33bd3cae97896f092f3cb6ecd9659  1356032361  35.656891 -91.654446   \n",
       "\n",
       "        is_fraud  \n",
       "872104         0  \n",
       "\n",
       "[1 rows x 23 columns]"
      ]
     },
     "execution_count": 6,
     "metadata": {},
     "output_type": "execute_result"
    }
   ],
   "source": [
    "df.sample()"
   ]
  },
  {
   "cell_type": "code",
   "execution_count": 7,
   "id": "51a94897",
   "metadata": {},
   "outputs": [
    {
     "data": {
      "text/plain": [
       "(1296675, 23)"
      ]
     },
     "execution_count": 7,
     "metadata": {},
     "output_type": "execute_result"
    }
   ],
   "source": [
    "df.shape"
   ]
  },
  {
   "cell_type": "code",
   "execution_count": null,
   "id": "6f6e16f5",
   "metadata": {},
   "outputs": [],
   "source": [
    "# df.info()"
   ]
  },
  {
   "cell_type": "code",
   "execution_count": 8,
   "id": "eff56ee8",
   "metadata": {},
   "outputs": [],
   "source": [
    "def prep(df):\n",
    "    '''\n",
    "    Apply some clean and prep to the df\n",
    "    '''\n",
    "    df = df.set_index(pd.to_datetime(df['trans_date_trans_time'],format= '%Y-%m-%d %H:%M:%S')).sort_index()\n",
    "    df['age'] = (df.index - pd.DatetimeIndex(df['dob']))// pd.Timedelta('365D')\n",
    "    df['dayofweek'] = df.index.day_name()\n",
    "    df['hourofday'] = df.index.hour\n",
    "    df = df.drop(columns=['Unnamed: 0','trans_date_trans_time','cc_num','first','last','street','city','state','trans_num','lat','long','dob','trans_num','unix_time'])\n",
    "    df['age_group'] = pd.cut(df['age'],[0,25,35,45,55,65,75,100], labels= ['Youth','Young_Adult','Adult','Early_Mid_Age','Mid_Age','Retirement_Age','Older_Person'],right=False)\n",
    "    \n",
    "    return df"
   ]
  },
  {
   "cell_type": "code",
   "execution_count": 9,
   "id": "20b49bf5",
   "metadata": {},
   "outputs": [
    {
     "data": {
      "text/html": [
       "<div>\n",
       "<style scoped>\n",
       "    .dataframe tbody tr th:only-of-type {\n",
       "        vertical-align: middle;\n",
       "    }\n",
       "\n",
       "    .dataframe tbody tr th {\n",
       "        vertical-align: top;\n",
       "    }\n",
       "\n",
       "    .dataframe thead th {\n",
       "        text-align: right;\n",
       "    }\n",
       "</style>\n",
       "<table border=\"1\" class=\"dataframe\">\n",
       "  <thead>\n",
       "    <tr style=\"text-align: right;\">\n",
       "      <th></th>\n",
       "      <th>merchant</th>\n",
       "      <th>category</th>\n",
       "      <th>amt</th>\n",
       "      <th>gender</th>\n",
       "      <th>zip</th>\n",
       "      <th>city_pop</th>\n",
       "      <th>job</th>\n",
       "      <th>merch_lat</th>\n",
       "      <th>merch_long</th>\n",
       "      <th>is_fraud</th>\n",
       "      <th>age</th>\n",
       "      <th>dayofweek</th>\n",
       "      <th>hourofday</th>\n",
       "      <th>age_group</th>\n",
       "    </tr>\n",
       "    <tr>\n",
       "      <th>trans_date_trans_time</th>\n",
       "      <th></th>\n",
       "      <th></th>\n",
       "      <th></th>\n",
       "      <th></th>\n",
       "      <th></th>\n",
       "      <th></th>\n",
       "      <th></th>\n",
       "      <th></th>\n",
       "      <th></th>\n",
       "      <th></th>\n",
       "      <th></th>\n",
       "      <th></th>\n",
       "      <th></th>\n",
       "      <th></th>\n",
       "    </tr>\n",
       "  </thead>\n",
       "  <tbody>\n",
       "    <tr>\n",
       "      <th>2019-01-01 00:00:18</th>\n",
       "      <td>fraud_Rippin, Kub and Mann</td>\n",
       "      <td>misc_net</td>\n",
       "      <td>4.97</td>\n",
       "      <td>F</td>\n",
       "      <td>28654</td>\n",
       "      <td>3495</td>\n",
       "      <td>Psychologist, counselling</td>\n",
       "      <td>36.011293</td>\n",
       "      <td>-82.048315</td>\n",
       "      <td>0</td>\n",
       "      <td>30</td>\n",
       "      <td>Tuesday</td>\n",
       "      <td>0</td>\n",
       "      <td>Young_Adult</td>\n",
       "    </tr>\n",
       "    <tr>\n",
       "      <th>2019-01-01 00:00:44</th>\n",
       "      <td>fraud_Heller, Gutmann and Zieme</td>\n",
       "      <td>grocery_pos</td>\n",
       "      <td>107.23</td>\n",
       "      <td>F</td>\n",
       "      <td>99160</td>\n",
       "      <td>149</td>\n",
       "      <td>Special educational needs teacher</td>\n",
       "      <td>49.159047</td>\n",
       "      <td>-118.186462</td>\n",
       "      <td>0</td>\n",
       "      <td>40</td>\n",
       "      <td>Tuesday</td>\n",
       "      <td>0</td>\n",
       "      <td>Adult</td>\n",
       "    </tr>\n",
       "    <tr>\n",
       "      <th>2019-01-01 00:00:51</th>\n",
       "      <td>fraud_Lind-Buckridge</td>\n",
       "      <td>entertainment</td>\n",
       "      <td>220.11</td>\n",
       "      <td>M</td>\n",
       "      <td>83252</td>\n",
       "      <td>4154</td>\n",
       "      <td>Nature conservation officer</td>\n",
       "      <td>43.150704</td>\n",
       "      <td>-112.154481</td>\n",
       "      <td>0</td>\n",
       "      <td>56</td>\n",
       "      <td>Tuesday</td>\n",
       "      <td>0</td>\n",
       "      <td>Mid_Age</td>\n",
       "    </tr>\n",
       "    <tr>\n",
       "      <th>2019-01-01 00:01:16</th>\n",
       "      <td>fraud_Kutch, Hermiston and Farrell</td>\n",
       "      <td>gas_transport</td>\n",
       "      <td>45.00</td>\n",
       "      <td>M</td>\n",
       "      <td>59632</td>\n",
       "      <td>1939</td>\n",
       "      <td>Patent attorney</td>\n",
       "      <td>47.034331</td>\n",
       "      <td>-112.561071</td>\n",
       "      <td>0</td>\n",
       "      <td>52</td>\n",
       "      <td>Tuesday</td>\n",
       "      <td>0</td>\n",
       "      <td>Early_Mid_Age</td>\n",
       "    </tr>\n",
       "    <tr>\n",
       "      <th>2019-01-01 00:03:06</th>\n",
       "      <td>fraud_Keeling-Crist</td>\n",
       "      <td>misc_pos</td>\n",
       "      <td>41.96</td>\n",
       "      <td>M</td>\n",
       "      <td>24433</td>\n",
       "      <td>99</td>\n",
       "      <td>Dance movement psychotherapist</td>\n",
       "      <td>38.674999</td>\n",
       "      <td>-78.632459</td>\n",
       "      <td>0</td>\n",
       "      <td>32</td>\n",
       "      <td>Tuesday</td>\n",
       "      <td>0</td>\n",
       "      <td>Young_Adult</td>\n",
       "    </tr>\n",
       "  </tbody>\n",
       "</table>\n",
       "</div>"
      ],
      "text/plain": [
       "                                                 merchant       category  \\\n",
       "trans_date_trans_time                                                      \n",
       "2019-01-01 00:00:18            fraud_Rippin, Kub and Mann       misc_net   \n",
       "2019-01-01 00:00:44       fraud_Heller, Gutmann and Zieme    grocery_pos   \n",
       "2019-01-01 00:00:51                  fraud_Lind-Buckridge  entertainment   \n",
       "2019-01-01 00:01:16    fraud_Kutch, Hermiston and Farrell  gas_transport   \n",
       "2019-01-01 00:03:06                   fraud_Keeling-Crist       misc_pos   \n",
       "\n",
       "                          amt gender    zip  city_pop  \\\n",
       "trans_date_trans_time                                   \n",
       "2019-01-01 00:00:18      4.97      F  28654      3495   \n",
       "2019-01-01 00:00:44    107.23      F  99160       149   \n",
       "2019-01-01 00:00:51    220.11      M  83252      4154   \n",
       "2019-01-01 00:01:16     45.00      M  59632      1939   \n",
       "2019-01-01 00:03:06     41.96      M  24433        99   \n",
       "\n",
       "                                                     job  merch_lat  \\\n",
       "trans_date_trans_time                                                 \n",
       "2019-01-01 00:00:18            Psychologist, counselling  36.011293   \n",
       "2019-01-01 00:00:44    Special educational needs teacher  49.159047   \n",
       "2019-01-01 00:00:51          Nature conservation officer  43.150704   \n",
       "2019-01-01 00:01:16                      Patent attorney  47.034331   \n",
       "2019-01-01 00:03:06       Dance movement psychotherapist  38.674999   \n",
       "\n",
       "                       merch_long  is_fraud  age dayofweek  hourofday  \\\n",
       "trans_date_trans_time                                                   \n",
       "2019-01-01 00:00:18    -82.048315         0   30   Tuesday          0   \n",
       "2019-01-01 00:00:44   -118.186462         0   40   Tuesday          0   \n",
       "2019-01-01 00:00:51   -112.154481         0   56   Tuesday          0   \n",
       "2019-01-01 00:01:16   -112.561071         0   52   Tuesday          0   \n",
       "2019-01-01 00:03:06    -78.632459         0   32   Tuesday          0   \n",
       "\n",
       "                           age_group  \n",
       "trans_date_trans_time                 \n",
       "2019-01-01 00:00:18      Young_Adult  \n",
       "2019-01-01 00:00:44            Adult  \n",
       "2019-01-01 00:00:51          Mid_Age  \n",
       "2019-01-01 00:01:16    Early_Mid_Age  \n",
       "2019-01-01 00:03:06      Young_Adult  "
      ]
     },
     "execution_count": 9,
     "metadata": {},
     "output_type": "execute_result"
    }
   ],
   "source": [
    "df = prep(df)\n",
    "df.head()"
   ]
  },
  {
   "cell_type": "code",
   "execution_count": 11,
   "id": "65563766",
   "metadata": {},
   "outputs": [],
   "source": [
    "# df.dropna()\n",
    "# There are no NA rows"
   ]
  },
  {
   "cell_type": "code",
   "execution_count": null,
   "id": "121f777c",
   "metadata": {},
   "outputs": [],
   "source": []
  },
  {
   "cell_type": "code",
   "execution_count": null,
   "id": "0faf8e32",
   "metadata": {},
   "outputs": [],
   "source": [
    "df = df.set_index(pd.to_datetime(df['trans_date_trans_time'],format= '%Y-%m-%d %H:%M:%S')).sort_index()"
   ]
  },
  {
   "cell_type": "code",
   "execution_count": null,
   "id": "71ad2ef8",
   "metadata": {},
   "outputs": [],
   "source": [
    "df.index.min(),df.index.max()"
   ]
  },
  {
   "cell_type": "code",
   "execution_count": null,
   "id": "f501d422",
   "metadata": {},
   "outputs": [],
   "source": [
    "df.head(1)"
   ]
  },
  {
   "cell_type": "code",
   "execution_count": null,
   "id": "6288b401",
   "metadata": {},
   "outputs": [],
   "source": [
    "# (pd.to_datetime('now') - pd.date_range('19791215',freq='D',periods=365))//pd.Timedelta('1D')"
   ]
  },
  {
   "cell_type": "code",
   "execution_count": null,
   "id": "d4c487a5",
   "metadata": {},
   "outputs": [],
   "source": [
    "df['age'] = (df.index - pd.DatetimeIndex(df['dob']))// pd.Timedelta('365D')"
   ]
  },
  {
   "cell_type": "code",
   "execution_count": null,
   "id": "c938ca10",
   "metadata": {},
   "outputs": [],
   "source": [
    "df['dayofweek'] = df.index.day_name()"
   ]
  },
  {
   "cell_type": "code",
   "execution_count": null,
   "id": "53e00e85",
   "metadata": {},
   "outputs": [],
   "source": [
    "df['hourofday'] = df.index.hour"
   ]
  },
  {
   "cell_type": "code",
   "execution_count": null,
   "id": "043ef7ee",
   "metadata": {},
   "outputs": [],
   "source": [
    "df = df.drop(columns=['Unnamed: 0','trans_date_trans_time','cc_num','first','last','street','city','state','trans_num','lat','long','dob','trans_num','unix_time'])"
   ]
  },
  {
   "cell_type": "code",
   "execution_count": null,
   "id": "85aa17c8",
   "metadata": {},
   "outputs": [],
   "source": [
    "# raw = pd.read_csv(zip_file.open('fraudTrain.csv'))\n",
    "# deduplicated = raw.groupby(level=0).first()  # remove duplicates\n",
    "# deduplicated.flags.allows_duplicate_labels = False  # disallow going forward"
   ]
  },
  {
   "cell_type": "code",
   "execution_count": null,
   "id": "739410b1",
   "metadata": {},
   "outputs": [],
   "source": [
    "# deduplicated = deduplicated.set_index(pd.to_datetime(deduplicated['trans_date_trans_time'],format= '%Y-%m-%d %H:%M:%S')).sort_index()\n",
    "# deduplicated.head()"
   ]
  },
  {
   "cell_type": "code",
   "execution_count": null,
   "id": "6c14a835",
   "metadata": {},
   "outputs": [],
   "source": [
    "# raw[raw.duplicated()]\n",
    "# by_min = raw.asfreq('M')"
   ]
  },
  {
   "cell_type": "code",
   "execution_count": null,
   "id": "2dccce79",
   "metadata": {},
   "outputs": [],
   "source": [
    "# df.hourofday.value_counts()"
   ]
  },
  {
   "cell_type": "code",
   "execution_count": null,
   "id": "6ba22d65",
   "metadata": {},
   "outputs": [],
   "source": [
    "# plt.plot(df.is_fraud)\n",
    "from matplotlib.pyplot import figure\n",
    "\n",
    "figure(figsize=(20, 8), dpi=80)\n",
    "plt.plot(df.is_fraud.resample('D').mean())"
   ]
  },
  {
   "cell_type": "code",
   "execution_count": null,
   "id": "f9efe61d",
   "metadata": {},
   "outputs": [],
   "source": [
    "df.sample()"
   ]
  },
  {
   "cell_type": "code",
   "execution_count": null,
   "id": "d22e5646",
   "metadata": {},
   "outputs": [],
   "source": [
    "pd.date_range(start=df.index[0], end=df.index[-1]).difference(df.index)"
   ]
  },
  {
   "cell_type": "code",
   "execution_count": null,
   "id": "2ab309b4",
   "metadata": {},
   "outputs": [],
   "source": [
    "# pd.date_range(\"00:00\", \"23:59\", freq=\"8H\").strftime('%H:%M:%S') #+ pd.Timedelta(5,unit=\"H\")"
   ]
  },
  {
   "cell_type": "code",
   "execution_count": null,
   "id": "feb8b1e8",
   "metadata": {},
   "outputs": [],
   "source": [
    "df['age_group'] = pd.cut(df['age'],[0,25,35,45,55,65,75,100], labels= ['Youth','Young_Adult','Adult','Early_Mid_Age','Mid_Age','Retirement_Age','Older_Person'],right=False)"
   ]
  },
  {
   "cell_type": "code",
   "execution_count": null,
   "id": "22c18e5c",
   "metadata": {},
   "outputs": [],
   "source": [
    "df.age_group.value_counts().sort_values()"
   ]
  },
  {
   "cell_type": "code",
   "execution_count": null,
   "id": "7cfebc8c",
   "metadata": {},
   "outputs": [],
   "source": [
    "df.dropna()"
   ]
  },
  {
   "cell_type": "markdown",
   "id": "901d49ae",
   "metadata": {},
   "source": [
    "## Putting \"shift\" bin on ice until further notice"
   ]
  },
  {
   "cell_type": "code",
   "execution_count": null,
   "id": "a7fad480",
   "metadata": {},
   "outputs": [],
   "source": [
    "# first_shift = pd.date_range(pd.to_datetime('21:00:00'),freq='S',periods= 480)\n",
    "# first_shift"
   ]
  },
  {
   "cell_type": "code",
   "execution_count": null,
   "id": "51276fdc",
   "metadata": {},
   "outputs": [],
   "source": [
    "# first_shift[0]"
   ]
  },
  {
   "cell_type": "code",
   "execution_count": null,
   "id": "407d1bc5",
   "metadata": {},
   "outputs": [],
   "source": [
    "# first_shift = pd.date_range('00:00:00','08:00:00', periods= 1)\n",
    "#second_shift = pd.date_range('08:00:00','16:00:00', periods= 1)\n",
    "#overnight_shift = pd.date_range('16:00:00','00:00:00', periods= 1)\n",
    "#bin_times = [first_shift[0],second_shift[0],overnight_shift[0]]\n",
    "#bin_labels = ['first_shift','second_shift']"
   ]
  },
  {
   "cell_type": "code",
   "execution_count": null,
   "id": "b854c8c6",
   "metadata": {},
   "outputs": [],
   "source": [
    "#df['time_bin_test'] = pd.cut(df.index, bins = bin_times, labels=bin_labels, right=False)"
   ]
  },
  {
   "cell_type": "code",
   "execution_count": null,
   "id": "743724a2",
   "metadata": {},
   "outputs": [],
   "source": []
  },
  {
   "cell_type": "code",
   "execution_count": null,
   "id": "6fea887e",
   "metadata": {},
   "outputs": [],
   "source": [
    "df.columns"
   ]
  },
  {
   "cell_type": "code",
   "execution_count": null,
   "id": "276d4f9f",
   "metadata": {},
   "outputs": [],
   "source": [
    "df.head()"
   ]
  },
  {
   "cell_type": "code",
   "execution_count": null,
   "id": "7d401030",
   "metadata": {},
   "outputs": [],
   "source": [
    "# notebookbreak"
   ]
  },
  {
   "cell_type": "code",
   "execution_count": null,
   "id": "c8eadfa1",
   "metadata": {},
   "outputs": [],
   "source": [
    "# df['test3'] = pd.to_datetime(df.index,format= '%Y-%m-%d %H:%M:%S').astype('str')"
   ]
  },
  {
   "cell_type": "code",
   "execution_count": null,
   "id": "07ccced6",
   "metadata": {},
   "outputs": [],
   "source": [
    "# df['datetime_for_bin'] = pd.bdate_range(start=df.index[0].hour,end=df.index[-1],freq='H')\n",
    "# df.index[0].time()"
   ]
  },
  {
   "cell_type": "code",
   "execution_count": null,
   "id": "255b206b",
   "metadata": {},
   "outputs": [],
   "source": [
    "# define the bins\n",
    "# shift_bins = [5, 13, 21]\n",
    "\n",
    "# add custom labels if desired\n",
    "# labels = ['night', 'first', 'second']\n",
    "\n",
    "# add the bins to the dataframe\n",
    "# df['shift_bin'] = pd.cut(df.test1.dt.hour, bins, labels=labels, right=False)"
   ]
  },
  {
   "cell_type": "code",
   "execution_count": null,
   "id": "cb0b9fed",
   "metadata": {},
   "outputs": [],
   "source": [
    "df.columns"
   ]
  },
  {
   "cell_type": "code",
   "execution_count": null,
   "id": "e4c73ad2",
   "metadata": {},
   "outputs": [],
   "source": [
    "def get_target_and_features(df):\n",
    "    target = df.columns.to_list()[9]\n",
    "    features = df.columns[df.columns != target].to_list()\n",
    "    return target,features"
   ]
  },
  {
   "cell_type": "code",
   "execution_count": null,
   "id": "ea46bb4d",
   "metadata": {},
   "outputs": [],
   "source": [
    "target,features = get_target_and_features(df)\n",
    "print(target)\n",
    "print('______')\n",
    "print(features)"
   ]
  },
  {
   "cell_type": "code",
   "execution_count": null,
   "id": "0da4b5ee",
   "metadata": {},
   "outputs": [],
   "source": [
    "def train_val(df):\n",
    "    y = df[target]\n",
    "    x = df[features]\n",
    "    x_train, x_validate, y_train, y_validate = train_test_split(x,y,test_size=.30, random_state=42)\n",
    "    return x_train,x_validate,y_train,y_validate"
   ]
  },
  {
   "cell_type": "code",
   "execution_count": null,
   "id": "4dbc0766",
   "metadata": {},
   "outputs": [],
   "source": [
    "x_train,x_validate,y_train,y_validate = train_val(df)"
   ]
  },
  {
   "cell_type": "code",
   "execution_count": null,
   "id": "04edc296",
   "metadata": {},
   "outputs": [],
   "source": [
    "x_train.sample()"
   ]
  },
  {
   "cell_type": "markdown",
   "id": "fdc507e8",
   "metadata": {},
   "source": [
    "# Need to encode here. (pd.get_dummies)"
   ]
  },
  {
   "cell_type": "code",
   "execution_count": null,
   "id": "ff4bd900",
   "metadata": {},
   "outputs": [],
   "source": [
    "features"
   ]
  },
  {
   "cell_type": "code",
   "execution_count": null,
   "id": "3eef1c23",
   "metadata": {},
   "outputs": [],
   "source": [
    "categoricals = ['merchant','category','gender','zip','job','dayofweek','hourofday','age_group']\n",
    "#non-target categoricals that is"
   ]
  },
  {
   "cell_type": "code",
   "execution_count": null,
   "id": "b2802c58",
   "metadata": {},
   "outputs": [],
   "source": [
    "# dummy_train = pd.get_dummies([])\n",
    "# dummy_val\n",
    "# dummy_test - need to create test df since this was previously split and exists as its own dataset"
   ]
  },
  {
   "cell_type": "code",
   "execution_count": null,
   "id": "ef128250",
   "metadata": {},
   "outputs": [],
   "source": []
  },
  {
   "cell_type": "code",
   "execution_count": null,
   "id": "c7bd829a",
   "metadata": {},
   "outputs": [],
   "source": [
    "# non_categoricals = df.columns[~df.columns.isin(categoricals)].to_list()\n",
    "# non_categoricals"
   ]
  },
  {
   "cell_type": "code",
   "execution_count": null,
   "id": "64066379",
   "metadata": {},
   "outputs": [],
   "source": [
    "# xtrain_smote = df[non_categoricals]\n",
    "# xvalidate_smote = df[non_categoricals]\n",
    "# xtrain_smote.sample()"
   ]
  },
  {
   "cell_type": "code",
   "execution_count": null,
   "id": "4996b4cd",
   "metadata": {},
   "outputs": [],
   "source": [
    "# sns.histplot(y_train)\n",
    "# plt.title(\"Class Imbalance: is_Fraud\")"
   ]
  },
  {
   "cell_type": "code",
   "execution_count": null,
   "id": "4987721f",
   "metadata": {},
   "outputs": [],
   "source": [
    "# y_train.value_counts()"
   ]
  },
  {
   "cell_type": "code",
   "execution_count": null,
   "id": "8caf49f0",
   "metadata": {},
   "outputs": [],
   "source": []
  },
  {
   "cell_type": "code",
   "execution_count": null,
   "id": "8d2ea08e",
   "metadata": {},
   "outputs": [],
   "source": [
    "# from imblearn.over_sampling import SMOTENC\n",
    "\n",
    "# sm = SMOTENC(random_state = 42,categorical_features = categoricals)\n",
    "# xtrain_resample, ytrain_resample = sm.fit_resample(x_train, y_train)\n",
    "# xval_resample, yval_resample = sm.fit_resample(x_validate,y_validate)"
   ]
  },
  {
   "cell_type": "code",
   "execution_count": null,
   "id": "ec04105e",
   "metadata": {},
   "outputs": [],
   "source": [
    "# from imblearn.over_sampling import SMOTE\n",
    "\n",
    "# sm = SMOTE(random_state = 42)\n",
    "# xtrain_resample, ytrain_resample = sm.fit_resample(x_train, y_train)\n",
    "# xval_resample, yval_resample = sm.fit_resample(x_validate,y_validate)"
   ]
  },
  {
   "cell_type": "code",
   "execution_count": null,
   "id": "357f6975",
   "metadata": {},
   "outputs": [],
   "source": []
  },
  {
   "cell_type": "code",
   "execution_count": null,
   "id": "4bcb4dc8",
   "metadata": {},
   "outputs": [],
   "source": [
    "# plot_resample(x_train,y_train,xtrain_resample,ytrain_resample,\"SMOTE REBALANCING\")"
   ]
  },
  {
   "cell_type": "code",
   "execution_count": null,
   "id": "b016c37e",
   "metadata": {},
   "outputs": [],
   "source": []
  }
 ],
 "metadata": {
  "kernelspec": {
   "display_name": "Python 3 (ipykernel)",
   "language": "python",
   "name": "python3"
  },
  "language_info": {
   "codemirror_mode": {
    "name": "ipython",
    "version": 3
   },
   "file_extension": ".py",
   "mimetype": "text/x-python",
   "name": "python",
   "nbconvert_exporter": "python",
   "pygments_lexer": "ipython3",
   "version": "3.11.5"
  }
 },
 "nbformat": 4,
 "nbformat_minor": 5
}
