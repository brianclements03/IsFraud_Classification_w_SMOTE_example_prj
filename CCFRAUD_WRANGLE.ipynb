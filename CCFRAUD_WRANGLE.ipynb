{
 "cells": [
  {
   "cell_type": "code",
   "execution_count": 1,
   "id": "7bd02d9f",
   "metadata": {},
   "outputs": [],
   "source": [
    "import pandas as pd\n",
    "import numpy as np\n",
    "import seaborn as sns\n",
    "from sklearn.model_selection import train_test_split\n",
    "import matplotlib.pyplot as plt\n",
    "import datetime\n",
    "from imblearn.over_sampling import SMOTE"
   ]
  },
  {
   "cell_type": "code",
   "execution_count": 2,
   "id": "7030b502",
   "metadata": {},
   "outputs": [
    {
     "data": {
      "text/html": [
       "<div>\n",
       "<style scoped>\n",
       "    .dataframe tbody tr th:only-of-type {\n",
       "        vertical-align: middle;\n",
       "    }\n",
       "\n",
       "    .dataframe tbody tr th {\n",
       "        vertical-align: top;\n",
       "    }\n",
       "\n",
       "    .dataframe thead th {\n",
       "        text-align: right;\n",
       "    }\n",
       "</style>\n",
       "<table border=\"1\" class=\"dataframe\">\n",
       "  <thead>\n",
       "    <tr style=\"text-align: right;\">\n",
       "      <th></th>\n",
       "      <th>Unnamed: 0</th>\n",
       "      <th>trans_date_trans_time</th>\n",
       "      <th>cc_num</th>\n",
       "      <th>merchant</th>\n",
       "      <th>category</th>\n",
       "      <th>amt</th>\n",
       "      <th>first</th>\n",
       "      <th>last</th>\n",
       "      <th>gender</th>\n",
       "      <th>street</th>\n",
       "      <th>...</th>\n",
       "      <th>lat</th>\n",
       "      <th>long</th>\n",
       "      <th>city_pop</th>\n",
       "      <th>job</th>\n",
       "      <th>dob</th>\n",
       "      <th>trans_num</th>\n",
       "      <th>unix_time</th>\n",
       "      <th>merch_lat</th>\n",
       "      <th>merch_long</th>\n",
       "      <th>is_fraud</th>\n",
       "    </tr>\n",
       "  </thead>\n",
       "  <tbody>\n",
       "    <tr>\n",
       "      <th>0</th>\n",
       "      <td>0</td>\n",
       "      <td>2019-01-01 00:00:18</td>\n",
       "      <td>2703186189652095</td>\n",
       "      <td>fraud_Rippin, Kub and Mann</td>\n",
       "      <td>misc_net</td>\n",
       "      <td>4.97</td>\n",
       "      <td>Jennifer</td>\n",
       "      <td>Banks</td>\n",
       "      <td>F</td>\n",
       "      <td>561 Perry Cove</td>\n",
       "      <td>...</td>\n",
       "      <td>36.0788</td>\n",
       "      <td>-81.1781</td>\n",
       "      <td>3495</td>\n",
       "      <td>Psychologist, counselling</td>\n",
       "      <td>1988-03-09</td>\n",
       "      <td>0b242abb623afc578575680df30655b9</td>\n",
       "      <td>1325376018</td>\n",
       "      <td>36.011293</td>\n",
       "      <td>-82.048315</td>\n",
       "      <td>0</td>\n",
       "    </tr>\n",
       "  </tbody>\n",
       "</table>\n",
       "<p>1 rows × 23 columns</p>\n",
       "</div>"
      ],
      "text/plain": [
       "   Unnamed: 0 trans_date_trans_time            cc_num  \\\n",
       "0           0   2019-01-01 00:00:18  2703186189652095   \n",
       "\n",
       "                     merchant  category   amt     first   last gender  \\\n",
       "0  fraud_Rippin, Kub and Mann  misc_net  4.97  Jennifer  Banks      F   \n",
       "\n",
       "           street  ...      lat     long  city_pop                        job  \\\n",
       "0  561 Perry Cove  ...  36.0788 -81.1781      3495  Psychologist, counselling   \n",
       "\n",
       "          dob                         trans_num   unix_time  merch_lat  \\\n",
       "0  1988-03-09  0b242abb623afc578575680df30655b9  1325376018  36.011293   \n",
       "\n",
       "  merch_long  is_fraud  \n",
       "0 -82.048315         0  \n",
       "\n",
       "[1 rows x 23 columns]"
      ]
     },
     "execution_count": 2,
     "metadata": {},
     "output_type": "execute_result"
    }
   ],
   "source": [
    "from zipfile import ZipFile\n",
    "\n",
    "zip_file = ZipFile('cc_fraud.zip')\n",
    "df = pd.read_csv(zip_file.open('fraudTrain.csv'))\n",
    "df.head(1)"
   ]
  },
  {
   "cell_type": "code",
   "execution_count": 3,
   "id": "3a965dab",
   "metadata": {},
   "outputs": [
    {
     "data": {
      "text/plain": [
       "(1296675, 23)"
      ]
     },
     "execution_count": 3,
     "metadata": {},
     "output_type": "execute_result"
    }
   ],
   "source": [
    "df.shape"
   ]
  },
  {
   "cell_type": "code",
   "execution_count": 4,
   "id": "1820c411",
   "metadata": {},
   "outputs": [],
   "source": [
    "# df.info()"
   ]
  },
  {
   "cell_type": "code",
   "execution_count": 5,
   "id": "1740721a",
   "metadata": {},
   "outputs": [],
   "source": [
    "df = df.set_index(pd.to_datetime(df['trans_date_trans_time'],format= '%Y-%m-%d %H:%M:%S')).sort_index()"
   ]
  },
  {
   "cell_type": "code",
   "execution_count": 6,
   "id": "cd26d134",
   "metadata": {},
   "outputs": [
    {
     "data": {
      "text/plain": [
       "(Timestamp('2019-01-01 00:00:18'), Timestamp('2020-06-21 12:13:37'))"
      ]
     },
     "execution_count": 6,
     "metadata": {},
     "output_type": "execute_result"
    }
   ],
   "source": [
    "df.index.min(),df.index.max()"
   ]
  },
  {
   "cell_type": "code",
   "execution_count": 7,
   "id": "61fd40ff",
   "metadata": {},
   "outputs": [
    {
     "data": {
      "text/html": [
       "<div>\n",
       "<style scoped>\n",
       "    .dataframe tbody tr th:only-of-type {\n",
       "        vertical-align: middle;\n",
       "    }\n",
       "\n",
       "    .dataframe tbody tr th {\n",
       "        vertical-align: top;\n",
       "    }\n",
       "\n",
       "    .dataframe thead th {\n",
       "        text-align: right;\n",
       "    }\n",
       "</style>\n",
       "<table border=\"1\" class=\"dataframe\">\n",
       "  <thead>\n",
       "    <tr style=\"text-align: right;\">\n",
       "      <th></th>\n",
       "      <th>Unnamed: 0</th>\n",
       "      <th>trans_date_trans_time</th>\n",
       "      <th>cc_num</th>\n",
       "      <th>merchant</th>\n",
       "      <th>category</th>\n",
       "      <th>amt</th>\n",
       "      <th>first</th>\n",
       "      <th>last</th>\n",
       "      <th>gender</th>\n",
       "      <th>street</th>\n",
       "      <th>...</th>\n",
       "      <th>lat</th>\n",
       "      <th>long</th>\n",
       "      <th>city_pop</th>\n",
       "      <th>job</th>\n",
       "      <th>dob</th>\n",
       "      <th>trans_num</th>\n",
       "      <th>unix_time</th>\n",
       "      <th>merch_lat</th>\n",
       "      <th>merch_long</th>\n",
       "      <th>is_fraud</th>\n",
       "    </tr>\n",
       "    <tr>\n",
       "      <th>trans_date_trans_time</th>\n",
       "      <th></th>\n",
       "      <th></th>\n",
       "      <th></th>\n",
       "      <th></th>\n",
       "      <th></th>\n",
       "      <th></th>\n",
       "      <th></th>\n",
       "      <th></th>\n",
       "      <th></th>\n",
       "      <th></th>\n",
       "      <th></th>\n",
       "      <th></th>\n",
       "      <th></th>\n",
       "      <th></th>\n",
       "      <th></th>\n",
       "      <th></th>\n",
       "      <th></th>\n",
       "      <th></th>\n",
       "      <th></th>\n",
       "      <th></th>\n",
       "      <th></th>\n",
       "    </tr>\n",
       "  </thead>\n",
       "  <tbody>\n",
       "    <tr>\n",
       "      <th>2019-01-01 00:00:18</th>\n",
       "      <td>0</td>\n",
       "      <td>2019-01-01 00:00:18</td>\n",
       "      <td>2703186189652095</td>\n",
       "      <td>fraud_Rippin, Kub and Mann</td>\n",
       "      <td>misc_net</td>\n",
       "      <td>4.97</td>\n",
       "      <td>Jennifer</td>\n",
       "      <td>Banks</td>\n",
       "      <td>F</td>\n",
       "      <td>561 Perry Cove</td>\n",
       "      <td>...</td>\n",
       "      <td>36.0788</td>\n",
       "      <td>-81.1781</td>\n",
       "      <td>3495</td>\n",
       "      <td>Psychologist, counselling</td>\n",
       "      <td>1988-03-09</td>\n",
       "      <td>0b242abb623afc578575680df30655b9</td>\n",
       "      <td>1325376018</td>\n",
       "      <td>36.011293</td>\n",
       "      <td>-82.048315</td>\n",
       "      <td>0</td>\n",
       "    </tr>\n",
       "  </tbody>\n",
       "</table>\n",
       "<p>1 rows × 23 columns</p>\n",
       "</div>"
      ],
      "text/plain": [
       "                       Unnamed: 0 trans_date_trans_time            cc_num  \\\n",
       "trans_date_trans_time                                                       \n",
       "2019-01-01 00:00:18             0   2019-01-01 00:00:18  2703186189652095   \n",
       "\n",
       "                                         merchant  category   amt     first  \\\n",
       "trans_date_trans_time                                                         \n",
       "2019-01-01 00:00:18    fraud_Rippin, Kub and Mann  misc_net  4.97  Jennifer   \n",
       "\n",
       "                        last gender          street  ...      lat     long  \\\n",
       "trans_date_trans_time                                ...                     \n",
       "2019-01-01 00:00:18    Banks      F  561 Perry Cove  ...  36.0788 -81.1781   \n",
       "\n",
       "                       city_pop                        job         dob  \\\n",
       "trans_date_trans_time                                                    \n",
       "2019-01-01 00:00:18        3495  Psychologist, counselling  1988-03-09   \n",
       "\n",
       "                                              trans_num   unix_time  \\\n",
       "trans_date_trans_time                                                 \n",
       "2019-01-01 00:00:18    0b242abb623afc578575680df30655b9  1325376018   \n",
       "\n",
       "                       merch_lat merch_long  is_fraud  \n",
       "trans_date_trans_time                                  \n",
       "2019-01-01 00:00:18    36.011293 -82.048315         0  \n",
       "\n",
       "[1 rows x 23 columns]"
      ]
     },
     "execution_count": 7,
     "metadata": {},
     "output_type": "execute_result"
    }
   ],
   "source": [
    "df.head(1)"
   ]
  },
  {
   "cell_type": "code",
   "execution_count": 8,
   "id": "51ec92d1",
   "metadata": {},
   "outputs": [],
   "source": [
    "df['age_in_days'] = (pd.Timestamp.now() - pd.DatetimeIndex(df['dob']))// pd.Timedelta('1d')\n",
    "# df.head()"
   ]
  },
  {
   "cell_type": "code",
   "execution_count": 9,
   "id": "b14d549b",
   "metadata": {},
   "outputs": [],
   "source": [
    "# (pd.to_datetime('now') - pd.date_range('19791215',freq='D',periods=365))//pd.Timedelta('1D')"
   ]
  },
  {
   "cell_type": "code",
   "execution_count": null,
   "id": "52613717",
   "metadata": {},
   "outputs": [],
   "source": []
  },
  {
   "cell_type": "code",
   "execution_count": null,
   "id": "6bd3fdd9",
   "metadata": {},
   "outputs": [],
   "source": []
  },
  {
   "cell_type": "code",
   "execution_count": null,
   "id": "7f608778",
   "metadata": {},
   "outputs": [],
   "source": []
  },
  {
   "cell_type": "code",
   "execution_count": 10,
   "id": "a90aa391",
   "metadata": {},
   "outputs": [],
   "source": [
    "df['dayofweek'] = df.index.day_name()"
   ]
  },
  {
   "cell_type": "code",
   "execution_count": 11,
   "id": "3459f4ad",
   "metadata": {},
   "outputs": [],
   "source": [
    "df['hourofday'] = df.index.hour"
   ]
  },
  {
   "cell_type": "code",
   "execution_count": 12,
   "id": "e1316bac",
   "metadata": {},
   "outputs": [],
   "source": [
    "df = df.drop(columns=['Unnamed: 0','trans_date_trans_time','cc_num','first','last','street','city','state','trans_num','lat','long','dob','trans_num','unix_time'])"
   ]
  },
  {
   "cell_type": "code",
   "execution_count": 13,
   "id": "0a386af3",
   "metadata": {},
   "outputs": [],
   "source": [
    "raw = pd.read_csv(zip_file.open('fraudTrain.csv'))\n",
    "deduplicated = raw.groupby(level=0).first()  # remove duplicates\n",
    "deduplicated.flags.allows_duplicate_labels = False  # disallow going forward"
   ]
  },
  {
   "cell_type": "code",
   "execution_count": 15,
   "id": "ea248183",
   "metadata": {},
   "outputs": [
    {
     "ename": "DuplicateLabelError",
     "evalue": "Index has duplicates.\n                              positions\nlabel                                  \n2019-01-01 00:32:15            [43, 44]\n2019-01-01 01:09:57            [92, 93]\n2019-01-01 01:14:11            [96, 97]\n2019-01-01 01:34:25          [128, 129]\n2019-01-01 01:37:06          [133, 134]\n...                                 ...\n2020-06-21 08:18:56  [1296242, 1296243]\n2020-06-21 10:16:31  [1296454, 1296455]\n2020-06-21 10:32:03  [1296476, 1296477]\n2020-06-21 10:58:26  [1296526, 1296527]\n2020-06-21 11:48:51  [1296622, 1296623]\n\n[21573 rows x 1 columns]",
     "output_type": "error",
     "traceback": [
      "\u001b[0;31m---------------------------------------------------------------------------\u001b[0m",
      "\u001b[0;31mDuplicateLabelError\u001b[0m                       Traceback (most recent call last)",
      "Cell \u001b[0;32mIn[15], line 1\u001b[0m\n\u001b[0;32m----> 1\u001b[0m deduplicated \u001b[38;5;241m=\u001b[39m deduplicated\u001b[38;5;241m.\u001b[39mset_index(pd\u001b[38;5;241m.\u001b[39mto_datetime(deduplicated[\u001b[38;5;124m'\u001b[39m\u001b[38;5;124mtrans_date_trans_time\u001b[39m\u001b[38;5;124m'\u001b[39m],\u001b[38;5;28mformat\u001b[39m\u001b[38;5;241m=\u001b[39m \u001b[38;5;124m'\u001b[39m\u001b[38;5;124m%\u001b[39m\u001b[38;5;124mY-\u001b[39m\u001b[38;5;124m%\u001b[39m\u001b[38;5;124mm-\u001b[39m\u001b[38;5;132;01m%d\u001b[39;00m\u001b[38;5;124m \u001b[39m\u001b[38;5;124m%\u001b[39m\u001b[38;5;124mH:\u001b[39m\u001b[38;5;124m%\u001b[39m\u001b[38;5;124mM:\u001b[39m\u001b[38;5;124m%\u001b[39m\u001b[38;5;124mS\u001b[39m\u001b[38;5;124m'\u001b[39m))\u001b[38;5;241m.\u001b[39msort_index()\n",
      "File \u001b[0;32m/opt/homebrew/anaconda3/lib/python3.11/site-packages/pandas/core/frame.py:6950\u001b[0m, in \u001b[0;36mDataFrame.sort_index\u001b[0;34m(self, axis, level, ascending, inplace, kind, na_position, sort_remaining, ignore_index, key)\u001b[0m\n\u001b[1;32m   6851\u001b[0m \u001b[38;5;28;01mdef\u001b[39;00m \u001b[38;5;21msort_index\u001b[39m(\n\u001b[1;32m   6852\u001b[0m     \u001b[38;5;28mself\u001b[39m,\n\u001b[1;32m   6853\u001b[0m     \u001b[38;5;241m*\u001b[39m,\n\u001b[0;32m   (...)\u001b[0m\n\u001b[1;32m   6862\u001b[0m     key: IndexKeyFunc \u001b[38;5;241m=\u001b[39m \u001b[38;5;28;01mNone\u001b[39;00m,\n\u001b[1;32m   6863\u001b[0m ) \u001b[38;5;241m-\u001b[39m\u001b[38;5;241m>\u001b[39m DataFrame \u001b[38;5;241m|\u001b[39m \u001b[38;5;28;01mNone\u001b[39;00m:\n\u001b[1;32m   6864\u001b[0m \u001b[38;5;250m    \u001b[39m\u001b[38;5;124;03m\"\"\"\u001b[39;00m\n\u001b[1;32m   6865\u001b[0m \u001b[38;5;124;03m    Sort object by labels (along an axis).\u001b[39;00m\n\u001b[1;32m   6866\u001b[0m \n\u001b[0;32m   (...)\u001b[0m\n\u001b[1;32m   6948\u001b[0m \u001b[38;5;124;03m    d  4\u001b[39;00m\n\u001b[1;32m   6949\u001b[0m \u001b[38;5;124;03m    \"\"\"\u001b[39;00m\n\u001b[0;32m-> 6950\u001b[0m     \u001b[38;5;28;01mreturn\u001b[39;00m \u001b[38;5;28msuper\u001b[39m()\u001b[38;5;241m.\u001b[39msort_index(\n\u001b[1;32m   6951\u001b[0m         axis\u001b[38;5;241m=\u001b[39maxis,\n\u001b[1;32m   6952\u001b[0m         level\u001b[38;5;241m=\u001b[39mlevel,\n\u001b[1;32m   6953\u001b[0m         ascending\u001b[38;5;241m=\u001b[39mascending,\n\u001b[1;32m   6954\u001b[0m         inplace\u001b[38;5;241m=\u001b[39minplace,\n\u001b[1;32m   6955\u001b[0m         kind\u001b[38;5;241m=\u001b[39mkind,\n\u001b[1;32m   6956\u001b[0m         na_position\u001b[38;5;241m=\u001b[39mna_position,\n\u001b[1;32m   6957\u001b[0m         sort_remaining\u001b[38;5;241m=\u001b[39msort_remaining,\n\u001b[1;32m   6958\u001b[0m         ignore_index\u001b[38;5;241m=\u001b[39mignore_index,\n\u001b[1;32m   6959\u001b[0m         key\u001b[38;5;241m=\u001b[39mkey,\n\u001b[1;32m   6960\u001b[0m     )\n",
      "File \u001b[0;32m/opt/homebrew/anaconda3/lib/python3.11/site-packages/pandas/core/generic.py:5104\u001b[0m, in \u001b[0;36mNDFrame.sort_index\u001b[0;34m(self, axis, level, ascending, inplace, kind, na_position, sort_remaining, ignore_index, key)\u001b[0m\n\u001b[1;32m   5102\u001b[0m     \u001b[38;5;28;01mreturn\u001b[39;00m \u001b[38;5;28mself\u001b[39m\u001b[38;5;241m.\u001b[39m_update_inplace(result)\n\u001b[1;32m   5103\u001b[0m \u001b[38;5;28;01melse\u001b[39;00m:\n\u001b[0;32m-> 5104\u001b[0m     \u001b[38;5;28;01mreturn\u001b[39;00m result\u001b[38;5;241m.\u001b[39m__finalize__(\u001b[38;5;28mself\u001b[39m, method\u001b[38;5;241m=\u001b[39m\u001b[38;5;124m\"\u001b[39m\u001b[38;5;124msort_index\u001b[39m\u001b[38;5;124m\"\u001b[39m)\n",
      "File \u001b[0;32m/opt/homebrew/anaconda3/lib/python3.11/site-packages/pandas/core/generic.py:5955\u001b[0m, in \u001b[0;36mNDFrame.__finalize__\u001b[0;34m(self, other, method, **kwargs)\u001b[0m\n\u001b[1;32m   5952\u001b[0m \u001b[38;5;28;01mfor\u001b[39;00m name \u001b[38;5;129;01min\u001b[39;00m other\u001b[38;5;241m.\u001b[39mattrs:\n\u001b[1;32m   5953\u001b[0m     \u001b[38;5;28mself\u001b[39m\u001b[38;5;241m.\u001b[39mattrs[name] \u001b[38;5;241m=\u001b[39m other\u001b[38;5;241m.\u001b[39mattrs[name]\n\u001b[0;32m-> 5955\u001b[0m \u001b[38;5;28mself\u001b[39m\u001b[38;5;241m.\u001b[39mflags\u001b[38;5;241m.\u001b[39mallows_duplicate_labels \u001b[38;5;241m=\u001b[39m other\u001b[38;5;241m.\u001b[39mflags\u001b[38;5;241m.\u001b[39mallows_duplicate_labels\n\u001b[1;32m   5956\u001b[0m \u001b[38;5;66;03m# For subclasses using _metadata.\u001b[39;00m\n\u001b[1;32m   5957\u001b[0m \u001b[38;5;28;01mfor\u001b[39;00m name \u001b[38;5;129;01min\u001b[39;00m \u001b[38;5;28mset\u001b[39m(\u001b[38;5;28mself\u001b[39m\u001b[38;5;241m.\u001b[39m_metadata) \u001b[38;5;241m&\u001b[39m \u001b[38;5;28mset\u001b[39m(other\u001b[38;5;241m.\u001b[39m_metadata):\n",
      "File \u001b[0;32m/opt/homebrew/anaconda3/lib/python3.11/site-packages/pandas/core/flags.py:94\u001b[0m, in \u001b[0;36mFlags.allows_duplicate_labels\u001b[0;34m(self, value)\u001b[0m\n\u001b[1;32m     92\u001b[0m \u001b[38;5;28;01mif\u001b[39;00m \u001b[38;5;129;01mnot\u001b[39;00m value:\n\u001b[1;32m     93\u001b[0m     \u001b[38;5;28;01mfor\u001b[39;00m ax \u001b[38;5;129;01min\u001b[39;00m obj\u001b[38;5;241m.\u001b[39maxes:\n\u001b[0;32m---> 94\u001b[0m         ax\u001b[38;5;241m.\u001b[39m_maybe_check_unique()\n\u001b[1;32m     96\u001b[0m \u001b[38;5;28mself\u001b[39m\u001b[38;5;241m.\u001b[39m_allows_duplicate_labels \u001b[38;5;241m=\u001b[39m value\n",
      "File \u001b[0;32m/opt/homebrew/anaconda3/lib/python3.11/site-packages/pandas/core/indexes/base.py:706\u001b[0m, in \u001b[0;36mIndex._maybe_check_unique\u001b[0;34m(self)\u001b[0m\n\u001b[1;32m    703\u001b[0m duplicates \u001b[38;5;241m=\u001b[39m \u001b[38;5;28mself\u001b[39m\u001b[38;5;241m.\u001b[39m_format_duplicate_message()\n\u001b[1;32m    704\u001b[0m msg \u001b[38;5;241m+\u001b[39m\u001b[38;5;241m=\u001b[39m \u001b[38;5;124mf\u001b[39m\u001b[38;5;124m\"\u001b[39m\u001b[38;5;130;01m\\n\u001b[39;00m\u001b[38;5;132;01m{\u001b[39;00mduplicates\u001b[38;5;132;01m}\u001b[39;00m\u001b[38;5;124m\"\u001b[39m\n\u001b[0;32m--> 706\u001b[0m \u001b[38;5;28;01mraise\u001b[39;00m DuplicateLabelError(msg)\n",
      "\u001b[0;31mDuplicateLabelError\u001b[0m: Index has duplicates.\n                              positions\nlabel                                  \n2019-01-01 00:32:15            [43, 44]\n2019-01-01 01:09:57            [92, 93]\n2019-01-01 01:14:11            [96, 97]\n2019-01-01 01:34:25          [128, 129]\n2019-01-01 01:37:06          [133, 134]\n...                                 ...\n2020-06-21 08:18:56  [1296242, 1296243]\n2020-06-21 10:16:31  [1296454, 1296455]\n2020-06-21 10:32:03  [1296476, 1296477]\n2020-06-21 10:58:26  [1296526, 1296527]\n2020-06-21 11:48:51  [1296622, 1296623]\n\n[21573 rows x 1 columns]"
     ]
    }
   ],
   "source": [
    "deduplicated = deduplicated.set_index(pd.to_datetime(deduplicated['trans_date_trans_time'],format= '%Y-%m-%d %H:%M:%S')).sort_index()\n",
    "# deduplicated.head()"
   ]
  },
  {
   "cell_type": "code",
   "execution_count": null,
   "id": "59e5613a",
   "metadata": {},
   "outputs": [],
   "source": [
    "# raw[raw.duplicated()]\n",
    "by_min = raw.asfreq('M')"
   ]
  },
  {
   "cell_type": "code",
   "execution_count": null,
   "id": "5556d100",
   "metadata": {},
   "outputs": [],
   "source": [
    "df[df.index.duplicated()]"
   ]
  },
  {
   "cell_type": "code",
   "execution_count": null,
   "id": "5d0dc12f",
   "metadata": {},
   "outputs": [],
   "source": [
    "df.groupby(level=0).head()"
   ]
  },
  {
   "cell_type": "code",
   "execution_count": null,
   "id": "cd7326c3",
   "metadata": {},
   "outputs": [],
   "source": [
    "df.hourofday.value_counts()"
   ]
  },
  {
   "cell_type": "code",
   "execution_count": null,
   "id": "1f2dac2c",
   "metadata": {},
   "outputs": [],
   "source": [
    "# plt.plot(df.is_fraud)\n",
    "from matplotlib.pyplot import figure\n",
    "\n",
    "figure(figsize=(20, 8), dpi=80)\n",
    "plt.plot(df.is_fraud.resample('D').mean())"
   ]
  },
  {
   "cell_type": "code",
   "execution_count": null,
   "id": "6ac5645a",
   "metadata": {},
   "outputs": [],
   "source": [
    "# notebookbreak"
   ]
  },
  {
   "cell_type": "code",
   "execution_count": null,
   "id": "b529e72f",
   "metadata": {},
   "outputs": [],
   "source": [
    "df.index"
   ]
  },
  {
   "cell_type": "code",
   "execution_count": null,
   "id": "05f9d999",
   "metadata": {},
   "outputs": [],
   "source": [
    "pd.date_range(\"00:00\", \"23:59\", freq=\"8H\").strftime('%H:%M:%S') #+ pd.Timedelta(5,unit=\"H\")"
   ]
  },
  {
   "cell_type": "code",
   "execution_count": null,
   "id": "1f978dca",
   "metadata": {},
   "outputs": [],
   "source": []
  },
  {
   "cell_type": "code",
   "execution_count": null,
   "id": "fc3f8276",
   "metadata": {},
   "outputs": [],
   "source": [
    "test_df = pd.DataFrame(pd.date_range('2000-01-02', freq='1D', periods=15), columns=['Date'])\n",
    "\n",
    "bins_dt = pd.date_range('2000-01-01', freq='3D', periods=6)\n",
    "bins_str = bins_dt.astype(str).values\n",
    "\n",
    "labels = ['({}, {}]'.format(bins_str[i-1], bins_str[i]) for i in range(1, len(bins_str))]\n",
    "\n",
    "test_df['cat'] = pd.cut(test_df['Date'], bins=bins_dt, labels=labels)"
   ]
  },
  {
   "cell_type": "code",
   "execution_count": null,
   "id": "c11c0590",
   "metadata": {},
   "outputs": [],
   "source": [
    "test_df.head()"
   ]
  },
  {
   "cell_type": "code",
   "execution_count": null,
   "id": "008ad60b",
   "metadata": {},
   "outputs": [],
   "source": [
    "first_shift = pd.date_range(pd.to_datetime('21:00:01'),pd.to_datetime('05:00:00'),periods= 1)\n",
    "first_shift"
   ]
  },
  {
   "cell_type": "code",
   "execution_count": null,
   "id": "a06756ad",
   "metadata": {},
   "outputs": [],
   "source": [
    "first_shift[0]"
   ]
  },
  {
   "cell_type": "code",
   "execution_count": null,
   "id": "da7f85cf",
   "metadata": {},
   "outputs": [],
   "source": [
    "first_shift = pd.date_range('00:00:01','08:00:00', periods= 1)\n",
    "second_shift = pd.date_range('08:00:01','16:00:00', periods= 1)\n",
    "overnight_shift = pd.date_range('16:00:01','00:00:00', periods= 1)\n",
    "bin_times = [first_shift[0],second_shift[0],overnight_shift[0]]\n",
    "bin_labels = ['first_shift','second_shift']"
   ]
  },
  {
   "cell_type": "code",
   "execution_count": null,
   "id": "cc159d58",
   "metadata": {},
   "outputs": [],
   "source": [
    "df['time_bin'] = pd.cut(df.index, bins = bin_times, labels=bin_labels, right=False)"
   ]
  },
  {
   "cell_type": "code",
   "execution_count": null,
   "id": "a5fc026a",
   "metadata": {},
   "outputs": [],
   "source": [
    "df.time_bin"
   ]
  },
  {
   "cell_type": "code",
   "execution_count": null,
   "id": "bad263c6",
   "metadata": {},
   "outputs": [],
   "source": []
  },
  {
   "cell_type": "code",
   "execution_count": null,
   "id": "4b762898",
   "metadata": {},
   "outputs": [],
   "source": []
  },
  {
   "cell_type": "code",
   "execution_count": null,
   "id": "afdd5a8b",
   "metadata": {},
   "outputs": [],
   "source": [
    "categoricals = ['merchant','category','first','last','gender','street','city','state','job']"
   ]
  },
  {
   "cell_type": "code",
   "execution_count": null,
   "id": "877c876e",
   "metadata": {},
   "outputs": [],
   "source": [
    "df.head()"
   ]
  },
  {
   "cell_type": "code",
   "execution_count": null,
   "id": "e514d3c3",
   "metadata": {},
   "outputs": [],
   "source": [
    "def get_target_and_features(df):\n",
    "    target = df.columns.to_list()[-1:]\n",
    "    features = df.columns.to_list()[:-1]\n",
    "    return target,features"
   ]
  },
  {
   "cell_type": "code",
   "execution_count": null,
   "id": "29a0c7d4",
   "metadata": {},
   "outputs": [],
   "source": [
    "target,features = get_target_and_features(df)\n",
    "target"
   ]
  },
  {
   "cell_type": "code",
   "execution_count": null,
   "id": "d919fb2e",
   "metadata": {},
   "outputs": [],
   "source": [
    "def train_val(df):\n",
    "    y = df[target]\n",
    "    x = df[features]\n",
    "    x_train, x_validate, y_train, y_validate = train_test_split(x,y,test_size=.30, random_state=42)\n",
    "    return x_train,x_validate,y_train,y_validate"
   ]
  },
  {
   "cell_type": "code",
   "execution_count": null,
   "id": "a76acb65",
   "metadata": {},
   "outputs": [],
   "source": [
    "x_train,x_validate,y_train,y_validate = train_val(df)"
   ]
  },
  {
   "cell_type": "code",
   "execution_count": null,
   "id": "304b9949",
   "metadata": {},
   "outputs": [],
   "source": [
    "x_train.sample()"
   ]
  },
  {
   "cell_type": "markdown",
   "id": "bd73dea6",
   "metadata": {},
   "source": [
    "# Need to encode here. (pd.get_dummies)"
   ]
  },
  {
   "cell_type": "code",
   "execution_count": null,
   "id": "fa164f51",
   "metadata": {},
   "outputs": [],
   "source": [
    "features"
   ]
  },
  {
   "cell_type": "code",
   "execution_count": null,
   "id": "273ade6b",
   "metadata": {},
   "outputs": [],
   "source": [
    "for_dummies = ['merchant','category','gender','zip','job','age']"
   ]
  },
  {
   "cell_type": "code",
   "execution_count": null,
   "id": "8a2c6272",
   "metadata": {},
   "outputs": [],
   "source": [
    "dummy_train = pd.get_dummies([])\n",
    "dummy_val\n",
    "# dummy_test - need to create test df since this was previously split and exists as its own dataset"
   ]
  },
  {
   "cell_type": "code",
   "execution_count": null,
   "id": "65b095a6",
   "metadata": {},
   "outputs": [],
   "source": []
  },
  {
   "cell_type": "code",
   "execution_count": null,
   "id": "64eb3684",
   "metadata": {},
   "outputs": [],
   "source": []
  },
  {
   "cell_type": "code",
   "execution_count": null,
   "id": "33c9a759",
   "metadata": {},
   "outputs": [],
   "source": [
    "xtrain_smote = df[['lat','long','amt','city_pop','merch_lat','merch_long']]\n",
    "xvalidate_smote = df[['lat','long','amt','city_pop','merch_lat','merch_long']]\n",
    "xtrain_smote.sample()"
   ]
  },
  {
   "cell_type": "code",
   "execution_count": null,
   "id": "8e5f4e9d",
   "metadata": {},
   "outputs": [],
   "source": [
    "y = df[target]\n",
    "x = df[features]\n",
    "x_train, x_validate, y_train, y_validate = train_val(df)"
   ]
  },
  {
   "cell_type": "code",
   "execution_count": null,
   "id": "2654f895",
   "metadata": {},
   "outputs": [],
   "source": [
    "x_train.head(1)"
   ]
  },
  {
   "cell_type": "code",
   "execution_count": null,
   "id": "5830f626",
   "metadata": {},
   "outputs": [],
   "source": [
    "sns.histplot(y_train)\n",
    "plt.title(\"Class Imbalance: is_Fraud\")"
   ]
  },
  {
   "cell_type": "code",
   "execution_count": null,
   "id": "f93f79fc",
   "metadata": {},
   "outputs": [],
   "source": [
    "y_train.value_counts()"
   ]
  },
  {
   "cell_type": "code",
   "execution_count": null,
   "id": "cbd37e13",
   "metadata": {},
   "outputs": [],
   "source": []
  },
  {
   "cell_type": "code",
   "execution_count": null,
   "id": "d3ff80b2",
   "metadata": {},
   "outputs": [],
   "source": [
    "from imblearn.over_sampling import SMOTENC\n",
    "\n",
    "sm = SMOTENC(random_state = 42,categorical_features = categoricals)\n",
    "xtrain_resample, ytrain_resample = sm.fit_resample(x_train, y_train)\n",
    "xval_resample, yval_resample = sm.fit_resample(x_validate,y_validate)"
   ]
  },
  {
   "cell_type": "code",
   "execution_count": null,
   "id": "262fe109",
   "metadata": {},
   "outputs": [],
   "source": [
    "from imblearn.over_sampling import SMOTE\n",
    "\n",
    "sm = SMOTE(random_state = 42)\n",
    "xtrain_resample, ytrain_resample = sm.fit_resample(x_train, y_train)\n",
    "xval_resample, yval_resample = sm.fit_resample(x_validate,y_validate)"
   ]
  },
  {
   "cell_type": "code",
   "execution_count": null,
   "id": "bf1d1a03",
   "metadata": {},
   "outputs": [],
   "source": []
  },
  {
   "cell_type": "code",
   "execution_count": null,
   "id": "39cc2e74",
   "metadata": {},
   "outputs": [],
   "source": [
    "plot_resample(x_train,y_train,xtrain_resample,ytrain_resample,\"SMOTE REBALANCING\")"
   ]
  },
  {
   "cell_type": "code",
   "execution_count": null,
   "id": "d427ba85",
   "metadata": {},
   "outputs": [],
   "source": []
  }
 ],
 "metadata": {
  "kernelspec": {
   "display_name": "Python 3 (ipykernel)",
   "language": "python",
   "name": "python3"
  },
  "language_info": {
   "codemirror_mode": {
    "name": "ipython",
    "version": 3
   },
   "file_extension": ".py",
   "mimetype": "text/x-python",
   "name": "python",
   "nbconvert_exporter": "python",
   "pygments_lexer": "ipython3",
   "version": "3.11.5"
  }
 },
 "nbformat": 4,
 "nbformat_minor": 5
}
