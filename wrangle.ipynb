{
 "cells": [
  {
   "cell_type": "code",
   "execution_count": 1,
   "id": "1aa4ec28",
   "metadata": {},
   "outputs": [],
   "source": [
    "import pandas as pd\n",
    "import numpy as np\n",
    "import seaborn as sns\n",
    "from sklearn.model_selection import train_test_split\n",
    "import matplotlib.pyplot as plt\n",
    "import datetime\n",
    "from imblearn.over_sampling import SMOTE\n",
    "\n",
    "from zipfile import ZipFile"
   ]
  },
  {
   "cell_type": "code",
   "execution_count": 2,
   "id": "9f3ed834",
   "metadata": {},
   "outputs": [],
   "source": [
    "def acquire_fraud(zip_file_name_in_quotes):\n",
    "    '''\n",
    "    Create a df from zipped file source. Requires ZipFile import\n",
    "    '''\n",
    "    zip_file = ZipFile(zip_file_name_in_quotes)\n",
    "    df_test = pd.read_csv(zip_file.open(zip_file.namelist()[0]))\n",
    "    df_train = pd.read_csv(zip_file.open(zip_file.namelist()[1]))\n",
    "    return df_test, df_train"
   ]
  },
  {
   "cell_type": "code",
   "execution_count": 3,
   "id": "fdb6fc81",
   "metadata": {},
   "outputs": [],
   "source": [
    "def prep(df):\n",
    "    '''\n",
    "    Apply some clean and prep to the df\n",
    "    '''\n",
    "    df = df.set_index(pd.to_datetime(df['trans_date_trans_time'],format= '%Y-%m-%d %H:%M:%S')).sort_index()\n",
    "    df['age'] = (df.index - pd.DatetimeIndex(df['dob']))// pd.Timedelta('365D')\n",
    "    df['dayofweek'] = df.index.day_name()\n",
    "    df['hourofday'] = df.index.hour\n",
    "    df = df.drop(columns=['Unnamed: 0','trans_date_trans_time','cc_num','first','last','street','city','state','trans_num','lat','long','dob','trans_num','unix_time'])\n",
    "    df['age_group'] = pd.cut(df['age'],[0,25,35,45,55,65,75,100], labels= ['Youth','Young_Adult','Adult','Early_Mid_Age','Mid_Age','Retirement_Age','Older_Person'],right=False)\n",
    "    \n",
    "    return df"
   ]
  },
  {
   "cell_type": "code",
   "execution_count": 4,
   "id": "5a204222",
   "metadata": {},
   "outputs": [],
   "source": [
    "def get_target_and_features(df):\n",
    "    '''\n",
    "    A UDF to define the target variable and the rest\n",
    "    '''\n",
    "    target = df.columns.to_list()[9]\n",
    "    features = df.columns[df.columns != target].to_list()\n",
    "    return target,features"
   ]
  },
  {
   "cell_type": "code",
   "execution_count": 5,
   "id": "3434e507",
   "metadata": {},
   "outputs": [],
   "source": [
    "def train_val(df):\n",
    "    '''\n",
    "    A UDF to split the train data set into train and validate (both for x and y variables)\n",
    "    '''\n",
    "    target, features = get_target_and_features(df)\n",
    "    y = df[target]\n",
    "    x = df[features]\n",
    "    x_train, x_validate, y_train, y_validate = train_test_split(x,y,test_size=.30, random_state=42)\n",
    "    return x_train,x_validate,y_train,y_validate"
   ]
  },
  {
   "cell_type": "code",
   "execution_count": 6,
   "id": "e81f9ce2",
   "metadata": {},
   "outputs": [],
   "source": [
    "def test_df_x_y_split(df):\n",
    "    '''\n",
    "    A UDF to define the target and featurs and define the X and Y dataframes for the TEST dataset\n",
    "    '''\n",
    "    target, features = get_target_and_features(df)\n",
    "    x_test = df[features]\n",
    "    y_test = df[target]\n",
    "    \n",
    "    return x_test,y_test"
   ]
  }
 ],
 "metadata": {
  "kernelspec": {
   "display_name": "Python 3 (ipykernel)",
   "language": "python",
   "name": "python3"
  },
  "language_info": {
   "codemirror_mode": {
    "name": "ipython",
    "version": 3
   },
   "file_extension": ".py",
   "mimetype": "text/x-python",
   "name": "python",
   "nbconvert_exporter": "python",
   "pygments_lexer": "ipython3",
   "version": "3.11.5"
  }
 },
 "nbformat": 4,
 "nbformat_minor": 5
}
