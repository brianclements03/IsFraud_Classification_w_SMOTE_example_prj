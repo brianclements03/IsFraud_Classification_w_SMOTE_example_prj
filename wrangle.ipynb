{
 "cells": [
  {
   "cell_type": "code",
   "execution_count": 1,
   "id": "1aa4ec28",
   "metadata": {},
   "outputs": [],
   "source": [
    "import pandas as pd\n",
    "import numpy as np\n",
    "import seaborn as sns\n",
    "from sklearn.model_selection import train_test_split\n",
    "import matplotlib.pyplot as plt\n",
    "import datetime\n",
    "from imblearn.over_sampling import SMOTE\n",
    "\n",
    "from zipfile import ZipFile"
   ]
  },
  {
   "cell_type": "code",
   "execution_count": 2,
   "id": "9f3ed834",
   "metadata": {},
   "outputs": [],
   "source": [
    "def acquire_fraud(zip_file_name_in_quotes):\n",
    "    '''\n",
    "    Create a df from zipped file source. Requires ZipFile import\n",
    "    '''\n",
    "    zip_file = ZipFile(zip_file_name_in_quotes)\n",
    "    df_test = pd.read_csv(zip_file.open(zip_file.namelist()[0]))\n",
    "    df_train = pd.read_csv(zip_file.open(zip_file.namelist()[1]))\n",
    "    return df_test, df_train"
   ]
  },
  {
   "cell_type": "code",
   "execution_count": null,
   "id": "fdb6fc81",
   "metadata": {},
   "outputs": [],
   "source": []
  }
 ],
 "metadata": {
  "kernelspec": {
   "display_name": "Python 3 (ipykernel)",
   "language": "python",
   "name": "python3"
  },
  "language_info": {
   "codemirror_mode": {
    "name": "ipython",
    "version": 3
   },
   "file_extension": ".py",
   "mimetype": "text/x-python",
   "name": "python",
   "nbconvert_exporter": "python",
   "pygments_lexer": "ipython3",
   "version": "3.11.5"
  }
 },
 "nbformat": 4,
 "nbformat_minor": 5
}
